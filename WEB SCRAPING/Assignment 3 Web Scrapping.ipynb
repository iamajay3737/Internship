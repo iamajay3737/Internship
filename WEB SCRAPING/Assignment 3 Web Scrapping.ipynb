{
 "cells": [
  {
   "cell_type": "markdown",
   "id": "561fa2fd",
   "metadata": {},
   "source": [
    "# WEB SCRAPING-ASSIGNMENT3\n"
   ]
  },
  {
   "cell_type": "markdown",
   "id": "05191073",
   "metadata": {},
   "source": [
    "Instructions:\n",
    "\n",
    "\n",
    "• All questions are compulsory.\n",
    "\n",
    "\n",
    "• In each of the questions you have to automate the process. You do not have to click on any button, click \n",
    "any clickable element, enter keywords in search boxes manually. Each process has to be performed via\n",
    "coding.\n",
    "\n",
    "\n",
    "• Q1 and Q2 are connected questions i.e. after attempting Q1 proceed to Q2. Do not write whole code \n",
    "from beginning for Q2.\n",
    "\n",
    "\n",
    "• You may use any web scraping library and tools.\n",
    "\n",
    "\n",
    "• The question can be attempted in various ways; the correctness of question depends on the output.\n",
    "\n",
    "\n",
    "• If you encounter any Null values during scraping, you may replace it by hyphen."
   ]
  },
  {
   "cell_type": "markdown",
   "id": "03537ca2",
   "metadata": {},
   "source": [
    "# Exercise:\n"
   ]
  },
  {
   "cell_type": "markdown",
   "id": "6fb8c69d",
   "metadata": {},
   "source": [
    "1. Write a python program which searches all the product under a particular product from www.amazon.in. \n",
    "The product to be searched will be taken as input from user. For e.g. If user input is ‘guitar’. Then search \n",
    "for guitars"
   ]
  },
  {
   "cell_type": "code",
   "execution_count": 1,
   "id": "bb5723ba",
   "metadata": {},
   "outputs": [
    {
     "name": "stdout",
     "output_type": "stream",
     "text": [
      "Collecting selenium\n",
      "  Downloading selenium-4.6.0-py3-none-any.whl (5.2 MB)\n",
      "     ---------------------------------------- 5.2/5.2 MB 6.5 MB/s eta 0:00:00\n",
      "Requirement already satisfied: urllib3[socks]~=1.26 in d:\\install software\\lib\\site-packages (from selenium) (1.26.11)\n",
      "Requirement already satisfied: certifi>=2021.10.8 in d:\\install software\\lib\\site-packages (from selenium) (2022.9.14)\n",
      "Collecting trio-websocket~=0.9\n",
      "  Downloading trio_websocket-0.9.2-py3-none-any.whl (16 kB)\n",
      "Collecting trio~=0.17\n",
      "  Downloading trio-0.22.0-py3-none-any.whl (384 kB)\n",
      "     ------------------------------------- 384.9/384.9 kB 12.1 MB/s eta 0:00:00\n",
      "Collecting async-generator>=1.9\n",
      "  Downloading async_generator-1.10-py3-none-any.whl (18 kB)\n",
      "Collecting exceptiongroup>=1.0.0rc9\n",
      "  Downloading exceptiongroup-1.0.4-py3-none-any.whl (14 kB)\n",
      "Collecting outcome\n",
      "  Downloading outcome-1.2.0-py2.py3-none-any.whl (9.7 kB)\n",
      "Requirement already satisfied: attrs>=19.2.0 in d:\\install software\\lib\\site-packages (from trio~=0.17->selenium) (21.4.0)\n",
      "Requirement already satisfied: sniffio in d:\\install software\\lib\\site-packages (from trio~=0.17->selenium) (1.2.0)\n",
      "Requirement already satisfied: cffi>=1.14 in d:\\install software\\lib\\site-packages (from trio~=0.17->selenium) (1.15.1)\n",
      "Requirement already satisfied: sortedcontainers in d:\\install software\\lib\\site-packages (from trio~=0.17->selenium) (2.4.0)\n",
      "Requirement already satisfied: idna in d:\\install software\\lib\\site-packages (from trio~=0.17->selenium) (3.3)\n",
      "Collecting wsproto>=0.14\n",
      "  Downloading wsproto-1.2.0-py3-none-any.whl (24 kB)\n",
      "Requirement already satisfied: PySocks!=1.5.7,<2.0,>=1.5.6 in d:\\install software\\lib\\site-packages (from urllib3[socks]~=1.26->selenium) (1.7.1)\n",
      "Requirement already satisfied: pycparser in d:\\install software\\lib\\site-packages (from cffi>=1.14->trio~=0.17->selenium) (2.21)\n",
      "Collecting h11<1,>=0.9.0\n",
      "  Downloading h11-0.14.0-py3-none-any.whl (58 kB)\n",
      "     ---------------------------------------- 58.3/58.3 kB 3.0 MB/s eta 0:00:00\n",
      "Installing collected packages: outcome, h11, exceptiongroup, async-generator, wsproto, trio, trio-websocket, selenium\n",
      "Successfully installed async-generator-1.10 exceptiongroup-1.0.4 h11-0.14.0 outcome-1.2.0 selenium-4.6.0 trio-0.22.0 trio-websocket-0.9.2 wsproto-1.2.0\n"
     ]
    }
   ],
   "source": [
    "#Lets intall selenium\n",
    "!pip install selenium"
   ]
  },
  {
   "cell_type": "code",
   "execution_count": 2,
   "id": "8a190f3f",
   "metadata": {},
   "outputs": [],
   "source": [
    "#Lets import all the required libraries \n",
    "import selenium # Libraries that is used to work  with selenium\n",
    "from selenium import webdriver # importing web driver module from selenium to open automated edge window\n",
    "import pandas as pd # to create dataframe\n",
    "from selenium.webdriver.common.by import By#importing inbuild class BY\n",
    "import warnings #to ignore any sort warnings\n",
    "warnings.filterwarnings('ignore')\n",
    "import time# used to stop search engine for few seconds"
   ]
  },
  {
   "cell_type": "code",
   "execution_count": 3,
   "id": "a29e383a",
   "metadata": {},
   "outputs": [
    {
     "data": {
      "text/plain": [
       "<selenium.webdriver.edge.webdriver.WebDriver (session=\"ee60b0a2642454713bacb1d2dfc210df\")>"
      ]
     },
     "execution_count": 3,
     "metadata": {},
     "output_type": "execute_result"
    }
   ],
   "source": [
    "#First Connect to web driver \n",
    "\n",
    "driver = webdriver.Edge(r\"D:\\edgedriver_win64\\msedgedriver.exe\")\n",
    "driver"
   ]
  },
  {
   "cell_type": "code",
   "execution_count": 4,
   "id": "849fe1a1",
   "metadata": {},
   "outputs": [],
   "source": [
    "url=\"https://www.amazon.in/\" # Here i am assigning the link in url name variable \n",
    "driver.get(url)"
   ]
  },
  {
   "cell_type": "code",
   "execution_count": 5,
   "id": "f7b5df01",
   "metadata": {},
   "outputs": [
    {
     "name": "stdout",
     "output_type": "stream",
     "text": [
      "Search What You Wantguitars\n"
     ]
    },
    {
     "data": {
      "text/plain": [
       "'guitars'"
      ]
     },
     "execution_count": 5,
     "metadata": {},
     "output_type": "execute_result"
    }
   ],
   "source": [
    "user_input=input(\"Search What You Want\")\n",
    "user_input"
   ]
  },
  {
   "cell_type": "code",
   "execution_count": 6,
   "id": "4c0e1b8b",
   "metadata": {},
   "outputs": [],
   "source": [
    "#Finding the web element for search \"Data Analyst\"\n",
    "search_job=driver.find_element(By.ID,\"twotabsearchtextbox\")\n",
    "search_job.send_keys(user_input)"
   ]
  },
  {
   "cell_type": "code",
   "execution_count": 7,
   "id": "7caa6dc3",
   "metadata": {},
   "outputs": [],
   "source": [
    "\n",
    "#Clicking using absolute xpath function\n",
    "search_btn=driver.find_element(By.ID,\"nav-search-submit-button\")\n",
    "search_btn.click()"
   ]
  },
  {
   "cell_type": "markdown",
   "id": "f9160826",
   "metadata": {},
   "source": [
    "# Q2 : In the above question, now scrape the following details of each product listed in first 3 pages of your search results and save it in a data frame and csv. In case if any product vertical has less than 3 pages in search results then scrape all the products available under that product vertical. Details to be scraped are: \"Brand Name\", \"Name of the Product\", \"Rating\", \"No. of Ratings\", \"Price\", \"Return/Exchange\", \"Expected Delivery\", \"Availability\", \"Other Details\" and “Product URL”. In case, if any of the details are missing for any of the product then replace it by “-“."
   ]
  },
  {
   "cell_type": "code",
   "execution_count": 124,
   "id": "dca42625",
   "metadata": {},
   "outputs": [],
   "source": [
    "import re\n",
    "from selenium.common.exceptions import NoSuchElementException, StaleElementReferenceException\n",
    "from selenium.webdriver.support.ui import WebDriverWait"
   ]
  },
  {
   "cell_type": "code",
   "execution_count": 9,
   "id": "7de1c057",
   "metadata": {},
   "outputs": [],
   "source": [
    "#Fetching url to open each page\n",
    "urls=[]\n",
    "start=0\n",
    "end=3\n",
    "for page in range(start,end):\n",
    "    url=driver.find_elements(By.XPATH,\"//a[@class='a-link-normal s-underline-text s-underline-link-text s-link-style a-text-normal']\")\n",
    "    for i in url:\n",
    "        urls.append(i.get_attribute('href'))\n",
    "    next_button=driver.find_elements(By.XPATH,\"//A[@CLASS='s-pagination-item s-pagination-next s-pagination-button s-pagination-separator']\")"
   ]
  },
  {
   "cell_type": "code",
   "execution_count": 10,
   "id": "b548333e",
   "metadata": {},
   "outputs": [
    {
     "data": {
      "text/plain": [
       "192"
      ]
     },
     "execution_count": 10,
     "metadata": {},
     "output_type": "execute_result"
    }
   ],
   "source": [
    "len(urls)"
   ]
  },
  {
   "cell_type": "code",
   "execution_count": 11,
   "id": "325b35bf",
   "metadata": {},
   "outputs": [
    {
     "data": {
      "text/plain": [
       "['https://www.amazon.in/sspa/click?ie=UTF8&spc=MTo0OTU3OTkwMDcyMjg1MDI6MTY2OTAzNzI3NDpzcF9hdGY6MjAwNTcxOTMwNTYyMDQ6OjA6Og&url=%2FKadence-Slowhand-Premium-Acoustic-Instrument%2Fdp%2FB077SZ667X%2Fref%3Dsr_1_1_sspa%3Fcrid%3D2UWVLRJ59OHLY%26keywords%3Dguitars%26qid%3D1669037274%26qu%3DeyJxc2MiOiI2LjAyIiwicXNhIjoiNS42MSIsInFzcCI6IjMuODUifQ%253D%253D%26sprefix%3D%252Caps%252C179%26sr%3D8-1-spons%26sp_csd%3Dd2lkZ2V0TmFtZT1zcF9hdGY%26psc%3D1',\n",
       " 'https://www.amazon.in/sspa/click?ie=UTF8&spc=MTo0OTU3OTkwMDcyMjg1MDI6MTY2OTAzNzI3NDpzcF9hdGY6MjAwOTI5NTUyOTAxOTg6OjA6Og&url=%2FGibzs-38-C-Acoustic-Guitar-Black%2Fdp%2FB07LH8P4XK%2Fref%3Dsr_1_2_sspa%3Fcrid%3D2UWVLRJ59OHLY%26keywords%3Dguitars%26qid%3D1669037274%26qu%3DeyJxc2MiOiI2LjAyIiwicXNhIjoiNS42MSIsInFzcCI6IjMuODUifQ%253D%253D%26sprefix%3D%252Caps%252C179%26sr%3D8-2-spons%26sp_csd%3Dd2lkZ2V0TmFtZT1zcF9hdGY%26psc%3D1',\n",
       " 'https://www.amazon.in/sspa/click?ie=UTF8&spc=MTo0OTU3OTkwMDcyMjg1MDI6MTY2OTAzNzI3NDpzcF9hdGY6MjAwOTI2MjQwMjE0OTg6OjA6Og&url=%2FPremium-Spruce-Top-Dreadnought-Acoustic-Guitar%2Fdp%2FB0BJK1CWSN%2Fref%3Dsr_1_3_sspa%3Fcrid%3D2UWVLRJ59OHLY%26keywords%3Dguitars%26qid%3D1669037274%26qu%3DeyJxc2MiOiI2LjAyIiwicXNhIjoiNS42MSIsInFzcCI6IjMuODUifQ%253D%253D%26sprefix%3D%252Caps%252C179%26sr%3D8-3-spons%26sp_csd%3Dd2lkZ2V0TmFtZT1zcF9hdGY%26psc%3D1',\n",
       " 'https://www.amazon.in/sspa/click?ie=UTF8&spc=MTo0OTU3OTkwMDcyMjg1MDI6MTY2OTAzNzI3NDpzcF9hdGY6MjAwNzgzMzY4ODgyOTg6OjA6Og&url=%2FFestra-38C-Acoustic-Strings-Natural%2Fdp%2FB09JT6C952%2Fref%3Dsr_1_4_sspa%3Fcrid%3D2UWVLRJ59OHLY%26keywords%3Dguitars%26qid%3D1669037274%26qu%3DeyJxc2MiOiI2LjAyIiwicXNhIjoiNS42MSIsInFzcCI6IjMuODUifQ%253D%253D%26sprefix%3D%252Caps%252C179%26sr%3D8-4-spons%26sp_csd%3Dd2lkZ2V0TmFtZT1zcF9hdGY%26psc%3D1',\n",
       " 'https://www.amazon.in/Juarez-Acoustic-Cutaway-038C-Strings/dp/B017NPCSLI/ref=sr_1_5?crid=2UWVLRJ59OHLY&keywords=guitars&qid=1669037274&qu=eyJxc2MiOiI2LjAyIiwicXNhIjoiNS42MSIsInFzcCI6IjMuODUifQ%3D%3D&sprefix=%2Caps%2C179&sr=8-5',\n",
       " 'https://www.amazon.in/Strings-Acoustic-Students-Beginners-I6943SU/dp/B0BMPYQBHJ/ref=sr_1_omk_6?crid=2UWVLRJ59OHLY&keywords=guitars&qid=1669037274&qu=eyJxc2MiOiI2LjAyIiwicXNhIjoiNS42MSIsInFzcCI6IjMuODUifQ%3D%3D&sprefix=%2Caps%2C179&sr=8-6',\n",
       " 'https://www.amazon.in/Intern-INT-38C-Acoustic-Guitar-Black/dp/B073B6TQQY/ref=sr_1_7?crid=2UWVLRJ59OHLY&keywords=guitars&qid=1669037274&qu=eyJxc2MiOiI2LjAyIiwicXNhIjoiNS42MSIsInFzcCI6IjMuODUifQ%3D%3D&sprefix=%2Caps%2C179&sr=8-7',\n",
       " 'https://www.amazon.in/Intern-INT-38C-Acoustic-Guitar-Blue/dp/B073B5RZBV/ref=sr_1_8?crid=2UWVLRJ59OHLY&keywords=guitars&qid=1669037274&qu=eyJxc2MiOiI2LjAyIiwicXNhIjoiNS42MSIsInFzcCI6IjMuODUifQ%3D%3D&sprefix=%2Caps%2C179&sr=8-8',\n",
       " 'https://www.amazon.in/JUAREZ-JRZ38C-Acoustic-Sunburst-Strings/dp/B01FYYTDS6/ref=sr_1_9?crid=2UWVLRJ59OHLY&keywords=guitars&qid=1669037274&qu=eyJxc2MiOiI2LjAyIiwicXNhIjoiNS42MSIsInFzcCI6IjMuODUifQ%3D%3D&sprefix=%2Caps%2C179&sr=8-9',\n",
       " 'https://www.amazon.in/JUAREZ-JRZ38C-Acoustic-Sunburst-Strings/dp/B01FYYTDTU/ref=sr_1_10?crid=2UWVLRJ59OHLY&keywords=guitars&qid=1669037274&qu=eyJxc2MiOiI2LjAyIiwicXNhIjoiNS42MSIsInFzcCI6IjMuODUifQ%3D%3D&sprefix=%2Caps%2C179&sr=8-10',\n",
       " 'https://www.amazon.in/Intern-INT-38C-Acoustic-Guitar-Sunburst/dp/B073B5MJRM/ref=sr_1_11?crid=2UWVLRJ59OHLY&keywords=guitars&qid=1669037274&qu=eyJxc2MiOiI2LjAyIiwicXNhIjoiNS42MSIsInFzcCI6IjMuODUifQ%3D%3D&sprefix=%2Caps%2C179&sr=8-11',\n",
       " 'https://www.amazon.in/Juarez-Acoustic-Guitar-Cutaway-Strings/dp/B076QHZ4HZ/ref=sr_1_12?crid=2UWVLRJ59OHLY&keywords=guitars&qid=1669037274&qu=eyJxc2MiOiI2LjAyIiwicXNhIjoiNS42MSIsInFzcCI6IjMuODUifQ%3D%3D&sprefix=%2Caps%2C179&sr=8-12',\n",
       " 'https://www.amazon.in/Yamaha-F280-Acoustic-Guitar-Natural/dp/B08317Y4VP/ref=sr_1_13?crid=2UWVLRJ59OHLY&keywords=guitars&qid=1669037274&qu=eyJxc2MiOiI2LjAyIiwicXNhIjoiNS42MSIsInFzcCI6IjMuODUifQ%3D%3D&sprefix=%2Caps%2C179&sr=8-13',\n",
       " 'https://www.amazon.in/Hontral-Childrens-Instrument-Educational-Beginners/dp/B0BD8Y1H78/ref=sr_1_14?crid=2UWVLRJ59OHLY&keywords=guitars&qid=1669037274&qu=eyJxc2MiOiI2LjAyIiwicXNhIjoiNS42MSIsInFzcCI6IjMuODUifQ%3D%3D&sprefix=%2Caps%2C179&sr=8-14',\n",
       " 'https://www.amazon.in/Fender-Dread-String-Acoustic-Guitar/dp/B07RM4B5LJ/ref=sxin_24?asc_contentid=amzn1.osa.39dd7fbf-afb9-4b33-a89b-5dc1ff018d2f.A21TJRUUN4KGV.en_IN&asc_contenttype=article&ascsubtag=amzn1.osa.39dd7fbf-afb9-4b33-a89b-5dc1ff018d2f.A21TJRUUN4KGV.en_IN&content-id=amzn1.sym.939c6bd1-1a0e-48f0-a138-af961f88b523%3Aamzn1.sym.939c6bd1-1a0e-48f0-a138-af961f88b523&creativeASIN=B07RM4B5LJ&crid=2UWVLRJ59OHLY&cv_ct_cx=guitars&cv_ct_id=amzn1.osa.39dd7fbf-afb9-4b33-a89b-5dc1ff018d2f.A21TJRUUN4KGV.en_IN&cv_ct_pg=search&cv_ct_we=asin&cv_ct_wn=osp-single-source-pecos-desktop&keywords=guitars&linkCode=oas&pd_rd_i=B07RM4B5LJ&pd_rd_r=8cbec6f0-fbc9-4486-905b-5bc417278a9d&pd_rd_w=qHF4N&pd_rd_wg=XpKOi&pf_rd_p=939c6bd1-1a0e-48f0-a138-af961f88b523&pf_rd_r=N4G7PRC49Q37802KF5JH&qid=1669037274&qu=eyJxc2MiOiI2LjAyIiwicXNhIjoiNS42MSIsInFzcCI6IjMuODUifQ%3D%3D&sprefix=%2Caps%2C179&sr=1-1-c84eb971-91f2-4a4d-acce-811265c24254&tag=sm-content-21',\n",
       " 'https://www.amazon.in/Yamaha-FS100C-Acoustic-Guitars-Natural/dp/B00QKD79QE/ref=sxin_24?asc_contentid=amzn1.osa.39dd7fbf-afb9-4b33-a89b-5dc1ff018d2f.A21TJRUUN4KGV.en_IN&asc_contenttype=article&ascsubtag=amzn1.osa.39dd7fbf-afb9-4b33-a89b-5dc1ff018d2f.A21TJRUUN4KGV.en_IN&content-id=amzn1.sym.939c6bd1-1a0e-48f0-a138-af961f88b523%3Aamzn1.sym.939c6bd1-1a0e-48f0-a138-af961f88b523&creativeASIN=B00QKD79QE&crid=2UWVLRJ59OHLY&cv_ct_cx=guitars&cv_ct_id=amzn1.osa.39dd7fbf-afb9-4b33-a89b-5dc1ff018d2f.A21TJRUUN4KGV.en_IN&cv_ct_pg=search&cv_ct_we=asin&cv_ct_wn=osp-single-source-pecos-desktop&keywords=guitars&linkCode=oas&pd_rd_i=B00QKD79QE&pd_rd_r=8cbec6f0-fbc9-4486-905b-5bc417278a9d&pd_rd_w=qHF4N&pd_rd_wg=XpKOi&pf_rd_p=939c6bd1-1a0e-48f0-a138-af961f88b523&pf_rd_r=N4G7PRC49Q37802KF5JH&qid=1669037274&qu=eyJxc2MiOiI2LjAyIiwicXNhIjoiNS42MSIsInFzcCI6IjMuODUifQ%3D%3D&sprefix=%2Caps%2C179&sr=1-2-c84eb971-91f2-4a4d-acce-811265c24254&tag=sm-content-21',\n",
       " 'https://www.amazon.in/Rosewood-Fretboard-Acoustic-Strings-K-Retail/dp/B07KLG8C4P/ref=sxin_24?asc_contentid=amzn1.osa.39dd7fbf-afb9-4b33-a89b-5dc1ff018d2f.A21TJRUUN4KGV.en_IN&asc_contenttype=article&ascsubtag=amzn1.osa.39dd7fbf-afb9-4b33-a89b-5dc1ff018d2f.A21TJRUUN4KGV.en_IN&content-id=amzn1.sym.939c6bd1-1a0e-48f0-a138-af961f88b523%3Aamzn1.sym.939c6bd1-1a0e-48f0-a138-af961f88b523&creativeASIN=B07KLG8C4P&crid=2UWVLRJ59OHLY&cv_ct_cx=guitars&cv_ct_id=amzn1.osa.39dd7fbf-afb9-4b33-a89b-5dc1ff018d2f.A21TJRUUN4KGV.en_IN&cv_ct_pg=search&cv_ct_we=asin&cv_ct_wn=osp-single-source-pecos-desktop&keywords=guitars&linkCode=oas&pd_rd_i=B07KLG8C4P&pd_rd_r=8cbec6f0-fbc9-4486-905b-5bc417278a9d&pd_rd_w=qHF4N&pd_rd_wg=XpKOi&pf_rd_p=939c6bd1-1a0e-48f0-a138-af961f88b523&pf_rd_r=N4G7PRC49Q37802KF5JH&qid=1669037274&qu=eyJxc2MiOiI2LjAyIiwicXNhIjoiNS42MSIsInFzcCI6IjMuODUifQ%3D%3D&sprefix=%2Caps%2C179&sr=1-3-c84eb971-91f2-4a4d-acce-811265c24254&tag=sm-content-21',\n",
       " 'https://www.amazon.in/Kadence-6-strings-Acoustic-Guitar-Natural/dp/B07JKYWGJN/ref=sxin_24?asc_contentid=amzn1.osa.39dd7fbf-afb9-4b33-a89b-5dc1ff018d2f.A21TJRUUN4KGV.en_IN&asc_contenttype=article&ascsubtag=amzn1.osa.39dd7fbf-afb9-4b33-a89b-5dc1ff018d2f.A21TJRUUN4KGV.en_IN&content-id=amzn1.sym.939c6bd1-1a0e-48f0-a138-af961f88b523%3Aamzn1.sym.939c6bd1-1a0e-48f0-a138-af961f88b523&creativeASIN=B07JKYWGJN&crid=2UWVLRJ59OHLY&cv_ct_cx=guitars&cv_ct_id=amzn1.osa.39dd7fbf-afb9-4b33-a89b-5dc1ff018d2f.A21TJRUUN4KGV.en_IN&cv_ct_pg=search&cv_ct_we=asin&cv_ct_wn=osp-single-source-pecos-desktop&keywords=guitars&linkCode=oas&pd_rd_i=B07JKYWGJN&pd_rd_r=8cbec6f0-fbc9-4486-905b-5bc417278a9d&pd_rd_w=qHF4N&pd_rd_wg=XpKOi&pf_rd_p=939c6bd1-1a0e-48f0-a138-af961f88b523&pf_rd_r=N4G7PRC49Q37802KF5JH&qid=1669037274&qu=eyJxc2MiOiI2LjAyIiwicXNhIjoiNS42MSIsInFzcCI6IjMuODUifQ%3D%3D&sprefix=%2Caps%2C179&sr=1-4-c84eb971-91f2-4a4d-acce-811265c24254&tag=sm-content-21',\n",
       " 'https://www.amazon.in/Yamaha-FS-100C-6-String-Acoustic-without/dp/B00PAS9CK6/ref=sr_1_15?crid=2UWVLRJ59OHLY&keywords=guitars&qid=1669037274&qu=eyJxc2MiOiI2LjAyIiwicXNhIjoiNS42MSIsInFzcCI6IjMuODUifQ%3D%3D&sprefix=%2Caps%2C179&sr=8-15',\n",
       " 'https://www.amazon.in/Juarez-Acoustic-Guitar-Cutaway-Strings/dp/B075XMRKMY/ref=sr_1_16?crid=2UWVLRJ59OHLY&keywords=guitars&qid=1669037274&qu=eyJxc2MiOiI2LjAyIiwicXNhIjoiNS42MSIsInFzcCI6IjMuODUifQ%3D%3D&sprefix=%2Caps%2C179&sr=8-16',\n",
       " 'https://www.amazon.in/Intern-INT-38C-BK-G-Guitar-Kit-Black/dp/B07K9497RC/ref=sr_1_17?crid=2UWVLRJ59OHLY&keywords=guitars&qid=1669037274&qu=eyJxc2MiOiI2LjAyIiwicXNhIjoiNS42MSIsInFzcCI6IjMuODUifQ%3D%3D&sprefix=%2Caps%2C179&sr=8-17',\n",
       " 'https://www.amazon.in/Acoustic-Instrument-Educational-Beginners-Multicolor/dp/B0BCZ9GQQP/ref=sr_1_18?crid=2UWVLRJ59OHLY&keywords=guitars&qid=1669037274&qu=eyJxc2MiOiI2LjAyIiwicXNhIjoiNS42MSIsInFzcCI6IjMuODUifQ%3D%3D&sprefix=%2Caps%2C179&sr=8-18',\n",
       " 'https://www.amazon.in/Juarez-Acoustic-Guitar-Cutaway-Strings/dp/B084VRCCN7/ref=sr_1_19?crid=2UWVLRJ59OHLY&keywords=guitars&qid=1669037274&qu=eyJxc2MiOiI2LjAyIiwicXNhIjoiNS42MSIsInFzcCI6IjMuODUifQ%3D%3D&sprefix=%2Caps%2C179&sr=8-19',\n",
       " 'https://www.amazon.in/Kadence-Frontier-Acoustic-Guitar-Strings/dp/B078GTJP5Y/ref=sr_1_20?crid=2UWVLRJ59OHLY&keywords=guitars&qid=1669037274&qu=eyJxc2MiOiI2LjAyIiwicXNhIjoiNS42MSIsInFzcCI6IjMuODUifQ%3D%3D&sprefix=%2Caps%2C179&sr=8-20',\n",
       " 'https://www.amazon.in/sspa/click?ie=UTF8&spc=MTo0OTU3OTkwMDcyMjg1MDI6MTY2OTAzNzI3NDpzcF9tdGY6MjAwNzgzMzY4ODc0OTg6OjA6Og&url=%2FBlueberry-B-D38-Acoustic-Inbuilt-Strings%2Fdp%2FB07PHYZZP1%2Fref%3Dsr_1_21_sspa%3Fcrid%3D2UWVLRJ59OHLY%26keywords%3Dguitars%26qid%3D1669037274%26qu%3DeyJxc2MiOiI2LjAyIiwicXNhIjoiNS42MSIsInFzcCI6IjMuODUifQ%253D%253D%26sprefix%3D%252Caps%252C179%26sr%3D8-21-spons%26sp_csd%3Dd2lkZ2V0TmFtZT1zcF9tdGY%26psc%3D1',\n",
       " 'https://www.amazon.in/sspa/click?ie=UTF8&spc=MTo0OTU3OTkwMDcyMjg1MDI6MTY2OTAzNzI3NDpzcF9tdGY6MjAwMzI0NDA0Nzk3OTg6OjA6Og&url=%2FLUCHILA-Childrens-Instrument-Educational-Beginners%2Fdp%2FB09T3Q72CJ%2Fref%3Dsr_1_22_sspa%3Fcrid%3D2UWVLRJ59OHLY%26keywords%3Dguitars%26qid%3D1669037274%26qu%3DeyJxc2MiOiI2LjAyIiwicXNhIjoiNS42MSIsInFzcCI6IjMuODUifQ%253D%253D%26sprefix%3D%252Caps%252C179%26sr%3D8-22-spons%26sp_csd%3Dd2lkZ2V0TmFtZT1zcF9tdGY%26psc%3D1',\n",
       " 'https://www.amazon.in/sspa/click?ie=UTF8&spc=MTo0OTU3OTkwMDcyMjg1MDI6MTY2OTAzNzI3NDpzcF9tdGY6MjAwOTI2MjQwMjE2OTg6OjA6Og&url=%2FVault-PA36-Parlor-Acoustic-Guitar%2Fdp%2FB0BJK1332J%2Fref%3Dsr_1_23_sspa%3Fcrid%3D2UWVLRJ59OHLY%26keywords%3Dguitars%26qid%3D1669037274%26qu%3DeyJxc2MiOiI2LjAyIiwicXNhIjoiNS42MSIsInFzcCI6IjMuODUifQ%253D%253D%26sprefix%3D%252Caps%252C179%26sr%3D8-23-spons%26sp_csd%3Dd2lkZ2V0TmFtZT1zcF9tdGY%26psc%3D1',\n",
       " 'https://www.amazon.in/sspa/click?ie=UTF8&spc=MTo0OTU3OTkwMDcyMjg1MDI6MTY2OTAzNzI3NDpzcF9tdGY6MjAwNzgzMzY4ODUyOTg6OjA6Og&url=%2FBlueberry-R-40-Acoustic-Inbuilt-Redburst%2Fdp%2FB09YDH39TB%2Fref%3Dsr_1_24_sspa%3Fcrid%3D2UWVLRJ59OHLY%26keywords%3Dguitars%26qid%3D1669037274%26qu%3DeyJxc2MiOiI2LjAyIiwicXNhIjoiNS42MSIsInFzcCI6IjMuODUifQ%253D%253D%26sprefix%3D%252Caps%252C179%26sr%3D8-24-spons%26sp_csd%3Dd2lkZ2V0TmFtZT1zcF9tdGY%26psc%3D1',\n",
       " 'https://www.amazon.in/Tanglewood-Electro-Acoustic-Guitar-Antique-Violin/dp/B0971762X2/ref=sr_1_25?crid=2UWVLRJ59OHLY&keywords=guitars&qid=1669037274&qu=eyJxc2MiOiI2LjAyIiwicXNhIjoiNS42MSIsInFzcCI6IjMuODUifQ%3D%3D&sprefix=%2Caps%2C179&sr=8-25',\n",
       " 'https://www.amazon.in/Yamaha-Acoustic-Guitar-Tobacco-Sunburst/dp/B08VXR74Q2/ref=sr_1_26?crid=2UWVLRJ59OHLY&keywords=guitars&qid=1669037274&qu=eyJxc2MiOiI2LjAyIiwicXNhIjoiNS42MSIsInFzcCI6IjMuODUifQ%3D%3D&sprefix=%2Caps%2C179&sr=8-26',\n",
       " 'https://www.amazon.in/Blueberry-Beginner-Rosewood-Electric-Strings/dp/B0B71VMZPG/ref=sr_1_27?crid=2UWVLRJ59OHLY&keywords=guitars&qid=1669037274&qu=eyJxc2MiOiI2LjAyIiwicXNhIjoiNS42MSIsInFzcCI6IjMuODUifQ%3D%3D&sprefix=%2Caps%2C179&sr=8-27',\n",
       " 'https://www.amazon.in/Henrix-Acoustic-Guitar-Die-cast-Dual-action/dp/B07VNDW6QF/ref=sr_1_28?crid=2UWVLRJ59OHLY&keywords=guitars&qid=1669037274&qu=eyJxc2MiOiI2LjAyIiwicXNhIjoiNS42MSIsInFzcCI6IjMuODUifQ%3D%3D&sprefix=%2Caps%2C179&sr=8-28',\n",
       " 'https://www.amazon.in/Enterprise-Acoustic-Instrument-Educational-Beginners/dp/B0B46LBJQZ/ref=sr_1_29?crid=2UWVLRJ59OHLY&keywords=guitars&qid=1669037274&qu=eyJxc2MiOiI2LjAyIiwicXNhIjoiNS42MSIsInFzcCI6IjMuODUifQ%3D%3D&sprefix=%2Caps%2C179&sr=8-29',\n",
       " 'https://www.amazon.in/YAMAHA-NATURAL-CONCERT-CUTAWAY-GUITAR/dp/B08KW4DRKL/ref=sr_1_30?crid=2UWVLRJ59OHLY&keywords=guitars&qid=1669037274&qu=eyJxc2MiOiI2LjAyIiwicXNhIjoiNS42MSIsInFzcCI6IjMuODUifQ%3D%3D&sprefix=%2Caps%2C179&sr=8-30',\n",
       " 'https://www.amazon.in/FX280-acoustic-Dreadnought-Tobacco-Sunburst/dp/B09HR7BXGW/ref=sr_1_31?crid=2UWVLRJ59OHLY&keywords=guitars&qid=1669037274&qu=eyJxc2MiOiI2LjAyIiwicXNhIjoiNS42MSIsInFzcCI6IjMuODUifQ%3D%3D&sprefix=%2Caps%2C179&sr=8-31',\n",
       " 'https://www.amazon.in/Carlton-Rosewood-Fretboard-Acoustic-K-Retail/dp/B07KK8P9VB/ref=sr_1_32?crid=2UWVLRJ59OHLY&keywords=guitars&qid=1669037274&qu=eyJxc2MiOiI2LjAyIiwicXNhIjoiNS42MSIsInFzcCI6IjMuODUifQ%3D%3D&sprefix=%2Caps%2C179&sr=8-32',\n",
       " 'https://www.amazon.in/Yamaha-FX280-acoustic-Dreadnought-Natural/dp/B09HR6BNFQ/ref=sr_1_33?crid=2UWVLRJ59OHLY&keywords=guitars&qid=1669037274&qu=eyJxc2MiOiI2LjAyIiwicXNhIjoiNS42MSIsInFzcCI6IjMuODUifQ%3D%3D&sprefix=%2Caps%2C179&sr=8-33',\n",
       " 'https://www.amazon.in/Creation-4-String-Instrument-Learning-Toy/dp/B0BD92RXDB/ref=sr_1_34?crid=2UWVLRJ59OHLY&keywords=guitars&qid=1669037274&qu=eyJxc2MiOiI2LjAyIiwicXNhIjoiNS42MSIsInFzcCI6IjMuODUifQ%3D%3D&sprefix=%2Caps%2C179&sr=8-34',\n",
       " 'https://www.amazon.in/Medellin-carbn-fiber-guitar-38inch/dp/B09MSGVCDV/ref=sr_1_35?crid=2UWVLRJ59OHLY&keywords=guitars&qid=1669037274&qu=eyJxc2MiOiI2LjAyIiwicXNhIjoiNS42MSIsInFzcCI6IjMuODUifQ%3D%3D&sprefix=%2Caps%2C179&sr=8-35',\n",
       " 'https://www.amazon.in/Intern-38-inch-Cutaway-Design-Acoustic/dp/B07X4PN85R/ref=sr_1_36?crid=2UWVLRJ59OHLY&keywords=guitars&qid=1669037274&qu=eyJxc2MiOiI2LjAyIiwicXNhIjoiNS42MSIsInFzcCI6IjMuODUifQ%3D%3D&sprefix=%2Caps%2C179&sr=8-36',\n",
       " 'https://www.amazon.in/Juarez-Acoustic-Cutaway-BK-Strings/dp/B076T3RHMG/ref=sr_1_37?crid=2UWVLRJ59OHLY&keywords=guitars&qid=1669037274&qu=eyJxc2MiOiI2LjAyIiwicXNhIjoiNS42MSIsInFzcCI6IjMuODUifQ%3D%3D&sprefix=%2Caps%2C179&sr=8-37',\n",
       " 'https://www.amazon.in/Yamaha-FSX80C-Acoustic-Cutaway-Natural/dp/B09HL3GFZF/ref=sr_1_38?crid=2UWVLRJ59OHLY&keywords=guitars&qid=1669037274&qu=eyJxc2MiOiI2LjAyIiwicXNhIjoiNS42MSIsInFzcCI6IjMuODUifQ%3D%3D&sprefix=%2Caps%2C179&sr=8-38',\n",
       " 'https://www.amazon.in/Blueberry-Beginner-Rosewood-Electric-Strings/dp/B0BLYP3Q6S/ref=sr_1_39?crid=2UWVLRJ59OHLY&keywords=guitars&qid=1669037274&qu=eyJxc2MiOiI2LjAyIiwicXNhIjoiNS42MSIsInFzcCI6IjMuODUifQ%3D%3D&sprefix=%2Caps%2C179&sr=8-39',\n",
       " 'https://www.amazon.in/Firevally-Childrens-Instrument-Educational-Instruments/dp/B0BL15WBRS/ref=sr_1_40?crid=2UWVLRJ59OHLY&keywords=guitars&qid=1669037274&qu=eyJxc2MiOiI2LjAyIiwicXNhIjoiNS42MSIsInFzcCI6IjMuODUifQ%3D%3D&sprefix=%2Caps%2C179&sr=8-40',\n",
       " 'https://www.amazon.in/Medellin-carbn-guitar-38inch-NATURAL/dp/B09MSHD6TS/ref=sr_1_41?crid=2UWVLRJ59OHLY&keywords=guitars&qid=1669037274&qu=eyJxc2MiOiI2LjAyIiwicXNhIjoiNS42MSIsInFzcCI6IjMuODUifQ%3D%3D&sprefix=%2Caps%2C179&sr=8-41',\n",
       " 'https://www.amazon.in/JUAREZ-Arpeggio-Acoustic-Rosewood-Fretboard/dp/B08LBJ8PTM/ref=sr_1_42?crid=2UWVLRJ59OHLY&keywords=guitars&qid=1669037274&qu=eyJxc2MiOiI2LjAyIiwicXNhIjoiNS42MSIsInFzcCI6IjMuODUifQ%3D%3D&sprefix=%2Caps%2C179&sr=8-42',\n",
       " 'https://www.amazon.in/Blueberry-38C-Acoustic-Guitar-Strings/dp/B08KLMV4XX/ref=sr_1_43?crid=2UWVLRJ59OHLY&keywords=guitars&qid=1669037274&qu=eyJxc2MiOiI2LjAyIiwicXNhIjoiNS42MSIsInFzcCI6IjMuODUifQ%3D%3D&sprefix=%2Caps%2C179&sr=8-43',\n",
       " 'https://www.amazon.in/JUAREZ-JRB40LN-3TS-Arpeggio-Guitar/dp/B08MW8F9VS/ref=sr_1_44?crid=2UWVLRJ59OHLY&keywords=guitars&qid=1669037274&qu=eyJxc2MiOiI2LjAyIiwicXNhIjoiNS42MSIsInFzcCI6IjMuODUifQ%3D%3D&sprefix=%2Caps%2C179&sr=8-44',\n",
       " 'https://www.amazon.in/Yamaha-FSX80C-Acoustic-Cutaway-Guitar/dp/B09HL5WFDX/ref=sr_1_45?crid=2UWVLRJ59OHLY&keywords=guitars&qid=1669037274&qu=eyJxc2MiOiI2LjAyIiwicXNhIjoiNS42MSIsInFzcCI6IjMuODUifQ%3D%3D&sprefix=%2Caps%2C179&sr=8-45',\n",
       " 'https://www.amazon.in/Kadence-Frontier-Acoustic-Guitar-Strings/dp/B01CJJG328/ref=sr_1_46?crid=2UWVLRJ59OHLY&keywords=guitars&qid=1669037274&qu=eyJxc2MiOiI2LjAyIiwicXNhIjoiNS42MSIsInFzcCI6IjMuODUifQ%3D%3D&sprefix=%2Caps%2C179&sr=8-46',\n",
       " 'https://www.amazon.in/215-Rosewood-Fretboard-Acoustic-K-Retail/dp/B08RCRJ8SK/ref=sr_1_47?crid=2UWVLRJ59OHLY&keywords=guitars&qid=1669037274&qu=eyJxc2MiOiI2LjAyIiwicXNhIjoiNS42MSIsInFzcCI6IjMuODUifQ%3D%3D&sprefix=%2Caps%2C179&sr=8-47',\n",
       " 'https://www.amazon.in/Bestonl-Childrens-Instrument-Educational-Beginners/dp/B0BDG13QZS/ref=sr_1_48?crid=2UWVLRJ59OHLY&keywords=guitars&qid=1669037274&qu=eyJxc2MiOiI2LjAyIiwicXNhIjoiNS42MSIsInFzcCI6IjMuODUifQ%3D%3D&sprefix=%2Caps%2C179&sr=8-48',\n",
       " 'https://www.amazon.in/JUAREZ-JRZ38C-Acoustic-Natural-Strings/dp/B01FYYTDWC/ref=sr_1_49?crid=2UWVLRJ59OHLY&keywords=guitars&qid=1669037274&qu=eyJxc2MiOiI2LjAyIiwicXNhIjoiNS42MSIsInFzcCI6IjMuODUifQ%3D%3D&sprefix=%2Caps%2C179&sr=8-49',\n",
       " 'https://www.amazon.in/MUSICALS%C2%AE-Guitar-Including-Strings-remover/dp/B082Q6C28F/ref=sr_1_50?crid=2UWVLRJ59OHLY&keywords=guitars&qid=1669037274&qu=eyJxc2MiOiI2LjAyIiwicXNhIjoiNS42MSIsInFzcCI6IjMuODUifQ%3D%3D&sprefix=%2Caps%2C179&sr=8-50',\n",
       " 'https://www.amazon.in/Ju%C3%A2rez-JRZ38C-WH-Strings-Acoustic/dp/B072MFK4L6/ref=sr_1_51?crid=2UWVLRJ59OHLY&keywords=guitars&qid=1669037274&qu=eyJxc2MiOiI2LjAyIiwicXNhIjoiNS42MSIsInFzcCI6IjMuODUifQ%3D%3D&sprefix=%2Caps%2C179&sr=8-51',\n",
       " 'https://www.amazon.in/Medellin-Acoustic-Guitar-Online-Learning/dp/B0BMKQNWM2/ref=sr_1_52?crid=2UWVLRJ59OHLY&keywords=guitars&qid=1669037274&qu=eyJxc2MiOiI2LjAyIiwicXNhIjoiNS42MSIsInFzcCI6IjMuODUifQ%3D%3D&sprefix=%2Caps%2C179&sr=8-52',\n",
       " 'https://www.amazon.in/Tanglewood-Crossroads-TWCR-SFCE-Acoustic/dp/B01M7R9JOT/ref=sr_1_53?crid=2UWVLRJ59OHLY&keywords=guitars&qid=1669037274&qu=eyJxc2MiOiI2LjAyIiwicXNhIjoiNS42MSIsInFzcCI6IjMuODUifQ%3D%3D&sprefix=%2Caps%2C179&sr=8-53',\n",
       " 'https://www.amazon.in/Belear-I280-Black-Matt-Acoustic/dp/B0BHTBLQGZ/ref=sr_1_54?crid=2UWVLRJ59OHLY&keywords=guitars&qid=1669037274&qu=eyJxc2MiOiI2LjAyIiwicXNhIjoiNS42MSIsInFzcCI6IjMuODUifQ%3D%3D&sprefix=%2Caps%2C179&sr=8-54',\n",
       " 'https://www.amazon.in/Blueberry-38C-Acoustic-Strings-Natural/dp/B08KLNFL2Y/ref=sr_1_55?crid=2UWVLRJ59OHLY&keywords=guitars&qid=1669037274&qu=eyJxc2MiOiI2LjAyIiwicXNhIjoiNS42MSIsInFzcCI6IjMuODUifQ%3D%3D&sprefix=%2Caps%2C179&sr=8-55',\n",
       " 'https://www.amazon.in/JUAREZ-Acoustic-Guitar-String-JRGSE32/dp/B08MW1WPW5/ref=sr_1_56?crid=2UWVLRJ59OHLY&keywords=guitars&qid=1669037274&qu=eyJxc2MiOiI2LjAyIiwicXNhIjoiNS42MSIsInFzcCI6IjMuODUifQ%3D%3D&sprefix=%2Caps%2C179&sr=8-56',\n",
       " 'https://www.amazon.in/sspa/click?ie=UTF8&spc=MTo0OTU3OTkwMDcyMjg1MDI6MTY2OTAzNzI3NDpzcF9idGY6MjAwNzgzMzY4ODUxOTg6OjA6Og&url=%2FBlueberry-Acoustic-Inbuilt-Strings-Classic%2Fdp%2FB09VLF8B8G%2Fref%3Dsr_1_57_sspa%3Fcrid%3D2UWVLRJ59OHLY%26keywords%3Dguitars%26qid%3D1669037274%26qu%3DeyJxc2MiOiI2LjAyIiwicXNhIjoiNS42MSIsInFzcCI6IjMuODUifQ%253D%253D%26sprefix%3D%252Caps%252C179%26sr%3D8-57-spons%26sp_csd%3Dd2lkZ2V0TmFtZT1zcF9idGY%26psc%3D1',\n",
       " 'https://www.amazon.in/sspa/click?ie=UTF8&spc=MTo0OTU3OTkwMDcyMjg1MDI6MTY2OTAzNzI3NDpzcF9idGY6MjAwNzgzMzY4ODQ5OTg6OjA6Og&url=%2FBlueberry-B-38C-Brown-Acoustic-Guitar-Strings%2Fdp%2FB0B71BHDGQ%2Fref%3Dsr_1_58_sspa%3Fcrid%3D2UWVLRJ59OHLY%26keywords%3Dguitars%26qid%3D1669037274%26qu%3DeyJxc2MiOiI2LjAyIiwicXNhIjoiNS42MSIsInFzcCI6IjMuODUifQ%253D%253D%26sprefix%3D%252Caps%252C179%26sr%3D8-58-spons%26sp_csd%3Dd2lkZ2V0TmFtZT1zcF9idGY%26psc%3D1',\n",
       " 'https://www.amazon.in/sspa/click?ie=UTF8&spc=MTo0OTU3OTkwMDcyMjg1MDI6MTY2OTAzNzI3NDpzcF9idGY6MjAwNzk5Nzk1OTI0OTg6OjA6Og&url=%2FHontral-Childrens-Instrument-Educational-Beginners%2Fdp%2FB0BD8Y1H78%2Fref%3Dsr_1_59_sspa%3Fcrid%3D2UWVLRJ59OHLY%26keywords%3Dguitars%26qid%3D1669037274%26qu%3DeyJxc2MiOiI2LjAyIiwicXNhIjoiNS42MSIsInFzcCI6IjMuODUifQ%253D%253D%26sprefix%3D%252Caps%252C179%26sr%3D8-59-spons%26sp_csd%3Dd2lkZ2V0TmFtZT1zcF9idGY%26psc%3D1',\n",
       " 'https://www.amazon.in/sspa/click?ie=UTF8&spc=MTo0OTU3OTkwMDcyMjg1MDI6MTY2OTAzNzI3NDpzcF9idGY6MjAwNzgzMzY4ODg4OTg6OjA6Og&url=%2FBlueberry-38C-Acoustic-Guitar-Strings%2Fdp%2FB08KLMV4XX%2Fref%3Dsr_1_60_sspa%3Fcrid%3D2UWVLRJ59OHLY%26keywords%3Dguitars%26qid%3D1669037274%26qu%3DeyJxc2MiOiI2LjAyIiwicXNhIjoiNS42MSIsInFzcCI6IjMuODUifQ%253D%253D%26sprefix%3D%252Caps%252C179%26sr%3D8-60-spons%26sp_csd%3Dd2lkZ2V0TmFtZT1zcF9idGY%26psc%3D1',\n",
       " 'https://www.amazon.in/sspa/click?ie=UTF8&spc=MTo0OTU3OTkwMDcyMjg1MDI6MTY2OTAzNzI3NDpzcF9hdGY6MjAwNTcxOTMwNTYyMDQ6OjA6Og&url=%2FKadence-Slowhand-Premium-Acoustic-Instrument%2Fdp%2FB077SZ667X%2Fref%3Dsr_1_1_sspa%3Fcrid%3D2UWVLRJ59OHLY%26keywords%3Dguitars%26qid%3D1669037274%26qu%3DeyJxc2MiOiI2LjAyIiwicXNhIjoiNS42MSIsInFzcCI6IjMuODUifQ%253D%253D%26sprefix%3D%252Caps%252C179%26sr%3D8-1-spons%26sp_csd%3Dd2lkZ2V0TmFtZT1zcF9hdGY%26psc%3D1',\n",
       " 'https://www.amazon.in/sspa/click?ie=UTF8&spc=MTo0OTU3OTkwMDcyMjg1MDI6MTY2OTAzNzI3NDpzcF9hdGY6MjAwOTI5NTUyOTAxOTg6OjA6Og&url=%2FGibzs-38-C-Acoustic-Guitar-Black%2Fdp%2FB07LH8P4XK%2Fref%3Dsr_1_2_sspa%3Fcrid%3D2UWVLRJ59OHLY%26keywords%3Dguitars%26qid%3D1669037274%26qu%3DeyJxc2MiOiI2LjAyIiwicXNhIjoiNS42MSIsInFzcCI6IjMuODUifQ%253D%253D%26sprefix%3D%252Caps%252C179%26sr%3D8-2-spons%26sp_csd%3Dd2lkZ2V0TmFtZT1zcF9hdGY%26psc%3D1',\n",
       " 'https://www.amazon.in/sspa/click?ie=UTF8&spc=MTo0OTU3OTkwMDcyMjg1MDI6MTY2OTAzNzI3NDpzcF9hdGY6MjAwOTI2MjQwMjE0OTg6OjA6Og&url=%2FPremium-Spruce-Top-Dreadnought-Acoustic-Guitar%2Fdp%2FB0BJK1CWSN%2Fref%3Dsr_1_3_sspa%3Fcrid%3D2UWVLRJ59OHLY%26keywords%3Dguitars%26qid%3D1669037274%26qu%3DeyJxc2MiOiI2LjAyIiwicXNhIjoiNS42MSIsInFzcCI6IjMuODUifQ%253D%253D%26sprefix%3D%252Caps%252C179%26sr%3D8-3-spons%26sp_csd%3Dd2lkZ2V0TmFtZT1zcF9hdGY%26psc%3D1',\n",
       " 'https://www.amazon.in/sspa/click?ie=UTF8&spc=MTo0OTU3OTkwMDcyMjg1MDI6MTY2OTAzNzI3NDpzcF9hdGY6MjAwNzgzMzY4ODgyOTg6OjA6Og&url=%2FFestra-38C-Acoustic-Strings-Natural%2Fdp%2FB09JT6C952%2Fref%3Dsr_1_4_sspa%3Fcrid%3D2UWVLRJ59OHLY%26keywords%3Dguitars%26qid%3D1669037274%26qu%3DeyJxc2MiOiI2LjAyIiwicXNhIjoiNS42MSIsInFzcCI6IjMuODUifQ%253D%253D%26sprefix%3D%252Caps%252C179%26sr%3D8-4-spons%26sp_csd%3Dd2lkZ2V0TmFtZT1zcF9hdGY%26psc%3D1',\n",
       " 'https://www.amazon.in/Juarez-Acoustic-Cutaway-038C-Strings/dp/B017NPCSLI/ref=sr_1_5?crid=2UWVLRJ59OHLY&keywords=guitars&qid=1669037274&qu=eyJxc2MiOiI2LjAyIiwicXNhIjoiNS42MSIsInFzcCI6IjMuODUifQ%3D%3D&sprefix=%2Caps%2C179&sr=8-5',\n",
       " 'https://www.amazon.in/Strings-Acoustic-Students-Beginners-I6943SU/dp/B0BMPYQBHJ/ref=sr_1_omk_6?crid=2UWVLRJ59OHLY&keywords=guitars&qid=1669037274&qu=eyJxc2MiOiI2LjAyIiwicXNhIjoiNS42MSIsInFzcCI6IjMuODUifQ%3D%3D&sprefix=%2Caps%2C179&sr=8-6',\n",
       " 'https://www.amazon.in/Intern-INT-38C-Acoustic-Guitar-Black/dp/B073B6TQQY/ref=sr_1_7?crid=2UWVLRJ59OHLY&keywords=guitars&qid=1669037274&qu=eyJxc2MiOiI2LjAyIiwicXNhIjoiNS42MSIsInFzcCI6IjMuODUifQ%3D%3D&sprefix=%2Caps%2C179&sr=8-7',\n",
       " 'https://www.amazon.in/Intern-INT-38C-Acoustic-Guitar-Blue/dp/B073B5RZBV/ref=sr_1_8?crid=2UWVLRJ59OHLY&keywords=guitars&qid=1669037274&qu=eyJxc2MiOiI2LjAyIiwicXNhIjoiNS42MSIsInFzcCI6IjMuODUifQ%3D%3D&sprefix=%2Caps%2C179&sr=8-8',\n",
       " 'https://www.amazon.in/JUAREZ-JRZ38C-Acoustic-Sunburst-Strings/dp/B01FYYTDS6/ref=sr_1_9?crid=2UWVLRJ59OHLY&keywords=guitars&qid=1669037274&qu=eyJxc2MiOiI2LjAyIiwicXNhIjoiNS42MSIsInFzcCI6IjMuODUifQ%3D%3D&sprefix=%2Caps%2C179&sr=8-9',\n",
       " 'https://www.amazon.in/JUAREZ-JRZ38C-Acoustic-Sunburst-Strings/dp/B01FYYTDTU/ref=sr_1_10?crid=2UWVLRJ59OHLY&keywords=guitars&qid=1669037274&qu=eyJxc2MiOiI2LjAyIiwicXNhIjoiNS42MSIsInFzcCI6IjMuODUifQ%3D%3D&sprefix=%2Caps%2C179&sr=8-10',\n",
       " 'https://www.amazon.in/Intern-INT-38C-Acoustic-Guitar-Sunburst/dp/B073B5MJRM/ref=sr_1_11?crid=2UWVLRJ59OHLY&keywords=guitars&qid=1669037274&qu=eyJxc2MiOiI2LjAyIiwicXNhIjoiNS42MSIsInFzcCI6IjMuODUifQ%3D%3D&sprefix=%2Caps%2C179&sr=8-11',\n",
       " 'https://www.amazon.in/Juarez-Acoustic-Guitar-Cutaway-Strings/dp/B076QHZ4HZ/ref=sr_1_12?crid=2UWVLRJ59OHLY&keywords=guitars&qid=1669037274&qu=eyJxc2MiOiI2LjAyIiwicXNhIjoiNS42MSIsInFzcCI6IjMuODUifQ%3D%3D&sprefix=%2Caps%2C179&sr=8-12',\n",
       " 'https://www.amazon.in/Yamaha-F280-Acoustic-Guitar-Natural/dp/B08317Y4VP/ref=sr_1_13?crid=2UWVLRJ59OHLY&keywords=guitars&qid=1669037274&qu=eyJxc2MiOiI2LjAyIiwicXNhIjoiNS42MSIsInFzcCI6IjMuODUifQ%3D%3D&sprefix=%2Caps%2C179&sr=8-13',\n",
       " 'https://www.amazon.in/Hontral-Childrens-Instrument-Educational-Beginners/dp/B0BD8Y1H78/ref=sr_1_14?crid=2UWVLRJ59OHLY&keywords=guitars&qid=1669037274&qu=eyJxc2MiOiI2LjAyIiwicXNhIjoiNS42MSIsInFzcCI6IjMuODUifQ%3D%3D&sprefix=%2Caps%2C179&sr=8-14',\n",
       " 'https://www.amazon.in/Fender-Dread-String-Acoustic-Guitar/dp/B07RM4B5LJ/ref=sxin_24?asc_contentid=amzn1.osa.39dd7fbf-afb9-4b33-a89b-5dc1ff018d2f.A21TJRUUN4KGV.en_IN&asc_contenttype=article&ascsubtag=amzn1.osa.39dd7fbf-afb9-4b33-a89b-5dc1ff018d2f.A21TJRUUN4KGV.en_IN&content-id=amzn1.sym.939c6bd1-1a0e-48f0-a138-af961f88b523%3Aamzn1.sym.939c6bd1-1a0e-48f0-a138-af961f88b523&creativeASIN=B07RM4B5LJ&crid=2UWVLRJ59OHLY&cv_ct_cx=guitars&cv_ct_id=amzn1.osa.39dd7fbf-afb9-4b33-a89b-5dc1ff018d2f.A21TJRUUN4KGV.en_IN&cv_ct_pg=search&cv_ct_we=asin&cv_ct_wn=osp-single-source-pecos-desktop&keywords=guitars&linkCode=oas&pd_rd_i=B07RM4B5LJ&pd_rd_r=8cbec6f0-fbc9-4486-905b-5bc417278a9d&pd_rd_w=qHF4N&pd_rd_wg=XpKOi&pf_rd_p=939c6bd1-1a0e-48f0-a138-af961f88b523&pf_rd_r=N4G7PRC49Q37802KF5JH&qid=1669037274&qu=eyJxc2MiOiI2LjAyIiwicXNhIjoiNS42MSIsInFzcCI6IjMuODUifQ%3D%3D&sprefix=%2Caps%2C179&sr=1-1-c84eb971-91f2-4a4d-acce-811265c24254&tag=sm-content-21',\n",
       " 'https://www.amazon.in/Yamaha-FS100C-Acoustic-Guitars-Natural/dp/B00QKD79QE/ref=sxin_24?asc_contentid=amzn1.osa.39dd7fbf-afb9-4b33-a89b-5dc1ff018d2f.A21TJRUUN4KGV.en_IN&asc_contenttype=article&ascsubtag=amzn1.osa.39dd7fbf-afb9-4b33-a89b-5dc1ff018d2f.A21TJRUUN4KGV.en_IN&content-id=amzn1.sym.939c6bd1-1a0e-48f0-a138-af961f88b523%3Aamzn1.sym.939c6bd1-1a0e-48f0-a138-af961f88b523&creativeASIN=B00QKD79QE&crid=2UWVLRJ59OHLY&cv_ct_cx=guitars&cv_ct_id=amzn1.osa.39dd7fbf-afb9-4b33-a89b-5dc1ff018d2f.A21TJRUUN4KGV.en_IN&cv_ct_pg=search&cv_ct_we=asin&cv_ct_wn=osp-single-source-pecos-desktop&keywords=guitars&linkCode=oas&pd_rd_i=B00QKD79QE&pd_rd_r=8cbec6f0-fbc9-4486-905b-5bc417278a9d&pd_rd_w=qHF4N&pd_rd_wg=XpKOi&pf_rd_p=939c6bd1-1a0e-48f0-a138-af961f88b523&pf_rd_r=N4G7PRC49Q37802KF5JH&qid=1669037274&qu=eyJxc2MiOiI2LjAyIiwicXNhIjoiNS42MSIsInFzcCI6IjMuODUifQ%3D%3D&sprefix=%2Caps%2C179&sr=1-2-c84eb971-91f2-4a4d-acce-811265c24254&tag=sm-content-21',\n",
       " 'https://www.amazon.in/Rosewood-Fretboard-Acoustic-Strings-K-Retail/dp/B07KLG8C4P/ref=sxin_24?asc_contentid=amzn1.osa.39dd7fbf-afb9-4b33-a89b-5dc1ff018d2f.A21TJRUUN4KGV.en_IN&asc_contenttype=article&ascsubtag=amzn1.osa.39dd7fbf-afb9-4b33-a89b-5dc1ff018d2f.A21TJRUUN4KGV.en_IN&content-id=amzn1.sym.939c6bd1-1a0e-48f0-a138-af961f88b523%3Aamzn1.sym.939c6bd1-1a0e-48f0-a138-af961f88b523&creativeASIN=B07KLG8C4P&crid=2UWVLRJ59OHLY&cv_ct_cx=guitars&cv_ct_id=amzn1.osa.39dd7fbf-afb9-4b33-a89b-5dc1ff018d2f.A21TJRUUN4KGV.en_IN&cv_ct_pg=search&cv_ct_we=asin&cv_ct_wn=osp-single-source-pecos-desktop&keywords=guitars&linkCode=oas&pd_rd_i=B07KLG8C4P&pd_rd_r=8cbec6f0-fbc9-4486-905b-5bc417278a9d&pd_rd_w=qHF4N&pd_rd_wg=XpKOi&pf_rd_p=939c6bd1-1a0e-48f0-a138-af961f88b523&pf_rd_r=N4G7PRC49Q37802KF5JH&qid=1669037274&qu=eyJxc2MiOiI2LjAyIiwicXNhIjoiNS42MSIsInFzcCI6IjMuODUifQ%3D%3D&sprefix=%2Caps%2C179&sr=1-3-c84eb971-91f2-4a4d-acce-811265c24254&tag=sm-content-21',\n",
       " 'https://www.amazon.in/Kadence-6-strings-Acoustic-Guitar-Natural/dp/B07JKYWGJN/ref=sxin_24?asc_contentid=amzn1.osa.39dd7fbf-afb9-4b33-a89b-5dc1ff018d2f.A21TJRUUN4KGV.en_IN&asc_contenttype=article&ascsubtag=amzn1.osa.39dd7fbf-afb9-4b33-a89b-5dc1ff018d2f.A21TJRUUN4KGV.en_IN&content-id=amzn1.sym.939c6bd1-1a0e-48f0-a138-af961f88b523%3Aamzn1.sym.939c6bd1-1a0e-48f0-a138-af961f88b523&creativeASIN=B07JKYWGJN&crid=2UWVLRJ59OHLY&cv_ct_cx=guitars&cv_ct_id=amzn1.osa.39dd7fbf-afb9-4b33-a89b-5dc1ff018d2f.A21TJRUUN4KGV.en_IN&cv_ct_pg=search&cv_ct_we=asin&cv_ct_wn=osp-single-source-pecos-desktop&keywords=guitars&linkCode=oas&pd_rd_i=B07JKYWGJN&pd_rd_r=8cbec6f0-fbc9-4486-905b-5bc417278a9d&pd_rd_w=qHF4N&pd_rd_wg=XpKOi&pf_rd_p=939c6bd1-1a0e-48f0-a138-af961f88b523&pf_rd_r=N4G7PRC49Q37802KF5JH&qid=1669037274&qu=eyJxc2MiOiI2LjAyIiwicXNhIjoiNS42MSIsInFzcCI6IjMuODUifQ%3D%3D&sprefix=%2Caps%2C179&sr=1-4-c84eb971-91f2-4a4d-acce-811265c24254&tag=sm-content-21',\n",
       " 'https://www.amazon.in/Yamaha-FS-100C-6-String-Acoustic-without/dp/B00PAS9CK6/ref=sr_1_15?crid=2UWVLRJ59OHLY&keywords=guitars&qid=1669037274&qu=eyJxc2MiOiI2LjAyIiwicXNhIjoiNS42MSIsInFzcCI6IjMuODUifQ%3D%3D&sprefix=%2Caps%2C179&sr=8-15',\n",
       " 'https://www.amazon.in/Juarez-Acoustic-Guitar-Cutaway-Strings/dp/B075XMRKMY/ref=sr_1_16?crid=2UWVLRJ59OHLY&keywords=guitars&qid=1669037274&qu=eyJxc2MiOiI2LjAyIiwicXNhIjoiNS42MSIsInFzcCI6IjMuODUifQ%3D%3D&sprefix=%2Caps%2C179&sr=8-16',\n",
       " 'https://www.amazon.in/Intern-INT-38C-BK-G-Guitar-Kit-Black/dp/B07K9497RC/ref=sr_1_17?crid=2UWVLRJ59OHLY&keywords=guitars&qid=1669037274&qu=eyJxc2MiOiI2LjAyIiwicXNhIjoiNS42MSIsInFzcCI6IjMuODUifQ%3D%3D&sprefix=%2Caps%2C179&sr=8-17',\n",
       " 'https://www.amazon.in/Acoustic-Instrument-Educational-Beginners-Multicolor/dp/B0BCZ9GQQP/ref=sr_1_18?crid=2UWVLRJ59OHLY&keywords=guitars&qid=1669037274&qu=eyJxc2MiOiI2LjAyIiwicXNhIjoiNS42MSIsInFzcCI6IjMuODUifQ%3D%3D&sprefix=%2Caps%2C179&sr=8-18',\n",
       " 'https://www.amazon.in/Juarez-Acoustic-Guitar-Cutaway-Strings/dp/B084VRCCN7/ref=sr_1_19?crid=2UWVLRJ59OHLY&keywords=guitars&qid=1669037274&qu=eyJxc2MiOiI2LjAyIiwicXNhIjoiNS42MSIsInFzcCI6IjMuODUifQ%3D%3D&sprefix=%2Caps%2C179&sr=8-19',\n",
       " 'https://www.amazon.in/Kadence-Frontier-Acoustic-Guitar-Strings/dp/B078GTJP5Y/ref=sr_1_20?crid=2UWVLRJ59OHLY&keywords=guitars&qid=1669037274&qu=eyJxc2MiOiI2LjAyIiwicXNhIjoiNS42MSIsInFzcCI6IjMuODUifQ%3D%3D&sprefix=%2Caps%2C179&sr=8-20',\n",
       " 'https://www.amazon.in/sspa/click?ie=UTF8&spc=MTo0OTU3OTkwMDcyMjg1MDI6MTY2OTAzNzI3NDpzcF9tdGY6MjAwNzgzMzY4ODc0OTg6OjA6Og&url=%2FBlueberry-B-D38-Acoustic-Inbuilt-Strings%2Fdp%2FB07PHYZZP1%2Fref%3Dsr_1_21_sspa%3Fcrid%3D2UWVLRJ59OHLY%26keywords%3Dguitars%26qid%3D1669037274%26qu%3DeyJxc2MiOiI2LjAyIiwicXNhIjoiNS42MSIsInFzcCI6IjMuODUifQ%253D%253D%26sprefix%3D%252Caps%252C179%26sr%3D8-21-spons%26sp_csd%3Dd2lkZ2V0TmFtZT1zcF9tdGY%26psc%3D1',\n",
       " 'https://www.amazon.in/sspa/click?ie=UTF8&spc=MTo0OTU3OTkwMDcyMjg1MDI6MTY2OTAzNzI3NDpzcF9tdGY6MjAwMzI0NDA0Nzk3OTg6OjA6Og&url=%2FLUCHILA-Childrens-Instrument-Educational-Beginners%2Fdp%2FB09T3Q72CJ%2Fref%3Dsr_1_22_sspa%3Fcrid%3D2UWVLRJ59OHLY%26keywords%3Dguitars%26qid%3D1669037274%26qu%3DeyJxc2MiOiI2LjAyIiwicXNhIjoiNS42MSIsInFzcCI6IjMuODUifQ%253D%253D%26sprefix%3D%252Caps%252C179%26sr%3D8-22-spons%26sp_csd%3Dd2lkZ2V0TmFtZT1zcF9tdGY%26psc%3D1',\n",
       " 'https://www.amazon.in/sspa/click?ie=UTF8&spc=MTo0OTU3OTkwMDcyMjg1MDI6MTY2OTAzNzI3NDpzcF9tdGY6MjAwOTI2MjQwMjE2OTg6OjA6Og&url=%2FVault-PA36-Parlor-Acoustic-Guitar%2Fdp%2FB0BJK1332J%2Fref%3Dsr_1_23_sspa%3Fcrid%3D2UWVLRJ59OHLY%26keywords%3Dguitars%26qid%3D1669037274%26qu%3DeyJxc2MiOiI2LjAyIiwicXNhIjoiNS42MSIsInFzcCI6IjMuODUifQ%253D%253D%26sprefix%3D%252Caps%252C179%26sr%3D8-23-spons%26sp_csd%3Dd2lkZ2V0TmFtZT1zcF9tdGY%26psc%3D1',\n",
       " 'https://www.amazon.in/sspa/click?ie=UTF8&spc=MTo0OTU3OTkwMDcyMjg1MDI6MTY2OTAzNzI3NDpzcF9tdGY6MjAwNzgzMzY4ODUyOTg6OjA6Og&url=%2FBlueberry-R-40-Acoustic-Inbuilt-Redburst%2Fdp%2FB09YDH39TB%2Fref%3Dsr_1_24_sspa%3Fcrid%3D2UWVLRJ59OHLY%26keywords%3Dguitars%26qid%3D1669037274%26qu%3DeyJxc2MiOiI2LjAyIiwicXNhIjoiNS42MSIsInFzcCI6IjMuODUifQ%253D%253D%26sprefix%3D%252Caps%252C179%26sr%3D8-24-spons%26sp_csd%3Dd2lkZ2V0TmFtZT1zcF9tdGY%26psc%3D1',\n",
       " 'https://www.amazon.in/Tanglewood-Electro-Acoustic-Guitar-Antique-Violin/dp/B0971762X2/ref=sr_1_25?crid=2UWVLRJ59OHLY&keywords=guitars&qid=1669037274&qu=eyJxc2MiOiI2LjAyIiwicXNhIjoiNS42MSIsInFzcCI6IjMuODUifQ%3D%3D&sprefix=%2Caps%2C179&sr=8-25',\n",
       " 'https://www.amazon.in/Yamaha-Acoustic-Guitar-Tobacco-Sunburst/dp/B08VXR74Q2/ref=sr_1_26?crid=2UWVLRJ59OHLY&keywords=guitars&qid=1669037274&qu=eyJxc2MiOiI2LjAyIiwicXNhIjoiNS42MSIsInFzcCI6IjMuODUifQ%3D%3D&sprefix=%2Caps%2C179&sr=8-26',\n",
       " 'https://www.amazon.in/Blueberry-Beginner-Rosewood-Electric-Strings/dp/B0B71VMZPG/ref=sr_1_27?crid=2UWVLRJ59OHLY&keywords=guitars&qid=1669037274&qu=eyJxc2MiOiI2LjAyIiwicXNhIjoiNS42MSIsInFzcCI6IjMuODUifQ%3D%3D&sprefix=%2Caps%2C179&sr=8-27',\n",
       " 'https://www.amazon.in/Henrix-Acoustic-Guitar-Die-cast-Dual-action/dp/B07VNDW6QF/ref=sr_1_28?crid=2UWVLRJ59OHLY&keywords=guitars&qid=1669037274&qu=eyJxc2MiOiI2LjAyIiwicXNhIjoiNS42MSIsInFzcCI6IjMuODUifQ%3D%3D&sprefix=%2Caps%2C179&sr=8-28',\n",
       " 'https://www.amazon.in/Enterprise-Acoustic-Instrument-Educational-Beginners/dp/B0B46LBJQZ/ref=sr_1_29?crid=2UWVLRJ59OHLY&keywords=guitars&qid=1669037274&qu=eyJxc2MiOiI2LjAyIiwicXNhIjoiNS42MSIsInFzcCI6IjMuODUifQ%3D%3D&sprefix=%2Caps%2C179&sr=8-29',\n",
       " 'https://www.amazon.in/YAMAHA-NATURAL-CONCERT-CUTAWAY-GUITAR/dp/B08KW4DRKL/ref=sr_1_30?crid=2UWVLRJ59OHLY&keywords=guitars&qid=1669037274&qu=eyJxc2MiOiI2LjAyIiwicXNhIjoiNS42MSIsInFzcCI6IjMuODUifQ%3D%3D&sprefix=%2Caps%2C179&sr=8-30',\n",
       " 'https://www.amazon.in/FX280-acoustic-Dreadnought-Tobacco-Sunburst/dp/B09HR7BXGW/ref=sr_1_31?crid=2UWVLRJ59OHLY&keywords=guitars&qid=1669037274&qu=eyJxc2MiOiI2LjAyIiwicXNhIjoiNS42MSIsInFzcCI6IjMuODUifQ%3D%3D&sprefix=%2Caps%2C179&sr=8-31',\n",
       " 'https://www.amazon.in/Carlton-Rosewood-Fretboard-Acoustic-K-Retail/dp/B07KK8P9VB/ref=sr_1_32?crid=2UWVLRJ59OHLY&keywords=guitars&qid=1669037274&qu=eyJxc2MiOiI2LjAyIiwicXNhIjoiNS42MSIsInFzcCI6IjMuODUifQ%3D%3D&sprefix=%2Caps%2C179&sr=8-32',\n",
       " 'https://www.amazon.in/Yamaha-FX280-acoustic-Dreadnought-Natural/dp/B09HR6BNFQ/ref=sr_1_33?crid=2UWVLRJ59OHLY&keywords=guitars&qid=1669037274&qu=eyJxc2MiOiI2LjAyIiwicXNhIjoiNS42MSIsInFzcCI6IjMuODUifQ%3D%3D&sprefix=%2Caps%2C179&sr=8-33',\n",
       " 'https://www.amazon.in/Creation-4-String-Instrument-Learning-Toy/dp/B0BD92RXDB/ref=sr_1_34?crid=2UWVLRJ59OHLY&keywords=guitars&qid=1669037274&qu=eyJxc2MiOiI2LjAyIiwicXNhIjoiNS42MSIsInFzcCI6IjMuODUifQ%3D%3D&sprefix=%2Caps%2C179&sr=8-34',\n",
       " 'https://www.amazon.in/Medellin-carbn-fiber-guitar-38inch/dp/B09MSGVCDV/ref=sr_1_35?crid=2UWVLRJ59OHLY&keywords=guitars&qid=1669037274&qu=eyJxc2MiOiI2LjAyIiwicXNhIjoiNS42MSIsInFzcCI6IjMuODUifQ%3D%3D&sprefix=%2Caps%2C179&sr=8-35',\n",
       " 'https://www.amazon.in/Intern-38-inch-Cutaway-Design-Acoustic/dp/B07X4PN85R/ref=sr_1_36?crid=2UWVLRJ59OHLY&keywords=guitars&qid=1669037274&qu=eyJxc2MiOiI2LjAyIiwicXNhIjoiNS42MSIsInFzcCI6IjMuODUifQ%3D%3D&sprefix=%2Caps%2C179&sr=8-36',\n",
       " 'https://www.amazon.in/Juarez-Acoustic-Cutaway-BK-Strings/dp/B076T3RHMG/ref=sr_1_37?crid=2UWVLRJ59OHLY&keywords=guitars&qid=1669037274&qu=eyJxc2MiOiI2LjAyIiwicXNhIjoiNS42MSIsInFzcCI6IjMuODUifQ%3D%3D&sprefix=%2Caps%2C179&sr=8-37',\n",
       " 'https://www.amazon.in/Yamaha-FSX80C-Acoustic-Cutaway-Natural/dp/B09HL3GFZF/ref=sr_1_38?crid=2UWVLRJ59OHLY&keywords=guitars&qid=1669037274&qu=eyJxc2MiOiI2LjAyIiwicXNhIjoiNS42MSIsInFzcCI6IjMuODUifQ%3D%3D&sprefix=%2Caps%2C179&sr=8-38',\n",
       " 'https://www.amazon.in/Blueberry-Beginner-Rosewood-Electric-Strings/dp/B0BLYP3Q6S/ref=sr_1_39?crid=2UWVLRJ59OHLY&keywords=guitars&qid=1669037274&qu=eyJxc2MiOiI2LjAyIiwicXNhIjoiNS42MSIsInFzcCI6IjMuODUifQ%3D%3D&sprefix=%2Caps%2C179&sr=8-39',\n",
       " 'https://www.amazon.in/Firevally-Childrens-Instrument-Educational-Instruments/dp/B0BL15WBRS/ref=sr_1_40?crid=2UWVLRJ59OHLY&keywords=guitars&qid=1669037274&qu=eyJxc2MiOiI2LjAyIiwicXNhIjoiNS42MSIsInFzcCI6IjMuODUifQ%3D%3D&sprefix=%2Caps%2C179&sr=8-40',\n",
       " 'https://www.amazon.in/Medellin-carbn-guitar-38inch-NATURAL/dp/B09MSHD6TS/ref=sr_1_41?crid=2UWVLRJ59OHLY&keywords=guitars&qid=1669037274&qu=eyJxc2MiOiI2LjAyIiwicXNhIjoiNS42MSIsInFzcCI6IjMuODUifQ%3D%3D&sprefix=%2Caps%2C179&sr=8-41',\n",
       " 'https://www.amazon.in/JUAREZ-Arpeggio-Acoustic-Rosewood-Fretboard/dp/B08LBJ8PTM/ref=sr_1_42?crid=2UWVLRJ59OHLY&keywords=guitars&qid=1669037274&qu=eyJxc2MiOiI2LjAyIiwicXNhIjoiNS42MSIsInFzcCI6IjMuODUifQ%3D%3D&sprefix=%2Caps%2C179&sr=8-42',\n",
       " 'https://www.amazon.in/Blueberry-38C-Acoustic-Guitar-Strings/dp/B08KLMV4XX/ref=sr_1_43?crid=2UWVLRJ59OHLY&keywords=guitars&qid=1669037274&qu=eyJxc2MiOiI2LjAyIiwicXNhIjoiNS42MSIsInFzcCI6IjMuODUifQ%3D%3D&sprefix=%2Caps%2C179&sr=8-43',\n",
       " 'https://www.amazon.in/JUAREZ-JRB40LN-3TS-Arpeggio-Guitar/dp/B08MW8F9VS/ref=sr_1_44?crid=2UWVLRJ59OHLY&keywords=guitars&qid=1669037274&qu=eyJxc2MiOiI2LjAyIiwicXNhIjoiNS42MSIsInFzcCI6IjMuODUifQ%3D%3D&sprefix=%2Caps%2C179&sr=8-44',\n",
       " 'https://www.amazon.in/Yamaha-FSX80C-Acoustic-Cutaway-Guitar/dp/B09HL5WFDX/ref=sr_1_45?crid=2UWVLRJ59OHLY&keywords=guitars&qid=1669037274&qu=eyJxc2MiOiI2LjAyIiwicXNhIjoiNS42MSIsInFzcCI6IjMuODUifQ%3D%3D&sprefix=%2Caps%2C179&sr=8-45',\n",
       " 'https://www.amazon.in/Kadence-Frontier-Acoustic-Guitar-Strings/dp/B01CJJG328/ref=sr_1_46?crid=2UWVLRJ59OHLY&keywords=guitars&qid=1669037274&qu=eyJxc2MiOiI2LjAyIiwicXNhIjoiNS42MSIsInFzcCI6IjMuODUifQ%3D%3D&sprefix=%2Caps%2C179&sr=8-46',\n",
       " 'https://www.amazon.in/215-Rosewood-Fretboard-Acoustic-K-Retail/dp/B08RCRJ8SK/ref=sr_1_47?crid=2UWVLRJ59OHLY&keywords=guitars&qid=1669037274&qu=eyJxc2MiOiI2LjAyIiwicXNhIjoiNS42MSIsInFzcCI6IjMuODUifQ%3D%3D&sprefix=%2Caps%2C179&sr=8-47',\n",
       " 'https://www.amazon.in/Bestonl-Childrens-Instrument-Educational-Beginners/dp/B0BDG13QZS/ref=sr_1_48?crid=2UWVLRJ59OHLY&keywords=guitars&qid=1669037274&qu=eyJxc2MiOiI2LjAyIiwicXNhIjoiNS42MSIsInFzcCI6IjMuODUifQ%3D%3D&sprefix=%2Caps%2C179&sr=8-48',\n",
       " 'https://www.amazon.in/JUAREZ-JRZ38C-Acoustic-Natural-Strings/dp/B01FYYTDWC/ref=sr_1_49?crid=2UWVLRJ59OHLY&keywords=guitars&qid=1669037274&qu=eyJxc2MiOiI2LjAyIiwicXNhIjoiNS42MSIsInFzcCI6IjMuODUifQ%3D%3D&sprefix=%2Caps%2C179&sr=8-49',\n",
       " 'https://www.amazon.in/MUSICALS%C2%AE-Guitar-Including-Strings-remover/dp/B082Q6C28F/ref=sr_1_50?crid=2UWVLRJ59OHLY&keywords=guitars&qid=1669037274&qu=eyJxc2MiOiI2LjAyIiwicXNhIjoiNS42MSIsInFzcCI6IjMuODUifQ%3D%3D&sprefix=%2Caps%2C179&sr=8-50',\n",
       " 'https://www.amazon.in/Ju%C3%A2rez-JRZ38C-WH-Strings-Acoustic/dp/B072MFK4L6/ref=sr_1_51?crid=2UWVLRJ59OHLY&keywords=guitars&qid=1669037274&qu=eyJxc2MiOiI2LjAyIiwicXNhIjoiNS42MSIsInFzcCI6IjMuODUifQ%3D%3D&sprefix=%2Caps%2C179&sr=8-51',\n",
       " 'https://www.amazon.in/Medellin-Acoustic-Guitar-Online-Learning/dp/B0BMKQNWM2/ref=sr_1_52?crid=2UWVLRJ59OHLY&keywords=guitars&qid=1669037274&qu=eyJxc2MiOiI2LjAyIiwicXNhIjoiNS42MSIsInFzcCI6IjMuODUifQ%3D%3D&sprefix=%2Caps%2C179&sr=8-52',\n",
       " 'https://www.amazon.in/Tanglewood-Crossroads-TWCR-SFCE-Acoustic/dp/B01M7R9JOT/ref=sr_1_53?crid=2UWVLRJ59OHLY&keywords=guitars&qid=1669037274&qu=eyJxc2MiOiI2LjAyIiwicXNhIjoiNS42MSIsInFzcCI6IjMuODUifQ%3D%3D&sprefix=%2Caps%2C179&sr=8-53',\n",
       " 'https://www.amazon.in/Belear-I280-Black-Matt-Acoustic/dp/B0BHTBLQGZ/ref=sr_1_54?crid=2UWVLRJ59OHLY&keywords=guitars&qid=1669037274&qu=eyJxc2MiOiI2LjAyIiwicXNhIjoiNS42MSIsInFzcCI6IjMuODUifQ%3D%3D&sprefix=%2Caps%2C179&sr=8-54',\n",
       " 'https://www.amazon.in/Blueberry-38C-Acoustic-Strings-Natural/dp/B08KLNFL2Y/ref=sr_1_55?crid=2UWVLRJ59OHLY&keywords=guitars&qid=1669037274&qu=eyJxc2MiOiI2LjAyIiwicXNhIjoiNS42MSIsInFzcCI6IjMuODUifQ%3D%3D&sprefix=%2Caps%2C179&sr=8-55',\n",
       " 'https://www.amazon.in/JUAREZ-Acoustic-Guitar-String-JRGSE32/dp/B08MW1WPW5/ref=sr_1_56?crid=2UWVLRJ59OHLY&keywords=guitars&qid=1669037274&qu=eyJxc2MiOiI2LjAyIiwicXNhIjoiNS42MSIsInFzcCI6IjMuODUifQ%3D%3D&sprefix=%2Caps%2C179&sr=8-56',\n",
       " 'https://www.amazon.in/sspa/click?ie=UTF8&spc=MTo0OTU3OTkwMDcyMjg1MDI6MTY2OTAzNzI3NDpzcF9idGY6MjAwNzgzMzY4ODUxOTg6OjA6Og&url=%2FBlueberry-Acoustic-Inbuilt-Strings-Classic%2Fdp%2FB09VLF8B8G%2Fref%3Dsr_1_57_sspa%3Fcrid%3D2UWVLRJ59OHLY%26keywords%3Dguitars%26qid%3D1669037274%26qu%3DeyJxc2MiOiI2LjAyIiwicXNhIjoiNS42MSIsInFzcCI6IjMuODUifQ%253D%253D%26sprefix%3D%252Caps%252C179%26sr%3D8-57-spons%26sp_csd%3Dd2lkZ2V0TmFtZT1zcF9idGY%26psc%3D1',\n",
       " 'https://www.amazon.in/sspa/click?ie=UTF8&spc=MTo0OTU3OTkwMDcyMjg1MDI6MTY2OTAzNzI3NDpzcF9idGY6MjAwNzgzMzY4ODQ5OTg6OjA6Og&url=%2FBlueberry-B-38C-Brown-Acoustic-Guitar-Strings%2Fdp%2FB0B71BHDGQ%2Fref%3Dsr_1_58_sspa%3Fcrid%3D2UWVLRJ59OHLY%26keywords%3Dguitars%26qid%3D1669037274%26qu%3DeyJxc2MiOiI2LjAyIiwicXNhIjoiNS42MSIsInFzcCI6IjMuODUifQ%253D%253D%26sprefix%3D%252Caps%252C179%26sr%3D8-58-spons%26sp_csd%3Dd2lkZ2V0TmFtZT1zcF9idGY%26psc%3D1',\n",
       " 'https://www.amazon.in/sspa/click?ie=UTF8&spc=MTo0OTU3OTkwMDcyMjg1MDI6MTY2OTAzNzI3NDpzcF9idGY6MjAwNzk5Nzk1OTI0OTg6OjA6Og&url=%2FHontral-Childrens-Instrument-Educational-Beginners%2Fdp%2FB0BD8Y1H78%2Fref%3Dsr_1_59_sspa%3Fcrid%3D2UWVLRJ59OHLY%26keywords%3Dguitars%26qid%3D1669037274%26qu%3DeyJxc2MiOiI2LjAyIiwicXNhIjoiNS42MSIsInFzcCI6IjMuODUifQ%253D%253D%26sprefix%3D%252Caps%252C179%26sr%3D8-59-spons%26sp_csd%3Dd2lkZ2V0TmFtZT1zcF9idGY%26psc%3D1',\n",
       " 'https://www.amazon.in/sspa/click?ie=UTF8&spc=MTo0OTU3OTkwMDcyMjg1MDI6MTY2OTAzNzI3NDpzcF9idGY6MjAwNzgzMzY4ODg4OTg6OjA6Og&url=%2FBlueberry-38C-Acoustic-Guitar-Strings%2Fdp%2FB08KLMV4XX%2Fref%3Dsr_1_60_sspa%3Fcrid%3D2UWVLRJ59OHLY%26keywords%3Dguitars%26qid%3D1669037274%26qu%3DeyJxc2MiOiI2LjAyIiwicXNhIjoiNS42MSIsInFzcCI6IjMuODUifQ%253D%253D%26sprefix%3D%252Caps%252C179%26sr%3D8-60-spons%26sp_csd%3Dd2lkZ2V0TmFtZT1zcF9idGY%26psc%3D1',\n",
       " 'https://www.amazon.in/sspa/click?ie=UTF8&spc=MTo0OTU3OTkwMDcyMjg1MDI6MTY2OTAzNzI3NDpzcF9hdGY6MjAwNTcxOTMwNTYyMDQ6OjA6Og&url=%2FKadence-Slowhand-Premium-Acoustic-Instrument%2Fdp%2FB077SZ667X%2Fref%3Dsr_1_1_sspa%3Fcrid%3D2UWVLRJ59OHLY%26keywords%3Dguitars%26qid%3D1669037274%26qu%3DeyJxc2MiOiI2LjAyIiwicXNhIjoiNS42MSIsInFzcCI6IjMuODUifQ%253D%253D%26sprefix%3D%252Caps%252C179%26sr%3D8-1-spons%26sp_csd%3Dd2lkZ2V0TmFtZT1zcF9hdGY%26psc%3D1',\n",
       " 'https://www.amazon.in/sspa/click?ie=UTF8&spc=MTo0OTU3OTkwMDcyMjg1MDI6MTY2OTAzNzI3NDpzcF9hdGY6MjAwOTI5NTUyOTAxOTg6OjA6Og&url=%2FGibzs-38-C-Acoustic-Guitar-Black%2Fdp%2FB07LH8P4XK%2Fref%3Dsr_1_2_sspa%3Fcrid%3D2UWVLRJ59OHLY%26keywords%3Dguitars%26qid%3D1669037274%26qu%3DeyJxc2MiOiI2LjAyIiwicXNhIjoiNS42MSIsInFzcCI6IjMuODUifQ%253D%253D%26sprefix%3D%252Caps%252C179%26sr%3D8-2-spons%26sp_csd%3Dd2lkZ2V0TmFtZT1zcF9hdGY%26psc%3D1',\n",
       " 'https://www.amazon.in/sspa/click?ie=UTF8&spc=MTo0OTU3OTkwMDcyMjg1MDI6MTY2OTAzNzI3NDpzcF9hdGY6MjAwOTI2MjQwMjE0OTg6OjA6Og&url=%2FPremium-Spruce-Top-Dreadnought-Acoustic-Guitar%2Fdp%2FB0BJK1CWSN%2Fref%3Dsr_1_3_sspa%3Fcrid%3D2UWVLRJ59OHLY%26keywords%3Dguitars%26qid%3D1669037274%26qu%3DeyJxc2MiOiI2LjAyIiwicXNhIjoiNS42MSIsInFzcCI6IjMuODUifQ%253D%253D%26sprefix%3D%252Caps%252C179%26sr%3D8-3-spons%26sp_csd%3Dd2lkZ2V0TmFtZT1zcF9hdGY%26psc%3D1',\n",
       " 'https://www.amazon.in/sspa/click?ie=UTF8&spc=MTo0OTU3OTkwMDcyMjg1MDI6MTY2OTAzNzI3NDpzcF9hdGY6MjAwNzgzMzY4ODgyOTg6OjA6Og&url=%2FFestra-38C-Acoustic-Strings-Natural%2Fdp%2FB09JT6C952%2Fref%3Dsr_1_4_sspa%3Fcrid%3D2UWVLRJ59OHLY%26keywords%3Dguitars%26qid%3D1669037274%26qu%3DeyJxc2MiOiI2LjAyIiwicXNhIjoiNS42MSIsInFzcCI6IjMuODUifQ%253D%253D%26sprefix%3D%252Caps%252C179%26sr%3D8-4-spons%26sp_csd%3Dd2lkZ2V0TmFtZT1zcF9hdGY%26psc%3D1',\n",
       " 'https://www.amazon.in/Juarez-Acoustic-Cutaway-038C-Strings/dp/B017NPCSLI/ref=sr_1_5?crid=2UWVLRJ59OHLY&keywords=guitars&qid=1669037274&qu=eyJxc2MiOiI2LjAyIiwicXNhIjoiNS42MSIsInFzcCI6IjMuODUifQ%3D%3D&sprefix=%2Caps%2C179&sr=8-5',\n",
       " 'https://www.amazon.in/Strings-Acoustic-Students-Beginners-I6943SU/dp/B0BMPYQBHJ/ref=sr_1_omk_6?crid=2UWVLRJ59OHLY&keywords=guitars&qid=1669037274&qu=eyJxc2MiOiI2LjAyIiwicXNhIjoiNS42MSIsInFzcCI6IjMuODUifQ%3D%3D&sprefix=%2Caps%2C179&sr=8-6',\n",
       " 'https://www.amazon.in/Intern-INT-38C-Acoustic-Guitar-Black/dp/B073B6TQQY/ref=sr_1_7?crid=2UWVLRJ59OHLY&keywords=guitars&qid=1669037274&qu=eyJxc2MiOiI2LjAyIiwicXNhIjoiNS42MSIsInFzcCI6IjMuODUifQ%3D%3D&sprefix=%2Caps%2C179&sr=8-7',\n",
       " 'https://www.amazon.in/Intern-INT-38C-Acoustic-Guitar-Blue/dp/B073B5RZBV/ref=sr_1_8?crid=2UWVLRJ59OHLY&keywords=guitars&qid=1669037274&qu=eyJxc2MiOiI2LjAyIiwicXNhIjoiNS42MSIsInFzcCI6IjMuODUifQ%3D%3D&sprefix=%2Caps%2C179&sr=8-8',\n",
       " 'https://www.amazon.in/JUAREZ-JRZ38C-Acoustic-Sunburst-Strings/dp/B01FYYTDS6/ref=sr_1_9?crid=2UWVLRJ59OHLY&keywords=guitars&qid=1669037274&qu=eyJxc2MiOiI2LjAyIiwicXNhIjoiNS42MSIsInFzcCI6IjMuODUifQ%3D%3D&sprefix=%2Caps%2C179&sr=8-9',\n",
       " 'https://www.amazon.in/JUAREZ-JRZ38C-Acoustic-Sunburst-Strings/dp/B01FYYTDTU/ref=sr_1_10?crid=2UWVLRJ59OHLY&keywords=guitars&qid=1669037274&qu=eyJxc2MiOiI2LjAyIiwicXNhIjoiNS42MSIsInFzcCI6IjMuODUifQ%3D%3D&sprefix=%2Caps%2C179&sr=8-10',\n",
       " 'https://www.amazon.in/Intern-INT-38C-Acoustic-Guitar-Sunburst/dp/B073B5MJRM/ref=sr_1_11?crid=2UWVLRJ59OHLY&keywords=guitars&qid=1669037274&qu=eyJxc2MiOiI2LjAyIiwicXNhIjoiNS42MSIsInFzcCI6IjMuODUifQ%3D%3D&sprefix=%2Caps%2C179&sr=8-11',\n",
       " 'https://www.amazon.in/Juarez-Acoustic-Guitar-Cutaway-Strings/dp/B076QHZ4HZ/ref=sr_1_12?crid=2UWVLRJ59OHLY&keywords=guitars&qid=1669037274&qu=eyJxc2MiOiI2LjAyIiwicXNhIjoiNS42MSIsInFzcCI6IjMuODUifQ%3D%3D&sprefix=%2Caps%2C179&sr=8-12',\n",
       " 'https://www.amazon.in/Yamaha-F280-Acoustic-Guitar-Natural/dp/B08317Y4VP/ref=sr_1_13?crid=2UWVLRJ59OHLY&keywords=guitars&qid=1669037274&qu=eyJxc2MiOiI2LjAyIiwicXNhIjoiNS42MSIsInFzcCI6IjMuODUifQ%3D%3D&sprefix=%2Caps%2C179&sr=8-13',\n",
       " 'https://www.amazon.in/Hontral-Childrens-Instrument-Educational-Beginners/dp/B0BD8Y1H78/ref=sr_1_14?crid=2UWVLRJ59OHLY&keywords=guitars&qid=1669037274&qu=eyJxc2MiOiI2LjAyIiwicXNhIjoiNS42MSIsInFzcCI6IjMuODUifQ%3D%3D&sprefix=%2Caps%2C179&sr=8-14',\n",
       " 'https://www.amazon.in/Fender-Dread-String-Acoustic-Guitar/dp/B07RM4B5LJ/ref=sxin_24?asc_contentid=amzn1.osa.39dd7fbf-afb9-4b33-a89b-5dc1ff018d2f.A21TJRUUN4KGV.en_IN&asc_contenttype=article&ascsubtag=amzn1.osa.39dd7fbf-afb9-4b33-a89b-5dc1ff018d2f.A21TJRUUN4KGV.en_IN&content-id=amzn1.sym.939c6bd1-1a0e-48f0-a138-af961f88b523%3Aamzn1.sym.939c6bd1-1a0e-48f0-a138-af961f88b523&creativeASIN=B07RM4B5LJ&crid=2UWVLRJ59OHLY&cv_ct_cx=guitars&cv_ct_id=amzn1.osa.39dd7fbf-afb9-4b33-a89b-5dc1ff018d2f.A21TJRUUN4KGV.en_IN&cv_ct_pg=search&cv_ct_we=asin&cv_ct_wn=osp-single-source-pecos-desktop&keywords=guitars&linkCode=oas&pd_rd_i=B07RM4B5LJ&pd_rd_r=8cbec6f0-fbc9-4486-905b-5bc417278a9d&pd_rd_w=qHF4N&pd_rd_wg=XpKOi&pf_rd_p=939c6bd1-1a0e-48f0-a138-af961f88b523&pf_rd_r=N4G7PRC49Q37802KF5JH&qid=1669037274&qu=eyJxc2MiOiI2LjAyIiwicXNhIjoiNS42MSIsInFzcCI6IjMuODUifQ%3D%3D&sprefix=%2Caps%2C179&sr=1-1-c84eb971-91f2-4a4d-acce-811265c24254&tag=sm-content-21',\n",
       " 'https://www.amazon.in/Yamaha-FS100C-Acoustic-Guitars-Natural/dp/B00QKD79QE/ref=sxin_24?asc_contentid=amzn1.osa.39dd7fbf-afb9-4b33-a89b-5dc1ff018d2f.A21TJRUUN4KGV.en_IN&asc_contenttype=article&ascsubtag=amzn1.osa.39dd7fbf-afb9-4b33-a89b-5dc1ff018d2f.A21TJRUUN4KGV.en_IN&content-id=amzn1.sym.939c6bd1-1a0e-48f0-a138-af961f88b523%3Aamzn1.sym.939c6bd1-1a0e-48f0-a138-af961f88b523&creativeASIN=B00QKD79QE&crid=2UWVLRJ59OHLY&cv_ct_cx=guitars&cv_ct_id=amzn1.osa.39dd7fbf-afb9-4b33-a89b-5dc1ff018d2f.A21TJRUUN4KGV.en_IN&cv_ct_pg=search&cv_ct_we=asin&cv_ct_wn=osp-single-source-pecos-desktop&keywords=guitars&linkCode=oas&pd_rd_i=B00QKD79QE&pd_rd_r=8cbec6f0-fbc9-4486-905b-5bc417278a9d&pd_rd_w=qHF4N&pd_rd_wg=XpKOi&pf_rd_p=939c6bd1-1a0e-48f0-a138-af961f88b523&pf_rd_r=N4G7PRC49Q37802KF5JH&qid=1669037274&qu=eyJxc2MiOiI2LjAyIiwicXNhIjoiNS42MSIsInFzcCI6IjMuODUifQ%3D%3D&sprefix=%2Caps%2C179&sr=1-2-c84eb971-91f2-4a4d-acce-811265c24254&tag=sm-content-21',\n",
       " 'https://www.amazon.in/Rosewood-Fretboard-Acoustic-Strings-K-Retail/dp/B07KLG8C4P/ref=sxin_24?asc_contentid=amzn1.osa.39dd7fbf-afb9-4b33-a89b-5dc1ff018d2f.A21TJRUUN4KGV.en_IN&asc_contenttype=article&ascsubtag=amzn1.osa.39dd7fbf-afb9-4b33-a89b-5dc1ff018d2f.A21TJRUUN4KGV.en_IN&content-id=amzn1.sym.939c6bd1-1a0e-48f0-a138-af961f88b523%3Aamzn1.sym.939c6bd1-1a0e-48f0-a138-af961f88b523&creativeASIN=B07KLG8C4P&crid=2UWVLRJ59OHLY&cv_ct_cx=guitars&cv_ct_id=amzn1.osa.39dd7fbf-afb9-4b33-a89b-5dc1ff018d2f.A21TJRUUN4KGV.en_IN&cv_ct_pg=search&cv_ct_we=asin&cv_ct_wn=osp-single-source-pecos-desktop&keywords=guitars&linkCode=oas&pd_rd_i=B07KLG8C4P&pd_rd_r=8cbec6f0-fbc9-4486-905b-5bc417278a9d&pd_rd_w=qHF4N&pd_rd_wg=XpKOi&pf_rd_p=939c6bd1-1a0e-48f0-a138-af961f88b523&pf_rd_r=N4G7PRC49Q37802KF5JH&qid=1669037274&qu=eyJxc2MiOiI2LjAyIiwicXNhIjoiNS42MSIsInFzcCI6IjMuODUifQ%3D%3D&sprefix=%2Caps%2C179&sr=1-3-c84eb971-91f2-4a4d-acce-811265c24254&tag=sm-content-21',\n",
       " 'https://www.amazon.in/Kadence-6-strings-Acoustic-Guitar-Natural/dp/B07JKYWGJN/ref=sxin_24?asc_contentid=amzn1.osa.39dd7fbf-afb9-4b33-a89b-5dc1ff018d2f.A21TJRUUN4KGV.en_IN&asc_contenttype=article&ascsubtag=amzn1.osa.39dd7fbf-afb9-4b33-a89b-5dc1ff018d2f.A21TJRUUN4KGV.en_IN&content-id=amzn1.sym.939c6bd1-1a0e-48f0-a138-af961f88b523%3Aamzn1.sym.939c6bd1-1a0e-48f0-a138-af961f88b523&creativeASIN=B07JKYWGJN&crid=2UWVLRJ59OHLY&cv_ct_cx=guitars&cv_ct_id=amzn1.osa.39dd7fbf-afb9-4b33-a89b-5dc1ff018d2f.A21TJRUUN4KGV.en_IN&cv_ct_pg=search&cv_ct_we=asin&cv_ct_wn=osp-single-source-pecos-desktop&keywords=guitars&linkCode=oas&pd_rd_i=B07JKYWGJN&pd_rd_r=8cbec6f0-fbc9-4486-905b-5bc417278a9d&pd_rd_w=qHF4N&pd_rd_wg=XpKOi&pf_rd_p=939c6bd1-1a0e-48f0-a138-af961f88b523&pf_rd_r=N4G7PRC49Q37802KF5JH&qid=1669037274&qu=eyJxc2MiOiI2LjAyIiwicXNhIjoiNS42MSIsInFzcCI6IjMuODUifQ%3D%3D&sprefix=%2Caps%2C179&sr=1-4-c84eb971-91f2-4a4d-acce-811265c24254&tag=sm-content-21',\n",
       " 'https://www.amazon.in/Yamaha-FS-100C-6-String-Acoustic-without/dp/B00PAS9CK6/ref=sr_1_15?crid=2UWVLRJ59OHLY&keywords=guitars&qid=1669037274&qu=eyJxc2MiOiI2LjAyIiwicXNhIjoiNS42MSIsInFzcCI6IjMuODUifQ%3D%3D&sprefix=%2Caps%2C179&sr=8-15',\n",
       " 'https://www.amazon.in/Juarez-Acoustic-Guitar-Cutaway-Strings/dp/B075XMRKMY/ref=sr_1_16?crid=2UWVLRJ59OHLY&keywords=guitars&qid=1669037274&qu=eyJxc2MiOiI2LjAyIiwicXNhIjoiNS42MSIsInFzcCI6IjMuODUifQ%3D%3D&sprefix=%2Caps%2C179&sr=8-16',\n",
       " 'https://www.amazon.in/Intern-INT-38C-BK-G-Guitar-Kit-Black/dp/B07K9497RC/ref=sr_1_17?crid=2UWVLRJ59OHLY&keywords=guitars&qid=1669037274&qu=eyJxc2MiOiI2LjAyIiwicXNhIjoiNS42MSIsInFzcCI6IjMuODUifQ%3D%3D&sprefix=%2Caps%2C179&sr=8-17',\n",
       " 'https://www.amazon.in/Acoustic-Instrument-Educational-Beginners-Multicolor/dp/B0BCZ9GQQP/ref=sr_1_18?crid=2UWVLRJ59OHLY&keywords=guitars&qid=1669037274&qu=eyJxc2MiOiI2LjAyIiwicXNhIjoiNS42MSIsInFzcCI6IjMuODUifQ%3D%3D&sprefix=%2Caps%2C179&sr=8-18',\n",
       " 'https://www.amazon.in/Juarez-Acoustic-Guitar-Cutaway-Strings/dp/B084VRCCN7/ref=sr_1_19?crid=2UWVLRJ59OHLY&keywords=guitars&qid=1669037274&qu=eyJxc2MiOiI2LjAyIiwicXNhIjoiNS42MSIsInFzcCI6IjMuODUifQ%3D%3D&sprefix=%2Caps%2C179&sr=8-19',\n",
       " 'https://www.amazon.in/Kadence-Frontier-Acoustic-Guitar-Strings/dp/B078GTJP5Y/ref=sr_1_20?crid=2UWVLRJ59OHLY&keywords=guitars&qid=1669037274&qu=eyJxc2MiOiI2LjAyIiwicXNhIjoiNS42MSIsInFzcCI6IjMuODUifQ%3D%3D&sprefix=%2Caps%2C179&sr=8-20',\n",
       " 'https://www.amazon.in/sspa/click?ie=UTF8&spc=MTo0OTU3OTkwMDcyMjg1MDI6MTY2OTAzNzI3NDpzcF9tdGY6MjAwNzgzMzY4ODc0OTg6OjA6Og&url=%2FBlueberry-B-D38-Acoustic-Inbuilt-Strings%2Fdp%2FB07PHYZZP1%2Fref%3Dsr_1_21_sspa%3Fcrid%3D2UWVLRJ59OHLY%26keywords%3Dguitars%26qid%3D1669037274%26qu%3DeyJxc2MiOiI2LjAyIiwicXNhIjoiNS42MSIsInFzcCI6IjMuODUifQ%253D%253D%26sprefix%3D%252Caps%252C179%26sr%3D8-21-spons%26sp_csd%3Dd2lkZ2V0TmFtZT1zcF9tdGY%26psc%3D1',\n",
       " 'https://www.amazon.in/sspa/click?ie=UTF8&spc=MTo0OTU3OTkwMDcyMjg1MDI6MTY2OTAzNzI3NDpzcF9tdGY6MjAwMzI0NDA0Nzk3OTg6OjA6Og&url=%2FLUCHILA-Childrens-Instrument-Educational-Beginners%2Fdp%2FB09T3Q72CJ%2Fref%3Dsr_1_22_sspa%3Fcrid%3D2UWVLRJ59OHLY%26keywords%3Dguitars%26qid%3D1669037274%26qu%3DeyJxc2MiOiI2LjAyIiwicXNhIjoiNS42MSIsInFzcCI6IjMuODUifQ%253D%253D%26sprefix%3D%252Caps%252C179%26sr%3D8-22-spons%26sp_csd%3Dd2lkZ2V0TmFtZT1zcF9tdGY%26psc%3D1',\n",
       " 'https://www.amazon.in/sspa/click?ie=UTF8&spc=MTo0OTU3OTkwMDcyMjg1MDI6MTY2OTAzNzI3NDpzcF9tdGY6MjAwOTI2MjQwMjE2OTg6OjA6Og&url=%2FVault-PA36-Parlor-Acoustic-Guitar%2Fdp%2FB0BJK1332J%2Fref%3Dsr_1_23_sspa%3Fcrid%3D2UWVLRJ59OHLY%26keywords%3Dguitars%26qid%3D1669037274%26qu%3DeyJxc2MiOiI2LjAyIiwicXNhIjoiNS42MSIsInFzcCI6IjMuODUifQ%253D%253D%26sprefix%3D%252Caps%252C179%26sr%3D8-23-spons%26sp_csd%3Dd2lkZ2V0TmFtZT1zcF9tdGY%26psc%3D1',\n",
       " 'https://www.amazon.in/sspa/click?ie=UTF8&spc=MTo0OTU3OTkwMDcyMjg1MDI6MTY2OTAzNzI3NDpzcF9tdGY6MjAwNzgzMzY4ODUyOTg6OjA6Og&url=%2FBlueberry-R-40-Acoustic-Inbuilt-Redburst%2Fdp%2FB09YDH39TB%2Fref%3Dsr_1_24_sspa%3Fcrid%3D2UWVLRJ59OHLY%26keywords%3Dguitars%26qid%3D1669037274%26qu%3DeyJxc2MiOiI2LjAyIiwicXNhIjoiNS42MSIsInFzcCI6IjMuODUifQ%253D%253D%26sprefix%3D%252Caps%252C179%26sr%3D8-24-spons%26sp_csd%3Dd2lkZ2V0TmFtZT1zcF9tdGY%26psc%3D1',\n",
       " 'https://www.amazon.in/Tanglewood-Electro-Acoustic-Guitar-Antique-Violin/dp/B0971762X2/ref=sr_1_25?crid=2UWVLRJ59OHLY&keywords=guitars&qid=1669037274&qu=eyJxc2MiOiI2LjAyIiwicXNhIjoiNS42MSIsInFzcCI6IjMuODUifQ%3D%3D&sprefix=%2Caps%2C179&sr=8-25',\n",
       " 'https://www.amazon.in/Yamaha-Acoustic-Guitar-Tobacco-Sunburst/dp/B08VXR74Q2/ref=sr_1_26?crid=2UWVLRJ59OHLY&keywords=guitars&qid=1669037274&qu=eyJxc2MiOiI2LjAyIiwicXNhIjoiNS42MSIsInFzcCI6IjMuODUifQ%3D%3D&sprefix=%2Caps%2C179&sr=8-26',\n",
       " 'https://www.amazon.in/Blueberry-Beginner-Rosewood-Electric-Strings/dp/B0B71VMZPG/ref=sr_1_27?crid=2UWVLRJ59OHLY&keywords=guitars&qid=1669037274&qu=eyJxc2MiOiI2LjAyIiwicXNhIjoiNS42MSIsInFzcCI6IjMuODUifQ%3D%3D&sprefix=%2Caps%2C179&sr=8-27',\n",
       " 'https://www.amazon.in/Henrix-Acoustic-Guitar-Die-cast-Dual-action/dp/B07VNDW6QF/ref=sr_1_28?crid=2UWVLRJ59OHLY&keywords=guitars&qid=1669037274&qu=eyJxc2MiOiI2LjAyIiwicXNhIjoiNS42MSIsInFzcCI6IjMuODUifQ%3D%3D&sprefix=%2Caps%2C179&sr=8-28',\n",
       " 'https://www.amazon.in/Enterprise-Acoustic-Instrument-Educational-Beginners/dp/B0B46LBJQZ/ref=sr_1_29?crid=2UWVLRJ59OHLY&keywords=guitars&qid=1669037274&qu=eyJxc2MiOiI2LjAyIiwicXNhIjoiNS42MSIsInFzcCI6IjMuODUifQ%3D%3D&sprefix=%2Caps%2C179&sr=8-29',\n",
       " 'https://www.amazon.in/YAMAHA-NATURAL-CONCERT-CUTAWAY-GUITAR/dp/B08KW4DRKL/ref=sr_1_30?crid=2UWVLRJ59OHLY&keywords=guitars&qid=1669037274&qu=eyJxc2MiOiI2LjAyIiwicXNhIjoiNS42MSIsInFzcCI6IjMuODUifQ%3D%3D&sprefix=%2Caps%2C179&sr=8-30',\n",
       " 'https://www.amazon.in/FX280-acoustic-Dreadnought-Tobacco-Sunburst/dp/B09HR7BXGW/ref=sr_1_31?crid=2UWVLRJ59OHLY&keywords=guitars&qid=1669037274&qu=eyJxc2MiOiI2LjAyIiwicXNhIjoiNS42MSIsInFzcCI6IjMuODUifQ%3D%3D&sprefix=%2Caps%2C179&sr=8-31',\n",
       " 'https://www.amazon.in/Carlton-Rosewood-Fretboard-Acoustic-K-Retail/dp/B07KK8P9VB/ref=sr_1_32?crid=2UWVLRJ59OHLY&keywords=guitars&qid=1669037274&qu=eyJxc2MiOiI2LjAyIiwicXNhIjoiNS42MSIsInFzcCI6IjMuODUifQ%3D%3D&sprefix=%2Caps%2C179&sr=8-32',\n",
       " 'https://www.amazon.in/Yamaha-FX280-acoustic-Dreadnought-Natural/dp/B09HR6BNFQ/ref=sr_1_33?crid=2UWVLRJ59OHLY&keywords=guitars&qid=1669037274&qu=eyJxc2MiOiI2LjAyIiwicXNhIjoiNS42MSIsInFzcCI6IjMuODUifQ%3D%3D&sprefix=%2Caps%2C179&sr=8-33',\n",
       " 'https://www.amazon.in/Creation-4-String-Instrument-Learning-Toy/dp/B0BD92RXDB/ref=sr_1_34?crid=2UWVLRJ59OHLY&keywords=guitars&qid=1669037274&qu=eyJxc2MiOiI2LjAyIiwicXNhIjoiNS42MSIsInFzcCI6IjMuODUifQ%3D%3D&sprefix=%2Caps%2C179&sr=8-34',\n",
       " 'https://www.amazon.in/Medellin-carbn-fiber-guitar-38inch/dp/B09MSGVCDV/ref=sr_1_35?crid=2UWVLRJ59OHLY&keywords=guitars&qid=1669037274&qu=eyJxc2MiOiI2LjAyIiwicXNhIjoiNS42MSIsInFzcCI6IjMuODUifQ%3D%3D&sprefix=%2Caps%2C179&sr=8-35',\n",
       " 'https://www.amazon.in/Intern-38-inch-Cutaway-Design-Acoustic/dp/B07X4PN85R/ref=sr_1_36?crid=2UWVLRJ59OHLY&keywords=guitars&qid=1669037274&qu=eyJxc2MiOiI2LjAyIiwicXNhIjoiNS42MSIsInFzcCI6IjMuODUifQ%3D%3D&sprefix=%2Caps%2C179&sr=8-36',\n",
       " 'https://www.amazon.in/Juarez-Acoustic-Cutaway-BK-Strings/dp/B076T3RHMG/ref=sr_1_37?crid=2UWVLRJ59OHLY&keywords=guitars&qid=1669037274&qu=eyJxc2MiOiI2LjAyIiwicXNhIjoiNS42MSIsInFzcCI6IjMuODUifQ%3D%3D&sprefix=%2Caps%2C179&sr=8-37',\n",
       " 'https://www.amazon.in/Yamaha-FSX80C-Acoustic-Cutaway-Natural/dp/B09HL3GFZF/ref=sr_1_38?crid=2UWVLRJ59OHLY&keywords=guitars&qid=1669037274&qu=eyJxc2MiOiI2LjAyIiwicXNhIjoiNS42MSIsInFzcCI6IjMuODUifQ%3D%3D&sprefix=%2Caps%2C179&sr=8-38',\n",
       " 'https://www.amazon.in/Blueberry-Beginner-Rosewood-Electric-Strings/dp/B0BLYP3Q6S/ref=sr_1_39?crid=2UWVLRJ59OHLY&keywords=guitars&qid=1669037274&qu=eyJxc2MiOiI2LjAyIiwicXNhIjoiNS42MSIsInFzcCI6IjMuODUifQ%3D%3D&sprefix=%2Caps%2C179&sr=8-39',\n",
       " 'https://www.amazon.in/Firevally-Childrens-Instrument-Educational-Instruments/dp/B0BL15WBRS/ref=sr_1_40?crid=2UWVLRJ59OHLY&keywords=guitars&qid=1669037274&qu=eyJxc2MiOiI2LjAyIiwicXNhIjoiNS42MSIsInFzcCI6IjMuODUifQ%3D%3D&sprefix=%2Caps%2C179&sr=8-40',\n",
       " 'https://www.amazon.in/Medellin-carbn-guitar-38inch-NATURAL/dp/B09MSHD6TS/ref=sr_1_41?crid=2UWVLRJ59OHLY&keywords=guitars&qid=1669037274&qu=eyJxc2MiOiI2LjAyIiwicXNhIjoiNS42MSIsInFzcCI6IjMuODUifQ%3D%3D&sprefix=%2Caps%2C179&sr=8-41',\n",
       " 'https://www.amazon.in/JUAREZ-Arpeggio-Acoustic-Rosewood-Fretboard/dp/B08LBJ8PTM/ref=sr_1_42?crid=2UWVLRJ59OHLY&keywords=guitars&qid=1669037274&qu=eyJxc2MiOiI2LjAyIiwicXNhIjoiNS42MSIsInFzcCI6IjMuODUifQ%3D%3D&sprefix=%2Caps%2C179&sr=8-42',\n",
       " 'https://www.amazon.in/Blueberry-38C-Acoustic-Guitar-Strings/dp/B08KLMV4XX/ref=sr_1_43?crid=2UWVLRJ59OHLY&keywords=guitars&qid=1669037274&qu=eyJxc2MiOiI2LjAyIiwicXNhIjoiNS42MSIsInFzcCI6IjMuODUifQ%3D%3D&sprefix=%2Caps%2C179&sr=8-43',\n",
       " 'https://www.amazon.in/JUAREZ-JRB40LN-3TS-Arpeggio-Guitar/dp/B08MW8F9VS/ref=sr_1_44?crid=2UWVLRJ59OHLY&keywords=guitars&qid=1669037274&qu=eyJxc2MiOiI2LjAyIiwicXNhIjoiNS42MSIsInFzcCI6IjMuODUifQ%3D%3D&sprefix=%2Caps%2C179&sr=8-44',\n",
       " 'https://www.amazon.in/Yamaha-FSX80C-Acoustic-Cutaway-Guitar/dp/B09HL5WFDX/ref=sr_1_45?crid=2UWVLRJ59OHLY&keywords=guitars&qid=1669037274&qu=eyJxc2MiOiI2LjAyIiwicXNhIjoiNS42MSIsInFzcCI6IjMuODUifQ%3D%3D&sprefix=%2Caps%2C179&sr=8-45',\n",
       " 'https://www.amazon.in/Kadence-Frontier-Acoustic-Guitar-Strings/dp/B01CJJG328/ref=sr_1_46?crid=2UWVLRJ59OHLY&keywords=guitars&qid=1669037274&qu=eyJxc2MiOiI2LjAyIiwicXNhIjoiNS42MSIsInFzcCI6IjMuODUifQ%3D%3D&sprefix=%2Caps%2C179&sr=8-46',\n",
       " 'https://www.amazon.in/215-Rosewood-Fretboard-Acoustic-K-Retail/dp/B08RCRJ8SK/ref=sr_1_47?crid=2UWVLRJ59OHLY&keywords=guitars&qid=1669037274&qu=eyJxc2MiOiI2LjAyIiwicXNhIjoiNS42MSIsInFzcCI6IjMuODUifQ%3D%3D&sprefix=%2Caps%2C179&sr=8-47',\n",
       " 'https://www.amazon.in/Bestonl-Childrens-Instrument-Educational-Beginners/dp/B0BDG13QZS/ref=sr_1_48?crid=2UWVLRJ59OHLY&keywords=guitars&qid=1669037274&qu=eyJxc2MiOiI2LjAyIiwicXNhIjoiNS42MSIsInFzcCI6IjMuODUifQ%3D%3D&sprefix=%2Caps%2C179&sr=8-48',\n",
       " 'https://www.amazon.in/JUAREZ-JRZ38C-Acoustic-Natural-Strings/dp/B01FYYTDWC/ref=sr_1_49?crid=2UWVLRJ59OHLY&keywords=guitars&qid=1669037274&qu=eyJxc2MiOiI2LjAyIiwicXNhIjoiNS42MSIsInFzcCI6IjMuODUifQ%3D%3D&sprefix=%2Caps%2C179&sr=8-49',\n",
       " 'https://www.amazon.in/MUSICALS%C2%AE-Guitar-Including-Strings-remover/dp/B082Q6C28F/ref=sr_1_50?crid=2UWVLRJ59OHLY&keywords=guitars&qid=1669037274&qu=eyJxc2MiOiI2LjAyIiwicXNhIjoiNS42MSIsInFzcCI6IjMuODUifQ%3D%3D&sprefix=%2Caps%2C179&sr=8-50',\n",
       " 'https://www.amazon.in/Ju%C3%A2rez-JRZ38C-WH-Strings-Acoustic/dp/B072MFK4L6/ref=sr_1_51?crid=2UWVLRJ59OHLY&keywords=guitars&qid=1669037274&qu=eyJxc2MiOiI2LjAyIiwicXNhIjoiNS42MSIsInFzcCI6IjMuODUifQ%3D%3D&sprefix=%2Caps%2C179&sr=8-51',\n",
       " 'https://www.amazon.in/Medellin-Acoustic-Guitar-Online-Learning/dp/B0BMKQNWM2/ref=sr_1_52?crid=2UWVLRJ59OHLY&keywords=guitars&qid=1669037274&qu=eyJxc2MiOiI2LjAyIiwicXNhIjoiNS42MSIsInFzcCI6IjMuODUifQ%3D%3D&sprefix=%2Caps%2C179&sr=8-52',\n",
       " 'https://www.amazon.in/Tanglewood-Crossroads-TWCR-SFCE-Acoustic/dp/B01M7R9JOT/ref=sr_1_53?crid=2UWVLRJ59OHLY&keywords=guitars&qid=1669037274&qu=eyJxc2MiOiI2LjAyIiwicXNhIjoiNS42MSIsInFzcCI6IjMuODUifQ%3D%3D&sprefix=%2Caps%2C179&sr=8-53',\n",
       " 'https://www.amazon.in/Belear-I280-Black-Matt-Acoustic/dp/B0BHTBLQGZ/ref=sr_1_54?crid=2UWVLRJ59OHLY&keywords=guitars&qid=1669037274&qu=eyJxc2MiOiI2LjAyIiwicXNhIjoiNS42MSIsInFzcCI6IjMuODUifQ%3D%3D&sprefix=%2Caps%2C179&sr=8-54',\n",
       " 'https://www.amazon.in/Blueberry-38C-Acoustic-Strings-Natural/dp/B08KLNFL2Y/ref=sr_1_55?crid=2UWVLRJ59OHLY&keywords=guitars&qid=1669037274&qu=eyJxc2MiOiI2LjAyIiwicXNhIjoiNS42MSIsInFzcCI6IjMuODUifQ%3D%3D&sprefix=%2Caps%2C179&sr=8-55',\n",
       " 'https://www.amazon.in/JUAREZ-Acoustic-Guitar-String-JRGSE32/dp/B08MW1WPW5/ref=sr_1_56?crid=2UWVLRJ59OHLY&keywords=guitars&qid=1669037274&qu=eyJxc2MiOiI2LjAyIiwicXNhIjoiNS42MSIsInFzcCI6IjMuODUifQ%3D%3D&sprefix=%2Caps%2C179&sr=8-56',\n",
       " 'https://www.amazon.in/sspa/click?ie=UTF8&spc=MTo0OTU3OTkwMDcyMjg1MDI6MTY2OTAzNzI3NDpzcF9idGY6MjAwNzgzMzY4ODUxOTg6OjA6Og&url=%2FBlueberry-Acoustic-Inbuilt-Strings-Classic%2Fdp%2FB09VLF8B8G%2Fref%3Dsr_1_57_sspa%3Fcrid%3D2UWVLRJ59OHLY%26keywords%3Dguitars%26qid%3D1669037274%26qu%3DeyJxc2MiOiI2LjAyIiwicXNhIjoiNS42MSIsInFzcCI6IjMuODUifQ%253D%253D%26sprefix%3D%252Caps%252C179%26sr%3D8-57-spons%26sp_csd%3Dd2lkZ2V0TmFtZT1zcF9idGY%26psc%3D1',\n",
       " 'https://www.amazon.in/sspa/click?ie=UTF8&spc=MTo0OTU3OTkwMDcyMjg1MDI6MTY2OTAzNzI3NDpzcF9idGY6MjAwNzgzMzY4ODQ5OTg6OjA6Og&url=%2FBlueberry-B-38C-Brown-Acoustic-Guitar-Strings%2Fdp%2FB0B71BHDGQ%2Fref%3Dsr_1_58_sspa%3Fcrid%3D2UWVLRJ59OHLY%26keywords%3Dguitars%26qid%3D1669037274%26qu%3DeyJxc2MiOiI2LjAyIiwicXNhIjoiNS42MSIsInFzcCI6IjMuODUifQ%253D%253D%26sprefix%3D%252Caps%252C179%26sr%3D8-58-spons%26sp_csd%3Dd2lkZ2V0TmFtZT1zcF9idGY%26psc%3D1',\n",
       " 'https://www.amazon.in/sspa/click?ie=UTF8&spc=MTo0OTU3OTkwMDcyMjg1MDI6MTY2OTAzNzI3NDpzcF9idGY6MjAwNzk5Nzk1OTI0OTg6OjA6Og&url=%2FHontral-Childrens-Instrument-Educational-Beginners%2Fdp%2FB0BD8Y1H78%2Fref%3Dsr_1_59_sspa%3Fcrid%3D2UWVLRJ59OHLY%26keywords%3Dguitars%26qid%3D1669037274%26qu%3DeyJxc2MiOiI2LjAyIiwicXNhIjoiNS42MSIsInFzcCI6IjMuODUifQ%253D%253D%26sprefix%3D%252Caps%252C179%26sr%3D8-59-spons%26sp_csd%3Dd2lkZ2V0TmFtZT1zcF9idGY%26psc%3D1',\n",
       " 'https://www.amazon.in/sspa/click?ie=UTF8&spc=MTo0OTU3OTkwMDcyMjg1MDI6MTY2OTAzNzI3NDpzcF9idGY6MjAwNzgzMzY4ODg4OTg6OjA6Og&url=%2FBlueberry-38C-Acoustic-Guitar-Strings%2Fdp%2FB08KLMV4XX%2Fref%3Dsr_1_60_sspa%3Fcrid%3D2UWVLRJ59OHLY%26keywords%3Dguitars%26qid%3D1669037274%26qu%3DeyJxc2MiOiI2LjAyIiwicXNhIjoiNS42MSIsInFzcCI6IjMuODUifQ%253D%253D%26sprefix%3D%252Caps%252C179%26sr%3D8-60-spons%26sp_csd%3Dd2lkZ2V0TmFtZT1zcF9idGY%26psc%3D1']"
      ]
     },
     "execution_count": 11,
     "metadata": {},
     "output_type": "execute_result"
    }
   ],
   "source": [
    "urls"
   ]
  },
  {
   "cell_type": "code",
   "execution_count": 22,
   "id": "b4570c8b",
   "metadata": {},
   "outputs": [],
   "source": [
    "# Scraping details of product for which you want\n",
    "Brand_Name=[]\n",
    "Name_of_Product=[]\n",
    "Ratings=[]\n",
    "Num_of_Ratings=[]\n",
    "Price=[]\n",
    "Exchange=[]\n",
    "Date=[]\n",
    "Other_Details =[]\n",
    "Availability=[]\n",
    "for i in urls:\n",
    "\n",
    "    driver.get(i)\n",
    "\n",
    "    time.sleep(5)\n",
    "\n",
    "    \n",
    "\n",
    "    try:\n",
    "\n",
    "        brand=driver.find_element(By.XPATH,\"//table[@id='productDetails_techSpec_section_1']/tbody/tr[1]/td\")\n",
    "\n",
    "        Brand_Name.append(brand.text)\n",
    "\n",
    "    except:\n",
    "\n",
    "        Brand_Name.append('-')\n",
    "        \n",
    "    try:\n",
    "\n",
    "        NOP=driver.find_element(By.XPATH,\"//table[@id='productDetails_techSpec_section_1']/tbody/tr[3]/td\")\n",
    "\n",
    "        Name_of_Product.append(NOP.text)\n",
    "\n",
    "    except:\n",
    "\n",
    "        Name_of_Product.append('-')\n",
    "    \n",
    "    try:\n",
    "\n",
    "        rating=driver.find_element(By.XPATH,\"//span[@class='a-size-base a-nowrap']\")\n",
    "\n",
    "        Ratings.append(rating.text)\n",
    "\n",
    "    except:\n",
    "\n",
    "        Ratings.append('-')\n",
    "        \n",
    "        \n",
    "    try:\n",
    "\n",
    "        NOR=driver.find_element(By.XPATH,\"//span[@id='acrCustomerReviewText']\")\n",
    "\n",
    "        Num_of_Ratings.append(NOR.text)\n",
    "\n",
    "    except:\n",
    "\n",
    "        Num_of_Ratings.append('-')\n",
    "        \n",
    "    try:\n",
    "\n",
    "        price=driver.find_element(By.XPATH,\"/html/body/div[2]/div[2]/div[6]/div[4]/div[1]/div[3]/div/div/div/div/form/div/div/div/div/div[2]/div[1]/div/span/span[2]/span[2]\")\n",
    "\n",
    "        Price.append(price.text)\n",
    "\n",
    "    except:\n",
    "\n",
    "        Price.append('-')\n",
    "        \n",
    "    try:\n",
    "\n",
    "        Delivery=driver.find_element(By.XPATH,\"/html/body/div[2]/div[2]/div[6]/div[4]/div[1]/div[3]/div/div/div/div/form/div/div/div/div/div[3]/div/div[2]/div[8]/div[1]/div/div/div[2]/span/span[1]\")\n",
    "\n",
    "        Date.append(Delivery.text)\n",
    "\n",
    "    except:\n",
    "\n",
    "        Date.append('-')\n",
    "        \n",
    "    \n",
    "    try:\n",
    "\n",
    "        exchange=driver.find_element(By.XPATH,\"//span[@class='a-declarative']/div/a\")\n",
    "\n",
    "        Exchange.append(exchange.text)\n",
    "\n",
    "    except:\n",
    "\n",
    "        Exchange.append('-')\n",
    "        \n",
    "        \n",
    "        \n",
    "        \n",
    "    try:\n",
    "\n",
    "        Detail=driver.find_element(By.XPATH,\"//ul[@class='a-unordered-list a-vertical a-spacing-mini']\")\n",
    "\n",
    "        Other_Details.append(Detail.text)\n",
    "\n",
    "    except:\n",
    "\n",
    "        Other_Details.append('-')\n",
    "        \n",
    "        \n",
    "        \n",
    "        \n",
    "        \n",
    "    try:\n",
    "\n",
    "        avail=driver.find_element(By.XPATH,\"//span[@class='a-size-base a-color-success a-text-bold']\")\n",
    "\n",
    "        Availability.append(avail.text)\n",
    "\n",
    "    except:\n",
    "\n",
    "        Availability.append('-')\n",
    "        \n",
    "    \n",
    "        \n",
    "        \n",
    "    "
   ]
  },
  {
   "cell_type": "code",
   "execution_count": 20,
   "id": "a3410821",
   "metadata": {},
   "outputs": [],
   "source": [
    "#Lets make DataFrame\n",
    "import pandas as pd\n"
   ]
  },
  {
   "cell_type": "code",
   "execution_count": 23,
   "id": "424b350a",
   "metadata": {},
   "outputs": [
    {
     "data": {
      "text/html": [
       "<div>\n",
       "<style scoped>\n",
       "    .dataframe tbody tr th:only-of-type {\n",
       "        vertical-align: middle;\n",
       "    }\n",
       "\n",
       "    .dataframe tbody tr th {\n",
       "        vertical-align: top;\n",
       "    }\n",
       "\n",
       "    .dataframe thead th {\n",
       "        text-align: right;\n",
       "    }\n",
       "</style>\n",
       "<table border=\"1\" class=\"dataframe\">\n",
       "  <thead>\n",
       "    <tr style=\"text-align: right;\">\n",
       "      <th></th>\n",
       "      <th>Brand_Name</th>\n",
       "      <th>Name_of_Product</th>\n",
       "      <th>Ratings</th>\n",
       "      <th>Num_of_Ratings</th>\n",
       "      <th>Price</th>\n",
       "      <th>Exchange</th>\n",
       "      <th>Date</th>\n",
       "      <th>Other_Details</th>\n",
       "      <th>Availability</th>\n",
       "    </tr>\n",
       "  </thead>\n",
       "  <tbody>\n",
       "    <tr>\n",
       "      <th>0</th>\n",
       "      <td>Kadence</td>\n",
       "      <td>SH-02-03-04</td>\n",
       "      <td>4 out of 5</td>\n",
       "      <td>534 ratings</td>\n",
       "      <td>-</td>\n",
       "      <td>7 Days Replacement</td>\n",
       "      <td>-</td>\n",
       "      <td></td>\n",
       "      <td>-</td>\n",
       "    </tr>\n",
       "    <tr>\n",
       "      <th>1</th>\n",
       "      <td>Gibz's</td>\n",
       "      <td>G 38-Matte- Black</td>\n",
       "      <td>-</td>\n",
       "      <td>-</td>\n",
       "      <td>-</td>\n",
       "      <td>7 Days Replacement</td>\n",
       "      <td>-</td>\n",
       "      <td></td>\n",
       "      <td>-</td>\n",
       "    </tr>\n",
       "    <tr>\n",
       "      <th>2</th>\n",
       "      <td>VAULT</td>\n",
       "      <td>DA40NT</td>\n",
       "      <td>4 out of 5</td>\n",
       "      <td>1 rating</td>\n",
       "      <td>-</td>\n",
       "      <td>7 Days Replacement</td>\n",
       "      <td>-</td>\n",
       "      <td></td>\n",
       "      <td>-</td>\n",
       "    </tr>\n",
       "    <tr>\n",
       "      <th>3</th>\n",
       "      <td>FESTRA</td>\n",
       "      <td>38C</td>\n",
       "      <td>3.9 out of 5</td>\n",
       "      <td>22 ratings</td>\n",
       "      <td>-</td>\n",
       "      <td>7 Days Replacement</td>\n",
       "      <td>-</td>\n",
       "      <td></td>\n",
       "      <td>-</td>\n",
       "    </tr>\n",
       "    <tr>\n",
       "      <th>4</th>\n",
       "      <td>43 x 98 x 11 cm; 2.06 Kilograms</td>\n",
       "      <td>Wood, Basswood</td>\n",
       "      <td>4 out of 5</td>\n",
       "      <td>18,018 ratings</td>\n",
       "      <td>2,399</td>\n",
       "      <td>7 Days Replacement</td>\n",
       "      <td>Saturday, 26 November</td>\n",
       "      <td></td>\n",
       "      <td>-</td>\n",
       "    </tr>\n",
       "  </tbody>\n",
       "</table>\n",
       "</div>"
      ],
      "text/plain": [
       "                        Brand_Name    Name_of_Product       Ratings  \\\n",
       "0                          Kadence        SH-02-03-04    4 out of 5   \n",
       "1                           Gibz's  G 38-Matte- Black             -   \n",
       "2                            VAULT             DA40NT    4 out of 5   \n",
       "3                           FESTRA                38C  3.9 out of 5   \n",
       "4  43 x 98 x 11 cm; 2.06 Kilograms     Wood, Basswood    4 out of 5   \n",
       "\n",
       "   Num_of_Ratings  Price            Exchange                   Date  \\\n",
       "0     534 ratings      -  7 Days Replacement                      -   \n",
       "1               -      -  7 Days Replacement                      -   \n",
       "2        1 rating      -  7 Days Replacement                      -   \n",
       "3      22 ratings      -  7 Days Replacement                      -   \n",
       "4  18,018 ratings  2,399  7 Days Replacement  Saturday, 26 November   \n",
       "\n",
       "  Other_Details Availability  \n",
       "0                          -  \n",
       "1                          -  \n",
       "2                          -  \n",
       "3                          -  \n",
       "4                          -  "
      ]
     },
     "execution_count": 23,
     "metadata": {},
     "output_type": "execute_result"
    }
   ],
   "source": [
    "data=pd.DataFrame({'Brand_Name':Brand_Name,'Name_of_Product':Name_of_Product,\"Ratings\":Ratings,\"Num_of_Ratings\":Num_of_Ratings,\"Price\":Price,\"Exchange\":Exchange,\"Date\":Date,\"Other_Details\":Other_Details,\"Availability\":Availability})\n",
    "data.head()"
   ]
  },
  {
   "cell_type": "code",
   "execution_count": 18,
   "id": "df223432",
   "metadata": {},
   "outputs": [
    {
     "data": {
      "text/plain": [
       "(192, 9)"
      ]
     },
     "execution_count": 18,
     "metadata": {},
     "output_type": "execute_result"
    }
   ],
   "source": [
    "data.shape"
   ]
  },
  {
   "cell_type": "code",
   "execution_count": 24,
   "id": "771e90a8",
   "metadata": {},
   "outputs": [],
   "source": [
    "driver.close()"
   ]
  },
  {
   "cell_type": "markdown",
   "id": "4ee37508",
   "metadata": {},
   "source": [
    "# 3. Write a python program to access the search bar and search button on images.google.com and scrape 10 images each for keywords ‘fruits’, ‘cars’ and ‘Machine Learning’, ‘Guitar’, ‘Cakes’."
   ]
  },
  {
   "cell_type": "code",
   "execution_count": 334,
   "id": "5dd924bf",
   "metadata": {},
   "outputs": [],
   "source": [
    "#Lets import all the required libraries \n",
    "import selenium # Libraries that is used to work  with selenium\n",
    "from selenium import webdriver # importing web driver module from selenium to open automated edge window\n",
    "import pandas as pd # to create dataframe\n",
    "from selenium.webdriver.common.by import By#importing inbuild class BY\n",
    "import warnings #to ignore any sort warnings\n",
    "warnings.filterwarnings('ignore')\n",
    "import time# used to stop search engine for few seconds"
   ]
  },
  {
   "cell_type": "code",
   "execution_count": 348,
   "id": "5995b057",
   "metadata": {},
   "outputs": [
    {
     "data": {
      "text/plain": [
       "<selenium.webdriver.edge.webdriver.WebDriver (session=\"dd7524eb095f6b3cfc58649c3c43a49c\")>"
      ]
     },
     "execution_count": 348,
     "metadata": {},
     "output_type": "execute_result"
    }
   ],
   "source": [
    "#First Connect to web driver \n",
    "\n",
    "driver = webdriver.Edge(r\"D:\\edgedriver_win64\\msedgedriver.exe\")\n",
    "driver"
   ]
  },
  {
   "cell_type": "code",
   "execution_count": 349,
   "id": "26192790",
   "metadata": {},
   "outputs": [],
   "source": [
    "url=\"http://images.google.com/\" # Here i am assigning the link in url name variable \n",
    "driver.get(url)"
   ]
  },
  {
   "cell_type": "code",
   "execution_count": 350,
   "id": "6bc43121",
   "metadata": {},
   "outputs": [
    {
     "name": "stdout",
     "output_type": "stream",
     "text": [
      "Search What You WantFruits\n"
     ]
    },
    {
     "data": {
      "text/plain": [
       "'Fruits'"
      ]
     },
     "execution_count": 350,
     "metadata": {},
     "output_type": "execute_result"
    }
   ],
   "source": [
    "user_input=input(\"Search What You Want\")\n",
    "user_input"
   ]
  },
  {
   "cell_type": "code",
   "execution_count": 351,
   "id": "30b357cc",
   "metadata": {},
   "outputs": [],
   "source": [
    "#Finding the web element for search \n",
    "search_job=driver.find_element(By.XPATH,\"//input[@class='gLFyf']\")\n",
    "search_job.send_keys(user_input)"
   ]
  },
  {
   "cell_type": "code",
   "execution_count": 353,
   "id": "274a3df1",
   "metadata": {},
   "outputs": [],
   "source": [
    "\n",
    "#Clicking using absolute xpath function\n",
    "search_btn=driver.find_element(By.XPATH,\"//div[@class='zgAlFc']\")\n",
    "search_btn.click()"
   ]
  },
  {
   "cell_type": "code",
   "execution_count": 321,
   "id": "2c35e45c",
   "metadata": {},
   "outputs": [],
   "source": [
    "#Fetching url to open each page\n",
    "urls=[]\n",
    "url=driver.find_elements(By.XPATH,\"//a[@class='VFACy kGQAp sMi44c d0NI4c lNHeqe WGvvNb']\")\n",
    "for i in url:\n",
    "    urls.append(i.get_attribute('href'))\n"
   ]
  },
  {
   "cell_type": "code",
   "execution_count": 322,
   "id": "66b14427",
   "metadata": {},
   "outputs": [
    {
     "data": {
      "text/plain": [
       "48"
      ]
     },
     "execution_count": 322,
     "metadata": {},
     "output_type": "execute_result"
    }
   ],
   "source": [
    "len(urls)"
   ]
  },
  {
   "cell_type": "code",
   "execution_count": 356,
   "id": "ab899f37",
   "metadata": {},
   "outputs": [
    {
     "name": "stdout",
     "output_type": "stream",
     "text": [
      "Downloading 0 of 10 images\n",
      "Downloading 1 of 10 images\n",
      "Downloading 2 of 10 images\n",
      "Downloading 3 of 10 images\n",
      "Downloading 4 of 10 images\n",
      "Downloading 5 of 10 images\n",
      "Downloading 6 of 10 images\n",
      "Downloading 7 of 10 images\n",
      "Downloading 8 of 10 images\n",
      "Downloading 9 of 10 images\n",
      "Downloading 10 of 10 images\n"
     ]
    }
   ],
   "source": [
    "for _ in range(20):\n",
    "\n",
    "    driver.execute_script(\"window.scrollBy(0,1000)\")\n",
    "\n",
    "    \n",
    "\n",
    "images = driver.find_elements(By.XPATH,'//img[@class=\"rg_i Q4LuWd\"]')\n",
    "\n",
    "\n",
    "\n",
    "img_urls = []\n",
    "\n",
    "img_data = []\n",
    "\n",
    "for image in images:\n",
    "\n",
    "    source= image.get_attribute('src')\n",
    "\n",
    "    if source is not None:\n",
    "\n",
    "        if(source[0:4] == 'http'):\n",
    "\n",
    "            img_urls.append(source)\n",
    "\n",
    "            \n",
    "\n",
    "            \n",
    "\n",
    "for i in range(len(img_urls)):\n",
    "\n",
    "    if i > 10:\n",
    "\n",
    "        break\n",
    "\n",
    "    print(\"Downloading {0} of {1} images\" .format(i, 10))\n",
    "\n",
    "    response= requests.get(img_urls[i])\n",
    "\n",
    "    file = open(r\"E:\\AssignmentFlipRobo\"+str(i)+\".jpg\", \"wb\")\n",
    "\n",
    "    file.write(response.content)\n",
    "\n"
   ]
  },
  {
   "cell_type": "markdown",
   "id": "2e5cdb62",
   "metadata": {},
   "source": [
    "# CARS"
   ]
  },
  {
   "cell_type": "code",
   "execution_count": 357,
   "id": "7ad39ef9",
   "metadata": {},
   "outputs": [],
   "source": [
    "url=\"http://images.google.com/\" # Here i am assigning the link in url name variable \n",
    "driver.get(url)"
   ]
  },
  {
   "cell_type": "code",
   "execution_count": 358,
   "id": "cf169efc",
   "metadata": {},
   "outputs": [
    {
     "name": "stdout",
     "output_type": "stream",
     "text": [
      "Search What You WantCars\n"
     ]
    },
    {
     "data": {
      "text/plain": [
       "'Cars'"
      ]
     },
     "execution_count": 358,
     "metadata": {},
     "output_type": "execute_result"
    }
   ],
   "source": [
    "user_input=input(\"Search What You Want\")\n",
    "user_input"
   ]
  },
  {
   "cell_type": "code",
   "execution_count": 359,
   "id": "48cbb17f",
   "metadata": {},
   "outputs": [],
   "source": [
    "#Finding the web element for search \n",
    "search_job=driver.find_element(By.XPATH,\"/html/body/div[1]/div[3]/form/div[1]/div[1]/div[1]/div/div[2]/input\")\n",
    "search_job.send_keys(user_input)"
   ]
  },
  {
   "cell_type": "code",
   "execution_count": 362,
   "id": "124f4c25",
   "metadata": {},
   "outputs": [],
   "source": [
    "\n",
    "#Clicking using absolute xpath function\n",
    "search_btn=driver.find_element(By.XPATH,\"/html/body/div[1]/div[3]/form/div[1]/div[1]/div[1]/button\")\n",
    "search_btn.click()"
   ]
  },
  {
   "cell_type": "code",
   "execution_count": 363,
   "id": "174110f1",
   "metadata": {},
   "outputs": [],
   "source": [
    "#Fetching url to open each page\n",
    "urls=[]\n",
    "url=driver.find_elements(By.XPATH,\"//a[@class='VFACy kGQAp sMi44c d0NI4c lNHeqe WGvvNb']\")\n",
    "for i in url:\n",
    "    urls.append(i.get_attribute('href'))\n"
   ]
  },
  {
   "cell_type": "code",
   "execution_count": null,
   "id": "0fca0161",
   "metadata": {},
   "outputs": [],
   "source": []
  },
  {
   "cell_type": "code",
   "execution_count": 364,
   "id": "4a950e1f",
   "metadata": {},
   "outputs": [
    {
     "name": "stdout",
     "output_type": "stream",
     "text": [
      "Downloading 0 of 10 images\n",
      "Downloading 1 of 10 images\n",
      "Downloading 2 of 10 images\n",
      "Downloading 3 of 10 images\n",
      "Downloading 4 of 10 images\n",
      "Downloading 5 of 10 images\n",
      "Downloading 6 of 10 images\n",
      "Downloading 7 of 10 images\n",
      "Downloading 8 of 10 images\n",
      "Downloading 9 of 10 images\n",
      "Downloading 10 of 10 images\n"
     ]
    }
   ],
   "source": [
    "for _ in range(20):\n",
    "\n",
    "    driver.execute_script(\"window.scrollBy(0,1000)\")\n",
    "\n",
    "    \n",
    "\n",
    "images = driver.find_elements(By.XPATH,'//img[@class=\"rg_i Q4LuWd\"]')\n",
    "\n",
    "\n",
    "\n",
    "img_urls = []\n",
    "\n",
    "img_data = []\n",
    "\n",
    "for image in images:\n",
    "\n",
    "    source= image.get_attribute('src')\n",
    "\n",
    "    if source is not None:\n",
    "\n",
    "        if(source[0:4] == 'http'):\n",
    "\n",
    "            img_urls.append(source)\n",
    "\n",
    "            \n",
    "\n",
    "            \n",
    "\n",
    "for i in range(len(img_urls)):\n",
    "\n",
    "    if i > 10:\n",
    "\n",
    "        break\n",
    "\n",
    "    print(\"Downloading {0} of {1} images\" .format(i, 10))\n",
    "\n",
    "    response= requests.get(img_urls[i])\n",
    "\n",
    "    file = open(r\"E:\\AssignmentFlipRobo\"+str(i)+\".jpg\", \"wb\")\n",
    "\n",
    "    file.write(response.content)\n",
    "\n"
   ]
  },
  {
   "cell_type": "markdown",
   "id": "e4dfaa01",
   "metadata": {},
   "source": [
    "# Machine Learning"
   ]
  },
  {
   "cell_type": "code",
   "execution_count": 365,
   "id": "ab2d6c6d",
   "metadata": {},
   "outputs": [],
   "source": [
    "url=\"http://images.google.com/\" # Here i am assigning the link in url name variable \n",
    "driver.get(url)"
   ]
  },
  {
   "cell_type": "code",
   "execution_count": 366,
   "id": "f2fec2d7",
   "metadata": {},
   "outputs": [
    {
     "name": "stdout",
     "output_type": "stream",
     "text": [
      "Search What You WantMachine Learning\n"
     ]
    },
    {
     "data": {
      "text/plain": [
       "'Machine Learning'"
      ]
     },
     "execution_count": 366,
     "metadata": {},
     "output_type": "execute_result"
    }
   ],
   "source": [
    "user_input=input(\"Search What You Want\")\n",
    "user_input"
   ]
  },
  {
   "cell_type": "code",
   "execution_count": 367,
   "id": "6a04a642",
   "metadata": {},
   "outputs": [],
   "source": [
    "#Finding the web element for search \n",
    "search_job=driver.find_element(By.XPATH,\"/html/body/div[1]/div[3]/form/div[1]/div[1]/div[1]/div/div[2]/input\")\n",
    "search_job.send_keys(user_input)"
   ]
  },
  {
   "cell_type": "code",
   "execution_count": 368,
   "id": "3c0a7b07",
   "metadata": {},
   "outputs": [],
   "source": [
    "\n",
    "#Clicking using absolute xpath function\n",
    "search_btn=driver.find_element(By.XPATH,\"/html/body/div[1]/div[3]/form/div[1]/div[1]/div[1]/button\")\n",
    "search_btn.click()"
   ]
  },
  {
   "cell_type": "code",
   "execution_count": 370,
   "id": "fa66c8a6",
   "metadata": {},
   "outputs": [
    {
     "name": "stdout",
     "output_type": "stream",
     "text": [
      "Downloading 0 of 10 images\n",
      "Downloading 1 of 10 images\n",
      "Downloading 2 of 10 images\n",
      "Downloading 3 of 10 images\n",
      "Downloading 4 of 10 images\n",
      "Downloading 5 of 10 images\n",
      "Downloading 6 of 10 images\n",
      "Downloading 7 of 10 images\n",
      "Downloading 8 of 10 images\n",
      "Downloading 9 of 10 images\n",
      "Downloading 10 of 10 images\n"
     ]
    }
   ],
   "source": [
    "for _ in range(20):\n",
    "\n",
    "    driver.execute_script(\"window.scrollBy(0,1000)\")\n",
    "\n",
    "    \n",
    "\n",
    "images = driver.find_elements(By.XPATH,'//img[@class=\"rg_i Q4LuWd\"]')\n",
    "\n",
    "\n",
    "\n",
    "img_urls = []\n",
    "\n",
    "img_data = []\n",
    "\n",
    "for image in images:\n",
    "\n",
    "    source= image.get_attribute('src')\n",
    "\n",
    "    if source is not None:\n",
    "\n",
    "        if(source[0:4] == 'http'):\n",
    "\n",
    "            img_urls.append(source)\n",
    "\n",
    "            \n",
    "\n",
    "            \n",
    "\n",
    "for i in range(len(img_urls)):\n",
    "\n",
    "    if i > 10:\n",
    "\n",
    "        break\n",
    "\n",
    "    print(\"Downloading {0} of {1} images\" .format(i, 10))\n",
    "\n",
    "    response= requests.get(img_urls[i])\n",
    "\n",
    "    file = open(r\"E:\\AssignmentFlipRobo\"+str(i)+\".jpg\", \"wb\")\n",
    "\n",
    "    file.write(response.content)\n",
    "\n"
   ]
  },
  {
   "cell_type": "markdown",
   "id": "d8673b5c",
   "metadata": {},
   "source": [
    "# Guitar"
   ]
  },
  {
   "cell_type": "code",
   "execution_count": 371,
   "id": "00cc047b",
   "metadata": {},
   "outputs": [],
   "source": [
    "url=\"http://images.google.com/\" # Here i am assigning the link in url name variable \n",
    "driver.get(url)"
   ]
  },
  {
   "cell_type": "code",
   "execution_count": 372,
   "id": "8a83e75f",
   "metadata": {},
   "outputs": [
    {
     "name": "stdout",
     "output_type": "stream",
     "text": [
      "Search What You WantGuitar\n"
     ]
    },
    {
     "data": {
      "text/plain": [
       "'Guitar'"
      ]
     },
     "execution_count": 372,
     "metadata": {},
     "output_type": "execute_result"
    }
   ],
   "source": [
    "user_input=input(\"Search What You Want\")\n",
    "user_input"
   ]
  },
  {
   "cell_type": "code",
   "execution_count": 373,
   "id": "0378e3d4",
   "metadata": {},
   "outputs": [],
   "source": [
    "#Finding the web element for search \n",
    "search_job=driver.find_element(By.XPATH,\"/html/body/div[1]/div[3]/form/div[1]/div[1]/div[1]/div/div[2]/input\")\n",
    "search_job.send_keys(user_input)"
   ]
  },
  {
   "cell_type": "code",
   "execution_count": 375,
   "id": "275805f1",
   "metadata": {},
   "outputs": [],
   "source": [
    "\n",
    "#Clicking using absolute xpath function\n",
    "search_btn=driver.find_element(By.XPATH,\"/html/body/div[1]/div[3]/form/div[1]/div[1]/div[1]/button\")\n",
    "search_btn.click()"
   ]
  },
  {
   "cell_type": "code",
   "execution_count": 376,
   "id": "2ed11c86",
   "metadata": {},
   "outputs": [
    {
     "name": "stdout",
     "output_type": "stream",
     "text": [
      "Downloading 0 of 10 images\n",
      "Downloading 1 of 10 images\n",
      "Downloading 2 of 10 images\n",
      "Downloading 3 of 10 images\n",
      "Downloading 4 of 10 images\n",
      "Downloading 5 of 10 images\n",
      "Downloading 6 of 10 images\n",
      "Downloading 7 of 10 images\n",
      "Downloading 8 of 10 images\n",
      "Downloading 9 of 10 images\n",
      "Downloading 10 of 10 images\n"
     ]
    }
   ],
   "source": [
    "for _ in range(20):\n",
    "\n",
    "    driver.execute_script(\"window.scrollBy(0,1000)\")\n",
    "\n",
    "    \n",
    "\n",
    "images = driver.find_elements(By.XPATH,'//img[@class=\"rg_i Q4LuWd\"]')\n",
    "\n",
    "\n",
    "\n",
    "img_urls = []\n",
    "\n",
    "img_data = []\n",
    "\n",
    "for image in images:\n",
    "\n",
    "    source= image.get_attribute('src')\n",
    "\n",
    "    if source is not None:\n",
    "\n",
    "        if(source[0:4] == 'http'):\n",
    "\n",
    "            img_urls.append(source)\n",
    "\n",
    "            \n",
    "\n",
    "            \n",
    "\n",
    "for i in range(len(img_urls)):\n",
    "\n",
    "    if i > 10:\n",
    "\n",
    "        break\n",
    "\n",
    "    print(\"Downloading {0} of {1} images\" .format(i, 10))\n",
    "\n",
    "    response= requests.get(img_urls[i])\n",
    "\n",
    "    file = open(r\"E:\\AssignmentFlipRobo\"+str(i)+\".jpg\", \"wb\")\n",
    "\n",
    "    file.write(response.content)\n",
    "\n"
   ]
  },
  {
   "cell_type": "markdown",
   "id": "d11a22c5",
   "metadata": {},
   "source": [
    "# Cakes"
   ]
  },
  {
   "cell_type": "code",
   "execution_count": 377,
   "id": "1b8c30ff",
   "metadata": {},
   "outputs": [],
   "source": [
    "url=\"http://images.google.com/\" # Here i am assigning the link in url name variable \n",
    "driver.get(url)"
   ]
  },
  {
   "cell_type": "code",
   "execution_count": 378,
   "id": "d7d10aec",
   "metadata": {},
   "outputs": [
    {
     "name": "stdout",
     "output_type": "stream",
     "text": [
      "Search What You WantCakes\n"
     ]
    },
    {
     "data": {
      "text/plain": [
       "'Cakes'"
      ]
     },
     "execution_count": 378,
     "metadata": {},
     "output_type": "execute_result"
    }
   ],
   "source": [
    "user_input=input(\"Search What You Want\")\n",
    "user_input"
   ]
  },
  {
   "cell_type": "code",
   "execution_count": 379,
   "id": "73260319",
   "metadata": {},
   "outputs": [],
   "source": [
    "#Finding the web element for search \n",
    "search_job=driver.find_element(By.XPATH,\"/html/body/div[1]/div[3]/form/div[1]/div[1]/div[1]/div/div[2]/input\")\n",
    "search_job.send_keys(user_input)"
   ]
  },
  {
   "cell_type": "code",
   "execution_count": 380,
   "id": "58c590e2",
   "metadata": {},
   "outputs": [],
   "source": [
    "\n",
    "#Clicking using absolute xpath function\n",
    "search_btn=driver.find_element(By.XPATH,\"/html/body/div[1]/div[3]/form/div[1]/div[1]/div[1]/button\")\n",
    "search_btn.click()"
   ]
  },
  {
   "cell_type": "code",
   "execution_count": 382,
   "id": "0b1417d9",
   "metadata": {},
   "outputs": [
    {
     "name": "stdout",
     "output_type": "stream",
     "text": [
      "Downloading 0 of 10 images\n",
      "Downloading 1 of 10 images\n",
      "Downloading 2 of 10 images\n",
      "Downloading 3 of 10 images\n",
      "Downloading 4 of 10 images\n",
      "Downloading 5 of 10 images\n",
      "Downloading 6 of 10 images\n",
      "Downloading 7 of 10 images\n",
      "Downloading 8 of 10 images\n",
      "Downloading 9 of 10 images\n",
      "Downloading 10 of 10 images\n"
     ]
    }
   ],
   "source": [
    "for _ in range(20):\n",
    "\n",
    "    driver.execute_script(\"window.scrollBy(0,1000)\")\n",
    "\n",
    "    \n",
    "\n",
    "images = driver.find_elements(By.XPATH,'//img[@class=\"rg_i Q4LuWd\"]')\n",
    "\n",
    "\n",
    "\n",
    "img_urls = []\n",
    "\n",
    "img_data = []\n",
    "\n",
    "for image in images:\n",
    "\n",
    "    source= image.get_attribute('src')\n",
    "\n",
    "    if source is not None:\n",
    "\n",
    "        if(source[0:4] == 'http'):\n",
    "\n",
    "            img_urls.append(source)\n",
    "\n",
    "            \n",
    "\n",
    "            \n",
    "\n",
    "for i in range(len(img_urls)):\n",
    "\n",
    "    if i > 10:\n",
    "\n",
    "        break\n",
    "\n",
    "    print(\"Downloading {0} of {1} images\" .format(i, 10))\n",
    "\n",
    "    response= requests.get(img_urls[i])\n",
    "\n",
    "    file = open(r\"E:\\AssignmentFlipRobo\"+str(i)+\".jpg\", \"wb\")\n",
    "\n",
    "    file.write(response.content)\n",
    "\n"
   ]
  },
  {
   "cell_type": "code",
   "execution_count": 384,
   "id": "17aad1d0",
   "metadata": {},
   "outputs": [],
   "source": [
    "driver.close()"
   ]
  },
  {
   "cell_type": "markdown",
   "id": "f5cef330",
   "metadata": {},
   "source": [
    "# 4 -  Write a python program to search for a smartphone(e.g.: Oneplus Nord, pixel 4A, etc.) onwww.flipkart.com and scrape following details for all the search results displayed on 1st page. Details to be scraped: “Brand Name”, “Smartphone name”, “Colour”, “RAM”, “Storage(ROM)”, “Primary Camera”, “Secondary Camera”, “Display Size”, “Battery Capacity”, “Price”, “Product URL”. Incase if any of the details is missing then replace it by “- “. Save your results in a dataframe and CSV"
   ]
  },
  {
   "cell_type": "code",
   "execution_count": null,
   "id": "99c8b747",
   "metadata": {},
   "outputs": [],
   "source": [
    "#I am not able to solve this question"
   ]
  },
  {
   "cell_type": "code",
   "execution_count": null,
   "id": "1abb55e9",
   "metadata": {},
   "outputs": [],
   "source": []
  },
  {
   "cell_type": "markdown",
   "id": "62a5e69f",
   "metadata": {},
   "source": [
    "# 5. Write a program to scrap geospatial coordinates (latitude, longitude) of a city searched on google maps."
   ]
  },
  {
   "cell_type": "code",
   "execution_count": 482,
   "id": "81cac18b",
   "metadata": {},
   "outputs": [
    {
     "data": {
      "text/plain": [
       "<selenium.webdriver.edge.webdriver.WebDriver (session=\"47331a29416d3e65ef8e7bc4c2d5c8b5\")>"
      ]
     },
     "execution_count": 482,
     "metadata": {},
     "output_type": "execute_result"
    }
   ],
   "source": [
    "#First Connect to web driver \n",
    "\n",
    "driver = webdriver.Edge(r\"D:\\edgedriver_win64\\msedgedriver.exe\")\n",
    "driver"
   ]
  },
  {
   "cell_type": "code",
   "execution_count": 489,
   "id": "6b214837",
   "metadata": {},
   "outputs": [],
   "source": [
    "url =  'https://www.google.co.in/maps'\n",
    "driver.get(url)"
   ]
  },
  {
   "cell_type": "code",
   "execution_count": 490,
   "id": "c076c54d",
   "metadata": {},
   "outputs": [
    {
     "name": "stdout",
     "output_type": "stream",
     "text": [
      "Enter a location name to search:Korba\n"
     ]
    },
    {
     "data": {
      "text/plain": [
       "'Korba'"
      ]
     },
     "execution_count": 490,
     "metadata": {},
     "output_type": "execute_result"
    }
   ],
   "source": [
    "item = input(\"Enter a location name to search:\")\n",
    "item"
   ]
  },
  {
   "cell_type": "code",
   "execution_count": 491,
   "id": "93d194ff",
   "metadata": {},
   "outputs": [],
   "source": [
    "#Finding the web element for search \n",
    "search_job=driver.find_element(By.ID,\"searchboxinput\")\n",
    "search_job.send_keys(item)"
   ]
  },
  {
   "cell_type": "code",
   "execution_count": 493,
   "id": "b042f390",
   "metadata": {},
   "outputs": [],
   "source": [
    "\n",
    "#Clicking using absolute xpath function\n",
    "search_btn=driver.find_element(By.ID,\"searchbox-searchbutton\")\n",
    "search_btn.click()"
   ]
  },
  {
   "cell_type": "code",
   "execution_count": 494,
   "id": "c5b1e046",
   "metadata": {},
   "outputs": [
    {
     "name": "stdout",
     "output_type": "stream",
     "text": [
      "URL Extracted:  https://www.google.co.in/maps/place/Korba,+Chhattisgarh/@22.3492893,82.6283441,11.25z/data=!4m5!3m4!1s0x3a278f26de2eba65:0x3048cc6dcbdadff4!8m2!3d22.3594501!4d82.7500595\n",
      "Latitude = 22.3492893, Longitude = 82.6283441\n"
     ]
    }
   ],
   "source": [
    "try:\n",
    "    url_str = driver.current_url\n",
    "    print(\"URL Extracted: \", url_str)\n",
    "    latitude_longitude = re.findall(r'@(.*)data',url_str)\n",
    "    if len(latitude_longitude):\n",
    "        lat_lng_list = latitude_longitude[0].split(\",\")\n",
    "        if len(lat_lng_list)>=2:\n",
    "            latitude = lat_lng_list[0]\n",
    "            longitude = lat_lng_list[1]\n",
    "        print(\"Latitude = {}, Longitude = {}\".format(latitude, longitude))\n",
    "except Exception as e:\n",
    "        print(\"Error: \", str(e))\n"
   ]
  },
  {
   "cell_type": "code",
   "execution_count": 495,
   "id": "f9a44981",
   "metadata": {},
   "outputs": [],
   "source": [
    "driver.close()"
   ]
  },
  {
   "cell_type": "markdown",
   "id": "7f6c54ff",
   "metadata": {},
   "source": [
    "# 6. Write a program to scrap details of all the funding deals for second quarter (i.e Jan 21 – March 21) from trak.in"
   ]
  },
  {
   "cell_type": "code",
   "execution_count": 1,
   "id": "81105985",
   "metadata": {},
   "outputs": [],
   "source": [
    "#Lets import all the required libraries \n",
    "import selenium # Libraries that is used to work  with selenium\n",
    "from selenium import webdriver # importing web driver module from selenium to open automated edge window\n",
    "import pandas as pd # to create dataframe\n",
    "from selenium.webdriver.common.by import By#importing inbuild class BY\n",
    "import warnings #to ignore any sort warnings\n",
    "warnings.filterwarnings('ignore')\n",
    "import time# used to stop search engine for few seconds"
   ]
  },
  {
   "cell_type": "code",
   "execution_count": 2,
   "id": "432cc625",
   "metadata": {},
   "outputs": [
    {
     "data": {
      "text/plain": [
       "<selenium.webdriver.edge.webdriver.WebDriver (session=\"3d38ec7547f16a8f122c5130f3c9b70b\")>"
      ]
     },
     "execution_count": 2,
     "metadata": {},
     "output_type": "execute_result"
    }
   ],
   "source": [
    "#First Connect to web driver \n",
    "\n",
    "driver = webdriver.Edge(r\"D:\\edgedriver_win64\\msedgedriver.exe\")\n",
    "driver"
   ]
  },
  {
   "cell_type": "code",
   "execution_count": 3,
   "id": "9123850c",
   "metadata": {},
   "outputs": [],
   "source": [
    "import re\n",
    "from selenium.common.exceptions import NoSuchElementException, StaleElementReferenceException\n",
    "from selenium.webdriver.support.ui import WebDriverWait"
   ]
  },
  {
   "cell_type": "code",
   "execution_count": 89,
   "id": "67de52b3",
   "metadata": {},
   "outputs": [],
   "source": [
    "url ='https://trak.in/'\n",
    "driver.get(url)"
   ]
  },
  {
   "cell_type": "code",
   "execution_count": 90,
   "id": "9e143d44",
   "metadata": {},
   "outputs": [],
   "source": [
    "https://www.digit.in/"
   ]
  },
  {
   "cell_type": "code",
   "execution_count": null,
   "id": "7a55b573",
   "metadata": {},
   "outputs": [],
   "source": [
    "fund_button = driver.find_element(By.XAPTH,\"//li[@id='menu-item-51510']/a\").get_attribute('href')\n",
    "driver.get(fund_button)"
   ]
  },
  {
   "cell_type": "code",
   "execution_count": 91,
   "id": "4d3bb9f5",
   "metadata": {},
   "outputs": [],
   "source": [
    "date=[]\n",
    "startup=[]\n",
    "industry=[]\n",
    "subVertical=[]\n",
    "location=[]\n",
    "investor=[]\n",
    "investment=[]\n",
    "amount=[]"
   ]
  },
  {
   "cell_type": "code",
   "execution_count": 92,
   "id": "493bf2cd",
   "metadata": {},
   "outputs": [],
   "source": [
    "for i in range(54,57):\n",
    "    \n",
    "\n",
    "    dt = driver.find_elements(By.XPATH,'//table[@id=\"tablepress-{}\"]/tbody/tr/td[2]'.format(i))\n",
    "    for d in dt:\n",
    "        date.append(d.text)\n",
    "\n",
    "    sn = driver.find_elements(By.XPATH,'//table[@id=\"tablepress-{}\"]/tbody/tr/td[3]'.format(i))\n",
    "    for n in sn:\n",
    "        startup.append(n.text)\n",
    "    \n",
    "    ind = driver.find_elements(By.XPATH,'//table[@id=\"tablepress-{}\"]/tbody/tr/td[4]'.format(i))\n",
    "    for n in ind:\n",
    "        industry.append(n.text)\n",
    "    \n",
    "    sv = driver.find_elements(By.XPATH,'//table[@id=\"tablepress-{}\"]/tbody/tr/td[5]'.format(i))\n",
    "    for s in sv:\n",
    "        subVertical.append(s.text)\n",
    "\n",
    "    loc = driver.find_elements(By.XPATH,'//table[@id=\"tablepress-{}\"]/tbody/tr/td[6]'.format(i))\n",
    "    for l in loc:\n",
    "        location.append(l.text)\n",
    "    \n",
    "    inv = driver.find_elements(By.XPATH,'//table[@id=\"tablepress-{}\"]/tbody/tr/td[7]'.format(i))\n",
    "    for n in inv:\n",
    "        investor.append(n.text)\n",
    "    \n",
    "    invt = driver.find_elements(By.XPATH,'//table[@id=\"tablepress-{}\"]/tbody/tr/td[8]'.format(i))\n",
    "    for n in invt:\n",
    "        investment.append(n.text)\n",
    "    \n",
    "    amt = driver.find_elements(By.XPATH,'//table[@id=\"tablepress-{}\"]/tbody/tr/td[9]'.format(i))\n",
    "    for a in amt:\n",
    "        amount.append(a.text)"
   ]
  },
  {
   "cell_type": "code",
   "execution_count": 95,
   "id": "07c35c3e",
   "metadata": {},
   "outputs": [],
   "source": [
    "#Lets Make DataFrame\n",
    "import pandas as pd"
   ]
  },
  {
   "cell_type": "code",
   "execution_count": 96,
   "id": "c3bff3b0",
   "metadata": {},
   "outputs": [
    {
     "data": {
      "text/html": [
       "<div>\n",
       "<style scoped>\n",
       "    .dataframe tbody tr th:only-of-type {\n",
       "        vertical-align: middle;\n",
       "    }\n",
       "\n",
       "    .dataframe tbody tr th {\n",
       "        vertical-align: top;\n",
       "    }\n",
       "\n",
       "    .dataframe thead th {\n",
       "        text-align: right;\n",
       "    }\n",
       "</style>\n",
       "<table border=\"1\" class=\"dataframe\">\n",
       "  <thead>\n",
       "    <tr style=\"text-align: right;\">\n",
       "      <th></th>\n",
       "      <th>date</th>\n",
       "      <th>startup</th>\n",
       "      <th>industry</th>\n",
       "      <th>subVertical</th>\n",
       "      <th>location</th>\n",
       "      <th>investor</th>\n",
       "      <th>investment</th>\n",
       "      <th>amount</th>\n",
       "    </tr>\n",
       "  </thead>\n",
       "  <tbody>\n",
       "    <tr>\n",
       "      <th>0</th>\n",
       "      <td>15/01/2021</td>\n",
       "      <td>Digit Insurance</td>\n",
       "      <td>Financial Services</td>\n",
       "      <td>Insurance Services</td>\n",
       "      <td>Bengaluru</td>\n",
       "      <td>A91 Partners, Faering Capital, TVS Capital Funds</td>\n",
       "      <td>Venture</td>\n",
       "      <td>1,80,00,000</td>\n",
       "    </tr>\n",
       "    <tr>\n",
       "      <th>1</th>\n",
       "      <td>28/01/2021</td>\n",
       "      <td>Bombay Shaving Company</td>\n",
       "      <td>Consumer Goods Company</td>\n",
       "      <td>Shave care, beard care, and skincare products</td>\n",
       "      <td>New Delhi</td>\n",
       "      <td>Reckitt Benckiser</td>\n",
       "      <td>Venture</td>\n",
       "      <td>6,172,258.50</td>\n",
       "    </tr>\n",
       "    <tr>\n",
       "      <th>2</th>\n",
       "      <td>19/01/2021</td>\n",
       "      <td>DeHaat</td>\n",
       "      <td>AgriTech Startup</td>\n",
       "      <td>online marketplace for farm products and services</td>\n",
       "      <td>Patna</td>\n",
       "      <td>Prosus Ventures</td>\n",
       "      <td>Series C</td>\n",
       "      <td>30,000,000</td>\n",
       "    </tr>\n",
       "    <tr>\n",
       "      <th>3</th>\n",
       "      <td>19/01/2021</td>\n",
       "      <td>Darwinbox</td>\n",
       "      <td>SaaS</td>\n",
       "      <td>HR Tech</td>\n",
       "      <td>Mumbai</td>\n",
       "      <td>Salesforce Ventures</td>\n",
       "      <td>Seed</td>\n",
       "      <td>15,000,000</td>\n",
       "    </tr>\n",
       "    <tr>\n",
       "      <th>4</th>\n",
       "      <td>18/01/2021</td>\n",
       "      <td>mfine</td>\n",
       "      <td>Health Tech Startup</td>\n",
       "      <td>AI-powered telemedicine mobile app</td>\n",
       "      <td>Bengaluru</td>\n",
       "      <td>Heritas Capital Management</td>\n",
       "      <td>Venture Round</td>\n",
       "      <td>16,000,000</td>\n",
       "    </tr>\n",
       "    <tr>\n",
       "      <th>5</th>\n",
       "      <td>18/01/2021</td>\n",
       "      <td>Udayy</td>\n",
       "      <td>EdTech</td>\n",
       "      <td>Online learning platform for kids in class 1-5</td>\n",
       "      <td>Gurgaon</td>\n",
       "      <td>Sequoia Capital</td>\n",
       "      <td>Seed Funding</td>\n",
       "      <td>15,000,000</td>\n",
       "    </tr>\n",
       "    <tr>\n",
       "      <th>6</th>\n",
       "      <td>11/01/2021</td>\n",
       "      <td>True Elements</td>\n",
       "      <td>Food Startup</td>\n",
       "      <td>Whole Food plant based Nashta</td>\n",
       "      <td>Pune</td>\n",
       "      <td>SIDBI Venture Capital</td>\n",
       "      <td>Series</td>\n",
       "      <td>100,000,000</td>\n",
       "    </tr>\n",
       "    <tr>\n",
       "      <th>7</th>\n",
       "      <td>13/01/2021</td>\n",
       "      <td>Saveo</td>\n",
       "      <td>B2B E-commerce</td>\n",
       "      <td>Pharmacies</td>\n",
       "      <td>Bengaluru</td>\n",
       "      <td>Matrix Partners India, RTP Global, others</td>\n",
       "      <td>Seed</td>\n",
       "      <td>4,000,000</td>\n",
       "    </tr>\n",
       "    <tr>\n",
       "      <th>8</th>\n",
       "      <td>11/02/2021</td>\n",
       "      <td>Doubtnut</td>\n",
       "      <td>Edu Tech</td>\n",
       "      <td>E-Learning Platform</td>\n",
       "      <td>Gurgaon</td>\n",
       "      <td>SIG Global, Sequoia Capital, WaterBridge Ventu...</td>\n",
       "      <td>Series B</td>\n",
       "      <td>2,500,000</td>\n",
       "    </tr>\n",
       "    <tr>\n",
       "      <th>9</th>\n",
       "      <td>22/02/2021</td>\n",
       "      <td>Zomato</td>\n",
       "      <td>Hospitality</td>\n",
       "      <td>Online Food Delivery Platform</td>\n",
       "      <td>Gurgaon</td>\n",
       "      <td>Tiger Global, Kora</td>\n",
       "      <td>Venture</td>\n",
       "      <td>250,000,000</td>\n",
       "    </tr>\n",
       "    <tr>\n",
       "      <th>10</th>\n",
       "      <td>19/02/2021</td>\n",
       "      <td>Fingerlix</td>\n",
       "      <td>Hospitality</td>\n",
       "      <td>Semi-cooked food delivery app</td>\n",
       "      <td>Mumbai</td>\n",
       "      <td>Rhodium Trust, Accel Partners and Swiggy</td>\n",
       "      <td>Series C</td>\n",
       "      <td>2,747,045.20</td>\n",
       "    </tr>\n",
       "    <tr>\n",
       "      <th>11</th>\n",
       "      <td>17/02/2021</td>\n",
       "      <td>Zolve</td>\n",
       "      <td>FinTech</td>\n",
       "      <td>Global Neobank Venture</td>\n",
       "      <td>Mumbai</td>\n",
       "      <td>Accel Partners and Lightspeed Venture Partners</td>\n",
       "      <td>Seed</td>\n",
       "      <td>1,50,00,000</td>\n",
       "    </tr>\n",
       "    <tr>\n",
       "      <th>12</th>\n",
       "      <td>15/02/2021</td>\n",
       "      <td>KreditBee</td>\n",
       "      <td>Finance</td>\n",
       "      <td>Digital lending platform</td>\n",
       "      <td>Bengaluru</td>\n",
       "      <td>Azim Premji’s PremjiInvest and South Korea’s M...</td>\n",
       "      <td>Series C</td>\n",
       "      <td>75,000,000</td>\n",
       "    </tr>\n",
       "    <tr>\n",
       "      <th>13</th>\n",
       "      <td>12/02/2021</td>\n",
       "      <td>Pepperfry</td>\n",
       "      <td>E-commerce</td>\n",
       "      <td>Multi-brand furniture brand</td>\n",
       "      <td>Mumbai</td>\n",
       "      <td>InnoVen Capital</td>\n",
       "      <td>Debt Financing</td>\n",
       "      <td>4,773,958</td>\n",
       "    </tr>\n",
       "    <tr>\n",
       "      <th>14</th>\n",
       "      <td>12/02/2021</td>\n",
       "      <td>Grofers</td>\n",
       "      <td>E-Commerce</td>\n",
       "      <td>Online supermarket</td>\n",
       "      <td>Gurgaon</td>\n",
       "      <td>SoftBank Vision Fund (SVF)</td>\n",
       "      <td>Unspecified</td>\n",
       "      <td>55,000,000</td>\n",
       "    </tr>\n",
       "    <tr>\n",
       "      <th>15</th>\n",
       "      <td>09/02/2021</td>\n",
       "      <td>Nothing</td>\n",
       "      <td>Technology</td>\n",
       "      <td>Consumer Technology Venture</td>\n",
       "      <td>London</td>\n",
       "      <td>GV</td>\n",
       "      <td>Series A</td>\n",
       "      <td>15,000,000</td>\n",
       "    </tr>\n",
       "    <tr>\n",
       "      <th>16</th>\n",
       "      <td>09/02/2021</td>\n",
       "      <td>SplashLearn</td>\n",
       "      <td>EdTech</td>\n",
       "      <td>Game-based learning programme</td>\n",
       "      <td>Gurgaon</td>\n",
       "      <td>Owl Ventures</td>\n",
       "      <td>Series C</td>\n",
       "      <td>18,000,000</td>\n",
       "    </tr>\n",
       "    <tr>\n",
       "      <th>17</th>\n",
       "      <td>04/03/2021</td>\n",
       "      <td>DealShare</td>\n",
       "      <td>E-commerce</td>\n",
       "      <td>Online shopping platform</td>\n",
       "      <td>Jaipur, Rajasthan</td>\n",
       "      <td>Innoven Capital</td>\n",
       "      <td>Debt Financing</td>\n",
       "      <td>250,000,000</td>\n",
       "    </tr>\n",
       "    <tr>\n",
       "      <th>18</th>\n",
       "      <td>31/03/2021</td>\n",
       "      <td>Uniphore</td>\n",
       "      <td>Technology</td>\n",
       "      <td>Conversational Service Automation (CSA)</td>\n",
       "      <td>Palo Alto</td>\n",
       "      <td>Sorenson Capital Partners</td>\n",
       "      <td>Series D</td>\n",
       "      <td>140,000,000</td>\n",
       "    </tr>\n",
       "    <tr>\n",
       "      <th>19</th>\n",
       "      <td>30/03/2021</td>\n",
       "      <td>Dunzo</td>\n",
       "      <td>E-commerce</td>\n",
       "      <td>Hyper-local delivery app</td>\n",
       "      <td>Bengaluru</td>\n",
       "      <td>Krishtal Advisors Pte Ltd</td>\n",
       "      <td>Series E</td>\n",
       "      <td>8,000,000</td>\n",
       "    </tr>\n",
       "    <tr>\n",
       "      <th>20</th>\n",
       "      <td>30/03/2021</td>\n",
       "      <td>BYJU’S</td>\n",
       "      <td>Edu-tech</td>\n",
       "      <td>Online tutoring</td>\n",
       "      <td>Bengaluru</td>\n",
       "      <td>MC Global Edtech, B Capital, Baron, others</td>\n",
       "      <td>Series F</td>\n",
       "      <td>460,000,000</td>\n",
       "    </tr>\n",
       "    <tr>\n",
       "      <th>21</th>\n",
       "      <td>23/03/2021</td>\n",
       "      <td>SkilloVilla</td>\n",
       "      <td>Edu-tech</td>\n",
       "      <td>Career and job-oriented upskilling.</td>\n",
       "      <td>Bengaluru</td>\n",
       "      <td>Titan Capital, others</td>\n",
       "      <td>Seed</td>\n",
       "      <td>300,000,000</td>\n",
       "    </tr>\n",
       "    <tr>\n",
       "      <th>22</th>\n",
       "      <td>25/03/2021</td>\n",
       "      <td>CityMall</td>\n",
       "      <td>E-commerce</td>\n",
       "      <td>Social ecommerce and online grocery platform</td>\n",
       "      <td>Gurgaon</td>\n",
       "      <td>Accel Partners</td>\n",
       "      <td>Series A</td>\n",
       "      <td>11,000,000</td>\n",
       "    </tr>\n",
       "    <tr>\n",
       "      <th>23</th>\n",
       "      <td>26/03/2021</td>\n",
       "      <td>DotPe</td>\n",
       "      <td>FinTech</td>\n",
       "      <td>Commerce and payments platform to offline ente...</td>\n",
       "      <td>Gurgaon</td>\n",
       "      <td>PayU</td>\n",
       "      <td>Series A</td>\n",
       "      <td>27,500,000</td>\n",
       "    </tr>\n",
       "  </tbody>\n",
       "</table>\n",
       "</div>"
      ],
      "text/plain": [
       "          date                 startup                industry  \\\n",
       "0   15/01/2021         Digit Insurance      Financial Services   \n",
       "1   28/01/2021  Bombay Shaving Company  Consumer Goods Company   \n",
       "2   19/01/2021                  DeHaat        AgriTech Startup   \n",
       "3   19/01/2021               Darwinbox                    SaaS   \n",
       "4   18/01/2021                   mfine     Health Tech Startup   \n",
       "5   18/01/2021                   Udayy                  EdTech   \n",
       "6   11/01/2021           True Elements            Food Startup   \n",
       "7   13/01/2021                   Saveo          B2B E-commerce   \n",
       "8   11/02/2021                Doubtnut                Edu Tech   \n",
       "9   22/02/2021                  Zomato             Hospitality   \n",
       "10  19/02/2021               Fingerlix             Hospitality   \n",
       "11  17/02/2021                   Zolve                 FinTech   \n",
       "12  15/02/2021               KreditBee                 Finance   \n",
       "13  12/02/2021               Pepperfry              E-commerce   \n",
       "14  12/02/2021                 Grofers              E-Commerce   \n",
       "15  09/02/2021                 Nothing              Technology   \n",
       "16  09/02/2021             SplashLearn                  EdTech   \n",
       "17  04/03/2021               DealShare              E-commerce   \n",
       "18  31/03/2021                Uniphore              Technology   \n",
       "19  30/03/2021                   Dunzo              E-commerce   \n",
       "20  30/03/2021                  BYJU’S                Edu-tech   \n",
       "21  23/03/2021             SkilloVilla                Edu-tech   \n",
       "22  25/03/2021                CityMall              E-commerce   \n",
       "23  26/03/2021                   DotPe                 FinTech   \n",
       "\n",
       "                                          subVertical           location  \\\n",
       "0                                  Insurance Services          Bengaluru   \n",
       "1       Shave care, beard care, and skincare products          New Delhi   \n",
       "2   online marketplace for farm products and services              Patna   \n",
       "3                                             HR Tech             Mumbai   \n",
       "4                  AI-powered telemedicine mobile app          Bengaluru   \n",
       "5      Online learning platform for kids in class 1-5            Gurgaon   \n",
       "6                       Whole Food plant based Nashta               Pune   \n",
       "7                                          Pharmacies          Bengaluru   \n",
       "8                                 E-Learning Platform            Gurgaon   \n",
       "9                       Online Food Delivery Platform            Gurgaon   \n",
       "10                      Semi-cooked food delivery app             Mumbai   \n",
       "11                             Global Neobank Venture             Mumbai   \n",
       "12                           Digital lending platform          Bengaluru   \n",
       "13                        Multi-brand furniture brand             Mumbai   \n",
       "14                                 Online supermarket            Gurgaon   \n",
       "15                        Consumer Technology Venture             London   \n",
       "16                      Game-based learning programme            Gurgaon   \n",
       "17                           Online shopping platform  Jaipur, Rajasthan   \n",
       "18            Conversational Service Automation (CSA)          Palo Alto   \n",
       "19                           Hyper-local delivery app          Bengaluru   \n",
       "20                                    Online tutoring          Bengaluru   \n",
       "21                Career and job-oriented upskilling.          Bengaluru   \n",
       "22       Social ecommerce and online grocery platform            Gurgaon   \n",
       "23  Commerce and payments platform to offline ente...            Gurgaon   \n",
       "\n",
       "                                             investor      investment  \\\n",
       "0    A91 Partners, Faering Capital, TVS Capital Funds         Venture   \n",
       "1                                   Reckitt Benckiser         Venture   \n",
       "2                                     Prosus Ventures        Series C   \n",
       "3                                 Salesforce Ventures            Seed   \n",
       "4                          Heritas Capital Management   Venture Round   \n",
       "5                                     Sequoia Capital    Seed Funding   \n",
       "6                               SIDBI Venture Capital          Series   \n",
       "7           Matrix Partners India, RTP Global, others            Seed   \n",
       "8   SIG Global, Sequoia Capital, WaterBridge Ventu...        Series B   \n",
       "9                                  Tiger Global, Kora         Venture   \n",
       "10           Rhodium Trust, Accel Partners and Swiggy        Series C   \n",
       "11     Accel Partners and Lightspeed Venture Partners            Seed   \n",
       "12  Azim Premji’s PremjiInvest and South Korea’s M...        Series C   \n",
       "13                                    InnoVen Capital  Debt Financing   \n",
       "14                         SoftBank Vision Fund (SVF)     Unspecified   \n",
       "15                                                 GV        Series A   \n",
       "16                                       Owl Ventures        Series C   \n",
       "17                                    Innoven Capital  Debt Financing   \n",
       "18                          Sorenson Capital Partners        Series D   \n",
       "19                          Krishtal Advisors Pte Ltd        Series E   \n",
       "20         MC Global Edtech, B Capital, Baron, others        Series F   \n",
       "21                              Titan Capital, others            Seed   \n",
       "22                                     Accel Partners        Series A   \n",
       "23                                               PayU        Series A   \n",
       "\n",
       "          amount  \n",
       "0    1,80,00,000  \n",
       "1   6,172,258.50  \n",
       "2     30,000,000  \n",
       "3     15,000,000  \n",
       "4     16,000,000  \n",
       "5     15,000,000  \n",
       "6    100,000,000  \n",
       "7      4,000,000  \n",
       "8      2,500,000  \n",
       "9    250,000,000  \n",
       "10  2,747,045.20  \n",
       "11   1,50,00,000  \n",
       "12    75,000,000  \n",
       "13     4,773,958  \n",
       "14    55,000,000  \n",
       "15    15,000,000  \n",
       "16    18,000,000  \n",
       "17   250,000,000  \n",
       "18   140,000,000  \n",
       "19     8,000,000  \n",
       "20   460,000,000  \n",
       "21   300,000,000  \n",
       "22    11,000,000  \n",
       "23    27,500,000  "
      ]
     },
     "execution_count": 96,
     "metadata": {},
     "output_type": "execute_result"
    }
   ],
   "source": [
    "trak=pd.DataFrame({\"date\":date,\"startup\":startup,\"industry\":industry,\"subVertical\":subVertical,\"location\":location,\"investor\":investor,\"investment\":investment,\"amount\":amount})\n",
    "trak"
   ]
  },
  {
   "cell_type": "code",
   "execution_count": 97,
   "id": "be8f2e3a",
   "metadata": {},
   "outputs": [],
   "source": [
    "driver.close()"
   ]
  },
  {
   "cell_type": "markdown",
   "id": "a20bb676",
   "metadata": {},
   "source": [
    "# 7. Write a program to scrap all the available details of best gaming laptops from digit.in."
   ]
  },
  {
   "cell_type": "code",
   "execution_count": 98,
   "id": "dd456ac2",
   "metadata": {},
   "outputs": [],
   "source": [
    "#Lets import all the required libraries \n",
    "import selenium # Libraries that is used to work  with selenium\n",
    "from selenium import webdriver # importing web driver module from selenium to open automated edge window\n",
    "import pandas as pd # to create dataframe\n",
    "from selenium.webdriver.common.by import By#importing inbuild class BY\n",
    "import warnings #to ignore any sort warnings\n",
    "warnings.filterwarnings('ignore')\n",
    "import time# used to stop search engine for few seconds"
   ]
  },
  {
   "cell_type": "code",
   "execution_count": 99,
   "id": "8fdc9817",
   "metadata": {},
   "outputs": [
    {
     "data": {
      "text/plain": [
       "<selenium.webdriver.edge.webdriver.WebDriver (session=\"a3aec2f886adcfdb678b1740d275f87b\")>"
      ]
     },
     "execution_count": 99,
     "metadata": {},
     "output_type": "execute_result"
    }
   ],
   "source": [
    "#First Connect to web driver \n",
    "\n",
    "driver = webdriver.Edge(r\"D:\\edgedriver_win64\\msedgedriver.exe\")\n",
    "driver"
   ]
  },
  {
   "cell_type": "code",
   "execution_count": 100,
   "id": "59329d43",
   "metadata": {},
   "outputs": [],
   "source": [
    "import re\n",
    "from selenium.common.exceptions import NoSuchElementException, StaleElementReferenceException\n",
    "from selenium.webdriver.support.ui import WebDriverWait"
   ]
  },
  {
   "cell_type": "code",
   "execution_count": 255,
   "id": "31617a6c",
   "metadata": {},
   "outputs": [],
   "source": [
    "url ='https://www.digit.in/'\n",
    "driver.get(url)"
   ]
  },
  {
   "cell_type": "code",
   "execution_count": 256,
   "id": "29d58871",
   "metadata": {},
   "outputs": [],
   "source": [
    "#Clicking using absolute xpath function\n",
    "search_btn=driver.find_element(By.XPATH,\"//div[@class='listing_container']/ul/li[9]\")\n",
    "search_btn.click()"
   ]
  },
  {
   "cell_type": "code",
   "execution_count": 257,
   "id": "ddaec6fa",
   "metadata": {},
   "outputs": [],
   "source": [
    "# creating empty list\n",
    "Laptop_Name = []\n",
    "Operating_sys = []\n",
    "Display = []\n",
    "Processor = []\n",
    "Memory = []\n",
    "Weight = []\n",
    "Dimensions = []\n",
    "Graph_proc = []\n",
    "Price = []"
   ]
  },
  {
   "cell_type": "code",
   "execution_count": 258,
   "id": "f5012211",
   "metadata": {},
   "outputs": [],
   "source": [
    "#scraping the data of laptop names\n",
    "laptop_name = driver.find_elements(By.XPATH,\"//div[@class='right-container']/div/div/div/a/h3\")\n",
    "for name in laptop_name:\n",
    "    Laptop_Name.append(name.text)\n",
    "    \n",
    "#scraping the data of operating system\n",
    "try:\n",
    "    op_sys = driver.find_elements(By.XPATH,\"//div[@class='product-detail']/div/ul/li[1]/div/div\")\n",
    "    for os in op_sys:\n",
    "        Operating_sys.append(os.text)\n",
    "except NoSuchElementException:\n",
    "    Operating_sys.append('-')\n",
    "\n",
    "\n",
    "#scraping data of display of the Laptop\n",
    "try:\n",
    "    display = driver.find_elements(By.XPATH,\"//div[@class='product-detail']/div/ul/li[2]/div/div\")\n",
    "    for disp in display:\n",
    "        Display.append(disp.text)\n",
    "except NoSuchElementException:\n",
    "    Display.append(\"-\")\n",
    "\n",
    "\n",
    "# scraping data of processor\n",
    "try:\n",
    "    processor = driver.find_elements(By.XPATH,\"//div[@class='Spcs-details'][1]/table/tbody/tr[2]/td[3]\")\n",
    "    for pro in processor:\n",
    "        Processor.append(pro.text)\n",
    "except NoSuchElementException:\n",
    "    Processor.append('-')\n",
    "\n",
    "\n",
    "# scraping the data of memory\n",
    "try:\n",
    "    memory = driver.find_elements(By.XPATH,\"//div[@class='Spcs-details'][1]/table/tbody/tr[6]/td[3]\")\n",
    "    for memo in memory:\n",
    "        Memory.append(memo.text)\n",
    "except NoSuchElementException:\n",
    "    Memory.append('-')\n",
    "\n",
    "\n",
    "# scraping data of weight\n",
    "try:\n",
    "    weight = driver.find_elements(By.XPATH,\"//div[@class='Spcs-details'][1]/table/tbody/tr[8]/td[3]\")\n",
    "    for wgt in weight:\n",
    "        Weight.append(wgt.text.split(\" \")[8:])\n",
    "except NoSuchElementException:\n",
    "    Weight.append('-')\n",
    "\n",
    "\n",
    "# scraping data of dimensions\n",
    "try:\n",
    "    dimension = driver.find_elements(By.XPATH,\"//div[@class='Spcs-details'][1]/table/tbody/tr[8]/td[3]\")\n",
    "    for dim in dimension:\n",
    "        Dimensions.append(dim.text)\n",
    "except NoSuchElementException:\n",
    "    Dimensions.append('-')\n",
    "\n",
    "\n",
    "# scraping data of graph processor\n",
    "try:\n",
    "    graph = driver.find_elements(By.XPATH,\"//div[@class='Spcs-details'][1]/table/tbody/tr[7]/td[3]\")\n",
    "    for gra in graph:\n",
    "        Graph_proc.append(gra.text)\n",
    "except NoSuchElementException:\n",
    "    Graph_proc.append('-')\n",
    "\n",
    "\n",
    "# scraping the data of price\n",
    "try:\n",
    "    price = driver.find_elements(By.XPATH,\"//td[@class='smprice']\")\n",
    "    for pri in price:\n",
    "        Price.append(pri.text)\n",
    "except NoSuchElementException:\n",
    "    Price.append('-')"
   ]
  },
  {
   "cell_type": "code",
   "execution_count": 259,
   "id": "f69bc4bb",
   "metadata": {},
   "outputs": [],
   "source": [
    "#Lets make dataframe\n",
    "import pandas as pd\n",
    "laptop=pd.DataFrame({'Laptop_Name':Laptop_Name,\"Operating_sys\":Operating_sys,\"Display\":Display,\"Memory\":Memory,\"Weight\":Weight,\"Dimensions\":Dimensions,\"Graph_proc\":Graph_proc,\"Price\":Price})"
   ]
  },
  {
   "cell_type": "code",
   "execution_count": 260,
   "id": "e101114a",
   "metadata": {},
   "outputs": [
    {
     "data": {
      "text/html": [
       "<div>\n",
       "<style scoped>\n",
       "    .dataframe tbody tr th:only-of-type {\n",
       "        vertical-align: middle;\n",
       "    }\n",
       "\n",
       "    .dataframe tbody tr th {\n",
       "        vertical-align: top;\n",
       "    }\n",
       "\n",
       "    .dataframe thead th {\n",
       "        text-align: right;\n",
       "    }\n",
       "</style>\n",
       "<table border=\"1\" class=\"dataframe\">\n",
       "  <thead>\n",
       "    <tr style=\"text-align: right;\">\n",
       "      <th></th>\n",
       "      <th>Laptop_Name</th>\n",
       "      <th>Operating_sys</th>\n",
       "      <th>Display</th>\n",
       "      <th>Memory</th>\n",
       "      <th>Weight</th>\n",
       "      <th>Dimensions</th>\n",
       "      <th>Graph_proc</th>\n",
       "      <th>Price</th>\n",
       "    </tr>\n",
       "  </thead>\n",
       "  <tbody>\n",
       "    <tr>\n",
       "      <th>0</th>\n",
       "      <td>MSI Titan GT77-12UHS</td>\n",
       "      <td>Windows 11 Home OS</td>\n",
       "      <td>17.3\" (3840 x 2160) Display</td>\n",
       "      <td>64 GB DDR5 RAM &amp; 2 TB SSD</td>\n",
       "      <td>[3.3, kg, weight]</td>\n",
       "      <td>397 x 330 x 23 mm dimension &amp; 3.3 kg weight</td>\n",
       "      <td>16 GB DDR6 NVIDIA GeForce RTX 3080 Ti Graphics...</td>\n",
       "      <td>N/A</td>\n",
       "    </tr>\n",
       "    <tr>\n",
       "      <th>1</th>\n",
       "      <td>Alienware X17 R2</td>\n",
       "      <td>Windows 11 Home OS</td>\n",
       "      <td>17.3\" (1920 x 1080) Display</td>\n",
       "      <td>32 GB DDR5 RAM &amp; 1 TB SSD</td>\n",
       "      <td>[2.96, kg, weight]</td>\n",
       "      <td>299 x 359 x 21 mm dimension &amp; 2.96 kg weight</td>\n",
       "      <td>16 GB DDR6 NVIDIA GEFORCE RTX 3080 Ti Graphics...</td>\n",
       "      <td>₹ 389,990</td>\n",
       "    </tr>\n",
       "    <tr>\n",
       "      <th>2</th>\n",
       "      <td>Acer Predator Triton 500 SE PT516-52s</td>\n",
       "      <td>Windows 11 OS</td>\n",
       "      <td>16\" (2560 x 1600) Display</td>\n",
       "      <td>32 GB DDR5 RAM &amp; 2 TB SSD</td>\n",
       "      <td>[2.4, kg, weight]</td>\n",
       "      <td>262 x 359 x 20 mm dimension &amp; 2.4 kg weight</td>\n",
       "      <td>8 GB DDR6 NVIDIA GeForce RTX 3070 Ti Graphics ...</td>\n",
       "      <td>₹ 229,990</td>\n",
       "    </tr>\n",
       "    <tr>\n",
       "      <th>3</th>\n",
       "      <td>Omen By HP (16-B1371TX)</td>\n",
       "      <td>Windows 11 Home OS</td>\n",
       "      <td>16.1\" (2560 x 1440) Display</td>\n",
       "      <td>8 GB DDR5 RAM &amp; 1 TB SSD</td>\n",
       "      <td>[2.32, kg, weight]</td>\n",
       "      <td>369 x 248 x 23 mm dimension &amp; 2.32 kg weight</td>\n",
       "      <td>8 GB GDDR6 NVIDIA GeForce RTX 3070 Graphics card</td>\n",
       "      <td>₹ 176,290</td>\n",
       "    </tr>\n",
       "    <tr>\n",
       "      <th>4</th>\n",
       "      <td>Acer Predator Helios 300 AN515-45</td>\n",
       "      <td>Windows 11 Home OS</td>\n",
       "      <td>15.6\" (2560 x 1440) Display</td>\n",
       "      <td>16 GB DDR4 RAM &amp; 512 GB SSD</td>\n",
       "      <td>[2.4, kg, weight]</td>\n",
       "      <td>363 x 255 x 23.9 mm dimension &amp; 2.4 kg weight</td>\n",
       "      <td>8 GB DDR6 NVIDIA GeForce RTX 3070 Graphics card</td>\n",
       "      <td>₹ 172,999</td>\n",
       "    </tr>\n",
       "    <tr>\n",
       "      <th>5</th>\n",
       "      <td>MSI Delta 15 (A5EFK-083IN)</td>\n",
       "      <td>Windows 11 Home OS</td>\n",
       "      <td>15.6\" (1920 x 1080) Display</td>\n",
       "      <td>16 GB DDR4 RAM &amp; 1 TB SSD</td>\n",
       "      <td>[1.9, kg, weight]</td>\n",
       "      <td>357 x 247 x 19 mm dimension &amp; 1.9 kg weight</td>\n",
       "      <td>10 GB DDR6 AMD Radeon RX 6700M Graphics card</td>\n",
       "      <td>₹ 188,990</td>\n",
       "    </tr>\n",
       "    <tr>\n",
       "      <th>6</th>\n",
       "      <td>Omen By HP (16-C0141AX)</td>\n",
       "      <td>Windows 11 Home OS</td>\n",
       "      <td>16.1\" (2560 x 1440) Display</td>\n",
       "      <td>16 GB DDR4 RAM &amp; 1 TB NVMe</td>\n",
       "      <td>[2.3, kg, weight]</td>\n",
       "      <td>36.92 x 24.8 x 2.3 mm dimension &amp; 2.3 kg weight</td>\n",
       "      <td>8 GB GDDR6 AMD Radeon™ RX 6600M Graphics card</td>\n",
       "      <td>₹ 124,990</td>\n",
       "    </tr>\n",
       "    <tr>\n",
       "      <th>7</th>\n",
       "      <td>Lenovo Legion 5i Pro (82RF00MGIN)</td>\n",
       "      <td>Windows 11 Home OS</td>\n",
       "      <td>16\" (2560 x 1600) Display</td>\n",
       "      <td>16 GB DDR5 RAM &amp; 1 TB SSD</td>\n",
       "      <td>[2.49, kg, weight]</td>\n",
       "      <td>360 x 264 x 20 mm dimension &amp; 2.49 kg weight</td>\n",
       "      <td>6 GB DDR6 NVIDIA GeForce RTX 3060 Graphics card</td>\n",
       "      <td>₹ 162,869</td>\n",
       "    </tr>\n",
       "    <tr>\n",
       "      <th>8</th>\n",
       "      <td>Alienware M15 R5 Ryzen Edition Icc-C780001win</td>\n",
       "      <td>Windows 11 Home OS</td>\n",
       "      <td>15.6\" (1920 x 1080) Display</td>\n",
       "      <td>16 GB DDR4 RAM &amp; 512 GB SSD</td>\n",
       "      <td>[2.69, kg, weight]</td>\n",
       "      <td>356.2 x 272.5 x 22.85 mm dimension &amp; 2.69 kg w...</td>\n",
       "      <td>6 GB DDR6 NVIDIA GeForce RTX 3060 Graphics card</td>\n",
       "      <td>₹ 174,000</td>\n",
       "    </tr>\n",
       "    <tr>\n",
       "      <th>9</th>\n",
       "      <td>Lenovo Slim 7 Gen 6 (82K8002JIN)</td>\n",
       "      <td>Windows 11 Home OS</td>\n",
       "      <td>15.6 MP | NA Display</td>\n",
       "      <td>16 GB DDR4 RAM &amp; 1 TB SSD</td>\n",
       "      <td>[1.9, kg, weight]</td>\n",
       "      <td>356 x 252 x 16 mm dimension &amp; 1.9 kg weight</td>\n",
       "      <td>6 GB DDR6 NVIDIA GeForce 3060 Max-Q Graphics card</td>\n",
       "      <td>₹ 131,990</td>\n",
       "    </tr>\n",
       "  </tbody>\n",
       "</table>\n",
       "</div>"
      ],
      "text/plain": [
       "                                     Laptop_Name       Operating_sys  \\\n",
       "0                           MSI Titan GT77-12UHS  Windows 11 Home OS   \n",
       "1                               Alienware X17 R2  Windows 11 Home OS   \n",
       "2          Acer Predator Triton 500 SE PT516-52s       Windows 11 OS   \n",
       "3                        Omen By HP (16-B1371TX)  Windows 11 Home OS   \n",
       "4              Acer Predator Helios 300 AN515-45  Windows 11 Home OS   \n",
       "5                     MSI Delta 15 (A5EFK-083IN)  Windows 11 Home OS   \n",
       "6                        Omen By HP (16-C0141AX)  Windows 11 Home OS   \n",
       "7              Lenovo Legion 5i Pro (82RF00MGIN)  Windows 11 Home OS   \n",
       "8  Alienware M15 R5 Ryzen Edition Icc-C780001win  Windows 11 Home OS   \n",
       "9               Lenovo Slim 7 Gen 6 (82K8002JIN)  Windows 11 Home OS   \n",
       "\n",
       "                       Display                       Memory  \\\n",
       "0  17.3\" (3840 x 2160) Display    64 GB DDR5 RAM & 2 TB SSD   \n",
       "1  17.3\" (1920 x 1080) Display    32 GB DDR5 RAM & 1 TB SSD   \n",
       "2    16\" (2560 x 1600) Display    32 GB DDR5 RAM & 2 TB SSD   \n",
       "3  16.1\" (2560 x 1440) Display     8 GB DDR5 RAM & 1 TB SSD   \n",
       "4  15.6\" (2560 x 1440) Display  16 GB DDR4 RAM & 512 GB SSD   \n",
       "5  15.6\" (1920 x 1080) Display    16 GB DDR4 RAM & 1 TB SSD   \n",
       "6  16.1\" (2560 x 1440) Display   16 GB DDR4 RAM & 1 TB NVMe   \n",
       "7    16\" (2560 x 1600) Display    16 GB DDR5 RAM & 1 TB SSD   \n",
       "8  15.6\" (1920 x 1080) Display  16 GB DDR4 RAM & 512 GB SSD   \n",
       "9         15.6 MP | NA Display    16 GB DDR4 RAM & 1 TB SSD   \n",
       "\n",
       "               Weight                                         Dimensions  \\\n",
       "0   [3.3, kg, weight]        397 x 330 x 23 mm dimension & 3.3 kg weight   \n",
       "1  [2.96, kg, weight]       299 x 359 x 21 mm dimension & 2.96 kg weight   \n",
       "2   [2.4, kg, weight]        262 x 359 x 20 mm dimension & 2.4 kg weight   \n",
       "3  [2.32, kg, weight]       369 x 248 x 23 mm dimension & 2.32 kg weight   \n",
       "4   [2.4, kg, weight]      363 x 255 x 23.9 mm dimension & 2.4 kg weight   \n",
       "5   [1.9, kg, weight]        357 x 247 x 19 mm dimension & 1.9 kg weight   \n",
       "6   [2.3, kg, weight]    36.92 x 24.8 x 2.3 mm dimension & 2.3 kg weight   \n",
       "7  [2.49, kg, weight]       360 x 264 x 20 mm dimension & 2.49 kg weight   \n",
       "8  [2.69, kg, weight]  356.2 x 272.5 x 22.85 mm dimension & 2.69 kg w...   \n",
       "9   [1.9, kg, weight]        356 x 252 x 16 mm dimension & 1.9 kg weight   \n",
       "\n",
       "                                          Graph_proc      Price  \n",
       "0  16 GB DDR6 NVIDIA GeForce RTX 3080 Ti Graphics...        N/A  \n",
       "1  16 GB DDR6 NVIDIA GEFORCE RTX 3080 Ti Graphics...  ₹ 389,990  \n",
       "2  8 GB DDR6 NVIDIA GeForce RTX 3070 Ti Graphics ...  ₹ 229,990  \n",
       "3   8 GB GDDR6 NVIDIA GeForce RTX 3070 Graphics card  ₹ 176,290  \n",
       "4    8 GB DDR6 NVIDIA GeForce RTX 3070 Graphics card  ₹ 172,999  \n",
       "5       10 GB DDR6 AMD Radeon RX 6700M Graphics card  ₹ 188,990  \n",
       "6      8 GB GDDR6 AMD Radeon™ RX 6600M Graphics card  ₹ 124,990  \n",
       "7    6 GB DDR6 NVIDIA GeForce RTX 3060 Graphics card  ₹ 162,869  \n",
       "8    6 GB DDR6 NVIDIA GeForce RTX 3060 Graphics card  ₹ 174,000  \n",
       "9  6 GB DDR6 NVIDIA GeForce 3060 Max-Q Graphics card  ₹ 131,990  "
      ]
     },
     "execution_count": 260,
     "metadata": {},
     "output_type": "execute_result"
    }
   ],
   "source": [
    "laptop"
   ]
  },
  {
   "cell_type": "code",
   "execution_count": 261,
   "id": "683a1cba",
   "metadata": {},
   "outputs": [],
   "source": [
    "driver.close()"
   ]
  },
  {
   "cell_type": "markdown",
   "id": "bb1a47f2",
   "metadata": {},
   "source": [
    "# 8. Write a python program to scrape the details for all billionaires from www.forbes.com. Details to be scrapped: “Rank”, “Name”, “Net worth”, “Age”, “Citizenship”, “Source”, “Industry”."
   ]
  },
  {
   "cell_type": "code",
   "execution_count": 276,
   "id": "9a42282b",
   "metadata": {},
   "outputs": [],
   "source": [
    "#Lets import all the required libraries \n",
    "import selenium # Libraries that is used to work  with selenium\n",
    "from selenium import webdriver # importing web driver module from selenium to open automated edge window\n",
    "import pandas as pd # to create dataframe\n",
    "from selenium.webdriver.common.by import By#importing inbuild class BY\n",
    "import warnings #to ignore any sort warnings\n",
    "warnings.filterwarnings('ignore')\n",
    "import time# used to stop search engine for few seconds"
   ]
  },
  {
   "cell_type": "code",
   "execution_count": 277,
   "id": "63df1a57",
   "metadata": {},
   "outputs": [
    {
     "data": {
      "text/plain": [
       "<selenium.webdriver.edge.webdriver.WebDriver (session=\"d8085053220cf57fe95da8e3bbf7d075\")>"
      ]
     },
     "execution_count": 277,
     "metadata": {},
     "output_type": "execute_result"
    }
   ],
   "source": [
    "#First Connect to web driver \n",
    "\n",
    "driver = webdriver.Edge(r\"D:\\edgedriver_win64\\msedgedriver.exe\")\n",
    "driver"
   ]
  },
  {
   "cell_type": "code",
   "execution_count": 278,
   "id": "a17354ba",
   "metadata": {},
   "outputs": [],
   "source": [
    "import re\n",
    "from selenium.common.exceptions import NoSuchElementException, StaleElementReferenceException\n",
    "from selenium.webdriver.support.ui import WebDriverWait"
   ]
  },
  {
   "cell_type": "code",
   "execution_count": 315,
   "id": "e36f9df8",
   "metadata": {},
   "outputs": [],
   "source": [
    "url ='https://www.forbes.com/'\n",
    "driver.get(url)"
   ]
  },
  {
   "cell_type": "code",
   "execution_count": 316,
   "id": "efa95c32",
   "metadata": {},
   "outputs": [],
   "source": [
    "#let's get option button from the page\n",
    "opt_btn = driver.find_element(By.XPATH,\"//div[@class='_69hVhdY4']\")\n",
    "opt_btn.click()\n",
    "time.sleep(3)"
   ]
  },
  {
   "cell_type": "code",
   "execution_count": 317,
   "id": "593ae1a8",
   "metadata": {},
   "outputs": [],
   "source": [
    "#let's get option button from the page\n",
    "opt_btn = driver.find_element(By.XPATH,\"//div[@class='mpBfVZz3']\")\n",
    "opt_btn.click()\n",
    "time.sleep(3)"
   ]
  },
  {
   "cell_type": "code",
   "execution_count": 318,
   "id": "0ac47e6d",
   "metadata": {},
   "outputs": [],
   "source": [
    "#let's get option button from the page\n",
    "opt_btn = driver.find_element(By.XPATH,\"//a[@class='chansec-special-feature__title-wrapper']\")\n",
    "opt_btn.click()\n",
    "time.sleep(3)"
   ]
  },
  {
   "cell_type": "code",
   "execution_count": 312,
   "id": "9a2716f9",
   "metadata": {},
   "outputs": [],
   "source": [
    "# creating empty lists\n",
    "Rank = []\n",
    "Person_Name = []\n",
    "Net_worth = []\n",
    "Age = []\n",
    "Citizenship = []\n",
    "Source = []\n",
    "Industry = []\n"
   ]
  },
  {
   "cell_type": "code",
   "execution_count": 321,
   "id": "7a5ac0c7",
   "metadata": {},
   "outputs": [],
   "source": [
    "while(True):\n",
    "    \n",
    "    # scraping the data of rank of the billionaires\n",
    "    rank_tag = driver.find_elements(By.XPATH,\"//div[@class='rank']\")\n",
    "    for rank in rank_tag:\n",
    "        Rank.append(rank.text)\n",
    "    time.sleep(1)\n",
    "    \n",
    "    \n",
    " \n",
    "    # scraping the data  of names of the billionaires\n",
    "    name_tag = driver.find_elements(By.XPATH,\"//div[@class='personName']/div\")\n",
    "    for name in name_tag:\n",
    "        Person_Name.append(name.text)\n",
    "    time.sleep(1)\n",
    "    \n",
    "    \n",
    "    # scraping the data of age of the billionaires\n",
    "    age_tag = driver.find_elements(By.XPATH,\"//div[@class='age']/div\")\n",
    "    for age in age_tag:\n",
    "        Age.append(age.text)\n",
    "    time.sleep(1)\n",
    "    \n",
    "    \n",
    "    # scraping the data of citizenship of the billionaires\n",
    "    cit_tag = driver.find_elements(By.XPATH,\"//div[@class='countryOfCitizenship']\")\n",
    "    for cit in cit_tag:\n",
    "        Citizenship.append(cit.text)\n",
    "    time.sleep(1)\n",
    "    \n",
    "    \n",
    "    # scraping the data of source of income of the billionaires\n",
    "    sour_tag = driver.find_elements(By.XPATH,\"//div[@class='source']/div/div\")\n",
    "    for sour in sour_tag:\n",
    "        Source.append(sour.text)\n",
    "    time.sleep(1)\n",
    "    \n",
    "    \n",
    "    # scraping data of industry of the billionaires\n",
    "    ind_tag = driver.find_elements(By.XPATH,\"//div[@class='category']//div\")\n",
    "    for ind in ind_tag:\n",
    "        Industry.append(ind.text)\n",
    "    time.sleep(1)\n",
    "    \n",
    "    \n",
    "    # scraping data of net_worth of billionaires\n",
    "    net_tag = driver.find_elements(By.XPATH,\"//div[@class='netWorth']/div\")\n",
    "    for net in net_tag:\n",
    "        Net_worth.append(net.text)\n",
    "    time.sleep(1)\n",
    "    \n",
    "    \n",
    "    # clicking on next button\n",
    "    try:\n",
    "        next_button = driver.find_element(By.XPATH,\"//button[@class='pagination-btn pagination-btn--next ']\")\n",
    "        next_button.click()\n",
    "    except:\n",
    "        break"
   ]
  },
  {
   "cell_type": "code",
   "execution_count": null,
   "id": "6e767340",
   "metadata": {},
   "outputs": [],
   "source": [
    "Source=Source[0::2]\n",
    "len(Source)"
   ]
  },
  {
   "cell_type": "code",
   "execution_count": 335,
   "id": "064b9e97",
   "metadata": {},
   "outputs": [],
   "source": [
    "#Lets make dataframe\n",
    "import pandas as pd\n",
    "forbes=pd.DataFrame({\"Rank\":Rank,\"Person_Name\":Person_Name,\"Net_worth\":Net_worth,\"Age\":Age,\"Citizenship\":Citizenship,\"Source\":Source,\"Industry\":Industry })"
   ]
  },
  {
   "cell_type": "code",
   "execution_count": 336,
   "id": "ec140067",
   "metadata": {},
   "outputs": [
    {
     "data": {
      "text/html": [
       "<div>\n",
       "<style scoped>\n",
       "    .dataframe tbody tr th:only-of-type {\n",
       "        vertical-align: middle;\n",
       "    }\n",
       "\n",
       "    .dataframe tbody tr th {\n",
       "        vertical-align: top;\n",
       "    }\n",
       "\n",
       "    .dataframe thead th {\n",
       "        text-align: right;\n",
       "    }\n",
       "</style>\n",
       "<table border=\"1\" class=\"dataframe\">\n",
       "  <thead>\n",
       "    <tr style=\"text-align: right;\">\n",
       "      <th></th>\n",
       "      <th>Rank</th>\n",
       "      <th>Person_Name</th>\n",
       "      <th>Net_worth</th>\n",
       "      <th>Age</th>\n",
       "      <th>Citizenship</th>\n",
       "      <th>Source</th>\n",
       "      <th>Industry</th>\n",
       "    </tr>\n",
       "  </thead>\n",
       "  <tbody>\n",
       "    <tr>\n",
       "      <th>0</th>\n",
       "      <td>1.</td>\n",
       "      <td>Elon Musk</td>\n",
       "      <td>$219 B</td>\n",
       "      <td>50</td>\n",
       "      <td>United States</td>\n",
       "      <td>Tesla, SpaceX</td>\n",
       "      <td>Automotive</td>\n",
       "    </tr>\n",
       "    <tr>\n",
       "      <th>1</th>\n",
       "      <td>2.</td>\n",
       "      <td>Jeff Bezos</td>\n",
       "      <td>$171 B</td>\n",
       "      <td>58</td>\n",
       "      <td>United States</td>\n",
       "      <td>Amazon</td>\n",
       "      <td>Technology</td>\n",
       "    </tr>\n",
       "    <tr>\n",
       "      <th>2</th>\n",
       "      <td>3.</td>\n",
       "      <td>Bernard Arnault &amp; family</td>\n",
       "      <td>$158 B</td>\n",
       "      <td>73</td>\n",
       "      <td>France</td>\n",
       "      <td>LVMH</td>\n",
       "      <td>Fashion &amp; Retail</td>\n",
       "    </tr>\n",
       "    <tr>\n",
       "      <th>3</th>\n",
       "      <td>4.</td>\n",
       "      <td>Bill Gates</td>\n",
       "      <td>$129 B</td>\n",
       "      <td>66</td>\n",
       "      <td>United States</td>\n",
       "      <td>Microsoft</td>\n",
       "      <td>Technology</td>\n",
       "    </tr>\n",
       "    <tr>\n",
       "      <th>4</th>\n",
       "      <td>5.</td>\n",
       "      <td>Warren Buffett</td>\n",
       "      <td>$118 B</td>\n",
       "      <td>91</td>\n",
       "      <td>United States</td>\n",
       "      <td>Berkshire Hathaway</td>\n",
       "      <td>Finance &amp; Investments</td>\n",
       "    </tr>\n",
       "    <tr>\n",
       "      <th>...</th>\n",
       "      <td>...</td>\n",
       "      <td>...</td>\n",
       "      <td>...</td>\n",
       "      <td>...</td>\n",
       "      <td>...</td>\n",
       "      <td>...</td>\n",
       "      <td>...</td>\n",
       "    </tr>\n",
       "    <tr>\n",
       "      <th>2863</th>\n",
       "      <td>2578.</td>\n",
       "      <td>Zhang Yuqiang</td>\n",
       "      <td>$1 B</td>\n",
       "      <td>66</td>\n",
       "      <td>China</td>\n",
       "      <td>Fiberglass</td>\n",
       "      <td>Manufacturing</td>\n",
       "    </tr>\n",
       "    <tr>\n",
       "      <th>2864</th>\n",
       "      <td>2578.</td>\n",
       "      <td>Zhou Ruxin</td>\n",
       "      <td>$1 B</td>\n",
       "      <td>59</td>\n",
       "      <td>China</td>\n",
       "      <td>Navigation</td>\n",
       "      <td>Technology</td>\n",
       "    </tr>\n",
       "    <tr>\n",
       "      <th>2865</th>\n",
       "      <td>2578.</td>\n",
       "      <td>Wen Zhou &amp; family</td>\n",
       "      <td>$1 B</td>\n",
       "      <td>57</td>\n",
       "      <td>China</td>\n",
       "      <td>chemicals</td>\n",
       "      <td>Manufacturing</td>\n",
       "    </tr>\n",
       "    <tr>\n",
       "      <th>2866</th>\n",
       "      <td>2578.</td>\n",
       "      <td>Zhou Yifeng &amp; family</td>\n",
       "      <td>$1 B</td>\n",
       "      <td>43</td>\n",
       "      <td>China</td>\n",
       "      <td>liquefied petroleum gas</td>\n",
       "      <td>Energy</td>\n",
       "    </tr>\n",
       "    <tr>\n",
       "      <th>2867</th>\n",
       "      <td>2578.</td>\n",
       "      <td>Zhuang Kuilong &amp; family</td>\n",
       "      <td>$1 B</td>\n",
       "      <td>59</td>\n",
       "      <td>China</td>\n",
       "      <td>polyester</td>\n",
       "      <td>Manufacturing</td>\n",
       "    </tr>\n",
       "  </tbody>\n",
       "</table>\n",
       "<p>2868 rows × 7 columns</p>\n",
       "</div>"
      ],
      "text/plain": [
       "       Rank               Person_Name Net_worth Age    Citizenship  \\\n",
       "0        1.                 Elon Musk    $219 B  50  United States   \n",
       "1        2.                Jeff Bezos    $171 B  58  United States   \n",
       "2        3.  Bernard Arnault & family    $158 B  73         France   \n",
       "3        4.                Bill Gates    $129 B  66  United States   \n",
       "4        5.            Warren Buffett    $118 B  91  United States   \n",
       "...     ...                       ...       ...  ..            ...   \n",
       "2863  2578.             Zhang Yuqiang      $1 B  66          China   \n",
       "2864  2578.                Zhou Ruxin      $1 B  59          China   \n",
       "2865  2578.         Wen Zhou & family      $1 B  57          China   \n",
       "2866  2578.      Zhou Yifeng & family      $1 B  43          China   \n",
       "2867  2578.   Zhuang Kuilong & family      $1 B  59          China   \n",
       "\n",
       "                       Source               Industry  \n",
       "0               Tesla, SpaceX             Automotive  \n",
       "1                      Amazon             Technology  \n",
       "2                        LVMH       Fashion & Retail  \n",
       "3                   Microsoft             Technology  \n",
       "4          Berkshire Hathaway  Finance & Investments  \n",
       "...                       ...                    ...  \n",
       "2863               Fiberglass          Manufacturing  \n",
       "2864               Navigation             Technology  \n",
       "2865                chemicals          Manufacturing  \n",
       "2866  liquefied petroleum gas                 Energy  \n",
       "2867                polyester          Manufacturing  \n",
       "\n",
       "[2868 rows x 7 columns]"
      ]
     },
     "execution_count": 336,
     "metadata": {},
     "output_type": "execute_result"
    }
   ],
   "source": [
    "forbes"
   ]
  },
  {
   "cell_type": "code",
   "execution_count": 337,
   "id": "4f23209f",
   "metadata": {},
   "outputs": [],
   "source": [
    "driver.close()"
   ]
  },
  {
   "cell_type": "markdown",
   "id": "32d7475e",
   "metadata": {},
   "source": [
    "# 9. Write a program to extract at least 500 Comments, Comment upvote and time when comment was posted from any YouTube Video"
   ]
  },
  {
   "cell_type": "code",
   "execution_count": 1,
   "id": "79a23968",
   "metadata": {},
   "outputs": [],
   "source": [
    "#Lets import all the required libraries \n",
    "import selenium # Libraries that is used to work  with selenium\n",
    "from selenium import webdriver # importing web driver module from selenium to open automated edge window\n",
    "import pandas as pd # to create dataframe\n",
    "from selenium.webdriver.common.by import By#importing inbuild class BY\n",
    "import warnings #to ignore any sort warnings\n",
    "warnings.filterwarnings('ignore')\n",
    "import time# used to stop search engine for few seconds"
   ]
  },
  {
   "cell_type": "code",
   "execution_count": 2,
   "id": "40e32200",
   "metadata": {},
   "outputs": [
    {
     "data": {
      "text/plain": [
       "<selenium.webdriver.edge.webdriver.WebDriver (session=\"d3e284db35928ec29f1836a874112fd8\")>"
      ]
     },
     "execution_count": 2,
     "metadata": {},
     "output_type": "execute_result"
    }
   ],
   "source": [
    "#First Connect to web driver \n",
    "\n",
    "driver = webdriver.Edge(r\"D:\\edgedriver_win64\\msedgedriver.exe\")\n",
    "driver"
   ]
  },
  {
   "cell_type": "code",
   "execution_count": 3,
   "id": "6f472d2b",
   "metadata": {},
   "outputs": [],
   "source": [
    "import re\n",
    "from selenium.common.exceptions import NoSuchElementException, StaleElementReferenceException\n",
    "from selenium.webdriver.support.ui import WebDriverWait"
   ]
  },
  {
   "cell_type": "code",
   "execution_count": 43,
   "id": "c65a27b0",
   "metadata": {},
   "outputs": [],
   "source": [
    "url =\"https://www.youtube.com/\"\n",
    "driver.get(url)"
   ]
  },
  {
   "cell_type": "code",
   "execution_count": 44,
   "id": "9366b55c",
   "metadata": {},
   "outputs": [
    {
     "name": "stdout",
     "output_type": "stream",
     "text": [
      "Search What You Want BB Ki Vines\n"
     ]
    },
    {
     "data": {
      "text/plain": [
       "'BB Ki Vines'"
      ]
     },
     "execution_count": 44,
     "metadata": {},
     "output_type": "execute_result"
    }
   ],
   "source": [
    "user_input=input(\"Search What You Want \")\n",
    "user_input\n"
   ]
  },
  {
   "cell_type": "code",
   "execution_count": 45,
   "id": "906fd2c4",
   "metadata": {},
   "outputs": [],
   "source": [
    "#Finding the web element for search \n",
    "search_job=driver.find_element(By.XPATH,\"//input[@id='search']\")\n",
    "search_job.send_keys(user_input)"
   ]
  },
  {
   "cell_type": "code",
   "execution_count": 46,
   "id": "6a4a2618",
   "metadata": {},
   "outputs": [],
   "source": [
    "\n",
    "#Clicking using absolute xpath function\n",
    "search_btn=driver.find_element(By.XPATH,\"//button[@id='search-icon-legacy']\")\n",
    "search_btn.click()"
   ]
  },
  {
   "cell_type": "code",
   "execution_count": 47,
   "id": "ff515362",
   "metadata": {},
   "outputs": [],
   "source": [
    "\n",
    "#Clicking using absolute xpath function\n",
    "search_btn=driver.find_element(By.XPATH,\"//a[@id='video-title']\")\n",
    "search_btn.click()"
   ]
  },
  {
   "cell_type": "code",
   "execution_count": 48,
   "id": "a5563aa2",
   "metadata": {},
   "outputs": [],
   "source": [
    "# 500 times we scroll down by 10000 in order to generate more comments\n",
    "for _ in range(1500):\n",
    "    driver.execute_script(\"window.scrollBy(0,10000)\")"
   ]
  },
  {
   "cell_type": "code",
   "execution_count": 49,
   "id": "e3da7412",
   "metadata": {},
   "outputs": [],
   "source": [
    "cmt = []\n",
    "upvt = []\n",
    "cmttime = []"
   ]
  },
  {
   "cell_type": "code",
   "execution_count": 50,
   "id": "fe3edd1a",
   "metadata": {},
   "outputs": [],
   "source": [
    "cmt_tag = driver.find_elements(By.XPATH,\"//yt-formatted-string[@id='content-text']\")\n",
    "for i in cmt_tag:\n",
    "    cmt.append(i.text.replace(\"\\n\",''))\n",
    "\n",
    "upvt_tag = driver.find_elements(By.XPATH,\"//span[@class='style-scope ytd-comment-action-buttons-renderer']\")\n",
    "for j in upvt_tag:\n",
    "    try: \n",
    "        upvt.append(j.text)\n",
    "    except:\n",
    "        upvt.append('-')\n",
    "cmttime_tag = driver.find_elements(By.XPATH,\"//a[contains(text(),'ago')]\")\n",
    "for k in cmttime_tag:\n",
    "    try: \n",
    "        cmttime.append(k.text)\n",
    "    except:\n",
    "        cmttime.append('-')"
   ]
  },
  {
   "cell_type": "code",
   "execution_count": 62,
   "id": "711d014e",
   "metadata": {},
   "outputs": [
    {
     "data": {
      "text/plain": [
       "500"
      ]
     },
     "execution_count": 62,
     "metadata": {},
     "output_type": "execute_result"
    }
   ],
   "source": [
    "cmt=cmt[0:500]\n",
    "len(cmt)"
   ]
  },
  {
   "cell_type": "code",
   "execution_count": 63,
   "id": "6e538a44",
   "metadata": {},
   "outputs": [
    {
     "data": {
      "text/plain": [
       "500"
      ]
     },
     "execution_count": 63,
     "metadata": {},
     "output_type": "execute_result"
    }
   ],
   "source": [
    "cmttime=cmttime[0:500]\n",
    "len(cmttime)"
   ]
  },
  {
   "cell_type": "code",
   "execution_count": 64,
   "id": "79d6d43e",
   "metadata": {},
   "outputs": [
    {
     "data": {
      "text/plain": [
       "500"
      ]
     },
     "execution_count": 64,
     "metadata": {},
     "output_type": "execute_result"
    }
   ],
   "source": [
    "cmttime=cmttime[0:500]\n",
    "len(cmttime)"
   ]
  },
  {
   "cell_type": "code",
   "execution_count": 68,
   "id": "988b0186",
   "metadata": {},
   "outputs": [
    {
     "data": {
      "text/plain": [
       "500"
      ]
     },
     "execution_count": 68,
     "metadata": {},
     "output_type": "execute_result"
    }
   ],
   "source": [
    "upvt=upvt[0:500]\n",
    "len(upvt)"
   ]
  },
  {
   "cell_type": "code",
   "execution_count": 56,
   "id": "e2a5c1eb",
   "metadata": {},
   "outputs": [
    {
     "data": {
      "text/plain": [
       "720"
      ]
     },
     "execution_count": 56,
     "metadata": {},
     "output_type": "execute_result"
    }
   ],
   "source": [
    "upvt=upvt[1::2]\n",
    "len(upvt)"
   ]
  },
  {
   "cell_type": "code",
   "execution_count": 70,
   "id": "08e9c036",
   "metadata": {},
   "outputs": [
    {
     "data": {
      "text/html": [
       "<div>\n",
       "<style scoped>\n",
       "    .dataframe tbody tr th:only-of-type {\n",
       "        vertical-align: middle;\n",
       "    }\n",
       "\n",
       "    .dataframe tbody tr th {\n",
       "        vertical-align: top;\n",
       "    }\n",
       "\n",
       "    .dataframe thead th {\n",
       "        text-align: right;\n",
       "    }\n",
       "</style>\n",
       "<table border=\"1\" class=\"dataframe\">\n",
       "  <thead>\n",
       "    <tr style=\"text-align: right;\">\n",
       "      <th></th>\n",
       "      <th>Comments</th>\n",
       "      <th>Comment upvote</th>\n",
       "      <th>time</th>\n",
       "    </tr>\n",
       "  </thead>\n",
       "  <tbody>\n",
       "    <tr>\n",
       "      <th>0</th>\n",
       "      <td>Bablooji: “Abbas Mustan ka sandaas lag raha ha...</td>\n",
       "      <td>23K</td>\n",
       "      <td>2 months ago</td>\n",
       "    </tr>\n",
       "    <tr>\n",
       "      <th>1</th>\n",
       "      <td>He himself plays his parents role as we know h...</td>\n",
       "      <td>4.2K</td>\n",
       "      <td>2 months ago</td>\n",
       "    </tr>\n",
       "    <tr>\n",
       "      <th>2</th>\n",
       "      <td>BB is the only one who can take his whole fami...</td>\n",
       "      <td>235</td>\n",
       "      <td>1 month ago</td>\n",
       "    </tr>\n",
       "    <tr>\n",
       "      <th>3</th>\n",
       "      <td>Im sure when ever he says, \"Mumme Papa\"  he ac...</td>\n",
       "      <td>886</td>\n",
       "      <td>2 months ago</td>\n",
       "    </tr>\n",
       "    <tr>\n",
       "      <th>4</th>\n",
       "      <td>Dil me dukh chehre pe Khushi , You are Strong ...</td>\n",
       "      <td>64</td>\n",
       "      <td>1 month ago</td>\n",
       "    </tr>\n",
       "    <tr>\n",
       "      <th>...</th>\n",
       "      <td>...</td>\n",
       "      <td>...</td>\n",
       "      <td>...</td>\n",
       "    </tr>\n",
       "    <tr>\n",
       "      <th>495</th>\n",
       "      <td>Love you bro..</td>\n",
       "      <td></td>\n",
       "      <td>2 weeks ago</td>\n",
       "    </tr>\n",
       "    <tr>\n",
       "      <th>496</th>\n",
       "      <td>Loved the last song.... Please release the ful...</td>\n",
       "      <td></td>\n",
       "      <td>2 months ago</td>\n",
       "    </tr>\n",
       "    <tr>\n",
       "      <th>497</th>\n",
       "      <td></td>\n",
       "      <td></td>\n",
       "      <td>1 month ago</td>\n",
       "    </tr>\n",
       "    <tr>\n",
       "      <th>498</th>\n",
       "      <td>That's called a vlog which i can't regret givi...</td>\n",
       "      <td>27</td>\n",
       "      <td>2 months ago</td>\n",
       "    </tr>\n",
       "    <tr>\n",
       "      <th>499</th>\n",
       "      <td>Best vlog with mummy and daddy ️</td>\n",
       "      <td>1</td>\n",
       "      <td>1 month ago</td>\n",
       "    </tr>\n",
       "  </tbody>\n",
       "</table>\n",
       "<p>500 rows × 3 columns</p>\n",
       "</div>"
      ],
      "text/plain": [
       "                                              Comments  Comment upvote  \\\n",
       "0    Bablooji: “Abbas Mustan ka sandaas lag raha ha...             23K   \n",
       "1    He himself plays his parents role as we know h...            4.2K   \n",
       "2    BB is the only one who can take his whole fami...             235   \n",
       "3    Im sure when ever he says, \"Mumme Papa\"  he ac...             886   \n",
       "4    Dil me dukh chehre pe Khushi , You are Strong ...              64   \n",
       "..                                                 ...             ...   \n",
       "495                                     Love you bro..                   \n",
       "496  Loved the last song.... Please release the ful...                   \n",
       "497                                                                      \n",
       "498  That's called a vlog which i can't regret givi...              27   \n",
       "499                   Best vlog with mummy and daddy ️               1   \n",
       "\n",
       "             time  \n",
       "0    2 months ago  \n",
       "1    2 months ago  \n",
       "2     1 month ago  \n",
       "3    2 months ago  \n",
       "4     1 month ago  \n",
       "..            ...  \n",
       "495   2 weeks ago  \n",
       "496  2 months ago  \n",
       "497   1 month ago  \n",
       "498  2 months ago  \n",
       "499   1 month ago  \n",
       "\n",
       "[500 rows x 3 columns]"
      ]
     },
     "execution_count": 70,
     "metadata": {},
     "output_type": "execute_result"
    }
   ],
   "source": [
    "#Lets make dataFrame\n",
    "youtube=pd.DataFrame({\"Comments\":cmt,\" Comment upvote\":upvt,\"time\":cmttime})\n",
    "youtube"
   ]
  },
  {
   "cell_type": "code",
   "execution_count": 71,
   "id": "7646c5c4",
   "metadata": {},
   "outputs": [],
   "source": [
    "driver.close()"
   ]
  },
  {
   "cell_type": "markdown",
   "id": "daf08257",
   "metadata": {},
   "source": [
    "# Q10 : Write a python program to scrape a data for all available Hostels from https://www.hostelworld.com/ in “London” location. You have to scrape hostel name, distance from city centre, ratings, total reviews, overall reviews, privates from price, dorms from price, facilities and property description"
   ]
  },
  {
   "cell_type": "code",
   "execution_count": 72,
   "id": "08b80167",
   "metadata": {},
   "outputs": [],
   "source": [
    "#Lets import all the required libraries \n",
    "import selenium # Libraries that is used to work  with selenium\n",
    "from selenium import webdriver # importing web driver module from selenium to open automated edge window\n",
    "import pandas as pd # to create dataframe\n",
    "from selenium.webdriver.common.by import By#importing inbuild class BY\n",
    "import warnings #to ignore any sort warnings\n",
    "warnings.filterwarnings('ignore')\n",
    "import time# used to stop search engine for few seconds"
   ]
  },
  {
   "cell_type": "code",
   "execution_count": 474,
   "id": "e6ae4b95",
   "metadata": {},
   "outputs": [],
   "source": [
    "import re\n",
    "from selenium.common.exceptions import NoSuchElementException, StaleElementReferenceException\n",
    "from selenium.webdriver.support.ui import WebDriverWait"
   ]
  },
  {
   "cell_type": "code",
   "execution_count": 586,
   "id": "3f0b88d4",
   "metadata": {},
   "outputs": [
    {
     "data": {
      "text/plain": [
       "<selenium.webdriver.edge.webdriver.WebDriver (session=\"faea6c926a505c8472dde6875f300de2\")>"
      ]
     },
     "execution_count": 586,
     "metadata": {},
     "output_type": "execute_result"
    }
   ],
   "source": [
    "#First Connect to web driver \n",
    "\n",
    "driver = webdriver.Edge(r\"D:\\edgedriver_win64\\msedgedriver.exe\")\n",
    "driver"
   ]
  },
  {
   "cell_type": "code",
   "execution_count": 587,
   "id": "04da9baa",
   "metadata": {},
   "outputs": [],
   "source": [
    "url =\"https://www.hostelworld.com/s?q=London, England&country=England&city=London&type=city&id=3&from=2022-11-25&to=2022-11-28&guests=2&page=1\"\n",
    "driver.get(url)"
   ]
  },
  {
   "cell_type": "code",
   "execution_count": 588,
   "id": "864e747d",
   "metadata": {},
   "outputs": [],
   "source": [
    "# creating empty list & find required data\n",
    "hostel_name = []\n",
    "distance = []\n",
    "pvt_prices = []\n",
    "dorms_price = []\n",
    "rating = []\n",
    "reviews = []\n",
    "over_all = []\n",
    "facilities = []\n",
    "description = []"
   ]
  },
  {
   "cell_type": "markdown",
   "id": "da20f52b",
   "metadata": {},
   "source": [
    "# hostel_name "
   ]
  },
  {
   "cell_type": "code",
   "execution_count": 589,
   "id": "5ff9421a",
   "metadata": {},
   "outputs": [],
   "source": [
    "# scraping  hostel name\n",
    "try:\n",
    "    name = driver.find_elements(By.XPATH,\"//h2[@class='title title-6']\")\n",
    "    for i in name:\n",
    "        hostel_name.append(i.text)\n",
    "except NoSuchElementException:\n",
    "    hostel_name.append('-')\n",
    "    "
   ]
  },
  {
   "cell_type": "code",
   "execution_count": 590,
   "id": "17b1a3d5",
   "metadata": {},
   "outputs": [
    {
     "data": {
      "text/plain": [
       "19"
      ]
     },
     "execution_count": 590,
     "metadata": {},
     "output_type": "execute_result"
    }
   ],
   "source": [
    "len(hostel_name)"
   ]
  },
  {
   "cell_type": "markdown",
   "id": "05ac2ad2",
   "metadata": {},
   "source": [
    "# distance"
   ]
  },
  {
   "cell_type": "code",
   "execution_count": 591,
   "id": "eb0cc2d0",
   "metadata": {},
   "outputs": [],
   "source": [
    "# scraping distance from city centre\n",
    "try:\n",
    "    dist = driver.find_elements(By.XPATH,\"//div[@class='subtitle body-3']/a/span[1]\")\n",
    "    for i in dist:\n",
    "        distance.append(i.text.replace(\"Hostel -\",\"\"))\n",
    "except NoSuchElementException:\n",
    "    distance.append('-')"
   ]
  },
  {
   "cell_type": "code",
   "execution_count": 592,
   "id": "2eae7aca",
   "metadata": {},
   "outputs": [
    {
     "data": {
      "text/plain": [
       "19"
      ]
     },
     "execution_count": 592,
     "metadata": {},
     "output_type": "execute_result"
    }
   ],
   "source": [
    "len(distance)"
   ]
  },
  {
   "cell_type": "markdown",
   "id": "aca66a42",
   "metadata": {},
   "source": [
    "# dorms_price"
   ]
  },
  {
   "cell_type": "code",
   "execution_count": 593,
   "id": "8a307590",
   "metadata": {},
   "outputs": [],
   "source": [
    "try:\n",
    "    dorms = driver.find_elements(By.XPATH,\"//a[@class='prices']/div[2]\")\n",
    "    for i in dorms:\n",
    "        dorms_price.append(i.text)\n",
    "except NoSuchElementException:\n",
    "    dorms_price.append('-')"
   ]
  },
  {
   "cell_type": "code",
   "execution_count": 594,
   "id": "6d3d6305",
   "metadata": {},
   "outputs": [
    {
     "data": {
      "text/plain": [
       "19"
      ]
     },
     "execution_count": 594,
     "metadata": {},
     "output_type": "execute_result"
    }
   ],
   "source": [
    "len(dorms_price)"
   ]
  },
  {
   "cell_type": "markdown",
   "id": "40028966",
   "metadata": {},
   "source": [
    "# pvt_prices "
   ]
  },
  {
   "cell_type": "code",
   "execution_count": 595,
   "id": "864efd85",
   "metadata": {},
   "outputs": [],
   "source": [
    "try:\n",
    "    pvt = driver.find_elements(By.XPATH,\"//a[@class='prices']/div[1]\")\n",
    "    for i in pvt:\n",
    "        pvt_prices.append(i.text)\n",
    "except NoSuchElementException:\n",
    "    pvt_prices .append('-')"
   ]
  },
  {
   "cell_type": "code",
   "execution_count": 598,
   "id": "dd5c410c",
   "metadata": {},
   "outputs": [
    {
     "data": {
      "text/plain": [
       "['No Privates Available',\n",
       " 'No Privates Available',\n",
       " 'No Privates Available',\n",
       " 'No Privates Available',\n",
       " 'No Privates Available',\n",
       " 'Privates From\\nRs11445',\n",
       " 'No Privates Available',\n",
       " 'No Privates Available',\n",
       " 'No Privates Available',\n",
       " 'Privates From\\nRs28056',\n",
       " 'Privates From\\nRs16840',\n",
       " 'No Privates Available',\n",
       " 'No Privates Available',\n",
       " 'No Privates Available',\n",
       " 'No Privates Available',\n",
       " 'Privates From\\nRs38855.54 Rs27199',\n",
       " 'Privates From\\nRs14184',\n",
       " 'Privates From\\nRs16304',\n",
       " 'Privates From\\nRs11967']"
      ]
     },
     "execution_count": 598,
     "metadata": {},
     "output_type": "execute_result"
    }
   ],
   "source": [
    "pvt_prices=pvt_prices[2:22]\n",
    "pvt_prices"
   ]
  },
  {
   "cell_type": "code",
   "execution_count": 599,
   "id": "ebdad75a",
   "metadata": {},
   "outputs": [
    {
     "data": {
      "text/plain": [
       "19"
      ]
     },
     "execution_count": 599,
     "metadata": {},
     "output_type": "execute_result"
    }
   ],
   "source": [
    "len(pvt_prices)"
   ]
  },
  {
   "cell_type": "markdown",
   "id": "6f5ccc65",
   "metadata": {},
   "source": [
    "# rating"
   ]
  },
  {
   "cell_type": "code",
   "execution_count": 600,
   "id": "97d55e0c",
   "metadata": {},
   "outputs": [],
   "source": [
    "try:\n",
    "    rat = driver.find_elements(By.XPATH,\"//div[@class='score orange big'or @class='score gray big'or @class='summary gray']\")\n",
    "    for i in rat:\n",
    "        rating.append(i.text)\n",
    "except NoSuchElementException:\n",
    "    rating.append('-')"
   ]
  },
  {
   "cell_type": "code",
   "execution_count": 602,
   "id": "d5ad8a42",
   "metadata": {},
   "outputs": [
    {
     "data": {
      "text/plain": [
       "19"
      ]
     },
     "execution_count": 602,
     "metadata": {},
     "output_type": "execute_result"
    }
   ],
   "source": [
    "len(rating)"
   ]
  },
  {
   "cell_type": "markdown",
   "id": "d6860d37",
   "metadata": {},
   "source": [
    "# reviews"
   ]
  },
  {
   "cell_type": "code",
   "execution_count": 603,
   "id": "69f73e74",
   "metadata": {},
   "outputs": [],
   "source": [
    "try:\n",
    "    rev= driver.find_elements(By.XPATH,\"//div[@class='reviews']\")\n",
    "    for i in rev:\n",
    "        reviews.append(i.text)\n",
    "except NoSuchElementException:\n",
    "    reviews.append('-')"
   ]
  },
  {
   "cell_type": "code",
   "execution_count": 604,
   "id": "38b690a6",
   "metadata": {},
   "outputs": [
    {
     "data": {
      "text/plain": [
       "19"
      ]
     },
     "execution_count": 604,
     "metadata": {},
     "output_type": "execute_result"
    }
   ],
   "source": [
    "len(reviews)"
   ]
  },
  {
   "cell_type": "markdown",
   "id": "612464c3",
   "metadata": {},
   "source": [
    "# over_all"
   ]
  },
  {
   "cell_type": "code",
   "execution_count": 605,
   "id": "53ad8ebc",
   "metadata": {},
   "outputs": [],
   "source": [
    "try:\n",
    "    over= driver.find_elements(By.XPATH,\"//div[@class='summary orange']/div[1]/span\")\n",
    "    for i in over:\n",
    "        over_all.append(i.text)\n",
    "except NoSuchElementException:\n",
    "    over_all.append('-')"
   ]
  },
  {
   "cell_type": "code",
   "execution_count": 610,
   "id": "a9dd62a6",
   "metadata": {},
   "outputs": [
    {
     "data": {
      "text/plain": [
       "19"
      ]
     },
     "execution_count": 610,
     "metadata": {},
     "output_type": "execute_result"
    }
   ],
   "source": [
    "over_all=over_all[0:19]\n",
    "len(over_all)"
   ]
  },
  {
   "cell_type": "markdown",
   "id": "266b7025",
   "metadata": {},
   "source": [
    "# facilities"
   ]
  },
  {
   "cell_type": "code",
   "execution_count": 611,
   "id": "127d0fe9",
   "metadata": {},
   "outputs": [],
   "source": [
    "try:\n",
    "    fac1 =driver.find_elements(By.XPATH,\"//div[@class='has-wifi']\")\n",
    "    fac2 =driver.find_elements(By.XPATH,\"//div[@class='has-sanitation']\")\n",
    "    \n",
    "    for i in fac1:\n",
    "        for j in fac2:\n",
    "            \n",
    "            facilities.append(i.text +', '+ j.text)\n",
    "except NoSuchElementException:\n",
    "     facilities.append('-')\n",
    "     "
   ]
  },
  {
   "cell_type": "code",
   "execution_count": 613,
   "id": "28456fc1",
   "metadata": {},
   "outputs": [
    {
     "data": {
      "text/plain": [
       "19"
      ]
     },
     "execution_count": 613,
     "metadata": {},
     "output_type": "execute_result"
    }
   ],
   "source": [
    "facilities=facilities[0:19]\n",
    "len(facilities)"
   ]
  },
  {
   "cell_type": "markdown",
   "id": "e0c0cecf",
   "metadata": {},
   "source": [
    "# description"
   ]
  },
  {
   "cell_type": "code",
   "execution_count": 614,
   "id": "d0e06a76",
   "metadata": {},
   "outputs": [],
   "source": [
    "#Fetching url to open each page\n",
    "urls=[]\n",
    "url=driver.find_elements(By.XPATH,\"//h2[@class='title title-6']/a\")\n",
    "for i in url:\n",
    "    urls.append(i.get_attribute('href'))\n",
    "   "
   ]
  },
  {
   "cell_type": "code",
   "execution_count": 615,
   "id": "8ec4bb50",
   "metadata": {},
   "outputs": [
    {
     "data": {
      "text/plain": [
       "19"
      ]
     },
     "execution_count": 615,
     "metadata": {},
     "output_type": "execute_result"
    }
   ],
   "source": [
    "len(urls)"
   ]
  },
  {
   "cell_type": "code",
   "execution_count": 616,
   "id": "cf369331",
   "metadata": {},
   "outputs": [],
   "source": [
    "for i in urls:\n",
    "\n",
    "    driver.get(i)\n",
    "\n",
    "    time.sleep(5)\n",
    "\n",
    "    try:\n",
    "        describe= driver.find_elements(By.XPATH,\"//div[@class='content collapse-content']\")\n",
    "        for i in describe:\n",
    "            description.append(i.text)\n",
    "    except NoSuchElementException:\n",
    "        description.append('-')\n",
    "    \n",
    "    \n"
   ]
  },
  {
   "cell_type": "code",
   "execution_count": 619,
   "id": "cf58d9fc",
   "metadata": {},
   "outputs": [
    {
     "data": {
      "text/plain": [
       "[\"A safe haven in the middle of the metropolis: We took a traditional brick building with roots going back to the 1800s and set a new standard for hostel life in the UK.\\nWhat used to be sailors' lodgings in the olden days is now a hostel satisfying all needs of the modern traveler. With great attention to detail, we have created a hostel in London that celebrates the legacy of our historic building.\\nOld oak that was previously part of sturdy ships and churches is now immortalized in our furniture throughout the house. The pints you drink here will be served on a bar made from 500-year-old wood. \\n\\nBut as comfortable as our hostel might be, London's calling - and London's call is hard to ignore, given our location: \\nOur Wombat's City Hostel is situated in the London Borough of Tower Hamlets, right next to famous Tower Bridge and Tower of London, charming markets, authentic pubs, and plenty of other historic sights.\\nA short walk will see you in the trendy Borough of Shoreditch with vibrant street art, pulsing nightlife at Hoxton Square and Old Street and finally Brick Lane, where some of the best curries outside of India can be found.\\nAll other hotspots in London are easily accessible by public transport: The Underground- and DLR-Stations Aldgate East and Tower Bridge are just a stone's throw away. \\n\\nAfter a long and exciting day in London, our hostel awaits you with a cozy courtyard, spacious lobby and womBAR. Here you can unwind and enjoy our reliably unexpected offers.\\nAll rooms are equipped with ensuite bathrooms and private lockers. \\n\\nIncluded as always - our Wombat's basics:\\n- bedding\\n- WiFi\\n- our own Wombat's city maps\\n- the womBAR for never-ending parties & WomDollar discount on your drinks\\n- a guest kitchen open to all who want to cater to their own culinary needs\\n- 24/7 Reception\\n- safe luggage storage with personal lockers (small fee)\\n- rentables (umbrellas, hairdryers, adapters: everything an avid traveler could possibly need)\\n- coin-operated laundry facilities (washing and crying ... oops, sorry about the typo, of course we mean drying), so you can re-vitalize your clothes ;)\\n\\nOur famous Tasty Brekkie buffet ensures you have enough energy for your exciting day in London. You can buy your tickets for a small fee at reception. \\n\\n(Minimum age: 18.)\\n\\n(Hooligans out there: please find an alternative accommodation to our hostel)\",\n",
       " 'It was a really good experience in the hostel. The facilities were great and the staff as well. The rooms were very comfortable. The only thing that I did not like is that it is 9 minutes away from the underground which is nice but I would have liked it nearer but overall the location was really nice.',\n",
       " 'Very nice hostel, there is a bar downstairs and it’s a great place to make friends. The wifi inside the hostel is good. The nearest metro station is probably 10 minutes away. The staff is friendly. Probably one of the best hostel I’ve done',\n",
       " 'Bathroom were really clean and facilities are amazing. I just think the receptionist weren’t the kindest to me 🥲 Kinda hurt my feelings with her body language screaming that she doesn’t like me.',\n",
       " \"COVID 19 Policy Update.\\nIn response to Coronavirus (COVID-19), additional safety and sanitation measures are currently in effect at this property, including in-house disinfection. \\n\\nSt Christopher's Inn at The Village in London Bridge is the UK's first capsule hostel. Its brand new rooms have been specially designed for our guests to get the best night sleep possible before they wake up in amongst one of London's most vibrant areas. \\n\\nVoted as one of the best party hostels in the world, our multi-award winning hostel offers guests Japanese-style capsule beds with USB ports, cool mood lighting and curtains for privacy. We even have new private rooms with one having an awesome view of the Shard right outside!\\n\\nStep out the door and you'll be just a short walk away from the London Eye, Tower Bridge and the oldest food market in the city, Borough Market. We're also only a two minute walk from TWO tube stations so getting anywhere in London couldn't be easier. \\n\\nParty into the night in our hostel party bar Belushi's, head down to the Dugout to watch live sports and indulge in our legendary burgers with a discount for all our guests.\\n\\n*Please note that we require an in date government approved - drivers license, passport or national ID card at check-in.\\n\\n**Guests under the age of 18 must stay in a private room with guardians. They cannot share in general dormitory rooms with people who are not part of their own group or family. Under-18s are not allowed in the bars or pubs.\\n\\n***The maximum stay policy is 7 days\\n\\n****Please note: non-refundable reservations will be fully charged at the time of booking.\",\n",
       " \"We had a great experience in this Hostel! It's well locatade, very clean and the staffs are great! special thx to Mulai who became our friend in the end, that is how amazing and attentive he is!! Will definitely come back 🥰\",\n",
       " 'Hostel was clean and felt safe.Staff was super nice and helpful.Location was really near the tube and in a nice part of the city (felt safe walking towards the hostel even after dark). Social hostel, has a nice bar and reception.',\n",
       " \"Located in the most beautiful and charming neighbourhood in London, Astor Hyde Park is one minute from Hyde Park and surrounded by some of Londons greatest museums including the Natural History Museum, Victoria & Albert, and Science Museum. The hostel is a short walk from Londons best transport connections, including direct trains to Heathrow Airport and all of Londons attractions. If this wasnt enough, the iconic pubs, excellent shopping, amazing restaurants, and occasional celebrity sighting make it the perfect place to live while in London!\\n\\nThe moment you walk through our doors you become part of our family and we want you to have an incredible experience! We want every detail - from our super clean bathrooms and comfortable pillows to our unforgettable social events - to be perfect, giving you a London adventure that is 10 out of 10!\\n\\nWinner of No.1 Small Hostel Group Worldwide and a Lifetime Achievement Award for excellence in the Hostel Industry. We thrive on ensuring every guest comes satisfied, and if you have any problems along the way, we are always there, ready to help! For this and many other reasons staying at Astor Hostels is the top choice for anyone exploring London on a budget! \\n\\n\\nReception hours (24 hours)\\nCheck-in is available from 2 pm. \\nCheck-out is from any time until 10 am. Please ensure you check out before 10 am; otherwise, you may be charged for an extra night. \\nWe cater for travellers between 18 and 40 years. \\n\\nA valid physical/original photographic government ID (no photo/screenshot) must be presented by all guests upon check-in. This can be a passport, drivers licence, National ID card, Residency permit. Student IDs will not be accepted as proof of identification. The property cannot accept paper driving licences/IDs or employee IDs as proof of identity. Failure to show proof of ID upon arrival will result in the cancellation of the reservation without a refund.\\n\\nKey Card: You will be required to give us a GBP 5 key deposit for your room access card at check-in time. \\n\\nBreakfast: We provide Breakfast every morning, which costs just GBP 3.\\nDairy-free Milk: Coconut/soy/almond/\\nRegular Milk: skimmed and semi-skimmed\\nJuices: Orange and apple\\nInstant coffee, tea and hot chocolate\\nCereals: granola, rice pop, choco pop, honey hoop and cornflakes\\nBread: White and Wholemeal\\n\\nSpreads: White and milk chocolate (Nutella style), peanut butter, regular butter, plant base/dairy-free (butter style) honey, fruit jam (strawberry, raspberry, blackcurrant and apricot) and marmite. \\n(Items may vary depending on availability and hostel)\\n\\nCommon Areas: The kitchen/dining room and common areas are all back open to enjoy a meal or meet fellow travellers (The kitchen and lounges will be shut at midnight and reopening at 8 am). \\n\\n\\nFacilities: Please be aware that our building has no lift and that you may be assigned to one of our top floors and a top bunk bed. \\n\\nEvents: The hostel organises events aimed at backpackers between the ages of 18-40 years.\\n\\nPlease note that all bookings are subject to the signing of the property's terms and conditions via a rental agreement which will be emailed to the guest following their reservation. Please note that all guests must be aged over 18. Underage guests who book will not be accommodated and will not be refunded. When booking for 12 persons or more, different policies will apply.\\n\\nLuggage storage is free on the day of arrival and costs GBP 2 per bag on the day of departure. An extra fee of GBP 7.5 per bag per day applies for the days following check-out. Storage lockers for small valuables are available for GBP 2 per day. Towels are available for rent for GBP 3.\\n\\nAt our fantastic hostel, you will have full access to:\\nFree Fast Wi-Fi throughout the building\\n24-hour reception for anything you may need (including late check-in/early check-out)\\nCCTV is in operation 24 hours a day\\nStorage Lockers available for your valuables GBP 2 per locker per day\\nLaundry facilities are available 24 hours\\nHairdryers and ironing facilities free to use\\nBeautiful lounge area with comfy sofas and an enormous projector screen for movies and sports! \\n\\nHelpful Extras \\nFree City Maps - QR/digital to reduce paper waste \\nTourist Information, walking tours and advice on local attractions and transport (24hrs)\\nPadlocks and Adaptors are available for sale for GBP 5 each\\nDiscounts at local restaurants and coffee shops\\nTowels are available for hire at GBP 3\\nPrinting 0.20p per sheet \\nClean, crisp linen on your bed, ready to sleep on!\\nLate Check-Out is available to sleep in a little more until Midday (book in advance at reception)!\\n\\nPlease Note: For the safety of others, anyone exhibiting symptoms of Covid-19 will be unable to stay at the hostel. Therefore, we recommend you return home if travelling domestically or to use specialist self-isolation accommodation. Self-Isolation - Guests who wish to self-isolate in the hostel must do so in a private room; guests must not perform the self-isolation period if coming from abroad in shared dorms.\",\n",
       " 'Had a wonderful stay at Astor Hyde Park. Despite having a 15-person mixed room, everyone was respectful and clean and super quiet. En-suite bathroom was great. Amazing location close to buses and trains, felt very safe as a solo female traveler. Even went for night walks and morning runs. Met some amazing people hanging out in the common areas, playing music and watching movies. 10/10 experience.',\n",
       " 'My stay at Astor Hyde Park was exactly what I hoped my London experience would be. The property is beautiful and the location is great for nearby transit. Jeff at reception was amazing. From the checking in process, showing me around, checking out and even helping me book my stay at the Astor in York, everything was seamless. Highly recommend!',\n",
       " 'Beautiful place with ample common spaces to cook, eat, chill, and even play! Right off Hyde park and a 10-15 min walk from a shopping/restaurant area. Clean and comfy! The only issue is some guests were extremely disrespectful. I wish that hostels went over the basics of hostel etiquette with guests as people turned on lights at 3am, played yoga instructions at 6am, etc. I know this isn’t the staff’s problem but it would be nice if they informed guests how to act.',\n",
       " \"Generator London is a design hotel-hostel located in Russell Square in the heart of central London, a short stroll to Covent Garden, Regents Park and trendy King's Cross. Guests can choose from shared dorms to private rooms, offering something for everyone. Complete with 24-hour reception, free wifi, cafe and bar Generator is a fun and affordable choice in London.\\n\\nGenerator London was the very first Generator and you'll find it in the area of Russell Square in the heart of the West End. \\n\\nIt's the ideal spot to enjoy London from, everything you need to see is minutes away by tube. You'll never run out of things to do in the UK's capital. You just have to decide where to start and we can help you with that. When you have seen and done it all for the day head back to Generator and unwind. \\n\\nIt's a destination in its own right and a great place to socialise and reflect on your experiences of the day. Head to the bar and chill out areas to get yourself a well deserved drink or two. It's lively, friendly and un-missable. We've also got great beds for sleepy heads and of course you'll be enjoying London life in the most authentic surroundings. \\n\\nChoose from a great selection of rooms, from Dorms, to Quads, to Private rooms with innovative mod cons. Fast and free Wi-Fi is all yours too. To get the most out of your stay visit the travel shop and our city experts will help you devise an itinerary that will take you to all the hidden treasures this dynamic city has to offer. You'll have to stay longer to fit it all in but you'll not need convincing of that. We'll see you there soon.\\n\\nImportant points:\\n\\n Central location Situated close to Russell Square\\n Complimentary Wi-Fi in public areas & guest bedrooms\\n Travel Desk\\n Luggage Store\\n Laundry Room\\n Games Room\\n Bar & Chill Out Areas\\n Nightly Events & Entertainment\\n Dining facilities for breakfast, lunch, dinner and all day snacks\\n Female Dormitories\\n Dormitories for 4, 6 & 8\\n\\nGROUP BOOKINGS\\nReservations for 10 people or more people per night, will be considered a group booking. Special group terms and conditions will apply (please contact the hostel for more information)\\n\\nFREE WI-FI\\nStay connected. Free for all!\\n\\nTHE BAR\\nOrder a classic cocktail. Open from 5pm-2am with fun and games every night.\\n\\nTHE LOUNGE & CAFE \\nOpen everyday\\n\\nBREAKFAST\\n\\nBreakfast not included.\\nInternational breakfast available upon request: 8.50 (GBP) if booked online.\\nMon - Fri from 7 to 10 a.m.\\nWeekend 8 to 11 a.m.\\n\\nDINNER. \\nDelicious meals available between 5-9pm every evening. A dish of the day will also be available together with the bar snack menu.\\n\\nSNACKS\\nVending machines available for night owls to satisfy the midnight munchies.\\n\\nROOMS TO AMAZE\\nA wide selection of contemporary Privates, Twins, Triples & Dorms, with crisp white linen all available at great rates. Towels included complimentary in Twin rooms only.\\n\\nBATHROOMS\\nShared showers on every floor. \\n\\nLAUNDRY\\nOpen 24 hours a day where you can wash, dry and iron for a small fee.\\n\\n24 HOUR RECEPTION\\nNo need to worry about arriving late or early. The Generator Reception is open 24 hours a day with a duty manager who's always around to help.\\n\\nLUGGAGE STORE\\nSecure luggage room is available so you can sightsee without dragging your bag with you.\\n\\nPETS\\nWe would welcome a dog on property but only when staying in a private room/dorm, and subject to a £5 fee per dog per night.\\n\\nGREAT STAFF\\nAll our staff are multi lingual and on hand to help you with whatever info you need.\\n\\nTRAVEL SHOP\\nPurchase tickets, tours and a whole lot more including phone and postal service. We will help you make the most of your stay. Undecided? Take advantage of our complimentary guided walking tour available daily.\\n\\nUnfortunately guests under the age of 18 are not allowed to stay in the dorms .\\n\\nWe look forward to giving you a warm welcome to The Generator in the near future.\",\n",
       " 'Everything was perfect! All I would add is acces to a kitchen so we can cook our own food. Or maybe add a couple of healthier choices to the menu. But other than that, I would recomend the Generator without hesitation!!! Thank you!!',\n",
       " 'Does in a pinch. Pretty overpriced for what it is (we paid like $50 a night mid week) but I guess it’s London after all. Room was super dark and a bit dingy in the basement. My bed light had no switch so I had to use my phone flashlight. The bed itself felt relatively private, I liked the storage bins under the bed, made all of my items super accessible. Staff were also really friendly. Great location - right by kings cross and 6 min walk to a tesco. Showers weren’t great, there was no light and your bag ha',\n",
       " \"Safestay at Elephant & Castle is ideal if you are looking for budget accommodation in London, whether you see the sights in this amazing city or travelling with your family. If Tate Modern, the National Theatre, The Imperial War Museum, the London Aquarium, the London Dungeon, a cricket match at the Kia Oval or clubbing at the world-famous Ministry of Sound are on your must-do list, Safestay London Elephant & Castle is perfectly located.\\n\\nOur beautiful 18th-century Georgian building is centrally located, close to London's mighty River Thames and the restaurants, bars and cafes the Southbank is famed for, along with the London Eye, Borough Market and Shakespeare's Globe Theatre. It's secure, stylish, comfortable and fun, with an illuminated garden for you to relax in.\\n\\nSo if you're after budget accommodation in London, bringing a group of school children to study the sights or want something different from the usual options in London, why not try this fantastic hostel out for size.\\n\\nClose to all the big London tourist attractions, our staff will happily help you plan your visit and give you top tips on what is happening in London during your stay.\\n\\nSee these London landmarks within 6 stops of the hostel using the Underground:\\n. Oxford Street\\n. Piccadilly Circus\\n. Leicester Square\\n. Covent Garden\\n. Westminster Abbey\\n. Big Ben & the Houses of Parliament\\n. Buckingham Palace\\n. St Paul's Cathedral\\n. The Tower of London and Tower Bridge \\n\\nFREE WI-FI\\nFree across all areas\\n\\nBREAKFAST\\nEnjoy our packed breakfast served between 7:00 am and 10:00 am for only GBP 6.00\\n\\nTravelling with children? Cots are available on request. Please contact the hostel in advance to arrange.\\nLuggage storage subject to availability upon arrival and departure\\n\\nAttractions: We sell discounted and fast track entrance tickets to some of London's most famous sights and best kept secrets. Including the London Eye, Madame Tussauds, The Tower of London, Walking tours, Bike tours, boat trips, and many more.\\n\\nHostel Activities: We organise fun stuff for you to do nearly every day of the week! Such as Free Walking tours, top-rated Pub Crawls, Group trips to famous West End Shows, Jet boating on the Thames\",\n",
       " 'Super nice, would stay again! Everyone was super social, helpful with directions to the airport, recommendations, and bag storage solutions... not many lockers (first come first serve) so bring £2 for the other lockers nearby',\n",
       " 'Perfect location : close to the main London attractions in 15-30min with a bus stop just across the road. The only bad point is the room temperature that is way to high (felt like a sauna). We asked to turn it off several times but nothing was done, such a shame for that small inconvenience.',\n",
       " \"Safestay Holland Park\\n\\nSafestay Holland Park is ideally located in the heart of London, nestled within one of the capital's most prestigious parks. This stunning hostel consists of 3 buildings, including the East Wing of the park's original Jacobean building, and surrounds our private courtyard garden.\\n\\nThe property has been fully refurbished to the high standards for which Safestay is renowned. \\n\\nThe Grade 1 listed building is located on the edge of London's famous Holland Park (search for Holland walk and duchess of Bedford Walk on your maps) and will provide Safestay guests with the opportunity to stay in the heart of one of the capital's desirable neighborhoods. The property dates back to 1605 along with a 1950's extension and is situated in a huge garden within the middle of one of London's most beautiful parks.\\n\\nHistoric, Jacobean splendor, in a great city location. Who says you can't have it all? This mansion in the middle of Holland Park was visited by Sir Walter Scott, Lord Byron, and Dickens. Today it offers large, comfortable rooms to you. \\n\\nThree different houses with a range of standard & ensuite rooms as well as family rooms & private rooms for everyone!\\nPool room, breakfast room & restaurant as well as the garden, & the whole Park itself with its famous beautiful woodland trails, manicured lawns, the Kyoto Japanese Garden with its resident Coi, and a fantastic ice cream stand in the middle.\\nOpened in 1952, Holland Park used to be a private estate belonging to the Earl of Holland. During the 19th century, the Holland House attracted high-profile visitors from various walks of life, from the politician, Lord Palmerston, to the poet, Lord Byron.\\n\\nSafestay Holland Park has excellent transport links and is within easy reach of The Natural History Museum, Holland Park Avenue, Notting Hill Gate, Portobello Market, Harrods, The Science Museum, Hyde Park, Westfield Shopping Centre, and Kensington Palace Gardens.\\n\\nDormitory style and range in size from 2 beds upwards. They offer mixed accommodation. Clean fresh sheets are included in the price. Lockers are available in rooms. Padlocks available for sale\\n\\nSafestay Holland Park's Policies & Conditions:\\n\\nCancellation policy: 24 hours before arrival. \\nPayment upon arrival by credit cards, debit cards. \\nThis property may pre-authorize your card before arrival.\\n\\nCheck-in from 15:00\\nCheck out before 10:00\\n\\nTaxes included.\\nBreakfast not included - 6.00 GBP per person per day.\\nPlease note there is no guest kitchen facility to cook and corkage is applied at only GBP 1 per guest for outside food and soft drinks. No outside alcohol is allowed at all.\\n\\nGeneral:\\n24-hour Reception.\\nNo curfew.\\n\\nBookings cannot be accepted from any person age 16 years or under unless they are accompanied by an adult (over 18) who is staying in the same dorm/room. Families with children aged 16 years and under are welcome, however, they must book and pay for all beds in order to make the room private (i.e. in the case of 4 bedded dorms or larger). \\n\\nAlternatively, we have 2 Bedded and 3 Bedded Private rooms available, subject to availability. \\n\\nLook out for the Peacocks!\\nShow more\",\n",
       " 'The hostel is beautiful, right in the middle of the park. It is walking distance from Notting Hill and there are many bus stops nearby. The staff was really nice and helpful, I arrived really late in the night because of my flight and they let me check in with a smiley face. The space in each bed is a bit small but I was very comfortable either way, and everything was very clean. Great place for a short visit in London!']"
      ]
     },
     "execution_count": 619,
     "metadata": {},
     "output_type": "execute_result"
    }
   ],
   "source": [
    "description=description[0:19]\n",
    "description"
   ]
  },
  {
   "cell_type": "code",
   "execution_count": 620,
   "id": "eba1ad02",
   "metadata": {},
   "outputs": [
    {
     "data": {
      "text/plain": [
       "19"
      ]
     },
     "execution_count": 620,
     "metadata": {},
     "output_type": "execute_result"
    }
   ],
   "source": [
    "len(description)"
   ]
  },
  {
   "cell_type": "code",
   "execution_count": 621,
   "id": "94abcecb",
   "metadata": {},
   "outputs": [],
   "source": [
    "#Lets make DataFrame\n",
    "import pandas as pd\n",
    "hostel=pd.DataFrame({'hostel_name':hostel_name,\"distance\":distance,\"dorms_price\":dorms_price,\"pvt_prices\":pvt_prices,\"rating\":rating,\"reviews\":reviews,\"over_all\":over_all,\"facilities\":facilities,\"description\":description})"
   ]
  },
  {
   "cell_type": "code",
   "execution_count": 622,
   "id": "92392f36",
   "metadata": {},
   "outputs": [
    {
     "data": {
      "text/html": [
       "<div>\n",
       "<style scoped>\n",
       "    .dataframe tbody tr th:only-of-type {\n",
       "        vertical-align: middle;\n",
       "    }\n",
       "\n",
       "    .dataframe tbody tr th {\n",
       "        vertical-align: top;\n",
       "    }\n",
       "\n",
       "    .dataframe thead th {\n",
       "        text-align: right;\n",
       "    }\n",
       "</style>\n",
       "<table border=\"1\" class=\"dataframe\">\n",
       "  <thead>\n",
       "    <tr style=\"text-align: right;\">\n",
       "      <th></th>\n",
       "      <th>hostel_name</th>\n",
       "      <th>distance</th>\n",
       "      <th>dorms_price</th>\n",
       "      <th>pvt_prices</th>\n",
       "      <th>rating</th>\n",
       "      <th>reviews</th>\n",
       "      <th>over_all</th>\n",
       "      <th>facilities</th>\n",
       "      <th>description</th>\n",
       "    </tr>\n",
       "  </thead>\n",
       "  <tbody>\n",
       "    <tr>\n",
       "      <th>0</th>\n",
       "      <td>Wombat's City Hostel London</td>\n",
       "      <td>3.6km from city centre</td>\n",
       "      <td>Dorms From\\nRs7207.39 Rs5766</td>\n",
       "      <td>No Privates Available</td>\n",
       "      <td>8.9</td>\n",
       "      <td>14326 Total Reviews</td>\n",
       "      <td>Fabulous</td>\n",
       "      <td>Free WiFi, Follows Covid-19 sanitation guidance</td>\n",
       "      <td>A safe haven in the middle of the metropolis: ...</td>\n",
       "    </tr>\n",
       "    <tr>\n",
       "      <th>1</th>\n",
       "      <td>St Christopher's Village</td>\n",
       "      <td>1.8km from city centre</td>\n",
       "      <td>Dorms From\\nRs5526.54 Rs4974</td>\n",
       "      <td>No Privates Available</td>\n",
       "      <td>8.1</td>\n",
       "      <td>11697 Total Reviews</td>\n",
       "      <td>Fabulous</td>\n",
       "      <td>Free WiFi, Follows Covid-19 sanitation guidance</td>\n",
       "      <td>It was a really good experience in the hostel....</td>\n",
       "    </tr>\n",
       "    <tr>\n",
       "      <th>2</th>\n",
       "      <td>Astor Hyde Park</td>\n",
       "      <td>4.3km from city centre</td>\n",
       "      <td>Dorms From\\nRs4532</td>\n",
       "      <td>No Privates Available</td>\n",
       "      <td>8.6</td>\n",
       "      <td>11784 Total Reviews</td>\n",
       "      <td>Fabulous</td>\n",
       "      <td>Free WiFi, Follows Covid-19 sanitation guidance</td>\n",
       "      <td>Very nice hostel, there is a bar downstairs an...</td>\n",
       "    </tr>\n",
       "    <tr>\n",
       "      <th>3</th>\n",
       "      <td>Generator London</td>\n",
       "      <td>3km from city centre</td>\n",
       "      <td>Dorms From\\nRs5731</td>\n",
       "      <td>No Privates Available</td>\n",
       "      <td>7.7</td>\n",
       "      <td>7259 Total Reviews</td>\n",
       "      <td>Fabulous</td>\n",
       "      <td>Free WiFi, Follows Covid-19 sanitation guidance</td>\n",
       "      <td>Bathroom were really clean and facilities are ...</td>\n",
       "    </tr>\n",
       "    <tr>\n",
       "      <th>4</th>\n",
       "      <td>Safestay London Elephant &amp; Castle</td>\n",
       "      <td>1.7km from city centre</td>\n",
       "      <td>Dorms From\\nRs4519</td>\n",
       "      <td>No Privates Available</td>\n",
       "      <td>7.1</td>\n",
       "      <td>4681 Total Reviews</td>\n",
       "      <td>Fabulous</td>\n",
       "      <td>Free WiFi, Follows Covid-19 sanitation guidance</td>\n",
       "      <td>COVID 19 Policy Update.\\nIn response to Corona...</td>\n",
       "    </tr>\n",
       "    <tr>\n",
       "      <th>5</th>\n",
       "      <td>Safestay London Kensington Holland Park</td>\n",
       "      <td>5.9km from city centre</td>\n",
       "      <td>Dorms From\\nRs4578</td>\n",
       "      <td>Privates From\\nRs11445</td>\n",
       "      <td>6.8</td>\n",
       "      <td>1377 Total Reviews</td>\n",
       "      <td>Very Good</td>\n",
       "      <td>Free WiFi, Follows Covid-19 sanitation guidance</td>\n",
       "      <td>We had a great experience in this Hostel! It's...</td>\n",
       "    </tr>\n",
       "    <tr>\n",
       "      <th>6</th>\n",
       "      <td>St Christopher's Camden</td>\n",
       "      <td>4.3km from city centre</td>\n",
       "      <td>Dorms From\\nRs5381.98 Rs4844</td>\n",
       "      <td>No Privates Available</td>\n",
       "      <td>8.3</td>\n",
       "      <td>3899 Total Reviews</td>\n",
       "      <td>Very Good</td>\n",
       "      <td>Free WiFi, Follows Covid-19 sanitation guidance</td>\n",
       "      <td>Hostel was clean and felt safe.Staff was super...</td>\n",
       "    </tr>\n",
       "    <tr>\n",
       "      <th>7</th>\n",
       "      <td>St Christopher's Hammersmith</td>\n",
       "      <td>7.5km from city centre</td>\n",
       "      <td>Dorms From\\nRs4875.49 Rs4388</td>\n",
       "      <td>No Privates Available</td>\n",
       "      <td>7.8</td>\n",
       "      <td>4156 Total Reviews</td>\n",
       "      <td>Good</td>\n",
       "      <td>Free WiFi, Follows Covid-19 sanitation guidance</td>\n",
       "      <td>Located in the most beautiful and charming nei...</td>\n",
       "    </tr>\n",
       "    <tr>\n",
       "      <th>8</th>\n",
       "      <td>Barmy Badger Backpackers</td>\n",
       "      <td>5.5km from city centre</td>\n",
       "      <td>Dorms From\\nRs3098</td>\n",
       "      <td>No Privates Available</td>\n",
       "      <td>8.9</td>\n",
       "      <td>1858 Total Reviews</td>\n",
       "      <td>Fabulous</td>\n",
       "      <td>Free WiFi, Follows Covid-19 sanitation guidance</td>\n",
       "      <td>Had a wonderful stay at Astor Hyde Park. Despi...</td>\n",
       "    </tr>\n",
       "    <tr>\n",
       "      <th>9</th>\n",
       "      <td>Smart Hyde Park View Hostel</td>\n",
       "      <td>5km from city centre</td>\n",
       "      <td>No Dorms Available</td>\n",
       "      <td>Privates From\\nRs28056</td>\n",
       "      <td>7.9</td>\n",
       "      <td>4635 Total Reviews</td>\n",
       "      <td>Very Good</td>\n",
       "      <td>Free WiFi, Follows Covid-19 sanitation guidance</td>\n",
       "      <td>My stay at Astor Hyde Park was exactly what I ...</td>\n",
       "    </tr>\n",
       "    <tr>\n",
       "      <th>10</th>\n",
       "      <td>Saint James Backpackers</td>\n",
       "      <td>5.5km from city centre</td>\n",
       "      <td>Dorms From\\nRs5445</td>\n",
       "      <td>Privates From\\nRs16840</td>\n",
       "      <td>7.3</td>\n",
       "      <td>1846 Total Reviews</td>\n",
       "      <td>Fabulous</td>\n",
       "      <td>Free WiFi, Follows Covid-19 sanitation guidance</td>\n",
       "      <td>Beautiful place with ample common spaces to co...</td>\n",
       "    </tr>\n",
       "    <tr>\n",
       "      <th>11</th>\n",
       "      <td>St Christopher's Greenwich</td>\n",
       "      <td>7.6km from city centre</td>\n",
       "      <td>Dorms From\\nRs4151.97 Rs3737</td>\n",
       "      <td>No Privates Available</td>\n",
       "      <td>6.7</td>\n",
       "      <td>3278 Total Reviews</td>\n",
       "      <td>Very Good</td>\n",
       "      <td>Free WiFi, Follows Covid-19 sanitation guidance</td>\n",
       "      <td>Generator London is a design hotel-hostel loca...</td>\n",
       "    </tr>\n",
       "    <tr>\n",
       "      <th>12</th>\n",
       "      <td>PubLove @ The Crown, Battersea</td>\n",
       "      <td>4.7km from city centre</td>\n",
       "      <td>Dorms From\\nRs6489</td>\n",
       "      <td>No Privates Available</td>\n",
       "      <td>6.9</td>\n",
       "      <td>277 Total Reviews</td>\n",
       "      <td>Very Good</td>\n",
       "      <td>Free WiFi, Follows Covid-19 sanitation guidance</td>\n",
       "      <td>Everything was perfect! All I would add is acc...</td>\n",
       "    </tr>\n",
       "    <tr>\n",
       "      <th>13</th>\n",
       "      <td>PubLove @ The Green Man, Paddington</td>\n",
       "      <td>4.3km from city centre</td>\n",
       "      <td>Dorms From\\nRs7565</td>\n",
       "      <td>No Privates Available</td>\n",
       "      <td>7.7</td>\n",
       "      <td>432 Total Reviews</td>\n",
       "      <td>Good</td>\n",
       "      <td>Free WiFi, Follows Covid-19 sanitation guidance</td>\n",
       "      <td>Does in a pinch. Pretty overpriced for what it...</td>\n",
       "    </tr>\n",
       "    <tr>\n",
       "      <th>14</th>\n",
       "      <td>Park Villa</td>\n",
       "      <td>6.3km from city centre</td>\n",
       "      <td>Dorms From\\nRs6564</td>\n",
       "      <td>No Privates Available</td>\n",
       "      <td>7.7</td>\n",
       "      <td>878 Total Reviews</td>\n",
       "      <td>Good</td>\n",
       "      <td>Free WiFi, Follows Covid-19 sanitation guidance</td>\n",
       "      <td>Safestay at Elephant &amp; Castle is ideal if you ...</td>\n",
       "    </tr>\n",
       "    <tr>\n",
       "      <th>15</th>\n",
       "      <td>London House Hotel</td>\n",
       "      <td>Hotel - 5.3km from city centre</td>\n",
       "      <td>No Dorms Available</td>\n",
       "      <td>Privates From\\nRs38855.54 Rs27199</td>\n",
       "      <td>9.4</td>\n",
       "      <td>1382 Total Reviews</td>\n",
       "      <td>Very Good</td>\n",
       "      <td>Free WiFi, Follows Covid-19 sanitation guidance</td>\n",
       "      <td>Super nice, would stay again! Everyone was sup...</td>\n",
       "    </tr>\n",
       "    <tr>\n",
       "      <th>16</th>\n",
       "      <td>Kip Hotel</td>\n",
       "      <td>Hotel - 6.8km from city centre</td>\n",
       "      <td>No Dorms Available</td>\n",
       "      <td>Privates From\\nRs14184</td>\n",
       "      <td>7.1</td>\n",
       "      <td>55 Total Reviews</td>\n",
       "      <td>Very Good</td>\n",
       "      <td>Free WiFi, Follows Covid-19 sanitation guidance</td>\n",
       "      <td>Perfect location : close to the main London at...</td>\n",
       "    </tr>\n",
       "    <tr>\n",
       "      <th>17</th>\n",
       "      <td>Colliers Hotel</td>\n",
       "      <td>Hotel - 2.1km from city centre</td>\n",
       "      <td>No Dorms Available</td>\n",
       "      <td>Privates From\\nRs16304</td>\n",
       "      <td>6.3</td>\n",
       "      <td>9 Total Reviews</td>\n",
       "      <td>Superb</td>\n",
       "      <td>Free WiFi, Follows Covid-19 sanitation guidance</td>\n",
       "      <td>Safestay Holland Park\\n\\nSafestay Holland Park...</td>\n",
       "    </tr>\n",
       "    <tr>\n",
       "      <th>18</th>\n",
       "      <td>Beaconsfield</td>\n",
       "      <td>Hotel - 8.6km from city centre</td>\n",
       "      <td>No Dorms Available</td>\n",
       "      <td>Privates From\\nRs11967</td>\n",
       "      <td>No Rating\\n28 Total Reviews</td>\n",
       "      <td>28 Total Reviews</td>\n",
       "      <td>Very Good</td>\n",
       "      <td>Free WiFi, Follows Covid-19 sanitation guidance</td>\n",
       "      <td>The hostel is beautiful, right in the middle o...</td>\n",
       "    </tr>\n",
       "  </tbody>\n",
       "</table>\n",
       "</div>"
      ],
      "text/plain": [
       "                                hostel_name                        distance  \\\n",
       "0               Wombat's City Hostel London          3.6km from city centre   \n",
       "1                  St Christopher's Village          1.8km from city centre   \n",
       "2                           Astor Hyde Park          4.3km from city centre   \n",
       "3                          Generator London            3km from city centre   \n",
       "4         Safestay London Elephant & Castle          1.7km from city centre   \n",
       "5   Safestay London Kensington Holland Park          5.9km from city centre   \n",
       "6                   St Christopher's Camden          4.3km from city centre   \n",
       "7              St Christopher's Hammersmith          7.5km from city centre   \n",
       "8                  Barmy Badger Backpackers          5.5km from city centre   \n",
       "9               Smart Hyde Park View Hostel            5km from city centre   \n",
       "10                  Saint James Backpackers          5.5km from city centre   \n",
       "11               St Christopher's Greenwich          7.6km from city centre   \n",
       "12           PubLove @ The Crown, Battersea          4.7km from city centre   \n",
       "13      PubLove @ The Green Man, Paddington          4.3km from city centre   \n",
       "14                               Park Villa          6.3km from city centre   \n",
       "15                       London House Hotel  Hotel - 5.3km from city centre   \n",
       "16                                Kip Hotel  Hotel - 6.8km from city centre   \n",
       "17                           Colliers Hotel  Hotel - 2.1km from city centre   \n",
       "18                             Beaconsfield  Hotel - 8.6km from city centre   \n",
       "\n",
       "                     dorms_price                         pvt_prices  \\\n",
       "0   Dorms From\\nRs7207.39 Rs5766              No Privates Available   \n",
       "1   Dorms From\\nRs5526.54 Rs4974              No Privates Available   \n",
       "2             Dorms From\\nRs4532              No Privates Available   \n",
       "3             Dorms From\\nRs5731              No Privates Available   \n",
       "4             Dorms From\\nRs4519              No Privates Available   \n",
       "5             Dorms From\\nRs4578             Privates From\\nRs11445   \n",
       "6   Dorms From\\nRs5381.98 Rs4844              No Privates Available   \n",
       "7   Dorms From\\nRs4875.49 Rs4388              No Privates Available   \n",
       "8             Dorms From\\nRs3098              No Privates Available   \n",
       "9             No Dorms Available             Privates From\\nRs28056   \n",
       "10            Dorms From\\nRs5445             Privates From\\nRs16840   \n",
       "11  Dorms From\\nRs4151.97 Rs3737              No Privates Available   \n",
       "12            Dorms From\\nRs6489              No Privates Available   \n",
       "13            Dorms From\\nRs7565              No Privates Available   \n",
       "14            Dorms From\\nRs6564              No Privates Available   \n",
       "15            No Dorms Available  Privates From\\nRs38855.54 Rs27199   \n",
       "16            No Dorms Available             Privates From\\nRs14184   \n",
       "17            No Dorms Available             Privates From\\nRs16304   \n",
       "18            No Dorms Available             Privates From\\nRs11967   \n",
       "\n",
       "                         rating              reviews   over_all  \\\n",
       "0                           8.9  14326 Total Reviews   Fabulous   \n",
       "1                           8.1  11697 Total Reviews   Fabulous   \n",
       "2                           8.6  11784 Total Reviews   Fabulous   \n",
       "3                           7.7   7259 Total Reviews   Fabulous   \n",
       "4                           7.1   4681 Total Reviews   Fabulous   \n",
       "5                           6.8   1377 Total Reviews  Very Good   \n",
       "6                           8.3   3899 Total Reviews  Very Good   \n",
       "7                           7.8   4156 Total Reviews       Good   \n",
       "8                           8.9   1858 Total Reviews   Fabulous   \n",
       "9                           7.9   4635 Total Reviews  Very Good   \n",
       "10                          7.3   1846 Total Reviews   Fabulous   \n",
       "11                          6.7   3278 Total Reviews  Very Good   \n",
       "12                          6.9    277 Total Reviews  Very Good   \n",
       "13                          7.7    432 Total Reviews       Good   \n",
       "14                          7.7    878 Total Reviews       Good   \n",
       "15                          9.4   1382 Total Reviews  Very Good   \n",
       "16                          7.1     55 Total Reviews  Very Good   \n",
       "17                          6.3      9 Total Reviews     Superb   \n",
       "18  No Rating\\n28 Total Reviews     28 Total Reviews  Very Good   \n",
       "\n",
       "                                         facilities  \\\n",
       "0   Free WiFi, Follows Covid-19 sanitation guidance   \n",
       "1   Free WiFi, Follows Covid-19 sanitation guidance   \n",
       "2   Free WiFi, Follows Covid-19 sanitation guidance   \n",
       "3   Free WiFi, Follows Covid-19 sanitation guidance   \n",
       "4   Free WiFi, Follows Covid-19 sanitation guidance   \n",
       "5   Free WiFi, Follows Covid-19 sanitation guidance   \n",
       "6   Free WiFi, Follows Covid-19 sanitation guidance   \n",
       "7   Free WiFi, Follows Covid-19 sanitation guidance   \n",
       "8   Free WiFi, Follows Covid-19 sanitation guidance   \n",
       "9   Free WiFi, Follows Covid-19 sanitation guidance   \n",
       "10  Free WiFi, Follows Covid-19 sanitation guidance   \n",
       "11  Free WiFi, Follows Covid-19 sanitation guidance   \n",
       "12  Free WiFi, Follows Covid-19 sanitation guidance   \n",
       "13  Free WiFi, Follows Covid-19 sanitation guidance   \n",
       "14  Free WiFi, Follows Covid-19 sanitation guidance   \n",
       "15  Free WiFi, Follows Covid-19 sanitation guidance   \n",
       "16  Free WiFi, Follows Covid-19 sanitation guidance   \n",
       "17  Free WiFi, Follows Covid-19 sanitation guidance   \n",
       "18  Free WiFi, Follows Covid-19 sanitation guidance   \n",
       "\n",
       "                                          description  \n",
       "0   A safe haven in the middle of the metropolis: ...  \n",
       "1   It was a really good experience in the hostel....  \n",
       "2   Very nice hostel, there is a bar downstairs an...  \n",
       "3   Bathroom were really clean and facilities are ...  \n",
       "4   COVID 19 Policy Update.\\nIn response to Corona...  \n",
       "5   We had a great experience in this Hostel! It's...  \n",
       "6   Hostel was clean and felt safe.Staff was super...  \n",
       "7   Located in the most beautiful and charming nei...  \n",
       "8   Had a wonderful stay at Astor Hyde Park. Despi...  \n",
       "9   My stay at Astor Hyde Park was exactly what I ...  \n",
       "10  Beautiful place with ample common spaces to co...  \n",
       "11  Generator London is a design hotel-hostel loca...  \n",
       "12  Everything was perfect! All I would add is acc...  \n",
       "13  Does in a pinch. Pretty overpriced for what it...  \n",
       "14  Safestay at Elephant & Castle is ideal if you ...  \n",
       "15  Super nice, would stay again! Everyone was sup...  \n",
       "16  Perfect location : close to the main London at...  \n",
       "17  Safestay Holland Park\\n\\nSafestay Holland Park...  \n",
       "18  The hostel is beautiful, right in the middle o...  "
      ]
     },
     "execution_count": 622,
     "metadata": {},
     "output_type": "execute_result"
    }
   ],
   "source": [
    "hostel"
   ]
  },
  {
   "cell_type": "code",
   "execution_count": null,
   "id": "2ee2166e",
   "metadata": {},
   "outputs": [],
   "source": []
  }
 ],
 "metadata": {
  "kernelspec": {
   "display_name": "Python 3 (ipykernel)",
   "language": "python",
   "name": "python3"
  },
  "language_info": {
   "codemirror_mode": {
    "name": "ipython",
    "version": 3
   },
   "file_extension": ".py",
   "mimetype": "text/x-python",
   "name": "python",
   "nbconvert_exporter": "python",
   "pygments_lexer": "ipython3",
   "version": "3.9.13"
  }
 },
 "nbformat": 4,
 "nbformat_minor": 5
}
