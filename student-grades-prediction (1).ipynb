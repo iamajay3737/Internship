{
 "cells": [
  {
   "cell_type": "markdown",
   "metadata": {},
   "source": [
    "# Importing Libraries"
   ]
  },
  {
   "cell_type": "code",
   "execution_count": 1,
   "metadata": {
    "_cell_guid": "b1076dfc-b9ad-4769-8c92-a6c4dae69d19",
    "_uuid": "8f2839f25d086af736a60e9eeb907d3b93b6e0e5",
    "execution": {
     "iopub.execute_input": "2021-05-21T11:34:21.414848Z",
     "iopub.status.busy": "2021-05-21T11:34:21.414421Z",
     "iopub.status.idle": "2021-05-21T11:34:21.851758Z",
     "shell.execute_reply": "2021-05-21T11:34:21.850819Z",
     "shell.execute_reply.started": "2021-05-21T11:34:21.414764Z"
    }
   },
   "outputs": [],
   "source": [
    "import numpy as np\n",
    "import pandas as pd\n",
    "import matplotlib.pyplot as plt\n",
    "%matplotlib inline\n",
    "import seaborn as sns"
   ]
  },
  {
   "cell_type": "markdown",
   "metadata": {},
   "source": [
    "# Loading Dataset"
   ]
  },
  {
   "cell_type": "code",
   "execution_count": 2,
   "metadata": {
    "execution": {
     "iopub.execute_input": "2021-05-21T11:34:25.253247Z",
     "iopub.status.busy": "2021-05-21T11:34:25.252853Z",
     "iopub.status.idle": "2021-05-21T11:34:25.291861Z",
     "shell.execute_reply": "2021-05-21T11:34:25.290857Z",
     "shell.execute_reply.started": "2021-05-21T11:34:25.253204Z"
    }
   },
   "outputs": [
    {
     "data": {
      "text/html": [
       "<div>\n",
       "<style scoped>\n",
       "    .dataframe tbody tr th:only-of-type {\n",
       "        vertical-align: middle;\n",
       "    }\n",
       "\n",
       "    .dataframe tbody tr th {\n",
       "        vertical-align: top;\n",
       "    }\n",
       "\n",
       "    .dataframe thead th {\n",
       "        text-align: right;\n",
       "    }\n",
       "</style>\n",
       "<table border=\"1\" class=\"dataframe\">\n",
       "  <thead>\n",
       "    <tr style=\"text-align: right;\">\n",
       "      <th></th>\n",
       "      <th>Seat No.</th>\n",
       "      <th>PH-121</th>\n",
       "      <th>HS-101</th>\n",
       "      <th>CY-105</th>\n",
       "      <th>HS-105/12</th>\n",
       "      <th>MT-111</th>\n",
       "      <th>CS-105</th>\n",
       "      <th>CS-106</th>\n",
       "      <th>EL-102</th>\n",
       "      <th>EE-119</th>\n",
       "      <th>...</th>\n",
       "      <th>CS-312</th>\n",
       "      <th>CS-317</th>\n",
       "      <th>CS-403</th>\n",
       "      <th>CS-421</th>\n",
       "      <th>CS-406</th>\n",
       "      <th>CS-414</th>\n",
       "      <th>CS-419</th>\n",
       "      <th>CS-423</th>\n",
       "      <th>CS-412</th>\n",
       "      <th>CGPA</th>\n",
       "    </tr>\n",
       "  </thead>\n",
       "  <tbody>\n",
       "    <tr>\n",
       "      <th>0</th>\n",
       "      <td>CS-97001</td>\n",
       "      <td>B-</td>\n",
       "      <td>D+</td>\n",
       "      <td>C-</td>\n",
       "      <td>C</td>\n",
       "      <td>C-</td>\n",
       "      <td>D+</td>\n",
       "      <td>D</td>\n",
       "      <td>C-</td>\n",
       "      <td>B-</td>\n",
       "      <td>...</td>\n",
       "      <td>C-</td>\n",
       "      <td>C-</td>\n",
       "      <td>C-</td>\n",
       "      <td>C-</td>\n",
       "      <td>A-</td>\n",
       "      <td>A</td>\n",
       "      <td>C-</td>\n",
       "      <td>B</td>\n",
       "      <td>A-</td>\n",
       "      <td>2.205</td>\n",
       "    </tr>\n",
       "    <tr>\n",
       "      <th>1</th>\n",
       "      <td>CS-97002</td>\n",
       "      <td>A</td>\n",
       "      <td>D</td>\n",
       "      <td>D+</td>\n",
       "      <td>D</td>\n",
       "      <td>B-</td>\n",
       "      <td>C</td>\n",
       "      <td>D</td>\n",
       "      <td>A</td>\n",
       "      <td>D+</td>\n",
       "      <td>...</td>\n",
       "      <td>D+</td>\n",
       "      <td>D</td>\n",
       "      <td>C</td>\n",
       "      <td>D</td>\n",
       "      <td>A-</td>\n",
       "      <td>B-</td>\n",
       "      <td>C</td>\n",
       "      <td>C</td>\n",
       "      <td>B</td>\n",
       "      <td>2.008</td>\n",
       "    </tr>\n",
       "    <tr>\n",
       "      <th>2</th>\n",
       "      <td>CS-97003</td>\n",
       "      <td>A</td>\n",
       "      <td>B</td>\n",
       "      <td>A</td>\n",
       "      <td>B-</td>\n",
       "      <td>B+</td>\n",
       "      <td>A</td>\n",
       "      <td>B-</td>\n",
       "      <td>B+</td>\n",
       "      <td>A-</td>\n",
       "      <td>...</td>\n",
       "      <td>B</td>\n",
       "      <td>B</td>\n",
       "      <td>A</td>\n",
       "      <td>C</td>\n",
       "      <td>A</td>\n",
       "      <td>A</td>\n",
       "      <td>A</td>\n",
       "      <td>A-</td>\n",
       "      <td>A</td>\n",
       "      <td>3.608</td>\n",
       "    </tr>\n",
       "    <tr>\n",
       "      <th>3</th>\n",
       "      <td>CS-97004</td>\n",
       "      <td>D</td>\n",
       "      <td>C+</td>\n",
       "      <td>D+</td>\n",
       "      <td>D</td>\n",
       "      <td>D</td>\n",
       "      <td>A-</td>\n",
       "      <td>D+</td>\n",
       "      <td>C-</td>\n",
       "      <td>D</td>\n",
       "      <td>...</td>\n",
       "      <td>D+</td>\n",
       "      <td>C</td>\n",
       "      <td>D+</td>\n",
       "      <td>C-</td>\n",
       "      <td>B-</td>\n",
       "      <td>B</td>\n",
       "      <td>C+</td>\n",
       "      <td>C+</td>\n",
       "      <td>C+</td>\n",
       "      <td>1.906</td>\n",
       "    </tr>\n",
       "    <tr>\n",
       "      <th>4</th>\n",
       "      <td>CS-97005</td>\n",
       "      <td>A-</td>\n",
       "      <td>A-</td>\n",
       "      <td>A-</td>\n",
       "      <td>B+</td>\n",
       "      <td>A</td>\n",
       "      <td>A</td>\n",
       "      <td>A-</td>\n",
       "      <td>B+</td>\n",
       "      <td>A</td>\n",
       "      <td>...</td>\n",
       "      <td>B-</td>\n",
       "      <td>B+</td>\n",
       "      <td>B+</td>\n",
       "      <td>B-</td>\n",
       "      <td>A-</td>\n",
       "      <td>A</td>\n",
       "      <td>A-</td>\n",
       "      <td>A-</td>\n",
       "      <td>A</td>\n",
       "      <td>3.448</td>\n",
       "    </tr>\n",
       "  </tbody>\n",
       "</table>\n",
       "<p>5 rows × 43 columns</p>\n",
       "</div>"
      ],
      "text/plain": [
       "   Seat No. PH-121 HS-101 CY-105 HS-105/12 MT-111 CS-105 CS-106 EL-102 EE-119  \\\n",
       "0  CS-97001     B-     D+     C-         C     C-     D+      D     C-     B-   \n",
       "1  CS-97002      A      D     D+         D     B-      C      D      A     D+   \n",
       "2  CS-97003      A      B      A        B-     B+      A     B-     B+     A-   \n",
       "3  CS-97004      D     C+     D+         D      D     A-     D+     C-      D   \n",
       "4  CS-97005     A-     A-     A-        B+      A      A     A-     B+      A   \n",
       "\n",
       "   ... CS-312 CS-317 CS-403 CS-421 CS-406 CS-414 CS-419 CS-423 CS-412   CGPA  \n",
       "0  ...     C-     C-     C-     C-     A-      A     C-      B     A-  2.205  \n",
       "1  ...     D+      D      C      D     A-     B-      C      C      B  2.008  \n",
       "2  ...      B      B      A      C      A      A      A     A-      A  3.608  \n",
       "3  ...     D+      C     D+     C-     B-      B     C+     C+     C+  1.906  \n",
       "4  ...     B-     B+     B+     B-     A-      A     A-     A-      A  3.448  \n",
       "\n",
       "[5 rows x 43 columns]"
      ]
     },
     "execution_count": 2,
     "metadata": {},
     "output_type": "execute_result"
    }
   ],
   "source": [
    "df = pd.read_csv(\"https://raw.githubusercontent.com/dsrscientist/dataset4/main/Grades.csv\")\n",
    "df.head()"
   ]
  },
  {
   "cell_type": "code",
   "execution_count": 3,
   "metadata": {
    "execution": {
     "iopub.execute_input": "2021-05-21T11:34:27.704163Z",
     "iopub.status.busy": "2021-05-21T11:34:27.703563Z",
     "iopub.status.idle": "2021-05-21T11:34:27.709165Z",
     "shell.execute_reply": "2021-05-21T11:34:27.708386Z",
     "shell.execute_reply.started": "2021-05-21T11:34:27.704129Z"
    }
   },
   "outputs": [
    {
     "data": {
      "text/plain": [
       "(571, 43)"
      ]
     },
     "execution_count": 3,
     "metadata": {},
     "output_type": "execute_result"
    }
   ],
   "source": [
    "df.shape"
   ]
  },
  {
   "cell_type": "code",
   "execution_count": 4,
   "metadata": {
    "execution": {
     "iopub.execute_input": "2021-05-21T11:34:29.651966Z",
     "iopub.status.busy": "2021-05-21T11:34:29.651605Z",
     "iopub.status.idle": "2021-05-21T11:34:29.722048Z",
     "shell.execute_reply": "2021-05-21T11:34:29.720924Z",
     "shell.execute_reply.started": "2021-05-21T11:34:29.651937Z"
    }
   },
   "outputs": [
    {
     "data": {
      "text/html": [
       "<div>\n",
       "<style scoped>\n",
       "    .dataframe tbody tr th:only-of-type {\n",
       "        vertical-align: middle;\n",
       "    }\n",
       "\n",
       "    .dataframe tbody tr th {\n",
       "        vertical-align: top;\n",
       "    }\n",
       "\n",
       "    .dataframe thead th {\n",
       "        text-align: right;\n",
       "    }\n",
       "</style>\n",
       "<table border=\"1\" class=\"dataframe\">\n",
       "  <thead>\n",
       "    <tr style=\"text-align: right;\">\n",
       "      <th></th>\n",
       "      <th>CGPA</th>\n",
       "    </tr>\n",
       "  </thead>\n",
       "  <tbody>\n",
       "    <tr>\n",
       "      <th>count</th>\n",
       "      <td>571.000000</td>\n",
       "    </tr>\n",
       "    <tr>\n",
       "      <th>mean</th>\n",
       "      <td>2.954888</td>\n",
       "    </tr>\n",
       "    <tr>\n",
       "      <th>std</th>\n",
       "      <td>0.620552</td>\n",
       "    </tr>\n",
       "    <tr>\n",
       "      <th>min</th>\n",
       "      <td>0.800000</td>\n",
       "    </tr>\n",
       "    <tr>\n",
       "      <th>25%</th>\n",
       "      <td>2.538000</td>\n",
       "    </tr>\n",
       "    <tr>\n",
       "      <th>50%</th>\n",
       "      <td>3.029000</td>\n",
       "    </tr>\n",
       "    <tr>\n",
       "      <th>75%</th>\n",
       "      <td>3.451000</td>\n",
       "    </tr>\n",
       "    <tr>\n",
       "      <th>max</th>\n",
       "      <td>3.985000</td>\n",
       "    </tr>\n",
       "  </tbody>\n",
       "</table>\n",
       "</div>"
      ],
      "text/plain": [
       "             CGPA\n",
       "count  571.000000\n",
       "mean     2.954888\n",
       "std      0.620552\n",
       "min      0.800000\n",
       "25%      2.538000\n",
       "50%      3.029000\n",
       "75%      3.451000\n",
       "max      3.985000"
      ]
     },
     "execution_count": 4,
     "metadata": {},
     "output_type": "execute_result"
    }
   ],
   "source": [
    "df.describe()"
   ]
  },
  {
   "cell_type": "code",
   "execution_count": 5,
   "metadata": {
    "execution": {
     "iopub.execute_input": "2021-05-21T11:34:31.666757Z",
     "iopub.status.busy": "2021-05-21T11:34:31.666326Z",
     "iopub.status.idle": "2021-05-21T11:34:31.727428Z",
     "shell.execute_reply": "2021-05-21T11:34:31.726320Z",
     "shell.execute_reply.started": "2021-05-21T11:34:31.666723Z"
    }
   },
   "outputs": [
    {
     "data": {
      "text/html": [
       "<div>\n",
       "<style scoped>\n",
       "    .dataframe tbody tr th:only-of-type {\n",
       "        vertical-align: middle;\n",
       "    }\n",
       "\n",
       "    .dataframe tbody tr th {\n",
       "        vertical-align: top;\n",
       "    }\n",
       "\n",
       "    .dataframe thead th {\n",
       "        text-align: right;\n",
       "    }\n",
       "</style>\n",
       "<table border=\"1\" class=\"dataframe\">\n",
       "  <thead>\n",
       "    <tr style=\"text-align: right;\">\n",
       "      <th></th>\n",
       "      <th>Seat No.</th>\n",
       "      <th>PH-121</th>\n",
       "      <th>HS-101</th>\n",
       "      <th>CY-105</th>\n",
       "      <th>HS-105/12</th>\n",
       "      <th>MT-111</th>\n",
       "      <th>CS-105</th>\n",
       "      <th>CS-106</th>\n",
       "      <th>EL-102</th>\n",
       "      <th>EE-119</th>\n",
       "      <th>...</th>\n",
       "      <th>CS-306</th>\n",
       "      <th>CS-312</th>\n",
       "      <th>CS-317</th>\n",
       "      <th>CS-403</th>\n",
       "      <th>CS-421</th>\n",
       "      <th>CS-406</th>\n",
       "      <th>CS-414</th>\n",
       "      <th>CS-419</th>\n",
       "      <th>CS-423</th>\n",
       "      <th>CS-412</th>\n",
       "    </tr>\n",
       "  </thead>\n",
       "  <tbody>\n",
       "    <tr>\n",
       "      <th>count</th>\n",
       "      <td>571</td>\n",
       "      <td>571</td>\n",
       "      <td>571</td>\n",
       "      <td>570</td>\n",
       "      <td>570</td>\n",
       "      <td>569</td>\n",
       "      <td>571</td>\n",
       "      <td>569</td>\n",
       "      <td>569</td>\n",
       "      <td>569</td>\n",
       "      <td>...</td>\n",
       "      <td>562</td>\n",
       "      <td>561</td>\n",
       "      <td>559</td>\n",
       "      <td>559</td>\n",
       "      <td>559</td>\n",
       "      <td>486</td>\n",
       "      <td>558</td>\n",
       "      <td>558</td>\n",
       "      <td>557</td>\n",
       "      <td>492</td>\n",
       "    </tr>\n",
       "    <tr>\n",
       "      <th>unique</th>\n",
       "      <td>571</td>\n",
       "      <td>13</td>\n",
       "      <td>12</td>\n",
       "      <td>13</td>\n",
       "      <td>13</td>\n",
       "      <td>13</td>\n",
       "      <td>11</td>\n",
       "      <td>13</td>\n",
       "      <td>13</td>\n",
       "      <td>12</td>\n",
       "      <td>...</td>\n",
       "      <td>13</td>\n",
       "      <td>14</td>\n",
       "      <td>12</td>\n",
       "      <td>11</td>\n",
       "      <td>13</td>\n",
       "      <td>14</td>\n",
       "      <td>13</td>\n",
       "      <td>12</td>\n",
       "      <td>12</td>\n",
       "      <td>13</td>\n",
       "    </tr>\n",
       "    <tr>\n",
       "      <th>top</th>\n",
       "      <td>CS-97001</td>\n",
       "      <td>A-</td>\n",
       "      <td>A-</td>\n",
       "      <td>A</td>\n",
       "      <td>A</td>\n",
       "      <td>A-</td>\n",
       "      <td>A</td>\n",
       "      <td>A-</td>\n",
       "      <td>A-</td>\n",
       "      <td>A-</td>\n",
       "      <td>...</td>\n",
       "      <td>A-</td>\n",
       "      <td>A+</td>\n",
       "      <td>B-</td>\n",
       "      <td>A</td>\n",
       "      <td>B</td>\n",
       "      <td>A-</td>\n",
       "      <td>A</td>\n",
       "      <td>A-</td>\n",
       "      <td>A-</td>\n",
       "      <td>A-</td>\n",
       "    </tr>\n",
       "    <tr>\n",
       "      <th>freq</th>\n",
       "      <td>1</td>\n",
       "      <td>112</td>\n",
       "      <td>82</td>\n",
       "      <td>177</td>\n",
       "      <td>96</td>\n",
       "      <td>105</td>\n",
       "      <td>151</td>\n",
       "      <td>116</td>\n",
       "      <td>105</td>\n",
       "      <td>137</td>\n",
       "      <td>...</td>\n",
       "      <td>120</td>\n",
       "      <td>93</td>\n",
       "      <td>79</td>\n",
       "      <td>133</td>\n",
       "      <td>86</td>\n",
       "      <td>177</td>\n",
       "      <td>176</td>\n",
       "      <td>120</td>\n",
       "      <td>122</td>\n",
       "      <td>157</td>\n",
       "    </tr>\n",
       "  </tbody>\n",
       "</table>\n",
       "<p>4 rows × 42 columns</p>\n",
       "</div>"
      ],
      "text/plain": [
       "        Seat No. PH-121 HS-101 CY-105 HS-105/12 MT-111 CS-105 CS-106 EL-102  \\\n",
       "count        571    571    571    570       570    569    571    569    569   \n",
       "unique       571     13     12     13        13     13     11     13     13   \n",
       "top     CS-97001     A-     A-      A         A     A-      A     A-     A-   \n",
       "freq           1    112     82    177        96    105    151    116    105   \n",
       "\n",
       "       EE-119  ... CS-306 CS-312 CS-317 CS-403 CS-421 CS-406 CS-414 CS-419  \\\n",
       "count     569  ...    562    561    559    559    559    486    558    558   \n",
       "unique     12  ...     13     14     12     11     13     14     13     12   \n",
       "top        A-  ...     A-     A+     B-      A      B     A-      A     A-   \n",
       "freq      137  ...    120     93     79    133     86    177    176    120   \n",
       "\n",
       "       CS-423 CS-412  \n",
       "count     557    492  \n",
       "unique     12     13  \n",
       "top        A-     A-  \n",
       "freq      122    157  \n",
       "\n",
       "[4 rows x 42 columns]"
      ]
     },
     "execution_count": 5,
     "metadata": {},
     "output_type": "execute_result"
    }
   ],
   "source": [
    "df.describe(include='O')"
   ]
  },
  {
   "cell_type": "code",
   "execution_count": 6,
   "metadata": {
    "execution": {
     "iopub.execute_input": "2021-05-21T11:34:32.949422Z",
     "iopub.status.busy": "2021-05-21T11:34:32.949055Z",
     "iopub.status.idle": "2021-05-21T11:34:32.969562Z",
     "shell.execute_reply": "2021-05-21T11:34:32.968336Z",
     "shell.execute_reply.started": "2021-05-21T11:34:32.949393Z"
    }
   },
   "outputs": [
    {
     "name": "stdout",
     "output_type": "stream",
     "text": [
      "<class 'pandas.core.frame.DataFrame'>\n",
      "RangeIndex: 571 entries, 0 to 570\n",
      "Data columns (total 43 columns):\n",
      " #   Column     Non-Null Count  Dtype  \n",
      "---  ------     --------------  -----  \n",
      " 0   Seat No.   571 non-null    object \n",
      " 1   PH-121     571 non-null    object \n",
      " 2   HS-101     571 non-null    object \n",
      " 3   CY-105     570 non-null    object \n",
      " 4   HS-105/12  570 non-null    object \n",
      " 5   MT-111     569 non-null    object \n",
      " 6   CS-105     571 non-null    object \n",
      " 7   CS-106     569 non-null    object \n",
      " 8   EL-102     569 non-null    object \n",
      " 9   EE-119     569 non-null    object \n",
      " 10  ME-107     569 non-null    object \n",
      " 11  CS-107     569 non-null    object \n",
      " 12  HS-205/20  566 non-null    object \n",
      " 13  MT-222     566 non-null    object \n",
      " 14  EE-222     564 non-null    object \n",
      " 15  MT-224     564 non-null    object \n",
      " 16  CS-210     564 non-null    object \n",
      " 17  CS-211     566 non-null    object \n",
      " 18  CS-203     566 non-null    object \n",
      " 19  CS-214     565 non-null    object \n",
      " 20  EE-217     565 non-null    object \n",
      " 21  CS-212     565 non-null    object \n",
      " 22  CS-215     565 non-null    object \n",
      " 23  MT-331     562 non-null    object \n",
      " 24  EF-303     561 non-null    object \n",
      " 25  HS-304     561 non-null    object \n",
      " 26  CS-301     561 non-null    object \n",
      " 27  CS-302     561 non-null    object \n",
      " 28  TC-383     561 non-null    object \n",
      " 29  MT-442     561 non-null    object \n",
      " 30  EL-332     562 non-null    object \n",
      " 31  CS-318     562 non-null    object \n",
      " 32  CS-306     562 non-null    object \n",
      " 33  CS-312     561 non-null    object \n",
      " 34  CS-317     559 non-null    object \n",
      " 35  CS-403     559 non-null    object \n",
      " 36  CS-421     559 non-null    object \n",
      " 37  CS-406     486 non-null    object \n",
      " 38  CS-414     558 non-null    object \n",
      " 39  CS-419     558 non-null    object \n",
      " 40  CS-423     557 non-null    object \n",
      " 41  CS-412     492 non-null    object \n",
      " 42  CGPA       571 non-null    float64\n",
      "dtypes: float64(1), object(42)\n",
      "memory usage: 191.9+ KB\n"
     ]
    }
   ],
   "source": [
    "df.info()"
   ]
  },
  {
   "cell_type": "markdown",
   "metadata": {},
   "source": [
    "# Checking null Values"
   ]
  },
  {
   "cell_type": "code",
   "execution_count": 7,
   "metadata": {
    "execution": {
     "iopub.execute_input": "2021-05-21T11:34:37.332896Z",
     "iopub.status.busy": "2021-05-21T11:34:37.332505Z",
     "iopub.status.idle": "2021-05-21T11:34:37.343577Z",
     "shell.execute_reply": "2021-05-21T11:34:37.342342Z",
     "shell.execute_reply.started": "2021-05-21T11:34:37.332866Z"
    }
   },
   "outputs": [
    {
     "data": {
      "text/plain": [
       "Seat No.      0\n",
       "PH-121        0\n",
       "HS-101        0\n",
       "CY-105        1\n",
       "HS-105/12     1\n",
       "MT-111        2\n",
       "CS-105        0\n",
       "CS-106        2\n",
       "EL-102        2\n",
       "EE-119        2\n",
       "ME-107        2\n",
       "CS-107        2\n",
       "HS-205/20     5\n",
       "MT-222        5\n",
       "EE-222        7\n",
       "MT-224        7\n",
       "CS-210        7\n",
       "CS-211        5\n",
       "CS-203        5\n",
       "CS-214        6\n",
       "EE-217        6\n",
       "CS-212        6\n",
       "CS-215        6\n",
       "MT-331        9\n",
       "EF-303       10\n",
       "HS-304       10\n",
       "CS-301       10\n",
       "CS-302       10\n",
       "TC-383       10\n",
       "MT-442       10\n",
       "EL-332        9\n",
       "CS-318        9\n",
       "CS-306        9\n",
       "CS-312       10\n",
       "CS-317       12\n",
       "CS-403       12\n",
       "CS-421       12\n",
       "CS-406       85\n",
       "CS-414       13\n",
       "CS-419       13\n",
       "CS-423       14\n",
       "CS-412       79\n",
       "CGPA          0\n",
       "dtype: int64"
      ]
     },
     "execution_count": 7,
     "metadata": {},
     "output_type": "execute_result"
    }
   ],
   "source": [
    "df.isnull().sum()"
   ]
  },
  {
   "cell_type": "code",
   "execution_count": null,
   "metadata": {},
   "outputs": [],
   "source": []
  },
  {
   "cell_type": "markdown",
   "metadata": {},
   "source": [
    "# Exploratory Data Analysis"
   ]
  },
  {
   "cell_type": "code",
   "execution_count": 9,
   "metadata": {
    "execution": {
     "iopub.execute_input": "2021-05-21T11:34:45.119122Z",
     "iopub.status.busy": "2021-05-21T11:34:45.118557Z",
     "iopub.status.idle": "2021-05-21T11:34:45.353746Z",
     "shell.execute_reply": "2021-05-21T11:34:45.352920Z",
     "shell.execute_reply.started": "2021-05-21T11:34:45.119089Z"
    }
   },
   "outputs": [
    {
     "name": "stderr",
     "output_type": "stream",
     "text": [
      "/opt/conda/lib/python3.7/site-packages/seaborn/_decorators.py:43: FutureWarning: Pass the following variable as a keyword arg: x. From version 0.12, the only valid positional argument will be `data`, and passing other arguments without an explicit keyword will result in an error or misinterpretation.\n",
      "  FutureWarning\n"
     ]
    },
    {
     "data": {
      "text/plain": [
       "<AxesSubplot:xlabel='sex', ylabel='count'>"
      ]
     },
     "execution_count": 9,
     "metadata": {},
     "output_type": "execute_result"
    },
    {
     "data": {
      "image/png": "[encoded data removed]",
      "text/plain": [
       "<Figure size 432x288 with 1 Axes>"
      ]
     },
     "metadata": {
      "needs_background": "light"
     },
     "output_type": "display_data"
    }
   ],
   "source": [
    "sns.countplot(df['sex'],hue=df['age'])"
   ]
  },
  {
   "cell_type": "code",
   "execution_count": 10,
   "metadata": {
    "execution": {
     "iopub.execute_input": "2021-05-21T11:34:46.473461Z",
     "iopub.status.busy": "2021-05-21T11:34:46.472889Z",
     "iopub.status.idle": "2021-05-21T11:34:46.639816Z",
     "shell.execute_reply": "2021-05-21T11:34:46.638959Z",
     "shell.execute_reply.started": "2021-05-21T11:34:46.473428Z"
    }
   },
   "outputs": [
    {
     "name": "stderr",
     "output_type": "stream",
     "text": [
      "/opt/conda/lib/python3.7/site-packages/seaborn/_decorators.py:43: FutureWarning: Pass the following variable as a keyword arg: x. From version 0.12, the only valid positional argument will be `data`, and passing other arguments without an explicit keyword will result in an error or misinterpretation.\n",
      "  FutureWarning\n"
     ]
    },
    {
     "data": {
      "text/plain": [
       "<AxesSubplot:xlabel='sex', ylabel='count'>"
      ]
     },
     "execution_count": 10,
     "metadata": {},
     "output_type": "execute_result"
    },
    {
     "data": {
      "image/png": "[encoded data removed]",
      "text/plain": [
       "<Figure size 432x288 with 1 Axes>"
      ]
     },
     "metadata": {
      "needs_background": "light"
     },
     "output_type": "display_data"
    }
   ],
   "source": [
    "sns.countplot(df['sex'],hue=df['famsize'])"
   ]
  },
  {
   "cell_type": "code",
   "execution_count": 11,
   "metadata": {
    "execution": {
     "iopub.execute_input": "2021-05-21T11:34:47.830104Z",
     "iopub.status.busy": "2021-05-21T11:34:47.829570Z",
     "iopub.status.idle": "2021-05-21T11:34:47.986702Z",
     "shell.execute_reply": "2021-05-21T11:34:47.985910Z",
     "shell.execute_reply.started": "2021-05-21T11:34:47.830072Z"
    }
   },
   "outputs": [
    {
     "name": "stderr",
     "output_type": "stream",
     "text": [
      "/opt/conda/lib/python3.7/site-packages/seaborn/_decorators.py:43: FutureWarning: Pass the following variable as a keyword arg: x. From version 0.12, the only valid positional argument will be `data`, and passing other arguments without an explicit keyword will result in an error or misinterpretation.\n",
      "  FutureWarning\n"
     ]
    },
    {
     "data": {
      "text/plain": [
       "<AxesSubplot:xlabel='Pstatus', ylabel='count'>"
      ]
     },
     "execution_count": 11,
     "metadata": {},
     "output_type": "execute_result"
    },
    {
     "data": {
      "image/png": "[encoded data removed]",
      "text/plain": [
       "<Figure size 432x288 with 1 Axes>"
      ]
     },
     "metadata": {
      "needs_background": "light"
     },
     "output_type": "display_data"
    }
   ],
   "source": [
    "sns.countplot(df['Pstatus'],hue=df['famsize'])"
   ]
  },
  {
   "cell_type": "code",
   "execution_count": 12,
   "metadata": {
    "execution": {
     "iopub.execute_input": "2021-05-21T11:34:49.403503Z",
     "iopub.status.busy": "2021-05-21T11:34:49.403131Z",
     "iopub.status.idle": "2021-05-21T11:34:49.594396Z",
     "shell.execute_reply": "2021-05-21T11:34:49.593199Z",
     "shell.execute_reply.started": "2021-05-21T11:34:49.403472Z"
    }
   },
   "outputs": [
    {
     "name": "stderr",
     "output_type": "stream",
     "text": [
      "/opt/conda/lib/python3.7/site-packages/seaborn/_decorators.py:43: FutureWarning: Pass the following variable as a keyword arg: x. From version 0.12, the only valid positional argument will be `data`, and passing other arguments without an explicit keyword will result in an error or misinterpretation.\n",
      "  FutureWarning\n"
     ]
    },
    {
     "data": {
      "text/plain": [
       "<AxesSubplot:xlabel='Medu', ylabel='count'>"
      ]
     },
     "execution_count": 12,
     "metadata": {},
     "output_type": "execute_result"
    },
    {
     "data": {
      "image/png": "[encoded data removed]",
      "text/plain": [
       "<Figure size 432x288 with 1 Axes>"
      ]
     },
     "metadata": {
      "needs_background": "light"
     },
     "output_type": "display_data"
    }
   ],
   "source": [
    "sns.countplot(df['Medu'],hue=df['famsize'])"
   ]
  },
  {
   "cell_type": "code",
   "execution_count": 13,
   "metadata": {
    "execution": {
     "iopub.execute_input": "2021-05-21T11:34:51.001972Z",
     "iopub.status.busy": "2021-05-21T11:34:51.001552Z",
     "iopub.status.idle": "2021-05-21T11:34:51.214951Z",
     "shell.execute_reply": "2021-05-21T11:34:51.213864Z",
     "shell.execute_reply.started": "2021-05-21T11:34:51.001935Z"
    }
   },
   "outputs": [
    {
     "name": "stderr",
     "output_type": "stream",
     "text": [
      "/opt/conda/lib/python3.7/site-packages/seaborn/_decorators.py:43: FutureWarning: Pass the following variable as a keyword arg: x. From version 0.12, the only valid positional argument will be `data`, and passing other arguments without an explicit keyword will result in an error or misinterpretation.\n",
      "  FutureWarning\n"
     ]
    },
    {
     "data": {
      "text/plain": [
       "<AxesSubplot:xlabel='Fedu', ylabel='count'>"
      ]
     },
     "execution_count": 13,
     "metadata": {},
     "output_type": "execute_result"
    },
    {
     "data": {
      "image/png": "[encoded data removed]",
      "text/plain": [
       "<Figure size 432x288 with 1 Axes>"
      ]
     },
     "metadata": {
      "needs_background": "light"
     },
     "output_type": "display_data"
    }
   ],
   "source": [
    "sns.countplot(df['Fedu'],hue=df['famsize'])"
   ]
  },
  {
   "cell_type": "code",
   "execution_count": 14,
   "metadata": {
    "execution": {
     "iopub.execute_input": "2021-05-21T11:34:52.453525Z",
     "iopub.status.busy": "2021-05-21T11:34:52.453041Z",
     "iopub.status.idle": "2021-05-21T11:34:52.709182Z",
     "shell.execute_reply": "2021-05-21T11:34:52.708301Z",
     "shell.execute_reply.started": "2021-05-21T11:34:52.453482Z"
    }
   },
   "outputs": [
    {
     "name": "stderr",
     "output_type": "stream",
     "text": [
      "/opt/conda/lib/python3.7/site-packages/seaborn/_decorators.py:43: FutureWarning: Pass the following variable as a keyword arg: x. From version 0.12, the only valid positional argument will be `data`, and passing other arguments without an explicit keyword will result in an error or misinterpretation.\n",
      "  FutureWarning\n"
     ]
    },
    {
     "data": {
      "text/plain": [
       "<AxesSubplot:xlabel='G1', ylabel='count'>"
      ]
     },
     "execution_count": 14,
     "metadata": {},
     "output_type": "execute_result"
    },
    {
     "data": {
      "image/png": "[encoded data removed]",
      "text/plain": [
       "<Figure size 432x288 with 1 Axes>"
      ]
     },
     "metadata": {
      "needs_background": "light"
     },
     "output_type": "display_data"
    }
   ],
   "source": [
    "sns.countplot(df['G1'])"
   ]
  },
  {
   "cell_type": "code",
   "execution_count": 15,
   "metadata": {
    "execution": {
     "iopub.execute_input": "2021-05-21T11:34:54.443942Z",
     "iopub.status.busy": "2021-05-21T11:34:54.443516Z",
     "iopub.status.idle": "2021-05-21T11:34:54.704889Z",
     "shell.execute_reply": "2021-05-21T11:34:54.703950Z",
     "shell.execute_reply.started": "2021-05-21T11:34:54.443900Z"
    }
   },
   "outputs": [
    {
     "name": "stderr",
     "output_type": "stream",
     "text": [
      "/opt/conda/lib/python3.7/site-packages/seaborn/_decorators.py:43: FutureWarning: Pass the following variable as a keyword arg: x. From version 0.12, the only valid positional argument will be `data`, and passing other arguments without an explicit keyword will result in an error or misinterpretation.\n",
      "  FutureWarning\n"
     ]
    },
    {
     "data": {
      "text/plain": [
       "<AxesSubplot:xlabel='G2', ylabel='count'>"
      ]
     },
     "execution_count": 15,
     "metadata": {},
     "output_type": "execute_result"
    },
    {
     "data": {
      "image/png": "[encoded data removed]",
      "text/plain": [
       "<Figure size 432x288 with 1 Axes>"
      ]
     },
     "metadata": {
      "needs_background": "light"
     },
     "output_type": "display_data"
    }
   ],
   "source": [
    "sns.countplot(df['G2'])"
   ]
  },
  {
   "cell_type": "markdown",
   "metadata": {},
   "source": [
    "# Correlation"
   ]
  },
  {
   "cell_type": "code",
   "execution_count": 16,
   "metadata": {
    "execution": {
     "iopub.execute_input": "2021-05-21T11:34:58.110557Z",
     "iopub.status.busy": "2021-05-21T11:34:58.110147Z",
     "iopub.status.idle": "2021-05-21T11:34:59.760976Z",
     "shell.execute_reply": "2021-05-21T11:34:59.759619Z",
     "shell.execute_reply.started": "2021-05-21T11:34:58.110524Z"
    }
   },
   "outputs": [
    {
     "data": {
      "text/plain": [
       "<AxesSubplot:>"
      ]
     },
     "execution_count": 16,
     "metadata": {},
     "output_type": "execute_result"
    },
    {
     "data": {
      "image/png": "[encoded data removed]",
      "text/plain": [
       "<Figure size 1080x720 with 2 Axes>"
      ]
     },
     "metadata": {
      "needs_background": "light"
     },
     "output_type": "display_data"
    }
   ],
   "source": [
    "plt.figure(figsize=(15,10))\n",
    "sns.heatmap(df.corr(),annot=True)"
   ]
  },
  {
   "cell_type": "code",
   "execution_count": 17,
   "metadata": {
    "execution": {
     "iopub.execute_input": "2021-05-21T11:35:03.112918Z",
     "iopub.status.busy": "2021-05-21T11:35:03.112116Z",
     "iopub.status.idle": "2021-05-21T11:35:03.142357Z",
     "shell.execute_reply": "2021-05-21T11:35:03.141222Z",
     "shell.execute_reply.started": "2021-05-21T11:35:03.112861Z"
    }
   },
   "outputs": [
    {
     "data": {
      "text/html": [
       "<div>\n",
       "<style scoped>\n",
       "    .dataframe tbody tr th:only-of-type {\n",
       "        vertical-align: middle;\n",
       "    }\n",
       "\n",
       "    .dataframe tbody tr th {\n",
       "        vertical-align: top;\n",
       "    }\n",
       "\n",
       "    .dataframe thead th {\n",
       "        text-align: right;\n",
       "    }\n",
       "</style>\n",
       "<table border=\"1\" class=\"dataframe\">\n",
       "  <thead>\n",
       "    <tr style=\"text-align: right;\">\n",
       "      <th></th>\n",
       "      <th>school</th>\n",
       "      <th>sex</th>\n",
       "      <th>age</th>\n",
       "      <th>address</th>\n",
       "      <th>famsize</th>\n",
       "      <th>Pstatus</th>\n",
       "      <th>Medu</th>\n",
       "      <th>Fedu</th>\n",
       "      <th>Mjob</th>\n",
       "      <th>Fjob</th>\n",
       "      <th>...</th>\n",
       "      <th>famrel</th>\n",
       "      <th>freetime</th>\n",
       "      <th>goout</th>\n",
       "      <th>Dalc</th>\n",
       "      <th>Walc</th>\n",
       "      <th>health</th>\n",
       "      <th>absences</th>\n",
       "      <th>G1</th>\n",
       "      <th>G2</th>\n",
       "      <th>G3</th>\n",
       "    </tr>\n",
       "  </thead>\n",
       "  <tbody>\n",
       "    <tr>\n",
       "      <th>0</th>\n",
       "      <td>GP</td>\n",
       "      <td>F</td>\n",
       "      <td>18</td>\n",
       "      <td>U</td>\n",
       "      <td>GT3</td>\n",
       "      <td>A</td>\n",
       "      <td>4</td>\n",
       "      <td>4</td>\n",
       "      <td>at_home</td>\n",
       "      <td>teacher</td>\n",
       "      <td>...</td>\n",
       "      <td>4</td>\n",
       "      <td>3</td>\n",
       "      <td>4</td>\n",
       "      <td>1</td>\n",
       "      <td>1</td>\n",
       "      <td>3</td>\n",
       "      <td>6</td>\n",
       "      <td>5</td>\n",
       "      <td>6</td>\n",
       "      <td>6</td>\n",
       "    </tr>\n",
       "    <tr>\n",
       "      <th>1</th>\n",
       "      <td>GP</td>\n",
       "      <td>F</td>\n",
       "      <td>17</td>\n",
       "      <td>U</td>\n",
       "      <td>GT3</td>\n",
       "      <td>T</td>\n",
       "      <td>1</td>\n",
       "      <td>1</td>\n",
       "      <td>at_home</td>\n",
       "      <td>other</td>\n",
       "      <td>...</td>\n",
       "      <td>5</td>\n",
       "      <td>3</td>\n",
       "      <td>3</td>\n",
       "      <td>1</td>\n",
       "      <td>1</td>\n",
       "      <td>3</td>\n",
       "      <td>4</td>\n",
       "      <td>5</td>\n",
       "      <td>5</td>\n",
       "      <td>6</td>\n",
       "    </tr>\n",
       "    <tr>\n",
       "      <th>2</th>\n",
       "      <td>GP</td>\n",
       "      <td>F</td>\n",
       "      <td>15</td>\n",
       "      <td>U</td>\n",
       "      <td>LE3</td>\n",
       "      <td>T</td>\n",
       "      <td>1</td>\n",
       "      <td>1</td>\n",
       "      <td>at_home</td>\n",
       "      <td>other</td>\n",
       "      <td>...</td>\n",
       "      <td>4</td>\n",
       "      <td>3</td>\n",
       "      <td>2</td>\n",
       "      <td>2</td>\n",
       "      <td>3</td>\n",
       "      <td>3</td>\n",
       "      <td>10</td>\n",
       "      <td>7</td>\n",
       "      <td>8</td>\n",
       "      <td>10</td>\n",
       "    </tr>\n",
       "    <tr>\n",
       "      <th>3</th>\n",
       "      <td>GP</td>\n",
       "      <td>F</td>\n",
       "      <td>15</td>\n",
       "      <td>U</td>\n",
       "      <td>GT3</td>\n",
       "      <td>T</td>\n",
       "      <td>4</td>\n",
       "      <td>2</td>\n",
       "      <td>health</td>\n",
       "      <td>services</td>\n",
       "      <td>...</td>\n",
       "      <td>3</td>\n",
       "      <td>2</td>\n",
       "      <td>2</td>\n",
       "      <td>1</td>\n",
       "      <td>1</td>\n",
       "      <td>5</td>\n",
       "      <td>2</td>\n",
       "      <td>15</td>\n",
       "      <td>14</td>\n",
       "      <td>15</td>\n",
       "    </tr>\n",
       "    <tr>\n",
       "      <th>4</th>\n",
       "      <td>GP</td>\n",
       "      <td>F</td>\n",
       "      <td>16</td>\n",
       "      <td>U</td>\n",
       "      <td>GT3</td>\n",
       "      <td>T</td>\n",
       "      <td>3</td>\n",
       "      <td>3</td>\n",
       "      <td>other</td>\n",
       "      <td>other</td>\n",
       "      <td>...</td>\n",
       "      <td>4</td>\n",
       "      <td>3</td>\n",
       "      <td>2</td>\n",
       "      <td>1</td>\n",
       "      <td>2</td>\n",
       "      <td>5</td>\n",
       "      <td>4</td>\n",
       "      <td>6</td>\n",
       "      <td>10</td>\n",
       "      <td>10</td>\n",
       "    </tr>\n",
       "  </tbody>\n",
       "</table>\n",
       "<p>5 rows × 33 columns</p>\n",
       "</div>"
      ],
      "text/plain": [
       "  school sex  age address famsize Pstatus  Medu  Fedu     Mjob      Fjob  ...  \\\n",
       "0     GP   F   18       U     GT3       A     4     4  at_home   teacher  ...   \n",
       "1     GP   F   17       U     GT3       T     1     1  at_home     other  ...   \n",
       "2     GP   F   15       U     LE3       T     1     1  at_home     other  ...   \n",
       "3     GP   F   15       U     GT3       T     4     2   health  services  ...   \n",
       "4     GP   F   16       U     GT3       T     3     3    other     other  ...   \n",
       "\n",
       "  famrel freetime  goout  Dalc  Walc health absences  G1  G2  G3  \n",
       "0      4        3      4     1     1      3        6   5   6   6  \n",
       "1      5        3      3     1     1      3        4   5   5   6  \n",
       "2      4        3      2     2     3      3       10   7   8  10  \n",
       "3      3        2      2     1     1      5        2  15  14  15  \n",
       "4      4        3      2     1     2      5        4   6  10  10  \n",
       "\n",
       "[5 rows x 33 columns]"
      ]
     },
     "execution_count": 17,
     "metadata": {},
     "output_type": "execute_result"
    }
   ],
   "source": [
    "df.head()"
   ]
  },
  {
   "cell_type": "code",
   "execution_count": 18,
   "metadata": {
    "execution": {
     "iopub.execute_input": "2021-05-21T11:35:04.611629Z",
     "iopub.status.busy": "2021-05-21T11:35:04.611254Z",
     "iopub.status.idle": "2021-05-21T11:35:04.615704Z",
     "shell.execute_reply": "2021-05-21T11:35:04.614808Z",
     "shell.execute_reply.started": "2021-05-21T11:35:04.611598Z"
    }
   },
   "outputs": [],
   "source": [
    "# Preprocessing and Using One hot Encoding "
   ]
  },
  {
   "cell_type": "code",
   "execution_count": 19,
   "metadata": {
    "execution": {
     "iopub.execute_input": "2021-05-21T11:35:06.701178Z",
     "iopub.status.busy": "2021-05-21T11:35:06.700654Z",
     "iopub.status.idle": "2021-05-21T11:35:06.758346Z",
     "shell.execute_reply": "2021-05-21T11:35:06.757181Z",
     "shell.execute_reply.started": "2021-05-21T11:35:06.701130Z"
    }
   },
   "outputs": [
    {
     "data": {
      "text/html": [
       "<div>\n",
       "<style scoped>\n",
       "    .dataframe tbody tr th:only-of-type {\n",
       "        vertical-align: middle;\n",
       "    }\n",
       "\n",
       "    .dataframe tbody tr th {\n",
       "        vertical-align: top;\n",
       "    }\n",
       "\n",
       "    .dataframe thead th {\n",
       "        text-align: right;\n",
       "    }\n",
       "</style>\n",
       "<table border=\"1\" class=\"dataframe\">\n",
       "  <thead>\n",
       "    <tr style=\"text-align: right;\">\n",
       "      <th></th>\n",
       "      <th>school</th>\n",
       "      <th>sex</th>\n",
       "      <th>address</th>\n",
       "      <th>famsize</th>\n",
       "      <th>Pstatus</th>\n",
       "      <th>Mjob</th>\n",
       "      <th>Fjob</th>\n",
       "      <th>reason</th>\n",
       "      <th>guardian</th>\n",
       "      <th>schoolsup</th>\n",
       "      <th>famsup</th>\n",
       "      <th>paid</th>\n",
       "      <th>activities</th>\n",
       "      <th>nursery</th>\n",
       "      <th>higher</th>\n",
       "      <th>internet</th>\n",
       "      <th>romantic</th>\n",
       "    </tr>\n",
       "  </thead>\n",
       "  <tbody>\n",
       "    <tr>\n",
       "      <th>count</th>\n",
       "      <td>395</td>\n",
       "      <td>395</td>\n",
       "      <td>395</td>\n",
       "      <td>395</td>\n",
       "      <td>395</td>\n",
       "      <td>395</td>\n",
       "      <td>395</td>\n",
       "      <td>395</td>\n",
       "      <td>395</td>\n",
       "      <td>395</td>\n",
       "      <td>395</td>\n",
       "      <td>395</td>\n",
       "      <td>395</td>\n",
       "      <td>395</td>\n",
       "      <td>395</td>\n",
       "      <td>395</td>\n",
       "      <td>395</td>\n",
       "    </tr>\n",
       "    <tr>\n",
       "      <th>unique</th>\n",
       "      <td>2</td>\n",
       "      <td>2</td>\n",
       "      <td>2</td>\n",
       "      <td>2</td>\n",
       "      <td>2</td>\n",
       "      <td>5</td>\n",
       "      <td>5</td>\n",
       "      <td>4</td>\n",
       "      <td>3</td>\n",
       "      <td>2</td>\n",
       "      <td>2</td>\n",
       "      <td>2</td>\n",
       "      <td>2</td>\n",
       "      <td>2</td>\n",
       "      <td>2</td>\n",
       "      <td>2</td>\n",
       "      <td>2</td>\n",
       "    </tr>\n",
       "    <tr>\n",
       "      <th>top</th>\n",
       "      <td>GP</td>\n",
       "      <td>F</td>\n",
       "      <td>U</td>\n",
       "      <td>GT3</td>\n",
       "      <td>T</td>\n",
       "      <td>other</td>\n",
       "      <td>other</td>\n",
       "      <td>course</td>\n",
       "      <td>mother</td>\n",
       "      <td>no</td>\n",
       "      <td>yes</td>\n",
       "      <td>no</td>\n",
       "      <td>yes</td>\n",
       "      <td>yes</td>\n",
       "      <td>yes</td>\n",
       "      <td>yes</td>\n",
       "      <td>no</td>\n",
       "    </tr>\n",
       "    <tr>\n",
       "      <th>freq</th>\n",
       "      <td>349</td>\n",
       "      <td>208</td>\n",
       "      <td>307</td>\n",
       "      <td>281</td>\n",
       "      <td>354</td>\n",
       "      <td>141</td>\n",
       "      <td>217</td>\n",
       "      <td>145</td>\n",
       "      <td>273</td>\n",
       "      <td>344</td>\n",
       "      <td>242</td>\n",
       "      <td>214</td>\n",
       "      <td>201</td>\n",
       "      <td>314</td>\n",
       "      <td>375</td>\n",
       "      <td>329</td>\n",
       "      <td>263</td>\n",
       "    </tr>\n",
       "  </tbody>\n",
       "</table>\n",
       "</div>"
      ],
      "text/plain": [
       "       school  sex address famsize Pstatus   Mjob   Fjob  reason guardian  \\\n",
       "count     395  395     395     395     395    395    395     395      395   \n",
       "unique      2    2       2       2       2      5      5       4        3   \n",
       "top        GP    F       U     GT3       T  other  other  course   mother   \n",
       "freq      349  208     307     281     354    141    217     145      273   \n",
       "\n",
       "       schoolsup famsup paid activities nursery higher internet romantic  \n",
       "count        395    395  395        395     395    395      395      395  \n",
       "unique         2      2    2          2       2      2        2        2  \n",
       "top           no    yes   no        yes     yes    yes      yes       no  \n",
       "freq         344    242  214        201     314    375      329      263  "
      ]
     },
     "execution_count": 19,
     "metadata": {},
     "output_type": "execute_result"
    }
   ],
   "source": [
    "df.describe(include='O')"
   ]
  },
  {
   "cell_type": "code",
   "execution_count": 20,
   "metadata": {
    "execution": {
     "iopub.execute_input": "2021-05-21T11:35:10.124554Z",
     "iopub.status.busy": "2021-05-21T11:35:10.124164Z",
     "iopub.status.idle": "2021-05-21T11:35:10.136825Z",
     "shell.execute_reply": "2021-05-21T11:35:10.134842Z",
     "shell.execute_reply.started": "2021-05-21T11:35:10.124522Z"
    }
   },
   "outputs": [],
   "source": [
    "df['Mjob'] = df['Mjob'].apply(lambda x: 'm_'+ x)\n",
    "df['Fjob'] = df['Fjob'].apply(lambda x: 'f_'+ x)\n",
    "df['reason'] = df['reason'].apply(lambda x: 'reason_'+ x)\n",
    "df['guardian'] = df['guardian'].apply(lambda x: 'gurd_'+ x)"
   ]
  },
  {
   "cell_type": "code",
   "execution_count": 21,
   "metadata": {
    "execution": {
     "iopub.execute_input": "2021-05-21T11:35:12.862876Z",
     "iopub.status.busy": "2021-05-21T11:35:12.862434Z",
     "iopub.status.idle": "2021-05-21T11:35:12.899558Z",
     "shell.execute_reply": "2021-05-21T11:35:12.898687Z",
     "shell.execute_reply.started": "2021-05-21T11:35:12.862840Z"
    }
   },
   "outputs": [],
   "source": [
    "df['school'] = pd.get_dummies(df['school'],drop_first=True)\n",
    "df['sex'] = pd.get_dummies(df['sex'],drop_first=True)\n",
    "df['address'] = pd.get_dummies(df['address'],drop_first=True)\n",
    "df['Pstatus'] = pd.get_dummies(df['Pstatus'],drop_first=True)\n",
    "df['famsize'] = pd.get_dummies(df['famsize'],drop_first=True)\n",
    "mjob = pd.get_dummies(df['Mjob'],drop_first=True)\n",
    "fjob = pd.get_dummies(df['Fjob'],drop_first=True)\n",
    "reason = pd.get_dummies(df['reason'],drop_first=True)\n",
    "gurdian = pd.get_dummies(df['guardian'],drop_first=True)\n",
    "df['schoolsup'] = pd.get_dummies(df['schoolsup'],drop_first=True)\n",
    "df['famsup'] = pd.get_dummies(df['famsup'],drop_first=True)\n",
    "df['paid'] = pd.get_dummies(df['paid'],drop_first=True)\n",
    "df['activities'] = pd.get_dummies(df['activities'],drop_first=True)\n",
    "df['nursery'] = pd.get_dummies(df['nursery'],drop_first=True)\n",
    "df['higher']= pd.get_dummies(df['higher'],drop_first=True)\n",
    "df['internet'] = pd.get_dummies(df['internet'],drop_first=True)\n",
    "df['romantic'] = pd.get_dummies(df['romantic'],drop_first=True)"
   ]
  },
  {
   "cell_type": "code",
   "execution_count": 22,
   "metadata": {
    "execution": {
     "iopub.execute_input": "2021-05-21T11:35:14.546798Z",
     "iopub.status.busy": "2021-05-21T11:35:14.546220Z",
     "iopub.status.idle": "2021-05-21T11:35:14.554136Z",
     "shell.execute_reply": "2021-05-21T11:35:14.553165Z",
     "shell.execute_reply.started": "2021-05-21T11:35:14.546749Z"
    }
   },
   "outputs": [],
   "source": [
    "df = pd.concat([df,mjob,fjob,reason,gurdian],axis=1)"
   ]
  },
  {
   "cell_type": "code",
   "execution_count": 23,
   "metadata": {
    "execution": {
     "iopub.execute_input": "2021-05-21T11:35:16.891269Z",
     "iopub.status.busy": "2021-05-21T11:35:16.890723Z",
     "iopub.status.idle": "2021-05-21T11:35:16.897573Z",
     "shell.execute_reply": "2021-05-21T11:35:16.896710Z",
     "shell.execute_reply.started": "2021-05-21T11:35:16.891221Z"
    }
   },
   "outputs": [],
   "source": [
    "df.drop(['Mjob','Fjob','reason','guardian'],axis=1,inplace=True)"
   ]
  },
  {
   "cell_type": "code",
   "execution_count": 24,
   "metadata": {
    "execution": {
     "iopub.execute_input": "2021-05-21T11:35:18.423733Z",
     "iopub.status.busy": "2021-05-21T11:35:18.423352Z",
     "iopub.status.idle": "2021-05-21T11:35:18.446168Z",
     "shell.execute_reply": "2021-05-21T11:35:18.445127Z",
     "shell.execute_reply.started": "2021-05-21T11:35:18.423702Z"
    }
   },
   "outputs": [
    {
     "data": {
      "text/html": [
       "<div>\n",
       "<style scoped>\n",
       "    .dataframe tbody tr th:only-of-type {\n",
       "        vertical-align: middle;\n",
       "    }\n",
       "\n",
       "    .dataframe tbody tr th {\n",
       "        vertical-align: top;\n",
       "    }\n",
       "\n",
       "    .dataframe thead th {\n",
       "        text-align: right;\n",
       "    }\n",
       "</style>\n",
       "<table border=\"1\" class=\"dataframe\">\n",
       "  <thead>\n",
       "    <tr style=\"text-align: right;\">\n",
       "      <th></th>\n",
       "      <th>school</th>\n",
       "      <th>sex</th>\n",
       "      <th>age</th>\n",
       "      <th>address</th>\n",
       "      <th>famsize</th>\n",
       "      <th>Pstatus</th>\n",
       "      <th>Medu</th>\n",
       "      <th>Fedu</th>\n",
       "      <th>traveltime</th>\n",
       "      <th>studytime</th>\n",
       "      <th>...</th>\n",
       "      <th>m_teacher</th>\n",
       "      <th>f_health</th>\n",
       "      <th>f_other</th>\n",
       "      <th>f_services</th>\n",
       "      <th>f_teacher</th>\n",
       "      <th>reason_home</th>\n",
       "      <th>reason_other</th>\n",
       "      <th>reason_reputation</th>\n",
       "      <th>gurd_mother</th>\n",
       "      <th>gurd_other</th>\n",
       "    </tr>\n",
       "  </thead>\n",
       "  <tbody>\n",
       "    <tr>\n",
       "      <th>0</th>\n",
       "      <td>0</td>\n",
       "      <td>0</td>\n",
       "      <td>18</td>\n",
       "      <td>1</td>\n",
       "      <td>0</td>\n",
       "      <td>0</td>\n",
       "      <td>4</td>\n",
       "      <td>4</td>\n",
       "      <td>2</td>\n",
       "      <td>2</td>\n",
       "      <td>...</td>\n",
       "      <td>0</td>\n",
       "      <td>0</td>\n",
       "      <td>0</td>\n",
       "      <td>0</td>\n",
       "      <td>1</td>\n",
       "      <td>0</td>\n",
       "      <td>0</td>\n",
       "      <td>0</td>\n",
       "      <td>1</td>\n",
       "      <td>0</td>\n",
       "    </tr>\n",
       "    <tr>\n",
       "      <th>1</th>\n",
       "      <td>0</td>\n",
       "      <td>0</td>\n",
       "      <td>17</td>\n",
       "      <td>1</td>\n",
       "      <td>0</td>\n",
       "      <td>1</td>\n",
       "      <td>1</td>\n",
       "      <td>1</td>\n",
       "      <td>1</td>\n",
       "      <td>2</td>\n",
       "      <td>...</td>\n",
       "      <td>0</td>\n",
       "      <td>0</td>\n",
       "      <td>1</td>\n",
       "      <td>0</td>\n",
       "      <td>0</td>\n",
       "      <td>0</td>\n",
       "      <td>0</td>\n",
       "      <td>0</td>\n",
       "      <td>0</td>\n",
       "      <td>0</td>\n",
       "    </tr>\n",
       "    <tr>\n",
       "      <th>2</th>\n",
       "      <td>0</td>\n",
       "      <td>0</td>\n",
       "      <td>15</td>\n",
       "      <td>1</td>\n",
       "      <td>1</td>\n",
       "      <td>1</td>\n",
       "      <td>1</td>\n",
       "      <td>1</td>\n",
       "      <td>1</td>\n",
       "      <td>2</td>\n",
       "      <td>...</td>\n",
       "      <td>0</td>\n",
       "      <td>0</td>\n",
       "      <td>1</td>\n",
       "      <td>0</td>\n",
       "      <td>0</td>\n",
       "      <td>0</td>\n",
       "      <td>1</td>\n",
       "      <td>0</td>\n",
       "      <td>1</td>\n",
       "      <td>0</td>\n",
       "    </tr>\n",
       "    <tr>\n",
       "      <th>3</th>\n",
       "      <td>0</td>\n",
       "      <td>0</td>\n",
       "      <td>15</td>\n",
       "      <td>1</td>\n",
       "      <td>0</td>\n",
       "      <td>1</td>\n",
       "      <td>4</td>\n",
       "      <td>2</td>\n",
       "      <td>1</td>\n",
       "      <td>3</td>\n",
       "      <td>...</td>\n",
       "      <td>0</td>\n",
       "      <td>0</td>\n",
       "      <td>0</td>\n",
       "      <td>1</td>\n",
       "      <td>0</td>\n",
       "      <td>1</td>\n",
       "      <td>0</td>\n",
       "      <td>0</td>\n",
       "      <td>1</td>\n",
       "      <td>0</td>\n",
       "    </tr>\n",
       "    <tr>\n",
       "      <th>4</th>\n",
       "      <td>0</td>\n",
       "      <td>0</td>\n",
       "      <td>16</td>\n",
       "      <td>1</td>\n",
       "      <td>0</td>\n",
       "      <td>1</td>\n",
       "      <td>3</td>\n",
       "      <td>3</td>\n",
       "      <td>1</td>\n",
       "      <td>2</td>\n",
       "      <td>...</td>\n",
       "      <td>0</td>\n",
       "      <td>0</td>\n",
       "      <td>1</td>\n",
       "      <td>0</td>\n",
       "      <td>0</td>\n",
       "      <td>1</td>\n",
       "      <td>0</td>\n",
       "      <td>0</td>\n",
       "      <td>0</td>\n",
       "      <td>0</td>\n",
       "    </tr>\n",
       "  </tbody>\n",
       "</table>\n",
       "<p>5 rows × 42 columns</p>\n",
       "</div>"
      ],
      "text/plain": [
       "   school  sex  age  address  famsize  Pstatus  Medu  Fedu  traveltime  \\\n",
       "0       0    0   18        1        0        0     4     4           2   \n",
       "1       0    0   17        1        0        1     1     1           1   \n",
       "2       0    0   15        1        1        1     1     1           1   \n",
       "3       0    0   15        1        0        1     4     2           1   \n",
       "4       0    0   16        1        0        1     3     3           1   \n",
       "\n",
       "   studytime  ...  m_teacher  f_health  f_other  f_services  f_teacher  \\\n",
       "0          2  ...          0         0        0           0          1   \n",
       "1          2  ...          0         0        1           0          0   \n",
       "2          2  ...          0         0        1           0          0   \n",
       "3          3  ...          0         0        0           1          0   \n",
       "4          2  ...          0         0        1           0          0   \n",
       "\n",
       "   reason_home  reason_other  reason_reputation  gurd_mother  gurd_other  \n",
       "0            0             0                  0            1           0  \n",
       "1            0             0                  0            0           0  \n",
       "2            0             1                  0            1           0  \n",
       "3            1             0                  0            1           0  \n",
       "4            1             0                  0            0           0  \n",
       "\n",
       "[5 rows x 42 columns]"
      ]
     },
     "execution_count": 24,
     "metadata": {},
     "output_type": "execute_result"
    }
   ],
   "source": [
    "df.head()"
   ]
  },
  {
   "cell_type": "markdown",
   "metadata": {},
   "source": [
    "# separate X and y"
   ]
  },
  {
   "cell_type": "code",
   "execution_count": 25,
   "metadata": {
    "execution": {
     "iopub.execute_input": "2021-05-21T11:48:00.900937Z",
     "iopub.status.busy": "2021-05-21T11:48:00.900221Z",
     "iopub.status.idle": "2021-05-21T11:48:00.911229Z",
     "shell.execute_reply": "2021-05-21T11:48:00.910152Z",
     "shell.execute_reply.started": "2021-05-21T11:48:00.900848Z"
    }
   },
   "outputs": [],
   "source": [
    "X = df.drop('G3',axis=1)\n",
    "y = df['G3']"
   ]
  },
  {
   "cell_type": "markdown",
   "metadata": {
    "execution": {
     "iopub.execute_input": "2021-05-21T11:48:24.995233Z",
     "iopub.status.busy": "2021-05-21T11:48:24.994861Z",
     "iopub.status.idle": "2021-05-21T11:48:25.000349Z",
     "shell.execute_reply": "2021-05-21T11:48:24.999432Z",
     "shell.execute_reply.started": "2021-05-21T11:48:24.995201Z"
    }
   },
   "source": [
    "# Scaling the Data using standard scaler"
   ]
  },
  {
   "cell_type": "code",
   "execution_count": 27,
   "metadata": {
    "execution": {
     "iopub.execute_input": "2021-05-21T11:49:15.270893Z",
     "iopub.status.busy": "2021-05-21T11:49:15.270328Z",
     "iopub.status.idle": "2021-05-21T11:49:15.274835Z",
     "shell.execute_reply": "2021-05-21T11:49:15.274027Z",
     "shell.execute_reply.started": "2021-05-21T11:49:15.270860Z"
    }
   },
   "outputs": [],
   "source": [
    "from sklearn.preprocessing import StandardScaler\n",
    "scaler = StandardScaler()"
   ]
  },
  {
   "cell_type": "code",
   "execution_count": 28,
   "metadata": {
    "execution": {
     "iopub.execute_input": "2021-05-21T11:50:01.767967Z",
     "iopub.status.busy": "2021-05-21T11:50:01.767439Z",
     "iopub.status.idle": "2021-05-21T11:50:01.779600Z",
     "shell.execute_reply": "2021-05-21T11:50:01.778355Z",
     "shell.execute_reply.started": "2021-05-21T11:50:01.767932Z"
    }
   },
   "outputs": [],
   "source": [
    "X = pd.DataFrame(scaler.fit_transform(X),columns=X.columns)"
   ]
  },
  {
   "cell_type": "code",
   "execution_count": 29,
   "metadata": {
    "execution": {
     "iopub.execute_input": "2021-05-21T11:50:12.861991Z",
     "iopub.status.busy": "2021-05-21T11:50:12.861616Z",
     "iopub.status.idle": "2021-05-21T11:50:12.895027Z",
     "shell.execute_reply": "2021-05-21T11:50:12.894037Z",
     "shell.execute_reply.started": "2021-05-21T11:50:12.861960Z"
    }
   },
   "outputs": [
    {
     "data": {
      "text/html": [
       "<div>\n",
       "<style scoped>\n",
       "    .dataframe tbody tr th:only-of-type {\n",
       "        vertical-align: middle;\n",
       "    }\n",
       "\n",
       "    .dataframe tbody tr th {\n",
       "        vertical-align: top;\n",
       "    }\n",
       "\n",
       "    .dataframe thead th {\n",
       "        text-align: right;\n",
       "    }\n",
       "</style>\n",
       "<table border=\"1\" class=\"dataframe\">\n",
       "  <thead>\n",
       "    <tr style=\"text-align: right;\">\n",
       "      <th></th>\n",
       "      <th>school</th>\n",
       "      <th>sex</th>\n",
       "      <th>age</th>\n",
       "      <th>address</th>\n",
       "      <th>famsize</th>\n",
       "      <th>Pstatus</th>\n",
       "      <th>Medu</th>\n",
       "      <th>Fedu</th>\n",
       "      <th>traveltime</th>\n",
       "      <th>studytime</th>\n",
       "      <th>...</th>\n",
       "      <th>m_teacher</th>\n",
       "      <th>f_health</th>\n",
       "      <th>f_other</th>\n",
       "      <th>f_services</th>\n",
       "      <th>f_teacher</th>\n",
       "      <th>reason_home</th>\n",
       "      <th>reason_other</th>\n",
       "      <th>reason_reputation</th>\n",
       "      <th>gurd_mother</th>\n",
       "      <th>gurd_other</th>\n",
       "    </tr>\n",
       "  </thead>\n",
       "  <tbody>\n",
       "    <tr>\n",
       "      <th>0</th>\n",
       "      <td>-0.36305</td>\n",
       "      <td>-0.948176</td>\n",
       "      <td>1.023046</td>\n",
       "      <td>0.535392</td>\n",
       "      <td>-0.636941</td>\n",
       "      <td>-2.938392</td>\n",
       "      <td>1.143856</td>\n",
       "      <td>1.360371</td>\n",
       "      <td>0.792251</td>\n",
       "      <td>-0.042286</td>\n",
       "      <td>...</td>\n",
       "      <td>-0.414858</td>\n",
       "      <td>-0.218507</td>\n",
       "      <td>-1.104129</td>\n",
       "      <td>-0.625176</td>\n",
       "      <td>3.552561</td>\n",
       "      <td>-0.617348</td>\n",
       "      <td>-0.316668</td>\n",
       "      <td>-0.601722</td>\n",
       "      <td>0.668496</td>\n",
       "      <td>-0.296908</td>\n",
       "    </tr>\n",
       "    <tr>\n",
       "      <th>1</th>\n",
       "      <td>-0.36305</td>\n",
       "      <td>-0.948176</td>\n",
       "      <td>0.238380</td>\n",
       "      <td>0.535392</td>\n",
       "      <td>-0.636941</td>\n",
       "      <td>0.340322</td>\n",
       "      <td>-1.600009</td>\n",
       "      <td>-1.399970</td>\n",
       "      <td>-0.643249</td>\n",
       "      <td>-0.042286</td>\n",
       "      <td>...</td>\n",
       "      <td>-0.414858</td>\n",
       "      <td>-0.218507</td>\n",
       "      <td>0.905691</td>\n",
       "      <td>-0.625176</td>\n",
       "      <td>-0.281487</td>\n",
       "      <td>-0.617348</td>\n",
       "      <td>-0.316668</td>\n",
       "      <td>-0.601722</td>\n",
       "      <td>-1.495896</td>\n",
       "      <td>-0.296908</td>\n",
       "    </tr>\n",
       "    <tr>\n",
       "      <th>2</th>\n",
       "      <td>-0.36305</td>\n",
       "      <td>-0.948176</td>\n",
       "      <td>-1.330954</td>\n",
       "      <td>0.535392</td>\n",
       "      <td>1.570004</td>\n",
       "      <td>0.340322</td>\n",
       "      <td>-1.600009</td>\n",
       "      <td>-1.399970</td>\n",
       "      <td>-0.643249</td>\n",
       "      <td>-0.042286</td>\n",
       "      <td>...</td>\n",
       "      <td>-0.414858</td>\n",
       "      <td>-0.218507</td>\n",
       "      <td>0.905691</td>\n",
       "      <td>-0.625176</td>\n",
       "      <td>-0.281487</td>\n",
       "      <td>-0.617348</td>\n",
       "      <td>3.157883</td>\n",
       "      <td>-0.601722</td>\n",
       "      <td>0.668496</td>\n",
       "      <td>-0.296908</td>\n",
       "    </tr>\n",
       "    <tr>\n",
       "      <th>3</th>\n",
       "      <td>-0.36305</td>\n",
       "      <td>-0.948176</td>\n",
       "      <td>-1.330954</td>\n",
       "      <td>0.535392</td>\n",
       "      <td>-0.636941</td>\n",
       "      <td>0.340322</td>\n",
       "      <td>1.143856</td>\n",
       "      <td>-0.479857</td>\n",
       "      <td>-0.643249</td>\n",
       "      <td>1.150779</td>\n",
       "      <td>...</td>\n",
       "      <td>-0.414858</td>\n",
       "      <td>-0.218507</td>\n",
       "      <td>-1.104129</td>\n",
       "      <td>1.599549</td>\n",
       "      <td>-0.281487</td>\n",
       "      <td>1.619831</td>\n",
       "      <td>-0.316668</td>\n",
       "      <td>-0.601722</td>\n",
       "      <td>0.668496</td>\n",
       "      <td>-0.296908</td>\n",
       "    </tr>\n",
       "    <tr>\n",
       "      <th>4</th>\n",
       "      <td>-0.36305</td>\n",
       "      <td>-0.948176</td>\n",
       "      <td>-0.546287</td>\n",
       "      <td>0.535392</td>\n",
       "      <td>-0.636941</td>\n",
       "      <td>0.340322</td>\n",
       "      <td>0.229234</td>\n",
       "      <td>0.440257</td>\n",
       "      <td>-0.643249</td>\n",
       "      <td>-0.042286</td>\n",
       "      <td>...</td>\n",
       "      <td>-0.414858</td>\n",
       "      <td>-0.218507</td>\n",
       "      <td>0.905691</td>\n",
       "      <td>-0.625176</td>\n",
       "      <td>-0.281487</td>\n",
       "      <td>1.619831</td>\n",
       "      <td>-0.316668</td>\n",
       "      <td>-0.601722</td>\n",
       "      <td>-1.495896</td>\n",
       "      <td>-0.296908</td>\n",
       "    </tr>\n",
       "  </tbody>\n",
       "</table>\n",
       "<p>5 rows × 41 columns</p>\n",
       "</div>"
      ],
      "text/plain": [
       "    school       sex       age   address   famsize   Pstatus      Medu  \\\n",
       "0 -0.36305 -0.948176  1.023046  0.535392 -0.636941 -2.938392  1.143856   \n",
       "1 -0.36305 -0.948176  0.238380  0.535392 -0.636941  0.340322 -1.600009   \n",
       "2 -0.36305 -0.948176 -1.330954  0.535392  1.570004  0.340322 -1.600009   \n",
       "3 -0.36305 -0.948176 -1.330954  0.535392 -0.636941  0.340322  1.143856   \n",
       "4 -0.36305 -0.948176 -0.546287  0.535392 -0.636941  0.340322  0.229234   \n",
       "\n",
       "       Fedu  traveltime  studytime  ...  m_teacher  f_health   f_other  \\\n",
       "0  1.360371    0.792251  -0.042286  ...  -0.414858 -0.218507 -1.104129   \n",
       "1 -1.399970   -0.643249  -0.042286  ...  -0.414858 -0.218507  0.905691   \n",
       "2 -1.399970   -0.643249  -0.042286  ...  -0.414858 -0.218507  0.905691   \n",
       "3 -0.479857   -0.643249   1.150779  ...  -0.414858 -0.218507 -1.104129   \n",
       "4  0.440257   -0.643249  -0.042286  ...  -0.414858 -0.218507  0.905691   \n",
       "\n",
       "   f_services  f_teacher  reason_home  reason_other  reason_reputation  \\\n",
       "0   -0.625176   3.552561    -0.617348     -0.316668          -0.601722   \n",
       "1   -0.625176  -0.281487    -0.617348     -0.316668          -0.601722   \n",
       "2   -0.625176  -0.281487    -0.617348      3.157883          -0.601722   \n",
       "3    1.599549  -0.281487     1.619831     -0.316668          -0.601722   \n",
       "4   -0.625176  -0.281487     1.619831     -0.316668          -0.601722   \n",
       "\n",
       "   gurd_mother  gurd_other  \n",
       "0     0.668496   -0.296908  \n",
       "1    -1.495896   -0.296908  \n",
       "2     0.668496   -0.296908  \n",
       "3     0.668496   -0.296908  \n",
       "4    -1.495896   -0.296908  \n",
       "\n",
       "[5 rows x 41 columns]"
      ]
     },
     "execution_count": 29,
     "metadata": {},
     "output_type": "execute_result"
    }
   ],
   "source": [
    "X.head()"
   ]
  },
  {
   "cell_type": "code",
   "execution_count": 30,
   "metadata": {
    "execution": {
     "iopub.execute_input": "2021-05-21T11:50:53.025570Z",
     "iopub.status.busy": "2021-05-21T11:50:53.025131Z",
     "iopub.status.idle": "2021-05-21T11:50:53.030525Z",
     "shell.execute_reply": "2021-05-21T11:50:53.029449Z",
     "shell.execute_reply.started": "2021-05-21T11:50:53.025529Z"
    }
   },
   "outputs": [],
   "source": [
    "# splitting the dataset\n",
    "from sklearn.model_selection import train_test_split"
   ]
  },
  {
   "cell_type": "code",
   "execution_count": 31,
   "metadata": {
    "execution": {
     "iopub.execute_input": "2021-05-21T11:51:41.131624Z",
     "iopub.status.busy": "2021-05-21T11:51:41.130985Z",
     "iopub.status.idle": "2021-05-21T11:51:41.140401Z",
     "shell.execute_reply": "2021-05-21T11:51:41.139059Z",
     "shell.execute_reply.started": "2021-05-21T11:51:41.131569Z"
    }
   },
   "outputs": [],
   "source": [
    "X_train,X_test,y_train,y_test = train_test_split(X,y,test_size=0.3)"
   ]
  },
  {
   "cell_type": "markdown",
   "metadata": {},
   "source": [
    "# Trainning Model"
   ]
  },
  {
   "cell_type": "markdown",
   "metadata": {},
   "source": [
    "# Using Linear Regression"
   ]
  },
  {
   "cell_type": "code",
   "execution_count": 39,
   "metadata": {
    "execution": {
     "iopub.execute_input": "2021-05-21T12:01:24.861907Z",
     "iopub.status.busy": "2021-05-21T12:01:24.861529Z",
     "iopub.status.idle": "2021-05-21T12:01:24.866984Z",
     "shell.execute_reply": "2021-05-21T12:01:24.865507Z",
     "shell.execute_reply.started": "2021-05-21T12:01:24.861877Z"
    }
   },
   "outputs": [],
   "source": [
    "from sklearn.linear_model import LinearRegression,Ridge\n",
    "LR = LinearRegression()\n",
    "R = Ridge()"
   ]
  },
  {
   "cell_type": "code",
   "execution_count": 33,
   "metadata": {
    "execution": {
     "iopub.execute_input": "2021-05-21T11:54:47.536261Z",
     "iopub.status.busy": "2021-05-21T11:54:47.535845Z",
     "iopub.status.idle": "2021-05-21T11:54:47.568179Z",
     "shell.execute_reply": "2021-05-21T11:54:47.566866Z",
     "shell.execute_reply.started": "2021-05-21T11:54:47.536222Z"
    }
   },
   "outputs": [
    {
     "data": {
      "text/plain": [
       "LinearRegression()"
      ]
     },
     "execution_count": 33,
     "metadata": {},
     "output_type": "execute_result"
    }
   ],
   "source": [
    "LR.fit(X_train,y_train)"
   ]
  },
  {
   "cell_type": "code",
   "execution_count": 34,
   "metadata": {
    "execution": {
     "iopub.execute_input": "2021-05-21T11:57:24.043614Z",
     "iopub.status.busy": "2021-05-21T11:57:24.043203Z",
     "iopub.status.idle": "2021-05-21T11:57:24.055811Z",
     "shell.execute_reply": "2021-05-21T11:57:24.054716Z",
     "shell.execute_reply.started": "2021-05-21T11:57:24.043578Z"
    }
   },
   "outputs": [
    {
     "name": "stdout",
     "output_type": "stream",
     "text": [
      "0.7957404624176285\n"
     ]
    }
   ],
   "source": [
    "print(LR.score(X_test,y_test))"
   ]
  },
  {
   "cell_type": "code",
   "execution_count": 35,
   "metadata": {
    "execution": {
     "iopub.execute_input": "2021-05-21T11:58:54.873226Z",
     "iopub.status.busy": "2021-05-21T11:58:54.872772Z",
     "iopub.status.idle": "2021-05-21T11:58:54.880453Z",
     "shell.execute_reply": "2021-05-21T11:58:54.879607Z",
     "shell.execute_reply.started": "2021-05-21T11:58:54.873185Z"
    }
   },
   "outputs": [],
   "source": [
    "y_predLR = LR.predict(X_test)"
   ]
  },
  {
   "cell_type": "code",
   "execution_count": 36,
   "metadata": {
    "execution": {
     "iopub.execute_input": "2021-05-21T11:59:18.280333Z",
     "iopub.status.busy": "2021-05-21T11:59:18.279767Z",
     "iopub.status.idle": "2021-05-21T11:59:18.290883Z",
     "shell.execute_reply": "2021-05-21T11:59:18.289535Z",
     "shell.execute_reply.started": "2021-05-21T11:59:18.280296Z"
    }
   },
   "outputs": [
    {
     "name": "stdout",
     "output_type": "stream",
     "text": [
      "MAE: 1.4272907563616604\n",
      "MSE: 4.431686240087774\n",
      "RMSE: 2.1051570582946475\n"
     ]
    }
   ],
   "source": [
    "from sklearn import metrics\n",
    "print('MAE:', metrics.mean_absolute_error(y_test, y_predLR))\n",
    "print('MSE:', metrics.mean_squared_error(y_test, y_predLR))\n",
    "print('RMSE:', np.sqrt(metrics.mean_squared_error(y_test, y_predLR)))"
   ]
  },
  {
   "cell_type": "code",
   "execution_count": 37,
   "metadata": {
    "execution": {
     "iopub.execute_input": "2021-05-21T11:59:42.274404Z",
     "iopub.status.busy": "2021-05-21T11:59:42.273995Z",
     "iopub.status.idle": "2021-05-21T11:59:42.467074Z",
     "shell.execute_reply": "2021-05-21T11:59:42.466045Z",
     "shell.execute_reply.started": "2021-05-21T11:59:42.274355Z"
    }
   },
   "outputs": [
    {
     "data": {
      "text/plain": [
       "<matplotlib.collections.PathCollection at 0x7f8e06fc4110>"
      ]
     },
     "execution_count": 37,
     "metadata": {},
     "output_type": "execute_result"
    },
    {
     "data": {
      "image/png": "[encoded data removed]",
      "text/plain": [
       "<Figure size 432x288 with 1 Axes>"
      ]
     },
     "metadata": {
      "needs_background": "light"
     },
     "output_type": "display_data"
    }
   ],
   "source": [
    "plt.scatter(y_test,y_predLR)"
   ]
  },
  {
   "cell_type": "code",
   "execution_count": 38,
   "metadata": {
    "execution": {
     "iopub.execute_input": "2021-05-21T12:00:06.451073Z",
     "iopub.status.busy": "2021-05-21T12:00:06.450316Z",
     "iopub.status.idle": "2021-05-21T12:00:06.993950Z",
     "shell.execute_reply": "2021-05-21T12:00:06.992542Z",
     "shell.execute_reply.started": "2021-05-21T12:00:06.451016Z"
    }
   },
   "outputs": [
    {
     "name": "stderr",
     "output_type": "stream",
     "text": [
      "/opt/conda/lib/python3.7/site-packages/seaborn/distributions.py:2557: FutureWarning: `distplot` is a deprecated function and will be removed in a future version. Please adapt your code to use either `displot` (a figure-level function with similar flexibility) or `histplot` (an axes-level function for histograms).\n",
      "  warnings.warn(msg, FutureWarning)\n"
     ]
    },
    {
     "data": {
      "text/plain": [
       "<AxesSubplot:xlabel='G3', ylabel='Density'>"
      ]
     },
     "execution_count": 38,
     "metadata": {},
     "output_type": "execute_result"
    },
    {
     "data": {
      "image/png": "[encoded data removed]",
      "text/plain": [
       "<Figure size 432x288 with 1 Axes>"
      ]
     },
     "metadata": {
      "needs_background": "light"
     },
     "output_type": "display_data"
    }
   ],
   "source": [
    "sns.distplot(y_test-y_predLR)"
   ]
  },
  {
   "cell_type": "markdown",
   "metadata": {},
   "source": [
    "# Using Ridge Regreesion"
   ]
  },
  {
   "cell_type": "code",
   "execution_count": 40,
   "metadata": {
    "execution": {
     "iopub.execute_input": "2021-05-21T12:01:42.566828Z",
     "iopub.status.busy": "2021-05-21T12:01:42.566430Z",
     "iopub.status.idle": "2021-05-21T12:01:42.600432Z",
     "shell.execute_reply": "2021-05-21T12:01:42.598279Z",
     "shell.execute_reply.started": "2021-05-21T12:01:42.566795Z"
    }
   },
   "outputs": [
    {
     "data": {
      "text/plain": [
       "Ridge()"
      ]
     },
     "execution_count": 40,
     "metadata": {},
     "output_type": "execute_result"
    }
   ],
   "source": [
    "R.fit(X_train,y_train)"
   ]
  },
  {
   "cell_type": "code",
   "execution_count": 41,
   "metadata": {
    "execution": {
     "iopub.execute_input": "2021-05-21T12:01:59.725731Z",
     "iopub.status.busy": "2021-05-21T12:01:59.725314Z",
     "iopub.status.idle": "2021-05-21T12:01:59.734566Z",
     "shell.execute_reply": "2021-05-21T12:01:59.733317Z",
     "shell.execute_reply.started": "2021-05-21T12:01:59.725698Z"
    }
   },
   "outputs": [
    {
     "name": "stdout",
     "output_type": "stream",
     "text": [
      "0.7967814490145582\n"
     ]
    }
   ],
   "source": [
    "print(R.score(X_test,y_test))"
   ]
  },
  {
   "cell_type": "code",
   "execution_count": 42,
   "metadata": {
    "execution": {
     "iopub.execute_input": "2021-05-21T12:02:24.862073Z",
     "iopub.status.busy": "2021-05-21T12:02:24.861691Z",
     "iopub.status.idle": "2021-05-21T12:02:24.869423Z",
     "shell.execute_reply": "2021-05-21T12:02:24.868496Z",
     "shell.execute_reply.started": "2021-05-21T12:02:24.862041Z"
    }
   },
   "outputs": [],
   "source": [
    "y_predR = R.predict(X_test)"
   ]
  },
  {
   "cell_type": "code",
   "execution_count": 43,
   "metadata": {
    "execution": {
     "iopub.execute_input": "2021-05-21T12:02:52.093712Z",
     "iopub.status.busy": "2021-05-21T12:02:52.093136Z",
     "iopub.status.idle": "2021-05-21T12:02:52.103317Z",
     "shell.execute_reply": "2021-05-21T12:02:52.101990Z",
     "shell.execute_reply.started": "2021-05-21T12:02:52.093674Z"
    }
   },
   "outputs": [
    {
     "name": "stdout",
     "output_type": "stream",
     "text": [
      "MAE: 1.4196070681792938\n",
      "MSE: 4.409100631443337\n",
      "RMSE: 2.0997858537106437\n"
     ]
    }
   ],
   "source": [
    "from sklearn import metrics\n",
    "print('MAE:', metrics.mean_absolute_error(y_test, y_predR))\n",
    "print('MSE:', metrics.mean_squared_error(y_test, y_predR))\n",
    "print('RMSE:', np.sqrt(metrics.mean_squared_error(y_test, y_predR)))"
   ]
  },
  {
   "cell_type": "code",
   "execution_count": 44,
   "metadata": {
    "execution": {
     "iopub.execute_input": "2021-05-21T12:03:12.160193Z",
     "iopub.status.busy": "2021-05-21T12:03:12.159811Z",
     "iopub.status.idle": "2021-05-21T12:03:12.348128Z",
     "shell.execute_reply": "2021-05-21T12:03:12.346909Z",
     "shell.execute_reply.started": "2021-05-21T12:03:12.160161Z"
    }
   },
   "outputs": [
    {
     "data": {
      "text/plain": [
       "<matplotlib.collections.PathCollection at 0x7f8e04999710>"
      ]
     },
     "execution_count": 44,
     "metadata": {},
     "output_type": "execute_result"
    },
    {
     "data": {
      "image/png": "[encoded data removed]",
      "text/plain": [
       "<Figure size 432x288 with 1 Axes>"
      ]
     },
     "metadata": {
      "needs_background": "light"
     },
     "output_type": "display_data"
    }
   ],
   "source": [
    "plt.scatter(y_test,y_predR)"
   ]
  },
  {
   "cell_type": "code",
   "execution_count": 45,
   "metadata": {
    "execution": {
     "iopub.execute_input": "2021-05-21T12:03:33.548383Z",
     "iopub.status.busy": "2021-05-21T12:03:33.547968Z",
     "iopub.status.idle": "2021-05-21T12:03:33.772669Z",
     "shell.execute_reply": "2021-05-21T12:03:33.771580Z",
     "shell.execute_reply.started": "2021-05-21T12:03:33.548331Z"
    }
   },
   "outputs": [
    {
     "name": "stderr",
     "output_type": "stream",
     "text": [
      "/opt/conda/lib/python3.7/site-packages/seaborn/distributions.py:2557: FutureWarning: `distplot` is a deprecated function and will be removed in a future version. Please adapt your code to use either `displot` (a figure-level function with similar flexibility) or `histplot` (an axes-level function for histograms).\n",
      "  warnings.warn(msg, FutureWarning)\n"
     ]
    },
    {
     "data": {
      "text/plain": [
       "<AxesSubplot:xlabel='G3', ylabel='Density'>"
      ]
     },
     "execution_count": 45,
     "metadata": {},
     "output_type": "execute_result"
    },
    {
     "data": {
      "image/png": "[encoded data removed]",
      "text/plain": [
       "<Figure size 432x288 with 1 Axes>"
      ]
     },
     "metadata": {
      "needs_background": "light"
     },
     "output_type": "display_data"
    }
   ],
   "source": [
    "sns.distplot(y_test-y_predR)"
   ]
  },
  {
   "cell_type": "markdown",
   "metadata": {},
   "source": [
    "# Using Random Forest Regression and ExtraTree Regression"
   ]
  },
  {
   "cell_type": "code",
   "execution_count": 46,
   "metadata": {
    "execution": {
     "iopub.execute_input": "2021-05-21T12:04:49.539735Z",
     "iopub.status.busy": "2021-05-21T12:04:49.539084Z",
     "iopub.status.idle": "2021-05-21T12:04:49.545593Z",
     "shell.execute_reply": "2021-05-21T12:04:49.544302Z",
     "shell.execute_reply.started": "2021-05-21T12:04:49.539680Z"
    }
   },
   "outputs": [],
   "source": [
    "from sklearn.ensemble import RandomForestRegressor,ExtraTreesRegressor"
   ]
  },
  {
   "cell_type": "code",
   "execution_count": 47,
   "metadata": {
    "execution": {
     "iopub.execute_input": "2021-05-21T12:05:09.732484Z",
     "iopub.status.busy": "2021-05-21T12:05:09.731826Z",
     "iopub.status.idle": "2021-05-21T12:05:09.736437Z",
     "shell.execute_reply": "2021-05-21T12:05:09.735587Z",
     "shell.execute_reply.started": "2021-05-21T12:05:09.732442Z"
    }
   },
   "outputs": [],
   "source": [
    "RFR = RandomForestRegressor()\n",
    "ETR = ExtraTreesRegressor()"
   ]
  },
  {
   "cell_type": "code",
   "execution_count": 48,
   "metadata": {
    "execution": {
     "iopub.execute_input": "2021-05-21T12:05:29.925785Z",
     "iopub.status.busy": "2021-05-21T12:05:29.925339Z",
     "iopub.status.idle": "2021-05-21T12:05:30.235111Z",
     "shell.execute_reply": "2021-05-21T12:05:30.234004Z",
     "shell.execute_reply.started": "2021-05-21T12:05:29.925747Z"
    }
   },
   "outputs": [
    {
     "data": {
      "text/plain": [
       "RandomForestRegressor()"
      ]
     },
     "execution_count": 48,
     "metadata": {},
     "output_type": "execute_result"
    }
   ],
   "source": [
    "RFR.fit(X_train,y_train)"
   ]
  },
  {
   "cell_type": "code",
   "execution_count": 49,
   "metadata": {
    "execution": {
     "iopub.execute_input": "2021-05-21T12:05:54.260186Z",
     "iopub.status.busy": "2021-05-21T12:05:54.259606Z",
     "iopub.status.idle": "2021-05-21T12:05:54.286208Z",
     "shell.execute_reply": "2021-05-21T12:05:54.284349Z",
     "shell.execute_reply.started": "2021-05-21T12:05:54.260135Z"
    }
   },
   "outputs": [
    {
     "name": "stdout",
     "output_type": "stream",
     "text": [
      "0.8996788193020485\n"
     ]
    }
   ],
   "source": [
    "print(RFR.score(X_test,y_test))"
   ]
  },
  {
   "cell_type": "code",
   "execution_count": 50,
   "metadata": {
    "execution": {
     "iopub.execute_input": "2021-05-21T12:06:17.938645Z",
     "iopub.status.busy": "2021-05-21T12:06:17.938241Z",
     "iopub.status.idle": "2021-05-21T12:06:17.958774Z",
     "shell.execute_reply": "2021-05-21T12:06:17.957596Z",
     "shell.execute_reply.started": "2021-05-21T12:06:17.938614Z"
    }
   },
   "outputs": [],
   "source": [
    "y_predRFR = RFR.predict(X_test)"
   ]
  },
  {
   "cell_type": "code",
   "execution_count": 51,
   "metadata": {
    "execution": {
     "iopub.execute_input": "2021-05-21T12:06:50.595148Z",
     "iopub.status.busy": "2021-05-21T12:06:50.594790Z",
     "iopub.status.idle": "2021-05-21T12:06:50.605415Z",
     "shell.execute_reply": "2021-05-21T12:06:50.603951Z",
     "shell.execute_reply.started": "2021-05-21T12:06:50.595116Z"
    }
   },
   "outputs": [
    {
     "name": "stdout",
     "output_type": "stream",
     "text": [
      "MAE: 0.9603361344537814\n",
      "MSE: 2.176603361344538\n",
      "RMSE: 1.4753316106369232\n"
     ]
    }
   ],
   "source": [
    "from sklearn import metrics\n",
    "print('MAE:', metrics.mean_absolute_error(y_test, y_predRFR))\n",
    "print('MSE:', metrics.mean_squared_error(y_test, y_predRFR))\n",
    "print('RMSE:', np.sqrt(metrics.mean_squared_error(y_test, y_predRFR)))"
   ]
  },
  {
   "cell_type": "code",
   "execution_count": 52,
   "metadata": {
    "execution": {
     "iopub.execute_input": "2021-05-21T12:07:21.724485Z",
     "iopub.status.busy": "2021-05-21T12:07:21.723903Z",
     "iopub.status.idle": "2021-05-21T12:07:21.916415Z",
     "shell.execute_reply": "2021-05-21T12:07:21.915320Z",
     "shell.execute_reply.started": "2021-05-21T12:07:21.724426Z"
    }
   },
   "outputs": [
    {
     "data": {
      "text/plain": [
       "<matplotlib.collections.PathCollection at 0x7f8e02c94390>"
      ]
     },
     "execution_count": 52,
     "metadata": {},
     "output_type": "execute_result"
    },
    {
     "data": {
      "image/png": "[encoded data removed]",
      "text/plain": [
       "<Figure size 432x288 with 1 Axes>"
      ]
     },
     "metadata": {
      "needs_background": "light"
     },
     "output_type": "display_data"
    }
   ],
   "source": [
    "plt.scatter(y_test,y_predRFR)"
   ]
  },
  {
   "cell_type": "code",
   "execution_count": 53,
   "metadata": {
    "execution": {
     "iopub.execute_input": "2021-05-21T12:07:54.278490Z",
     "iopub.status.busy": "2021-05-21T12:07:54.277784Z",
     "iopub.status.idle": "2021-05-21T12:07:54.528702Z",
     "shell.execute_reply": "2021-05-21T12:07:54.527426Z",
     "shell.execute_reply.started": "2021-05-21T12:07:54.278439Z"
    }
   },
   "outputs": [
    {
     "name": "stderr",
     "output_type": "stream",
     "text": [
      "/opt/conda/lib/python3.7/site-packages/seaborn/distributions.py:2557: FutureWarning: `distplot` is a deprecated function and will be removed in a future version. Please adapt your code to use either `displot` (a figure-level function with similar flexibility) or `histplot` (an axes-level function for histograms).\n",
      "  warnings.warn(msg, FutureWarning)\n"
     ]
    },
    {
     "data": {
      "text/plain": [
       "<AxesSubplot:xlabel='G3', ylabel='Density'>"
      ]
     },
     "execution_count": 53,
     "metadata": {},
     "output_type": "execute_result"
    },
    {
     "data": {
      "image/png": "[encoded data removed]",
      "text/plain": [
       "<Figure size 432x288 with 1 Axes>"
      ]
     },
     "metadata": {
      "needs_background": "light"
     },
     "output_type": "display_data"
    }
   ],
   "source": [
    "sns.distplot(y_test-y_predRFR)"
   ]
  },
  {
   "cell_type": "code",
   "execution_count": 54,
   "metadata": {
    "execution": {
     "iopub.execute_input": "2021-05-21T12:08:32.761234Z",
     "iopub.status.busy": "2021-05-21T12:08:32.760586Z",
     "iopub.status.idle": "2021-05-21T12:08:33.022703Z",
     "shell.execute_reply": "2021-05-21T12:08:33.021006Z",
     "shell.execute_reply.started": "2021-05-21T12:08:32.761179Z"
    }
   },
   "outputs": [
    {
     "data": {
      "text/plain": [
       "ExtraTreesRegressor()"
      ]
     },
     "execution_count": 54,
     "metadata": {},
     "output_type": "execute_result"
    }
   ],
   "source": [
    "ETR.fit(X_train,y_train)"
   ]
  },
  {
   "cell_type": "code",
   "execution_count": 55,
   "metadata": {
    "execution": {
     "iopub.execute_input": "2021-05-21T12:08:54.028362Z",
     "iopub.status.busy": "2021-05-21T12:08:54.027982Z",
     "iopub.status.idle": "2021-05-21T12:08:54.054120Z",
     "shell.execute_reply": "2021-05-21T12:08:54.052404Z",
     "shell.execute_reply.started": "2021-05-21T12:08:54.028329Z"
    }
   },
   "outputs": [
    {
     "name": "stdout",
     "output_type": "stream",
     "text": [
      "0.8562634291535662\n"
     ]
    }
   ],
   "source": [
    "print(ETR.score(X_test,y_test))"
   ]
  },
  {
   "cell_type": "code",
   "execution_count": 56,
   "metadata": {
    "execution": {
     "iopub.execute_input": "2021-05-21T12:09:21.867857Z",
     "iopub.status.busy": "2021-05-21T12:09:21.867468Z",
     "iopub.status.idle": "2021-05-21T12:09:21.885389Z",
     "shell.execute_reply": "2021-05-21T12:09:21.884281Z",
     "shell.execute_reply.started": "2021-05-21T12:09:21.867824Z"
    }
   },
   "outputs": [],
   "source": [
    "y_predETR = RFR.predict(X_test)"
   ]
  },
  {
   "cell_type": "code",
   "execution_count": 57,
   "metadata": {
    "execution": {
     "iopub.execute_input": "2021-05-21T12:09:47.452971Z",
     "iopub.status.busy": "2021-05-21T12:09:47.452591Z",
     "iopub.status.idle": "2021-05-21T12:09:47.462832Z",
     "shell.execute_reply": "2021-05-21T12:09:47.461711Z",
     "shell.execute_reply.started": "2021-05-21T12:09:47.452937Z"
    }
   },
   "outputs": [
    {
     "name": "stdout",
     "output_type": "stream",
     "text": [
      "MAE: 0.9603361344537814\n",
      "MSE: 2.176603361344538\n",
      "RMSE: 1.4753316106369232\n"
     ]
    }
   ],
   "source": [
    "from sklearn import metrics\n",
    "print('MAE:', metrics.mean_absolute_error(y_test, y_predETR))\n",
    "print('MSE:', metrics.mean_squared_error(y_test, y_predETR))\n",
    "print('RMSE:', np.sqrt(metrics.mean_squared_error(y_test, y_predETR)))"
   ]
  },
  {
   "cell_type": "code",
   "execution_count": 59,
   "metadata": {
    "execution": {
     "iopub.execute_input": "2021-05-21T12:10:29.035842Z",
     "iopub.status.busy": "2021-05-21T12:10:29.035201Z",
     "iopub.status.idle": "2021-05-21T12:10:29.223265Z",
     "shell.execute_reply": "2021-05-21T12:10:29.222204Z",
     "shell.execute_reply.started": "2021-05-21T12:10:29.035787Z"
    }
   },
   "outputs": [
    {
     "data": {
      "text/plain": [
       "<matplotlib.collections.PathCollection at 0x7f8e0292c3d0>"
      ]
     },
     "execution_count": 59,
     "metadata": {},
     "output_type": "execute_result"
    },
    {
     "data": {
      "image/png": "[encoded data removed]",
      "text/plain": [
       "<Figure size 432x288 with 1 Axes>"
      ]
     },
     "metadata": {
      "needs_background": "light"
     },
     "output_type": "display_data"
    }
   ],
   "source": [
    "plt.scatter(y_test,y_predETR)"
   ]
  },
  {
   "cell_type": "code",
   "execution_count": 60,
   "metadata": {
    "execution": {
     "iopub.execute_input": "2021-05-21T12:10:39.131246Z",
     "iopub.status.busy": "2021-05-21T12:10:39.130863Z",
     "iopub.status.idle": "2021-05-21T12:10:39.386450Z",
     "shell.execute_reply": "2021-05-21T12:10:39.385382Z",
     "shell.execute_reply.started": "2021-05-21T12:10:39.131214Z"
    }
   },
   "outputs": [
    {
     "name": "stderr",
     "output_type": "stream",
     "text": [
      "/opt/conda/lib/python3.7/site-packages/seaborn/distributions.py:2557: FutureWarning: `distplot` is a deprecated function and will be removed in a future version. Please adapt your code to use either `displot` (a figure-level function with similar flexibility) or `histplot` (an axes-level function for histograms).\n",
      "  warnings.warn(msg, FutureWarning)\n"
     ]
    },
    {
     "data": {
      "text/plain": [
       "<AxesSubplot:xlabel='G3', ylabel='Density'>"
      ]
     },
     "execution_count": 60,
     "metadata": {},
     "output_type": "execute_result"
    },
    {
     "data": {
      "image/png": "[encoded data removed]",
      "text/plain": [
       "<Figure size 432x288 with 1 Axes>"
      ]
     },
     "metadata": {
      "needs_background": "light"
     },
     "output_type": "display_data"
    }
   ],
   "source": [
    "sns.distplot(y_test-y_predETR)"
   ]
  },
  {
   "cell_type": "code",
   "execution_count": null,
   "metadata": {},
   "outputs": [],
   "source": []
  }
 ],
 "metadata": {
  "kernelspec": {
   "display_name": "Python 3 (ipykernel)",
   "language": "python",
   "name": "python3"
  },
  "language_info": {
   "codemirror_mode": {
    "name": "ipython",
    "version": 3
   },
   "file_extension": ".py",
   "mimetype": "text/x-python",
   "name": "python",
   "nbconvert_exporter": "python",
   "pygments_lexer": "ipython3",
   "version": "3.10.9"
  }
 },
 "nbformat": 4,
 "nbformat_minor": 4
}
