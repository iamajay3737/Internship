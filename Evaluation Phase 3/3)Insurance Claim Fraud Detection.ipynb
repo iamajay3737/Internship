{
 "cells": [
  {
   "cell_type": "code",
   "execution_count": null,
   "id": "5b1c7a92",
   "metadata": {},
   "outputs": [],
   "source": [
    "\"\"\"\n",
    "EXPLORATORY DATA ANALYSIS:\n",
    "\n",
    "Rows and columns in dataset: (1000, 40)\n",
    "\n",
    "Column names: ['months_as_customer', 'age', 'policy_number', 'policy_bind_date',\n",
    "               'policy_state', 'policy_csl', 'policy_deductable',\n",
    "               'policy_annual_premium', 'umbrella_limit', 'insured_zip', 'insured_sex',\n",
    "               'insured_education_level', 'insured_occupation', 'insured_hobbies',\n",
    "               'insured_relationship', 'capital-gains', 'capital-loss',\n",
    "               'incident_date', 'incident_type', 'collision_type', 'incident_severity',\n",
    "               'authorities_contacted', 'incident_state', 'incident_city',\n",
    "               'incident_location', 'incident_hour_of_the_day',\n",
    "               'number_of_vehicles_involved', 'property_damage', 'bodily_injuries',\n",
    "               'witnesses', 'police_report_available', 'total_claim_amount',\n",
    "               'injury_claim', 'property_claim', 'vehicle_claim', 'auto_make',\n",
    "               'auto_model', 'auto_year', 'fraud_reported', '_c39']\n",
    "\n",
    "        Dtypes of columns: months_as_customer               int64\n",
    "                            age                              int64\n",
    "                            policy_number                    int64\n",
    "                            policy_bind_date                object\n",
    "                            policy_state                    object\n",
    "                            policy_csl                      object\n",
    "                            policy_deductable                int64\n",
    "                            policy_annual_premium          float64\n",
    "                            umbrella_limit                   int64\n",
    "                            insured_zip                      int64\n",
    "                            insured_sex                     object\n",
    "                            insured_education_level         object\n",
    "                            insured_occupation              object\n",
    "                            insured_hobbies                 object\n",
    "                            insured_relationship            object\n",
    "                            capital-gains                    int64\n",
    "                            capital-loss                     int64\n",
    "                            incident_date                   object\n",
    "                            incident_type                   object\n",
    "                            collision_type                  object\n",
    "                            incident_severity               object\n",
    "                            authorities_contacted           object\n",
    "                            incident_state                  object\n",
    "                            incident_city                   object\n",
    "                            incident_location               object\n",
    "                            incident_hour_of_the_day         int64\n",
    "                            number_of_vehicles_involved      int64\n",
    "                            property_damage                 object\n",
    "                            bodily_injuries                  int64\n",
    "                            witnesses                        int64\n",
    "                            police_report_available         object\n",
    "                            total_claim_amount               int64\n",
    "                            injury_claim                     int64\n",
    "                            property_claim                   int64\n",
    "                            vehicle_claim                    int64\n",
    "                            auto_make                       object\n",
    "                            auto_model                      object\n",
    "                            auto_year                        int64\n",
    "                            fraud_reported                  object\n",
    "                            _c39                           float64\n",
    "\n",
    "Null values:\n",
    "_c39 column has all null values so we will delete it.\n",
    "\n",
    "Rest columns dont have any null values.\n",
    "\n",
    "Statistical description:\n",
    "\n",
    "Continuos columns: ['months_as_customer', 'age', 'policy_number', 'policy_deductable',\n",
    "                   'policy_annual_premium', 'umbrella_limit', 'insured_zip',\n",
    "                   'capital-gains', 'capital-loss', 'incident_hour_of_the_day',\n",
    "                   'number_of_vehicles_involved', 'bodily_injuries', 'witnesses',\n",
    "                   'total_claim_amount', 'injury_claim', 'property_claim', 'vehicle_claim',\n",
    "                   'auto_year']\n",
    "                   \n",
    "Categorical columns: ['policy_bind_date', 'policy_state', 'policy_csl', 'insured_sex',\n",
    "                       'insured_education_level', 'insured_occupation', 'insured_hobbies',\n",
    "                       'insured_relationship', 'incident_date', 'incident_type',\n",
    "                       'collision_type', 'incident_severity', 'authorities_contacted',\n",
    "                       'incident_state', 'incident_city', 'incident_location',\n",
    "                       'property_damage', 'police_report_available', 'auto_make', 'auto_model',\n",
    "                       'fraud_reported']\n",
    "\n",
    "\n",
    "Most frequesnt values: \n",
    "        For policy_bind_date , most frequent value is:  ModeResult(mode=array(['01-01-2006'], dtype=object), count=array([3])) \n",
    "\n",
    "        For policy_state , most frequent value is:  ModeResult(mode=array(['OH'], dtype=object), count=array([352])) \n",
    "\n",
    "        For policy_csl , most frequent value is:  ModeResult(mode=array(['250/500'], dtype=object), count=array([351])) \n",
    "\n",
    "        For insured_sex , most frequent value is:  ModeResult(mode=array(['FEMALE'], dtype=object), count=array([537])) \n",
    "\n",
    "        For insured_education_level , most frequent value is:  ModeResult(mode=array(['JD'], dtype=object), count=array([161])) \n",
    "\n",
    "        For insured_occupation , most frequent value is:  ModeResult(mode=array(['machine-op-inspct'], dtype=object), count=array([93])) \n",
    "\n",
    "        For insured_hobbies , most frequent value is:  ModeResult(mode=array(['reading'], dtype=object), count=array([64])) \n",
    "\n",
    "        For insured_relationship , most frequent value is:  ModeResult(mode=array(['own-child'], dtype=object), count=array([183])) \n",
    "\n",
    "        For incident_date , most frequent value is:  ModeResult(mode=array(['02-02-2015'], dtype=object), count=array([28])) \n",
    "\n",
    "        For incident_type , most frequent value is:  ModeResult(mode=array(['Multi-vehicle Collision'], dtype=object), count=array([419])) \n",
    "\n",
    "        For collision_type , most frequent value is:  ModeResult(mode=array(['Rear Collision'], dtype=object), count=array([292])) \n",
    "\n",
    "        For incident_severity , most frequent value is:  ModeResult(mode=array(['Minor Damage'], dtype=object), count=array([354])) \n",
    "\n",
    "        For authorities_contacted , most frequent value is:  ModeResult(mode=array(['Police'], dtype=object), count=array([292])) \n",
    "\n",
    "        For incident_state , most frequent value is:  ModeResult(mode=array(['NY'], dtype=object), count=array([262])) \n",
    "\n",
    "        For incident_city , most frequent value is:  ModeResult(mode=array(['Springfield'], dtype=object), count=array([157])) \n",
    "\n",
    "        For incident_location , most frequent value is:  ModeResult(mode=array(['1012 5th Lane'], dtype=object), count=array([1])) \n",
    "\n",
    "        For property_damage , most frequent value is:  ModeResult(mode=array(['?'], dtype=object), count=array([360])) \n",
    "\n",
    "        For police_report_available , most frequent value is:  ModeResult(mode=array(['?'], dtype=object), count=array([343])) \n",
    "\n",
    "        For auto_make , most frequent value is:  ModeResult(mode=array(['Dodge'], dtype=object), count=array([80])) \n",
    "\n",
    "        For auto_model , most frequent value is:  ModeResult(mode=array(['RAM'], dtype=object), count=array([43])) \n",
    "\n",
    "        For fraud_reported , most frequent value is:  ModeResult(mode=array(['N'], dtype=object), count=array([753])) \n",
    "\n",
    "\n",
    "Unique values and numbers:\n",
    "\n",
    "        For column policy_bind_date unique values are:  ['17-10-2014' '27-06-2006' '06-09-2000' '25-05-1990' '06-06-2014'\n",
    "         '12-10-2006' '04-06-2000' '03-02-1990' '05-02-1997' '25-07-2011'\n",
    "         '26-05-2002' '29-05-1999' '20-11-1997' '26-10-2012' '28-12-1998'\n",
    "         '19-10-1992' '08-06-2005' '15-11-2004' '28-12-2014' '02-08-1992'\n",
    "         '25-06-2002' '27-11-2005' '27-05-1994' '08-02-1991' '02-02-1996'\n",
    "         '05-12-2013' '20-09-1990' '18-07-2002' '08-02-1990' '04-03-2014'\n",
    "         '18-02-2000' '19-06-2008' '01-08-2003' '04-04-1992' '13-01-1991'\n",
    "         '08-08-2010' '09-03-2003' '03-02-1993' '25-11-2002' '27-07-1997'\n",
    "         '08-05-1995' '30-08-2012' '30-04-2006' '13-04-2003' '05-12-2007'\n",
    "         '21-08-2006' '08-01-1990' '18-03-1990' '07-01-2008' '10-03-1997'\n",
    "         '10-01-2004' '20-08-1994' '02-06-2002' '28-04-1994' '17-08-2014'\n",
    "         '11-08-2007' '20-11-2008' '18-10-1995' '19-05-1993' '26-02-2005'\n",
    "         '14-02-1990' '30-09-1993' '10-06-2014' '28-10-2008' '24-04-2007'\n",
    "         '13-12-1993' '17-08-2011' '20-08-1990' '11-02-1994' '22-02-1994'\n",
    "         '15-08-2011' '11-11-1998' '04-12-1995' '28-12-2002' '15-04-2004'\n",
    "         '02-02-2001' '12-01-2010' '14-04-1992' '21-05-2010' '27-10-2013'\n",
    "         '12-10-1994' '04-07-1997' '15-02-2011' '21-08-1994' '15-05-1997'\n",
    "         '26-10-1996' '04-03-2006' '02-01-1991' '15-08-1999' '15-01-1992'\n",
    "         '07-12-1999' '06-06-1993' '03-10-2000' '29-12-2010' '17-03-1990'\n",
    "         '01-03-2012' '05-02-2006' '01-11-2014' '17-06-2009' '20-09-1999'\n",
    "         '19-10-1990' '05-08-1996' '06-06-2001' '25-03-2007' '31-10-2013'\n",
    "         '13-06-1992' '07-10-1990' '28-12-1991' '26-06-2009' '11-01-2009'\n",
    "         '18-03-2003' '02-11-2012' '04-05-2000' '29-09-1999' '09-03-1999'\n",
    "         '13-02-1991' '05-08-1993' '31-10-1997' '21-04-2001' '08-01-2013'\n",
    "         '23-07-2009' '20-02-1998' '13-03-2008' '20-08-1996' '27-07-2014'\n",
    "         '09-11-1992' '04-06-2012' '13-05-2001' '17-09-2011' '15-07-2011'\n",
    "         '27-07-2005' '18-10-2005' '19-01-1996' '29-09-2005' '18-02-1997'\n",
    "         '11-05-2010' '06-02-2009' '09-07-2013' '06-06-1992' '08-03-1998'\n",
    "         '29-03-2004' '01-06-2006' '08-06-1994' '12-02-1998' '16-11-2000'\n",
    "         '24-10-2004' '08-11-2009' '21-09-1996' '16-07-1995' '09-06-2001'\n",
    "         '06-10-2002' '14-07-1997' '11-11-1994' '23-06-2012' '18-02-2007'\n",
    "         '27-06-2005' '14-05-2006' '29-04-2010' '10-11-1992' '24-07-1999'\n",
    "         '22-02-1992' '13-09-2002' '09-08-2003' '04-12-2007' '22-07-2002'\n",
    "         '03-07-1992' '29-03-2005' '16-03-2008' '23-05-1999' '22-11-2012'\n",
    "         '29-01-1993' '11-02-2003' '15-08-1990' '06-03-2010' '27-09-1990'\n",
    "         '17-06-2005' '14-09-2001' '07-01-2011' '13-09-2003' '24-10-1997'\n",
    "         '04-01-2009' '12-10-1998' '23-02-1993' '07-07-1996' '23-01-2013'\n",
    "         '06-12-2006' '23-02-2014' '16-11-2007' '17-04-1999' '06-02-2006'\n",
    "         '20-10-1993' '01-01-2006' '04-04-2003' '05-07-2014' '16-01-1996'\n",
    "         '19-04-2002' '10-12-2005' '07-11-1994' '02-06-2012' '07-04-1998'\n",
    "         '25-04-2007' '30-06-2000' '04-06-1996' '09-05-2009' '08-07-2001'\n",
    "         '20-09-1993' '03-11-2009' '10-12-2014' '08-01-1994' '05-08-2006'\n",
    "         '07-02-2007' '09-04-2001' '17-02-1995' '25-07-1995' '24-03-2006'\n",
    "         '28-03-1995' '19-06-1996' '16-06-1993' '11-07-2001' '22-11-2008'\n",
    "         '19-05-1990' '26-08-2013' '12-10-1997' '21-01-2002' '02-09-1996'\n",
    "         '28-01-2010' '03-10-2014' '02-05-2007' '22-09-1990' '19-09-2004'\n",
    "         '28-08-1995' '04-02-2004' '23-07-2014' '21-03-1997' '06-05-1991'\n",
    "         '07-08-1992' '03-09-2013' '05-01-2012' '27-01-2007' '14-10-2005'\n",
    "         '03-11-1990' '15-10-2005' '22-05-1999' '21-12-2002' '10-02-2007'\n",
    "         '01-03-2002' '21-04-2003' '22-09-2002' '10-02-1998' '01-09-1992'\n",
    "         '01-05-1999' '19-12-1997' '18-06-2000' '24-04-1995' '16-06-2006'\n",
    "         '28-09-2007' '21-11-1991' '16-05-2001' '11-08-1999' '16-06-2003'\n",
    "         '30-03-1999' '03-02-1999' '25-08-2011' '28-06-2010' '06-11-2001'\n",
    "         '15-04-2013' '07-12-1995' '01-11-1991' '19-05-2014' '15-03-1992'\n",
    "         '03-02-2006' '16-03-2003' '16-10-2002' '27-01-1990' '11-03-2010'\n",
    "         '19-09-1995' '27-02-2010' '30-04-2002' '28-04-2007' '08-07-1996'\n",
    "         '01-04-2002' '29-10-2006' '25-10-2007' '28-03-2001' '04-05-1995'\n",
    "         '28-09-2011' '28-01-2003' '01-02-2011' '09-02-1993' '05-08-2005'\n",
    "         '17-06-2006' '07-12-1993' '14-03-2012' '05-08-1997' '05-07-2009'\n",
    "         '25-11-1994' '03-02-1997' '09-10-2009' '20-11-2002' '29-05-1995'\n",
    "         '22-01-2011' '18-10-2012' '13-10-1991' '01-10-2010' '10-04-2013'\n",
    "         '11-06-2008' '04-12-2013' '21-08-2010' '18-06-2010' '10-04-1992'\n",
    "         '06-12-1991' '29-10-1993' '03-11-1991' '09-07-2002' '01-07-2005'\n",
    "         '04-11-1991' '14-04-1993' '23-08-2009' '18-06-1993' '17-07-2012'\n",
    "         '25-01-1999' '23-02-1990' '30-08-2000' '03-09-2008' '02-08-1991'\n",
    "         '25-09-2001' '11-03-2007' '20-11-2010' '28-08-1998' '16-07-2002'\n",
    "         '29-04-1990' '01-02-1998' '20-07-2008' '13-11-1998' '24-05-2001'\n",
    "         '03-06-2014' '22-08-1991' '12-12-1998' '18-02-1999' '30-10-1997'\n",
    "         '29-11-1999' '07-07-2013' '05-07-2003' '21-09-2005' '18-02-1995'\n",
    "         '07-04-1999' '13-12-2014' '01-06-1997' '13-07-2013' '30-12-2002'\n",
    "         '28-02-1997' '18-06-1998' '08-02-1996' '17-11-2004' '25-10-2012'\n",
    "         '13-04-2006' '21-02-2006' '17-12-2003' '31-07-1999' '05-08-2014'\n",
    "         '05-06-2011' '11-10-1992' '17-02-2010' '06-05-2007' '01-05-1997'\n",
    "         '28-01-1998' '05-05-1993' '06-08-1994' '14-11-2014' '14-12-1991'\n",
    "         '21-10-2009' '29-09-1997' '31-12-2003' '01-01-2008' '31-05-2004'\n",
    "         '18-12-2013' '24-08-2000' '14-10-1992' '16-11-1991' '08-10-1995'\n",
    "         '28-10-2007' '16-05-2008' '22-06-2009' '10-05-2012' '02-10-2003'\n",
    "         '02-08-1990' '16-09-1997' '29-07-1995' '06-09-2005' '05-08-1992'\n",
    "         '22-01-1993' '20-05-1995' '24-09-1992' '20-07-2007' '28-04-1992'\n",
    "         '19-01-1998' '08-09-2009' '18-12-1994' '23-08-1996' '20-11-1991'\n",
    "         '28-10-1998' '09-04-2003' '04-02-1992' '29-06-2006' '21-06-1997'\n",
    "         '07-09-2006' '01-10-2001' '20-02-2009' '26-06-2001' '18-01-1997'\n",
    "         '24-06-2014' '02-10-1992' '09-10-2012' '10-02-1993' '28-09-1994'\n",
    "         '24-05-2003' '25-12-1991' '18-09-1999' '03-02-1994' '18-01-2003'\n",
    "         '07-03-2005' '23-08-2003' '11-07-2002' '19-03-2014' '06-12-1993'\n",
    "         '29-08-1999' '09-03-2007' '03-01-2004' '25-04-1991' '14-03-1995'\n",
    "         '09-12-2005' '25-12-2001' '14-11-1999' '27-10-2001' '31-10-1993'\n",
    "         '13-02-2003' '06-03-2004' '12-07-2013' '27-08-2014' '22-06-1990'\n",
    "         '07-03-2008' '03-09-1991' '02-09-2011' '06-10-2012' '18-01-2014'\n",
    "         '22-03-1992' '03-12-2012' '18-10-1996' '02-10-1997' '18-03-2008'\n",
    "         '29-08-2010' '31-03-2005' '25-12-2013' '11-03-2014' '04-08-1997'\n",
    "         '14-11-2007' '30-07-1992' '01-12-2000' '10-09-2002' '07-11-1997'\n",
    "         '18-05-1993' '11-07-1996' '17-12-1995' '12-04-2013' '13-11-1995'\n",
    "         '04-11-2004' '21-03-1998' '22-07-1999' '28-02-2010' '30-01-2005'\n",
    "         '29-11-2001' '24-12-2012' '11-05-1997' '26-01-1994' '04-11-2010'\n",
    "         '19-06-1992' '02-06-2010' '12-10-2002' '25-02-2008' '05-09-1996'\n",
    "         '16-03-1998' '22-04-2010' '25-01-2008' '10-09-2000' '23-04-2008'\n",
    "         '18-02-2011' '24-04-2012' '24-05-2006' '30-01-1992' '24-01-2009'\n",
    "         '29-08-1995' '31-07-2011' '05-01-2013' '18-11-1994' '30-08-2014'\n",
    "         '10-09-1998' '04-01-2003' '24-05-2004' '12-09-1994' '07-07-1997'\n",
    "         '01-03-1991' '29-09-2001' '10-01-2012' '05-07-2001' '07-08-1991'\n",
    "         '24-07-2012' '08-08-1994' '09-12-2001' '14-03-1990' '28-03-2006'\n",
    "         '23-12-2013' '30-09-1991' '27-12-2001' '07-04-2005' '08-04-2003'\n",
    "         '14-11-2005' '07-01-2005' '14-02-1994' '23-01-1996' '12-12-1999'\n",
    "         '15-07-2004' '07-11-2012' '29-06-2009' '26-06-2000' '09-01-2002'\n",
    "         '11-11-2013' '14-01-2008' '04-03-2003' '07-06-1994' '04-07-2013'\n",
    "         '30-06-2002' '30-06-2004' '19-12-1998' '31-08-2014' '10-11-2005'\n",
    "         '26-11-2001' '06-05-2014' '27-01-1991' '04-03-2000' '12-10-1995'\n",
    "         '25-04-2014' '26-01-2011' '26-01-1996' '08-04-1991' '29-06-2002'\n",
    "         '09-04-1999' '19-04-2009' '28-11-1991' '27-04-2012' '04-03-2007'\n",
    "         '31-12-2012' '21-12-2013' '28-04-2005' '17-09-1994' '16-08-2003'\n",
    "         '02-09-2014' '12-12-2011' '17-08-1991' '29-02-2004' '22-02-2015'\n",
    "         '13-10-1990' '25-11-1991' '02-10-1990' '17-02-2009' '17-07-2005'\n",
    "         '12-03-1994' '03-08-1994' '25-08-2012' '02-12-2011' '25-02-2005'\n",
    "         '20-04-2004' '17-11-2009' '19-09-2009' '12-09-2001' '27-11-1992'\n",
    "         '07-12-1998' '25-08-1990' '22-10-2011' '01-02-1990' '27-11-1990'\n",
    "         '16-07-2004' '10-12-1993' '08-03-1995' '03-08-2009' '03-11-1996'\n",
    "         '09-08-2004' '20-07-1991' '14-01-2005' '16-12-2011' '09-10-1990'\n",
    "         '27-02-1994' '21-04-2014' '11-02-2010' '05-10-1991' '23-07-1992'\n",
    "         '10-10-1993' '14-11-2010' '03-03-1997' '01-03-1997' '18-08-1990'\n",
    "         '28-05-2014' '22-07-2004' '02-08-2009' '05-07-2007' '24-01-2010'\n",
    "         '15-05-2000' '21-03-2008' '07-05-1990' '05-02-1991' '19-03-1992'\n",
    "         '24-04-2013' '10-04-2009' '01-12-2008' '05-07-2000' '11-06-2014'\n",
    "         '23-04-1995' '16-09-1990' '11-12-1998' '09-10-1995' '21-12-1999'\n",
    "         '28-07-2002' '03-08-1993' '16-12-2007' '10-02-2008' '01-10-2006'\n",
    "         '29-05-2003' '06-05-2002' '28-02-2004' '14-01-1999' '23-01-2002'\n",
    "         '09-12-1992' '24-06-1998' '06-01-2011' '24-02-2012' '25-06-2011'\n",
    "         '21-11-2006' '27-06-2008' '30-08-1993' '21-04-2008' '23-06-2000'\n",
    "         '11-01-2010' '28-03-1990' '29-01-1998' '05-12-2014' '27-05-2002'\n",
    "         '09-08-2002' '02-12-2012' '22-03-2000' '13-04-2002' '17-06-2008'\n",
    "         '07-04-1994' '29-02-1992' '11-05-1996' '03-04-2013' '12-11-2009'\n",
    "         '05-11-2008' '15-02-1993' '21-07-2008' '11-09-2010' '22-12-1995'\n",
    "         '26-09-1991' '15-07-1990' '10-05-2009' '28-10-1999' '30-03-1995'\n",
    "         '31-01-2011' '21-04-2006' '10-03-2004' '05-01-1991' '15-10-1996'\n",
    "         '21-06-1994' '13-06-1994' '27-05-2003' '06-07-1996' '08-05-2005'\n",
    "         '02-11-2010' '29-07-2012' '06-06-2002' '19-09-1991' '24-06-2009'\n",
    "         '29-05-1992' '12-08-2004' '24-12-2006' '24-07-2007' '17-08-1994'\n",
    "         '10-04-1996' '11-12-1992' '01-08-2010' '23-03-2009' '29-07-1996'\n",
    "         '23-08-1994' '05-01-1992' '11-09-1997' '10-02-2002' '28-01-1993'\n",
    "         '23-10-1996' '21-04-1997' '09-11-2008' '20-06-2002' '21-10-2005'\n",
    "         '28-08-2005' '16-01-2013' '10-10-2005' '08-02-2009' '06-03-2005'\n",
    "         '17-05-1994' '20-07-1990' '17-04-2005' '10-02-1994' '29-03-1995'\n",
    "         '30-04-2007' '15-02-2001' '09-07-2001' '06-09-2008' '19-12-2004'\n",
    "         '15-11-2000' '14-03-2007' '28-12-2004' '05-07-1999' '15-11-1997'\n",
    "         '27-09-2010' '18-08-2007' '09-08-1993' '02-04-1991' '15-03-2007'\n",
    "         '01-05-2010' '24-06-2003' '08-07-1990' '24-09-1994' '20-06-2012'\n",
    "         '19-04-2006' '07-12-2001' '25-11-2006' '06-12-1996' '10-07-2012'\n",
    "         '07-04-2014' '11-10-2003' '17-01-2015' '07-12-1992' '29-11-2004'\n",
    "         '02-01-2004' '25-01-2006' '18-04-1993' '09-12-2006' '30-08-1997'\n",
    "         '03-06-1991' '06-09-1995' '09-02-2000' '23-07-1996' '30-12-2011'\n",
    "         '21-07-1996' '08-04-1996' '04-03-2001' '19-10-2001' '18-08-2006'\n",
    "         '28-04-2013' '29-11-2009' '15-02-1990' '12-04-2002' '21-02-1999'\n",
    "         '18-06-2011' '26-03-1995' '03-05-1991' '19-12-2001' '05-08-2012'\n",
    "         '20-01-2014' '19-12-2011' '28-07-2008' '05-05-1998' '16-04-1995'\n",
    "         '14-02-1992' '11-07-2007' '07-04-2010' '10-03-1991' '20-01-1996'\n",
    "         '01-03-2010' '15-06-2014' '25-11-2004' '26-08-2000' '23-08-2005'\n",
    "         '09-08-1990' '28-03-2003' '23-10-2007' '27-06-1996' '11-12-1994'\n",
    "         '05-12-1995' '15-12-1996' '06-06-2011' '13-12-1995' '28-10-1997'\n",
    "         '04-01-1996' '09-05-2008' '05-12-2009' '22-12-2012' '19-05-1992'\n",
    "         '25-05-2002' '21-04-2010' '26-03-1990' '12-05-2007' '02-01-2001'\n",
    "         '10-08-2006' '28-07-2014' '27-09-2011' '20-04-2013' '20-03-1991'\n",
    "         '03-12-2005' '25-05-2011' '18-10-2006' '19-07-2006' '08-06-2002'\n",
    "         '12-02-2009' '14-05-2001' '16-02-2001' '18-11-1993' '18-02-1990'\n",
    "         '21-05-2000' '26-08-2012' '16-11-2004' '23-01-2003' '07-11-2008'\n",
    "         '19-10-1999' '20-12-1990' '14-02-1996' '10-06-2001' '17-03-2010'\n",
    "         '30-07-2003' '17-09-2014' '03-06-2009' '11-10-1994' '18-07-1991'\n",
    "         '24-09-2001' '19-09-2012' '11-07-1991' '29-10-1991' '28-12-1999'\n",
    "         '11-10-2012' '19-08-1995' '11-02-1991' '02-07-1991' '10-04-1994'\n",
    "         '04-12-2005' '16-07-2014' '17-09-2003' '15-07-2000' '29-07-2009'\n",
    "         '13-04-1991' '20-11-2005' '20-05-1990' '28-11-2002' '15-06-2004'\n",
    "         '26-09-2010' '15-09-1990' '16-09-2009' '12-08-1999' '08-03-2009'\n",
    "         '27-04-2009' '02-08-2006' '06-12-1995' '13-11-2002' '09-11-1991'\n",
    "         '14-01-1998' '25-04-2002' '13-08-2004' '24-06-1990' '21-08-1991'\n",
    "         '25-02-2011' '04-02-2013' '20-02-2001' '03-03-1992' '21-12-2006'\n",
    "         '14-07-2000' '12-12-1991' '01-07-2013' '16-12-1998' '03-01-2015'\n",
    "         '01-04-1994' '15-08-2000' '13-11-2014' '04-02-2011' '21-01-2009'\n",
    "         '07-11-1992' '20-03-1992' '17-07-1995' '27-12-2000' '06-08-1999'\n",
    "         '03-03-2007' '25-12-1997' '06-11-2013' '21-09-1990' '05-10-1999'\n",
    "         '07-04-1992' '05-03-2009' '10-02-1997' '28-01-1992' '16-09-2013'\n",
    "         '04-01-2002' '02-04-2002' '16-07-1998' '15-08-2002' '07-09-1999'\n",
    "         '12-01-2012' '18-08-1996' '11-03-1996' '23-11-1997' '08-08-2013'\n",
    "         '30-11-1996' '18-06-1997' '19-04-2007' '19-09-2007' '21-12-1996'\n",
    "         '03-02-2008' '16-07-2003' '05-05-1991' '16-06-1991' '03-04-2001'\n",
    "         '16-03-2014' '03-08-2010' '25-11-2009' '08-05-2001' '14-06-2004'\n",
    "         '07-08-1994' '26-08-2004' '05-11-2000' '03-10-1994' '11-04-2005'\n",
    "         '16-05-1990' '11-09-2004' '30-11-1993' '06-03-2003' '18-12-1996'\n",
    "         '21-02-1995' '11-12-2009' '18-10-2000' '09-02-2007' '28-10-2006'\n",
    "         '27-01-2000' '05-04-2002' '30-04-2013' '01-05-2013' '09-01-1999'\n",
    "         '04-07-2007' '05-02-1994' '12-07-2006' '24-10-2007' '08-12-2001'\n",
    "         '24-03-2007' '16-07-1991' '05-01-2014' '17-02-2003' '18-11-2011'\n",
    "         '11-11-1996']\n",
    "        For column policy_bind_date count of unique values are:  951 \n",
    "\n",
    "\n",
    "        For column policy_state unique values are:  ['OH' 'IN' 'IL']\n",
    "        For column policy_state count of unique values are:  3 \n",
    "\n",
    "\n",
    "        For column policy_csl unique values are:  ['250/500' '100/300' '500/1000']\n",
    "        For column policy_csl count of unique values are:  3 \n",
    "\n",
    "\n",
    "        For column insured_sex unique values are:  ['MALE' 'FEMALE']\n",
    "        For column insured_sex count of unique values are:  2 \n",
    "\n",
    "\n",
    "        For column insured_education_level unique values are:  ['MD' 'PhD' 'Associate' 'Masters' 'High School' 'College' 'JD']\n",
    "        For column insured_education_level count of unique values are:  7 \n",
    "\n",
    "\n",
    "        For column insured_occupation unique values are:  ['craft-repair' 'machine-op-inspct' 'sales' 'armed-forces' 'tech-support'\n",
    "         'prof-specialty' 'other-service' 'priv-house-serv' 'exec-managerial'\n",
    "         'protective-serv' 'transport-moving' 'handlers-cleaners' 'adm-clerical'\n",
    "         'farming-fishing']\n",
    "        For column insured_occupation count of unique values are:  14 \n",
    "\n",
    "\n",
    "        For column insured_hobbies unique values are:  ['sleeping' 'reading' 'board-games' 'bungie-jumping' 'base-jumping' 'golf'\n",
    "         'camping' 'dancing' 'skydiving' 'movies' 'hiking' 'yachting' 'paintball'\n",
    "         'chess' 'kayaking' 'polo' 'basketball' 'video-games' 'cross-fit'\n",
    "         'exercise']\n",
    "        For column insured_hobbies count of unique values are:  20 \n",
    "\n",
    "\n",
    "        For column insured_relationship unique values are:  ['husband' 'other-relative' 'own-child' 'unmarried' 'wife' 'not-in-family']\n",
    "        For column insured_relationship count of unique values are:  6 \n",
    "\n",
    "\n",
    "        For column incident_date unique values are:  ['25-01-2015' '21-01-2015' '22-02-2015' '10-01-2015' '17-02-2015'\n",
    "         '02-01-2015' '13-01-2015' '27-02-2015' '30-01-2015' '05-01-2015'\n",
    "         '06-01-2015' '15-02-2015' '22-01-2015' '08-01-2015' '15-01-2015'\n",
    "         '29-01-2015' '19-01-2015' '01-01-2015' '10-02-2015' '11-01-2015'\n",
    "         '24-02-2015' '09-01-2015' '28-01-2015' '07-01-2015' '18-01-2015'\n",
    "         '28-02-2015' '12-02-2015' '24-01-2015' '03-01-2015' '16-01-2015'\n",
    "         '14-02-2015' '21-02-2015' '18-02-2015' '26-02-2015' '17-01-2015'\n",
    "         '27-01-2015' '11-02-2015' '12-01-2015' '06-02-2015' '20-01-2015'\n",
    "         '02-02-2015' '20-02-2015' '08-02-2015' '23-02-2015' '01-03-2015'\n",
    "         '14-01-2015' '19-02-2015' '09-02-2015' '26-01-2015' '23-01-2015'\n",
    "         '31-01-2015' '03-02-2015' '01-02-2015' '05-02-2015' '25-02-2015'\n",
    "         '16-02-2015' '13-02-2015' '04-02-2015' '07-02-2015' '04-01-2015']\n",
    "        For column incident_date count of unique values are:  60 \n",
    "\n",
    "\n",
    "        For column incident_type unique values are:  ['Single Vehicle Collision' 'Vehicle Theft' 'Multi-vehicle Collision'\n",
    "         'Parked Car']\n",
    "        For column incident_type count of unique values are:  4 \n",
    "\n",
    "\n",
    "        For column collision_type unique values are:  ['Side Collision' '?' 'Rear Collision' 'Front Collision']\n",
    "        For column collision_type count of unique values are:  4 \n",
    "\n",
    "\n",
    "        For column incident_severity unique values are:  ['Major Damage' 'Minor Damage' 'Total Loss' 'Trivial Damage']\n",
    "        For column incident_severity count of unique values are:  4 \n",
    "\n",
    "\n",
    "        For column authorities_contacted unique values are:  ['Police' 'None' 'Fire' 'Other' 'Ambulance']\n",
    "        For column authorities_contacted count of unique values are:  5 \n",
    "\n",
    "\n",
    "        For column incident_state unique values are:  ['SC' 'VA' 'NY' 'OH' 'WV' 'NC' 'PA']\n",
    "        For column incident_state count of unique values are:  7 \n",
    "\n",
    "\n",
    "        For column incident_city unique values are:  ['Columbus' 'Riverwood' 'Arlington' 'Springfield' 'Hillsdale' 'Northbend'\n",
    "         'Northbrook']\n",
    "        For column incident_city count of unique values are:  7 \n",
    "\n",
    "\n",
    "        For column incident_location unique values are:  \n",
    "            ['9935 4th Drive' '6608 MLK Hwy' '7121 Francis Lane' '6956 Maple Drive'\n",
    "             '3041 3rd Ave' '8973 Washington St' '5846 Weaver Drive' '3525 3rd Hwy'\n",
    "             '4872 Rock Ridge' '3066 Francis Ave' '1558 1st Ridge' '5971 5th Hwy'\n",
    "             '6655 5th Drive' '6582 Elm Lane' '6851 3rd Drive' '9573 Weaver Ave'\n",
    "             '5074 3rd St' '4546 Tree St' '3842 Solo Ridge' '8101 3rd Ridge'\n",
    "             '5380 Pine St' '8957 Weaver Drive' '2526 Embaracadero Ave'\n",
    "             '5667 4th Drive' '2502 Apache Hwy' '3418 Texas Lane' '2533 Elm St'\n",
    "             '3790 Andromedia Hwy' '3220 Rock Drive' '2100 Francis Drive'\n",
    "             '4687 5th Drive' '9038 2nd Lane' '6092 5th Ave' '8353 Britain Ridge'\n",
    "             '3540 Maple St' '3104 Sky Drive' '4981 Weaver St' '6676 Tree Lane'\n",
    "             '3930 Embaracadero St' '3422 Flute St' '4862 Lincoln Hwy' '5719 2nd Lane'\n",
    "             '3221 Solo Ridge' '6660 MLK Drive' '1699 Oak Drive' '4234 Cherokee Lane'\n",
    "             '7476 4th St' '8907 Tree Ave' '6619 Flute Ave' '6011 Britain St'\n",
    "             '5104 Francis Drive' '2280 4th Ave' '2644 Elm Drive' '7466 MLK Ridge'\n",
    "             '5821 2nd St' '6723 Best Drive' '4866 4th Hwy' '5418 Britain Ave'\n",
    "             '4296 Pine Hwy' '2299 1st St' '6618 Cherokee Drive' '7459 Flute St'\n",
    "             '3567 4th Drive' '2457 Washington Ave' '1269 Flute Drive' '1218 Sky Hwy'\n",
    "             '9169 Pine Ridge' '8538 Texas Lane' '5783 Oak Ave'\n",
    "             '7721 Washington Ridge' '8006 Maple Hwy' '6751 Pine Ridge'\n",
    "             '2324 Texas Ridge' '7923 Elm Ave' '4755 Best Lane' '5053 Tree Drive'\n",
    "             '2078 3rd Ave' '2804 Best St' '7877 Sky Lane' '6530 Weaver Ave'\n",
    "             '3087 Oak Hwy' '7098 Lincoln Hwy' '5124 Maple St' '2333 Maple Lane'\n",
    "             '1012 5th Lane' '7477 MLK Drive' '9489 3rd St' '2087 Apache Ave'\n",
    "             '5540 Sky St' '7238 2nd St' '8442 Britain Hwy' '1331 Britain Hwy'\n",
    "             '5260 Francis Drive' '1135 Solo Lane' '9737 Solo Hwy'\n",
    "             '3289 Britain Drive' '6550 Andromedia St' '1679 2nd Hwy' '3998 Flute St'\n",
    "             '2430 MLK Ave' '7717 Britain Hwy' '7773 Tree Hwy' '2199 Texas Drive'\n",
    "             '1028 Sky Lane' '4154 Lincoln Hwy' '8085 Andromedia St' '4793 4th Ridge'\n",
    "             '7428 Sky Hwy' '2306 5th Lane' '3052 Weaver Ridge' '5211 Weaver Drive'\n",
    "             '7253 MLK St' '1454 5th Ridge' '5622 Best Ridge' '4574 Britain Hwy'\n",
    "             '4539 Texas St' '8118 Elm Ridge' '3814 Britain Drive' '4614 MLK Ave'\n",
    "             '1628 Best Drive' '8381 Solo Hwy' '2100 MLK St' '5071 Flute Ridge'\n",
    "             '7551 Britain Lane' '2275 Best Lane' '1598 3rd Drive' '7740 MLK St'\n",
    "             '1240 Tree Lane' '8983 Francis Ridge' '7756 Solo Drive'\n",
    "             '9034 Weaver Ridge' '1126 Texas Hwy' '2808 Elm St' '5061 Francis Ave'\n",
    "             '4965 MLK Drive' '8668 Flute St' '2577 Washington Drive' '7709 Rock Lane'\n",
    "             '9358 Texas Ridge' '8080 Oak Lane' '6408 Weaver Ridge'\n",
    "             '5532 Weaver Ridge' '9101 2nd Hwy' '8576 Andromedia St' '6315 2nd Lane'\n",
    "             '1536 Flute Drive' '4672 MLK St' '2204 Washington Lane' '9484 Pine Drive'\n",
    "             '5431 3rd Ridge' '7121 Britain Drive' '8586 1st Ridge' '7582 Pine Drive'\n",
    "             '1388 Embaracadero Hwy' '5621 4th Ave' '8150 Washington Ridge'\n",
    "             '4268 2nd Ave' '6375 2nd Lane' '3770 Flute Drive' '1562 Britain St'\n",
    "             '1681 Cherokee Hwy' '7523 Oak Lane' '1815 Cherokee Drive' '9316 Pine Ave'\n",
    "             '2733 Texas Drive' '7684 Francis Ridge' '8991 Embaracadero Ave'\n",
    "             '4905 Francis Ave' '7783 Lincoln Hwy' '8749 Tree St' '4985 Sky Lane'\n",
    "             '7534 MLK Hwy' '8689 Maple Hwy' '9153 3rd Hwy' '5904 1st Drive'\n",
    "             '4519 Embaracadero St' '9706 MLK Lane' '6012 Texas Hwy'\n",
    "             '4098 Weaver Ridge' '6193 1st Hwy' '4053 Sky Lane' '8964 Francis St'\n",
    "             '9748 Sky Drive' '2293 Washington Ave' '3656 Solo Ave'\n",
    "             '8579 Apache Drive' '2003 Maple Hwy' '5445 Tree Hwy' '9730 2nd Hwy'\n",
    "             '7819 Oak St' '1845 Best St' '2500 Tree St' '6955 Pine Drive'\n",
    "             '6165 Rock Ridge' '3653 Elm Drive' '5812 3rd Hwy' '4939 Best St'\n",
    "             '4964 Elm Lane' '9588 Solo St' '8718 Apache Lane' '3590 Best Hwy'\n",
    "             '6149 Best Ridge' '4116 Embaracadero Lane' '3486 Flute Ave'\n",
    "             '5994 5th Ave' '9138 3rd St' '3743 Andromedia Ridge' '7644 Tree Ridge'\n",
    "             '3167 2nd St' '3327 Lincoln Drive' '8621 Best Ridge' '3878 Tree Lane'\n",
    "             '9760 Solo Lane' '9138 1st St' '3414 Elm Ave' '3172 Tree Ridge'\n",
    "             '6104 Oak Ave' '9742 5th Ridge' '8782 3rd St' '9798 Sky Ridge'\n",
    "             '5483 Francis Drive' '2005 Texas Hwy' '6634 Texas Ridge'\n",
    "             '8655 Cherokee Lane' '4955 Lincoln Ridge' '7705 Best Ridge'\n",
    "             '5838 Pine Lane' '7331 Sky Hwy' '5640 Embaracadero Lane'\n",
    "             '9610 Cherokee St' '3550 Washington Ave' '5277 Texas Lane'\n",
    "             '3654 Cherokee Ave' '7380 5th Hwy' '2539 Embaracadero Ridge'\n",
    "             '4693 Lincoln Hwy' '2376 Sky Ridge' '1273 Rock Lane' '8281 Lincoln Lane'\n",
    "             '6429 4th Hwy' '2201 4th Lane' '5506 Best St' '8404 Embaracadero St'\n",
    "             '2117 Lincoln Hwy' '6359 MLK Ridge' '9751 Sky Ridge' '9020 Elm Ave'\n",
    "             '1830 Sky St' '6067 Weaver Ridge' '1840 Embaracadero Ave'\n",
    "             '4058 Tree Drive' '4983 MLK Ridge' '9744 Texas Drive' '8821 Elm St'\n",
    "             '2886 Tree Ridge' '5236 Weaver Drive' '5862 Apache Ridge'\n",
    "             '7859 4th Ridge' '6259 Weaver St' '9980 Lincoln Ave' '7828 Cherokee Ave'\n",
    "             '5812 Oak St' '2318 Washington Hwy' '8809 Flute St' '3184 Oak Ave'\n",
    "             '6493 Lincoln Lane' '7162 Maple Ave' '5455 Tree Ridge' '5778 Pine Ridge'\n",
    "             '3797 Solo Lane' '9373 Pine Hwy' '1365 Francis Ave'\n",
    "             '9239 Washington Ridge' '3416 Washington Drive' '1923 2nd Hwy'\n",
    "             '6451 1st Hwy' '1267 Francis Hwy' '4158 Washington Lane'\n",
    "             '3796 Cherokee Drive' '7434 Oak Hwy' '5178 Weaver Hwy' '8477 Francis Hwy'\n",
    "             '7693 Britain Lane' '3658 Rock Drive' '2617 Andromedia Drive'\n",
    "             '9279 Oak Hwy' '3439 Andromedia Hwy' '5901 Elm Drive'\n",
    "             '3982 Washington Hwy' '3376 5th Drive' '3936 Tree Drive' '6605 Tree Ave'\n",
    "             '3102 Apache St' '7756 Pine Hwy' '7142 5th Lane' '2914 Oak Drive'\n",
    "             '6522 Apache Drive' '5279 Pine Ridge' '8078 Britain Hwy' '1133 Apache St'\n",
    "             '2873 Flute Ave' '8509 Apache St' '8245 4th Hwy' '3094 Best Lane'\n",
    "             '8188 Tree Ave' '5224 5th Lane' '2230 1st St' '6719 Flute St'\n",
    "             '8064 4th Ave' '2469 Francis Lane' '4671 5th Ridge' '6985 Maple Lane'\n",
    "             '7791 Britain Ridge' '6355 4th Hwy' '3495 Britain Drive' '2980 Sky Ridge'\n",
    "             '5914 Oak Ave' '3835 5th Ave' '5925 Tree Hwy' '6250 1st Ridge'\n",
    "             '1346 5th Lane' '1128 Maple Lane' '6309 Cherokee Ave' '4618 Flute Ave'\n",
    "             '6191 Oak Lane' '1316 Britain Ridge' '5924 Maple Drive' '8917 Tree Ridge'\n",
    "             '3966 Francis Ridge' '1507 Solo Ave' '4272 Oak Ridge' '4434 Lincoln Ave'\n",
    "             '7529 Solo Ridge' '8096 Apache Hwy' '9417 Tree Hwy' '3809 Texas Lane'\n",
    "             '1540 Apache Lane' '2337 Lincoln Hwy' '6770 1st St' '4119 Texas St'\n",
    "             '4347 2nd Ridge' '1091 1st Drive' '8203 Lincoln Ave' '9154 MLK Hwy'\n",
    "             '5780 4th Ave' '6945 Texas Hwy' '5639 1st Ridge' '3834 Pine St'\n",
    "             '1358 Maple St' '7460 Apache Lane' '5771 Sky Ave' '2865 Maple Lane'\n",
    "             '8940 Elm Ave' '1215 Pine Hwy' '6874 Maple Ridge' '8834 Elm Drive'\n",
    "             '8542 Lincoln Ridge' '9397 Francis St' '4907 Andromedia Drive'\n",
    "             '4429 Washington St' '2651 MLK Lane' '2942 1st Lane' '6317 Best St'\n",
    "             '1555 Washington Lane' '1919 4th Lane' '5480 3rd Ridge' '8864 Tree Ridge'\n",
    "             '2777 Solo Drive' '9929 Rock Drive' '4143 Maple Ridge' '7121 Rock St'\n",
    "             '9067 Texas Ave' '9245 Weaver Ridge' '4585 Francis Ave'\n",
    "             '6738 Francis Hwy' '7576 Pine Ridge' '9105 Tree Lane'\n",
    "             '2299 Britain Drive' '1914 Francis St' '6658 Weaver St' '1985 5th Ave'\n",
    "             '1707 Sky Ave' '6456 Andromedia Drive' '5649 Texas Ave' '1220 MLK Ave'\n",
    "             '1589 Pine St' '8906 Elm Lane' '2654 Elm Drive' '6681 Texas Ridge'\n",
    "             '7782 Rock St' '9286 Oak Ave' '8758 5th St' '7281 Maple Hwy'\n",
    "             '7571 Elm Ridge' '6738 Washington Hwy' '4188 Britain Ave'\n",
    "             '6934 Lincoln Ave' '6390 Apache St' '7615 Weaver Drive'\n",
    "             '6409 Cherokee Drive' '1123 5th Lane' '5168 5th Ave' '3697 Apache Drive'\n",
    "             '1910 Sky Ave' '8954 Apache Lane' '3110 Lincoln Lane' '6035 Rock Ave'\n",
    "             '2220 1st Lane' '4972 Francis Lane' '6957 Weaver Drive' '1512 Rock Lane'\n",
    "             '3693 Pine Ave' '9879 Apache Drive' '2494 Andromedia Drive'\n",
    "             '4615 Embaracadero Ave' '1929 Britain Drive' '5051 Elm St'\n",
    "             '9910 Maple Ave' '5602 Britain St' '6889 Cherokee St' '3926 Rock Lane'\n",
    "             '6717 Best Drive' '6117 4th Ave' '2668 Cherokee St' '6838 Flute Lane'\n",
    "             '6583 MLK Ridge' '6492 4th Lane' '7299 Apache St' '2756 Britain Hwy'\n",
    "             '9360 3rd Drive' '1655 Francis Hwy' '9720 Lincoln Hwy' '7066 Texas Ave'\n",
    "             '9728 Britain Hwy' '4486 Cherokee Ridge' '8021 Flute Ave'\n",
    "             '2774 Apache Drive' '2787 MLK St' '9847 Elm St' '4629 Elm Ridge'\n",
    "             '5585 Washington Drive' '3925 Sky St' '3903 Oak Ave' '3805 Lincoln Hwy'\n",
    "             '4055 2nd Drive' '3707 Oak Ridge' '7327 Lincoln Drive' '9369 Flute Hwy'\n",
    "             '4239 Weaver Ave' '6044 Weaver Drive' '8879 1st Drive' '9488 Best Drive'\n",
    "             '7500 Texas Ridge' '2048 3rd Ridge' '3419 Apache St' '9875 MLK Ave'\n",
    "             '3553 Texas Ave' '4335 1st St' '9070 Tree Ave' '3900 Texas St'\n",
    "             '9657 5th Ave' '5765 Washington St' '5997 Embaracadero Drive'\n",
    "             '1738 Solo Lane' '2903 Weaver Drive' '8926 Texas Ridge' '4231 3rd Ave'\n",
    "             '8049 4th St' '6501 5th Drive' '7909 Andromedia Hwy' '5865 Sky Lane'\n",
    "             '1957 Washington Ave' '7649 Texas St' '1992 Britain Drive'\n",
    "             '9685 Sky Ridge' '3457 Texas Lane' '7693 Cherokee Lane' '3167 4th Ridge'\n",
    "             '1617 Rock Drive' '7877 3rd Ridge' '9325 Lincoln Drive' '5855 Apache St'\n",
    "             '1328 Texas Lane' '4567 Pine Ave' '7575 Pine St' '2850 Washington St'\n",
    "             '9169 Cherokee Hwy' '6443 Washington Ridge' '6751 5th Hwy'\n",
    "             '2289 Weaver Ridge' '8306 1st Drive' '2603 Andromedia Hwy'\n",
    "             '6479 Francis Ave' '6428 Andromedia Lane' '9081 Cherokee Hwy'\n",
    "             '1532 Washington St' '4625 MLK Drive' '1529 Elm Ridge'\n",
    "             '2086 Francis Drive' '9066 Best Ridge' '7178 Best Drive'\n",
    "             '9821 Francis Ave' '7061 Cherokee Drive' '1325 1st Lane' '3769 Sky St'\n",
    "             '8489 Pine Hwy' '6329 Apache Ave' '9293 Pine Lane' '9224 Sky Drive'\n",
    "             '8862 Maple Ridge' '3492 Flute Lane' '6484 Tree Drive' '4554 Sky Ave'\n",
    "             '5201 Texas Hwy' '3982 Weaver Lane' '3660 Andromedia Hwy'\n",
    "             '7135 Flute Lane' '4414 Solo Drive' '2920 5th Ave' '2986 MLK Drive'\n",
    "             '1580 Maple Lane' '3706 Texas Hwy' '9109 Britain Drive' '2290 4th Ave'\n",
    "             '4232 Britain Ridge' '6677 Andromedia Drive' '5868 Sky Hwy'\n",
    "             '3053 Lincoln Drive' '7041 Tree Ridge' '7223 Embaracadero St'\n",
    "             '8081 Flute Ridge' '8618 Texas Lane' '3508 Washington St'\n",
    "             '2193 4th Ridge' '8897 Sky St' '9611 Pine Ridge' '7825 1st Ridge'\n",
    "             '3039 Oak Hwy' '8204 Pine Lane' '9787 Andromedia Ave' '9633 Rock Hwy'\n",
    "             '6303 1st Drive' '2014 Rock Ave' '8983 Tree St' '6260 5th Lane'\n",
    "             '2725 Britain Ridge' '3089 Oak Ridge' '6206 3rd Ridge' '7240 5th Ridge'\n",
    "             '8100 3rd Ave' '3282 4th Lane' '3227 Maple Ave' '4264 Lincoln Ridge'\n",
    "             '2215 Best Ave' '5363 Weaver Lane' '2397 Cherokee Ave'\n",
    "             '9794 Embaracadero St' '1810 Elm Hwy' '9603 Texas Lane' '5650 Sky Drive'\n",
    "             '9633 MLK Lane' '4981 Flute Hwy' '9078 Francis Ridge' '1381 Francis Ave'\n",
    "             '6435 Texas Ave' '1248 MLK Ridge' '3323 1st Lane' '6971 Best Ridge'\n",
    "             '7488 Lincoln Lane' '9007 Francis Hwy' '1491 Francis Ridge'\n",
    "             '3659 Oak Lane' '4176 Britain Hwy' '5189 Francis Drive' '6515 Oak Lane'\n",
    "             '7168 Andromedia Ridge' '7954 Tree Ridge' '1956 Apache St'\n",
    "             '9918 Andromedia Drive' '5499 Flute Ridge' '3311 2nd Drive'\n",
    "             '7609 Rock St' '4652 Flute Drive' '6853 Sky Hwy' '7780 Flute Lane'\n",
    "             '1687 3rd Lane' '6378 Britain Ave' '1306 Andromedia St'\n",
    "             '3664 Francis Ridge' '5985 Lincoln Lane' '3706 4th Hwy'\n",
    "             '6603 Francis Hwy' '7069 4th Hwy' '5093 Flute Lane' '5894 Flute Drive'\n",
    "             '8459 Apache Ave' '7447 Lincoln Ridge' '1821 Andromedia Ridge'\n",
    "             '6859 Flute Ridge' '4175 Elm Ridge' '5007 Oak St' '5790 Flute Ridge'\n",
    "             '8704 Britain Lane' '7816 MLK Lane' '3618 Maple Lane'\n",
    "             '7705 Lincoln Drive' '8602 Washington Ridge' '2832 Andromedia Lane'\n",
    "             '9760 4th Hwy' '2509 Rock Drive' '2063 Weaver St' '3818 Texas Ridge'\n",
    "             '3929 Elm Ave' '9911 Britain Lane' '3246 Britain Ridge'\n",
    "             '2696 Cherokee Ridge' '5249 4th Ave' '4721 Cherokee Hwy'\n",
    "             '8212 Flute Ridge' '3592 MLK Ridge' '6494 4th Ave' '6608 Apache Lane'\n",
    "             '1553 Lincoln St' '7628 4th Lane' '3028 5th St' '8949 Rock Hwy'\n",
    "             '9751 Tree St' '4702 Texas Drive' '2757 4th Hwy' '6678 Weaver Drive'\n",
    "             '8667 Weaver Lane' '4931 Maple Drive' '3808 5th Ave' '1725 Solo Lane'\n",
    "             '8097 Maple Lane' '3320 5th Hwy' '9573 2nd Ave' '8336 1st Ridge'\n",
    "             '3998 4th Hwy' '3966 Oak Hwy' '7601 Andromedia Lane' '5160 2nd Hwy'\n",
    "             '3288 Tree Lane' '5874 1st Hwy' '6467 Best Ave' '6309 5th Ave'\n",
    "             '8212 Rock Ave' '4107 MLK Ridge' '4558 3rd Hwy' '1762 Maple Hwy'\n",
    "             '5532 Francis Lane' '6158 Sky Ridge' '9214 Elm Ridge' '1833 Solo Ave'\n",
    "             '1953 Sky Lane' '6834 1st Drive' '9562 4th Ridge' '4835 Britain Ridge'\n",
    "             '8548 Cherokee Ridge' '2352 MLK Drive' '9734 2nd Ridge'\n",
    "             '3122 Apache Drive' '9816 Britain St' '8214 Flute St' '6259 Lincoln Hwy'\n",
    "             '4492 Andromedia Ave' '6179 3rd Ridge' '3799 Embaracadero Drive'\n",
    "             '5071 1st Lane' '6574 4th Drive' '2711 Britain Ave' '4214 MLK Ridge'\n",
    "             '7976 Britain Drive' '4995 Weaver Ridge' '1515 Embaracadero St'\n",
    "             '2968 Andromedia Ave' '9236 2nd Hwy' '9639 Britain Ridge'\n",
    "             '9422 Washington Ridge' '1213 4th Lane' '3872 5th Drive' '9397 5th Hwy'\n",
    "             '8876 1st St' '3397 5th Ave' '3263 Pine Ridge' '8639 5th Hwy'\n",
    "             '5743 4th Ridge' '3555 Francis Ridge' '4939 Oak Lane' '3100 Best St'\n",
    "             '3029 5th Ave' '8941 Solo Ridge' '4447 Francis Hwy' '7701 Tree St'\n",
    "             '4653 Pine St' '8742 4th St' '7316 Texas Ave' '2950 MLK Ave'\n",
    "             '8233 Tree Drive' '4642 Rock Ridge' '7733 Britain Lane'\n",
    "             '2753 Cherokee Ave' '3995 Lincoln Hwy' '4095 MLK St' '5782 Rock Drive'\n",
    "             '2900 Sky Drive' '1515 Pine Lane' '4876 Washington Drive' '5779 2nd Lane'\n",
    "             '6706 Francis Drive' '6384 5th Ridge' '3006 Lincoln Ridge'\n",
    "             '5352 Lincoln Drive' '6110 Rock Ridge' '7797 Tree Ridge' '4910 1st Lane'\n",
    "             '8766 Lincoln Lane' '6399 Oak Drive' '3127 Flute St' '8920 Best Ave'\n",
    "             '7314 Tree Drive' '8872 Oak Ridge' '5022 1st St' '3423 Francis Ave'\n",
    "             '9529 4th Drive' '1818 Tree St' '4431 Rock St' '4782 Sky Lane'\n",
    "             '7112 Weaver Ave' '4020 Best Drive' '2037 5th Drive' '4699 Texas Ridge'\n",
    "             '1832 Elm Hwy' '5226 Maple St' '3771 4th St' '8701 5th Lane'\n",
    "             '7574 4th St' '1989 Solo Lane' '6331 MLK Ave' '8453 Elm St'\n",
    "             '1422 Flute Ave' '5058 4th Lane' '3098 Oak Lane' '9103 MLK Lane'\n",
    "             '8624 Francis Ave' '2905 Embaracadero Drive' '3443 Maple Ridge'\n",
    "             '1618 Maple Hwy' '3751 Tree Hwy' '6848 Elm Hwy' '4237 4th St'\n",
    "             '6581 Rock Ridge' '7236 Apache Lane' '3846 4th Hwy' '5028 Maple Ridge'\n",
    "             '7426 Rock Drive' '5771 Best St' '9818 Cherokee Ave' '7819 2nd Ave'\n",
    "             '1331 Elm Ridge' '9240 Britain Ave' '6668 Andromedia Ridge'\n",
    "             '5276 2nd Lane' '2889 Weaver St' '1879 4th Lane' '5499 Elm Hwy'\n",
    "             '8822 Sky St' '4254 Best Ridge' '5812 Weaver Ave' '7155 Apache Drive'\n",
    "             '1376 Pine St' '3340 3rd Hwy' '3097 4th Drive' '1916 Elm St'\n",
    "             '8917 Cherokee Lane' '8492 Weaver Hwy' '3753 Francis Lane'\n",
    "             '4545 4th Ridge' '2272 Embaracadero Drive' '5341 5th Ave'\n",
    "             '7745 Washington Ridge' '1275 4th Ridge' '4857 Weaver St' '8211 Sky Hwy'\n",
    "             '8617 Best Ave' '9856 Apache St' '1951 Best Ave' '1824 5th Lane'\n",
    "             '7393 Washington St' '1386 Britain St' '7928 Maple Ridge'\n",
    "             '1546 Cherokee Ave' '2003 2nd Hwy' '9418 5th Hwy' '8770 1st Lane'\n",
    "             '1087 Flute Drive' '2217 Tree Lane' '6741 Oak Ridge' '2123 MLK Ridge'\n",
    "             '4390 4th Drive' '1437 3rd Lane' '1186 Rock St' '4394 Oak St'\n",
    "             '8368 Cherokee Ave' '4905 Best Lane' '3618 Sky Ave' '5459 MLK Ave'\n",
    "             '1371 Texas Lane' '2654 Embaracadero St' '2123 Texas Ave'\n",
    "             '4538 Flute Hwy' '4434 Weaver St' '2798 1st Ave' '2809 Francis Lane'\n",
    "             '7281 Oak St' '9878 Washington Ave' '2537 5th Ave' '8493 Apache Drive'\n",
    "             '2878 Britain Hwy' '2862 Tree Ridge' '4453 Best Ave' '5191 4th St'\n",
    "             '1364 Best St' '8946 2nd Drive' '3726 MLK Hwy' '2820 Britain St'\n",
    "             '2646 MLK Drive' '6256 Elm St' '9724 Maple St' '7397 4th Drive'\n",
    "             '3488 Flute Lane' '9082 3rd Lane' '1941 5th Ridge' '5333 MLK Lane'\n",
    "             '4577 Sky Hwy' '4814 Lincoln Lane' '2381 1st Hwy' '6939 3rd Hwy'\n",
    "             '5269 Flute Hwy' '7197 2nd Drive' '1741 Best Ridge' '9148 4th Hwy'\n",
    "             '4279 Solo Drive' '9177 Texas Ave' '5969 Francis St' '9942 Tree Ave'\n",
    "             '5474 Weaver Hwy' '1102 Apache Hwy' '9214 Texas Drive' '8991 Texas Hwy'\n",
    "             '9580 MLK Ave' '5868 Best Drive' '5318 5th Ave' '7502 Rock Lane'\n",
    "             '4627 Elm Ridge' '5584 Britain Lane' '7002 Oak Hwy' '4780 Best Drive'\n",
    "             '8995 1st Ave' '5586 2nd St' '1589 Best Ave' '1880 Weaver Drive'\n",
    "             '7295 Tree Hwy' '8832 Pine Drive' '1620 Oak Ave' '3847 Elm Hwy'\n",
    "             '3177 MLK Ridge' '3929 Oak Drive' '1469 Lincoln Drive' '9719 4th Lane'\n",
    "             '3196 Cherokee St' '8492 Andromedia Ridge' '1353 Washington St'\n",
    "             '6731 Andromedia Hwy' '5769 Texas Lane' '2849 Pine Drive'\n",
    "             '2577 Texas Ridge' '3841 Washington Lane' '8125 Texas Ridge'\n",
    "             '4826 5th St' '1578 5th Lane' '6440 Rock Lane' '5806 Embaracadero St'\n",
    "             '1472 4th Drive' '5839 Weaver Lane' '7630 Rock Drive'\n",
    "             '7144 Andromedia St' '9988 Rock Ridge' '7544 Washington Ave'\n",
    "             '7201 Washington Ave' '8805 Cherokee Drive' '3275 Pine St'\n",
    "             '7785 Lincoln Lane' '4994 Lincoln Drive' '1298 Maple Hwy'\n",
    "             '2644 MLK Drive' '5630 1st Drive' '6137 MLK St' '5383 Maple Drive'\n",
    "             '4460 4th Lane' '8524 Pine Lane' '8456 1st Ave' '3639 Flute Hwy'\n",
    "             '7900 Sky Hwy' '7835 Cherokee Hwy' '1030 Pine Lane' '9278 Francis Ridge'\n",
    "             '6604 Apache Drive' '2311 4th St' '9523 Solo Hwy' '3171 Andromedia Lane'\n",
    "             '2492 Lincoln Lane' '4477 5th Ave' '6724 Andromedia St'\n",
    "             '7495 Washington Ave' '4291 Sky Hwy' '5650 Rock Ave' '6888 Elm Ridge'\n",
    "             '2352 Sky Drive' '5280 Pine Ave' '6638 Tree Drive' '5678 Lincoln Drive'\n",
    "             '4496 Pine Lane' '8845 5th Ave' '9317 Apache Ave' '8638 3rd Ave'\n",
    "             '3061 Francis Hwy' '1173 Andromedia Ave' '6068 2nd St'\n",
    "             '7937 Weaver Ridge' '2823 Weaver Lane' '1809 Sky St'\n",
    "             '9352 Washington Ave' '2697 Oak Drive' '1110 4th Drive' '7535 5th Lane'\n",
    "             '9043 Maple Hwy' '3777 Maple Ave' '5608 Solo St' '6981 Weaver St'\n",
    "             '4369 Maple Lane' '6931 Elm St' '7583 Washington Ave' '7552 3rd St'\n",
    "             '1654 Pine St' '6058 Andromedia Hwy' '6536 MLK Hwy'\n",
    "             '8198 Embaracadero Lane' '3447 Solo Ave' '1806 Weaver Ridge'\n",
    "             '7930 Texas Ave' '7082 Oak Ridge' '6357 Texas Lane' '9322 Rock Hwy'\n",
    "             '6684 Solo Lane' '4885 Oak Lane' '7846 Andromedia Drive'\n",
    "             '3915 Embaracadero St' '4242 Rock Lane' '7405 Oak St' '9633 4th St'\n",
    "             '3492 Britain St' '7973 4th St' '3952 Andromedia Lane'\n",
    "             '6702 Andromedia St' '5455 Oak Hwy' '2253 Maple Ave' '7897 Lincoln St'\n",
    "             '8811 Maple Hwy' '8167 Apache Ave' '5475 Rock Lane' '8215 Flute Drive'\n",
    "             '1320 Flute Lane' '1229 5th Ave' '3884 Pine Lane' '7108 Tree St'\n",
    "             '8014 Embaracadero Drive' '4937 Flute Drive' '2889 Francis St'\n",
    "             '7504 Flute Drive' '7570 Cherokee Drive' '4710 Lincoln Hwy'\n",
    "             '7511 1st Ave' '7042 Maple Ridge' '4475 Lincoln Ridge' '9439 MLK St'\n",
    "             '8269 Sky Hwy' '5663 Oak Lane' '4633 5th Lane' '9682 Cherokee Ridge'\n",
    "             '4755 1st St' '5312 Francis Ridge' '1705 Weaver St' '1643 Washington Hwy'\n",
    "             '6516 Solo Drive' '6045 Andromedia St' '3092 Texas Drive' '7629 5th St'\n",
    "             '6128 Elm Lane' '1416 Cherokee Ridge']\n",
    "            For column incident_location count of unique values are:  1000 \n",
    "\n",
    "\n",
    "            For column property_damage unique values are:  ['YES' '?' 'NO']\n",
    "            For column property_damage count of unique values are:  3 \n",
    "\n",
    "\n",
    "            For column police_report_available unique values are:  ['YES' '?' 'NO']\n",
    "            For column police_report_available count of unique values are:  3 \n",
    "\n",
    "\n",
    "            For column auto_make unique values are:  ['Saab' 'Mercedes' 'Dodge' 'Chevrolet' 'Accura' 'Nissan' 'Audi' 'Toyota'\n",
    "             'Ford' 'Suburu' 'BMW' 'Jeep' 'Honda' 'Volkswagen']\n",
    "            For column auto_make count of unique values are:  14 \n",
    "\n",
    "\n",
    "            For column auto_model unique values are:  ['92x' 'E400' 'RAM' 'Tahoe' 'RSX' '95' 'Pathfinder' 'A5' 'Camry' 'F150'\n",
    "             'A3' 'Highlander' 'Neon' 'MDX' 'Maxima' 'Legacy' 'TL' 'Impreza'\n",
    "             'Forrestor' 'Escape' 'Corolla' '3 Series' 'C300' 'Wrangler' 'M5' 'X5'\n",
    "             'Civic' 'Passat' 'Silverado' 'CRV' '93' 'Accord' 'X6' 'Malibu' 'Fusion'\n",
    "             'Jetta' 'ML350' 'Ultima' 'Grand Cherokee']\n",
    "            For column auto_model count of unique values are:  39 \n",
    "\n",
    "\n",
    "            For column fraud_reported unique values are:  ['Y' 'N']\n",
    "            For column fraud_reported count of unique values are:  2 \n",
    "\n",
    "\n",
    "For columns month as customer capital gains incident Tower of the day modelling injuries witnesses injury claim \n",
    "and property claim minimum value is zero.\n",
    "\n",
    "Maximum values are quite high that indicates very range.\n",
    "\n",
    "Minimum age is 19 and maximum is 64 which seems ok.\n",
    "\n",
    "CATEGORICAL DATA DESCRIPTION\n",
    "        For police report available and property damage top frequency is of question mark that indicates the data that \n",
    "        is not available.\n",
    "        Most people who got insured are female.\n",
    "        Most insured people have reading as their hobbies.\n",
    "        Most insured relationship is own child.\n",
    "        For most people incident type is multi vehicle collision and collision type is rear commission.\n",
    "        For most insurance schemes incident sevarty is minor damage.\n",
    "        Police was contacted for most of the residence and most common incident state is New York.\n",
    "        Most incidents happened in 9935 4th drive.\n",
    "\n",
    "UNIVARRIATE ANALYSIS \n",
    "\n",
    "COUNT PLOT SUMMARY\n",
    "\n",
    "PROPORTION OF UNIQUE VALUES IN POLICY STATE and policy CSI is nearly equal.\n",
    "        Female got insured more than male.\n",
    "        College education level people insured less as compared to other education level.\n",
    "        For people having occupation as machine op\n",
    "        Inspect got ensured more as compared to other occupation. Sales people armed forces people protective servants \n",
    "            and handlers cleaners and farming and fishing occupants got insured the least.\n",
    "        People having hobbies like sleeping dancing basketball and crossfit got ensured less.\n",
    "        People having hobbies reading and exercising and paintball got insured more.\n",
    "        For relationship status unmarried and wives were insured less.\n",
    "        For insurance claims vehicle theft incident and puggged car incident at the least number of counts.\n",
    "        Single vehicle and multiple vehicle collision contributed to incident type the most.\n",
    "        For incident sevarity trivial damage contributed least in the insurance claims.\n",
    "        Police and fire authorities were contacted the most during the incident.\n",
    "        Most incidents happened in New York State where else least incident happened in Ohio and pa.\n",
    "        Notes brook City contributed to least number of insurance claims.\n",
    "        For most claims property damage and report of police was unknown.\n",
    "        Saab Suburu Nissan and dodge contributed to most number of claims.\n",
    "        Honda automatic contributed to least number of claims.\n",
    "        From all the data less than one third reports were reported as fraud.\n",
    "\n",
    "SCATTER PLOT ANALYSIS SUMMARY\n",
    "        Most customers are up to 300 months old as customers.\n",
    "        Most customers belong to age group of 30 to 50.\n",
    "        For most customers policy annual premium lies between 1000 to 1600.\n",
    "        Most data points for ensured ZIP column lie between range 425000 and 475000.\n",
    "        For most customers total claim amount lies between 40000 to 80000.\n",
    "        High data point density is can be seen at 0 and 5000 for injury claim and property claim colum.\n",
    "        For vehicle claim most data points lie within range 30000 to 60000.\n",
    "\n",
    "STRIP PLOT SUMMARY\n",
    "        Very less people belong to age group of 20 and 60.\n",
    "        There are very few people having policy annual premium less than 800 and more than 1800.\n",
    "        For most data points umbrella limit is within range 0.4 and  .6 respectively.\n",
    "\n",
    "        Very less data points have capital gains between 0 (excuding zero value) to 20000 and above 80000.\n",
    "\n",
    "        Very less values lie above 80000 and below 20000.\n",
    "\n",
    "        Hi density region for total claim amount lies at values zero and 60000 respectively.\n",
    "\n",
    "ANALYSING HISTOGRAM\n",
    "        Most people were 200 to 300 months old as customers.\n",
    "        40 years of age had highest frequency.\n",
    "        For policy deductable highest frequency is at 600, 1000 and near 2000 respectively.\n",
    "        Highest frequency around 250 for policy annual premium lies at 1200.\n",
    "        For umbrella limit frequency peak is at zero.\n",
    "        For capital gains frequency peak lies between 0 to 10000 and for capital loss frequency peak can be seen at zero.\n",
    "        For incident hour of the day 20 and 15 has highest frequencies.\n",
    "        For number of vehicles involved, one has highest frequency and then for 3.\n",
    "\n",
    "DENSITY PLOT SUMMARY\n",
    "        Density distribution plot of policy deductible umbrella limit ensured zip capital gains capital loss number of vehicles involved total bodyly injuries witnesses total claim amount injury claim property claim vehicle claim columns indicate presence of skewness.\n",
    "\n",
    "BOX PLOT ANALYSIS SUMMARY.\n",
    "        Age policy annual premium umbrella limit and total same amount property claim columns contain out liars.\n",
    "\n",
    "        BY VARIATE ANALYSIS USING CATEGORICAL PLOT AND ITS SUMMARY\n",
    "\n",
    "        Most frauds were reported in ohiostate and least were reported in Illinois.\n",
    "\n",
    "        Most frauds were reported for policy CSL that is 250 by 500.\n",
    "\n",
    "        Nearly equal proportion of rod creams were reported for both male and female genders.\n",
    "\n",
    "        JD education level reported most number of fraud claims.\n",
    "\n",
    "        Highly educated people reported less number of fraud claims.\n",
    "\n",
    "        People having occupation level of executive managerial level reported most number of frauds and as compared to private house servants other service prof speciality and arm forces occupants reported least number of frauds.\n",
    "\n",
    "        Clams of people having hobbies campaign dancing Kaya king and basketball reported least number of fraud claims.\n",
    "\n",
    "        Most frauds were reported by claims having relationship status of other relative and not in family people.\n",
    "\n",
    "        Very less fraud games were reported by vehicle theft incidents and pav car incidents.\n",
    "\n",
    "        Most frauds were reported by a real collision types.\n",
    "\n",
    "        Most frauds were reported for Major damage incident sevarity types.\n",
    "\n",
    "        Least number of frauds were reported where no authority was contacted during the incident.\n",
    "\n",
    "        Most number of frauds were reported for SC state and nystate.\n",
    "\n",
    "        Most frauds were reported in arlington city and least sprouts were reported in riverwood city.\n",
    "\n",
    "        Most were reported by Chevrolet Mercedes 4 and Volkswagen auto makes.\n",
    "\n",
    "ANALYSING SKEWNESS VALUES\n",
    "        All skewness values are within range.\n",
    "        Except umbrella limit column that contains most skewed data.\n",
    "\n",
    "ANALYSING CORRELATION BETWEEN FEATURES AND LABELS\n",
    "\n",
    "        Umbrella limit number of vehicles involved bodeilly injuries witnesses total claim amount \n",
    "        injury claim property claim vehicle claim columns seems to be positively correlated with our \n",
    "        target column that is fraud reported.\n",
    "\n",
    "Ploting heat map to check further presence of multicoleenarity problem:\n",
    "        Values of total claim amount injury claim amount property claim vehicle claim arnierly the same \n",
    "        that indicate these columns are highly correlated and they confirmed the presence of multi collinearity \n",
    "        problem further we need to check variant inflation factor and eliminate multi collinearity.\n",
    "\n",
    "Performing principle component analysis to select the best components as features for our classification problem solution.\n",
    "\n",
    "FURTHER STEPS PERFORMED\n",
    "        Encoding categorical columns\n",
    "        Normalising data using power transform\n",
    "        Feature selection using principle component analysis\n",
    "        Splitting training and testing data\n",
    "        Model instantiation\n",
    "        Model validation\n",
    "        Selecting best model and hyperparameter boosting\n",
    "        Result\n",
    "        Saving the model\n",
    "\n",
    "\"\"\""
   ]
  },
  {
   "cell_type": "code",
   "execution_count": null,
   "id": "e036bce9",
   "metadata": {},
   "outputs": [],
   "source": [
    "# Imp libs:\n",
    "import numpy as np\n",
    "import pandas as pd\n",
    "import matplotlib.pyplot as plt\n",
    "import seaborn as sns\n",
    "\n",
    "# Spliting data\n",
    "from sklearn.model_selection import train_test_split,GridSearchCV\n",
    "\n",
    "# Algorithms\n",
    "from sklearn import linear_model\n",
    "from sklearn.linear_model import LogisticRegression\n",
    "from sklearn.ensemble import RandomForestClassifier\n",
    "from sklearn.metrics import confusion_matrix\n",
    "import itertools\n",
    "from sklearn.linear_model import SGDClassifier\n",
    "from sklearn.tree import DecisionTreeClassifier\n",
    "from sklearn.neighbors import KNeighborsClassifier\n",
    "from sklearn.svm import SVC, LinearSVC\n",
    "from sklearn.naive_bayes import GaussianNB\n",
    "# Importing metrics\n",
    "from sklearn.metrics import accuracy_score,confusion_matrix,classification_report\n",
    "\n",
    "from statsmodels.stats.outliers_influence import variance_inflation_factor\n",
    "\n",
    "# Removing warnings\n",
    "import warnings\n",
    "warnings.filterwarnings('ignore')\n",
    "\n",
    "%matplotlib inline"
   ]
  },
  {
   "cell_type": "code",
   "execution_count": null,
   "id": "7b877908",
   "metadata": {},
   "outputs": [],
   "source": [
    "file_loc = 'https://raw.githubusercontent.com/dsrscientist/Data-Science-ML-Capstone-Projects/master/Automobile_insurance_fraud.csv'\n",
    "df = pd.read_csv(file_loc)"
   ]
  },
  {
   "cell_type": "code",
   "execution_count": null,
   "id": "324cbd6f",
   "metadata": {},
   "outputs": [],
   "source": [
    "print('First 10 rows')\n",
    "df.head(10)"
   ]
  },
  {
   "cell_type": "code",
   "execution_count": null,
   "id": "0e69bcb0",
   "metadata": {},
   "outputs": [],
   "source": [
    "print('Last 10 rows')\n",
    "df.tail(10)"
   ]
  },
  {
   "cell_type": "code",
   "execution_count": null,
   "id": "fb948cf2",
   "metadata": {},
   "outputs": [],
   "source": [
    "# FEature Engineering:\n",
    "\n",
    "# Date split \n",
    "\n",
    "date_split=[]\n",
    "for i in df['policy_bind_date']:\n",
    "    date_split.append(i.split('-'))\n",
    "\n",
    "day=[]\n",
    "month=[]\n",
    "year=[]\n",
    "\n",
    "for i in range(0,1000):\n",
    "    day.append(date_split[i][0])\n",
    "    \n",
    "for i in range(0,1000):\n",
    "    month.append(date_split[i][1])\n",
    "    \n",
    "for i in range(0,1000):\n",
    "    year.append(date_split[i][2])\n",
    "    \n",
    "df['Incident day'] = day\n",
    "\n",
    "df['Incident month'] = month\n",
    "\n",
    "df['Incident year'] = year\n",
    "\n",
    "# Policy csl split\n",
    "\n",
    "policy_split=[]\n",
    "for j in df['policy_csl']:\n",
    "    policy_split.append(j.split('/'))\n",
    "    \n",
    "policy_initial=[]\n",
    "policy_ending=[]\n",
    "\n",
    "for j in range(0,1000):\n",
    "    policy_initial.append(policy_split[j][0])\n",
    "    \n",
    "for j in range(0,1000):\n",
    "    policy_ending.append(policy_split[j][1])\n",
    "    \n",
    "df['policy_initial']=policy_initial\n",
    "df['policy_ending']=policy_ending\n",
    "\n",
    "df['policy_initial']= df['policy_initial'].astype('int64')\n",
    "df['policy_ending']= df['policy_ending'].astype('int64')\n",
    "\n",
    "# Replacing ? from police_report_available column:\n",
    "\n",
    "df['police_report_available']\n",
    "\n",
    "df.loc[df[\"police_report_available\"] == \"?\", \"police_report_available\"] = \"Unknown\""
   ]
  },
  {
   "cell_type": "code",
   "execution_count": null,
   "id": "fbfb50c4",
   "metadata": {},
   "outputs": [],
   "source": [
    "df.shape"
   ]
  },
  {
   "cell_type": "code",
   "execution_count": null,
   "id": "eb54f3bc",
   "metadata": {},
   "outputs": [],
   "source": [
    "df.columns"
   ]
  },
  {
   "cell_type": "code",
   "execution_count": null,
   "id": "17395e9f",
   "metadata": {},
   "outputs": [],
   "source": [
    "df.dtypes"
   ]
  },
  {
   "cell_type": "code",
   "execution_count": null,
   "id": "34e08f4f",
   "metadata": {},
   "outputs": [],
   "source": [
    "null_data = df.isnull().sum()\n",
    "null_data.sort_values(ascending=0)"
   ]
  },
  {
   "cell_type": "code",
   "execution_count": null,
   "id": "920bc84f",
   "metadata": {},
   "outputs": [],
   "source": [
    "df.drop('_c39',axis=1,inplace=True)"
   ]
  },
  {
   "cell_type": "code",
   "execution_count": null,
   "id": "c838219c",
   "metadata": {
    "scrolled": false
   },
   "outputs": [],
   "source": [
    "desc = df.describe().T\n",
    "desc['range']=desc['max']-desc['min']\n",
    "desc"
   ]
  },
  {
   "cell_type": "code",
   "execution_count": null,
   "id": "5ec689bb",
   "metadata": {},
   "outputs": [],
   "source": [
    "desc[['min','mean','max','range']]"
   ]
  },
  {
   "cell_type": "code",
   "execution_count": null,
   "id": "799b5c0d",
   "metadata": {},
   "outputs": [],
   "source": [
    "df.describe(include='object').T"
   ]
  },
  {
   "cell_type": "code",
   "execution_count": null,
   "id": "74ecfb0e",
   "metadata": {},
   "outputs": [],
   "source": [
    "cont_data = df.select_dtypes(include=['int64','float64'])\n",
    "\n",
    "cat_data= df.select_dtypes(include=['object'])\n",
    "\n",
    "cont_columns = cont_data.columns\n",
    "\n",
    "cat_columns = cat_data.columns"
   ]
  },
  {
   "cell_type": "code",
   "execution_count": null,
   "id": "e6a959c2",
   "metadata": {},
   "outputs": [],
   "source": [
    "cont_columns"
   ]
  },
  {
   "cell_type": "code",
   "execution_count": null,
   "id": "028149f3",
   "metadata": {},
   "outputs": [],
   "source": [
    "cat_columns"
   ]
  },
  {
   "cell_type": "code",
   "execution_count": null,
   "id": "62c3bdbf",
   "metadata": {},
   "outputs": [],
   "source": [
    "from scipy import stats\n",
    "\n",
    "for i in cat_columns:\n",
    "    print('For',i,', most frequent value is: ',stats.mode(df[i]),'\\n')"
   ]
  },
  {
   "cell_type": "code",
   "execution_count": null,
   "id": "bcf5bdf6",
   "metadata": {
    "scrolled": true
   },
   "outputs": [],
   "source": [
    "for i in cat_columns:\n",
    "    print('For column',i,'unique values are: ',df[i].unique())\n",
    "    print('For column',i,'count of unique values are: ',df[i].nunique(),'\\n\\n')\n",
    "    "
   ]
  },
  {
   "cell_type": "code",
   "execution_count": null,
   "id": "6cefefaa",
   "metadata": {
    "scrolled": true
   },
   "outputs": [],
   "source": [
    "for i in cat_columns:\n",
    "    print('For column --',i,'-- value counts are: \\n',df[i].value_counts(),'\\n\\n')"
   ]
  },
  {
   "cell_type": "code",
   "execution_count": null,
   "id": "8c3f549c",
   "metadata": {},
   "outputs": [],
   "source": [
    "cat_columns"
   ]
  },
  {
   "cell_type": "code",
   "execution_count": null,
   "id": "dc0d1ce5",
   "metadata": {},
   "outputs": [],
   "source": [
    "# Univariate Analysis"
   ]
  },
  {
   "cell_type": "code",
   "execution_count": null,
   "id": "abd70e90",
   "metadata": {},
   "outputs": [],
   "source": [
    "# Countplot"
   ]
  },
  {
   "cell_type": "code",
   "execution_count": null,
   "id": "6af2dc7a",
   "metadata": {},
   "outputs": [],
   "source": [
    "for i in ['policy_state', 'policy_csl', 'insured_sex',\n",
    "       'insured_education_level', 'insured_occupation', 'insured_hobbies',\n",
    "       'insured_relationship', 'incident_date', 'incident_type',\n",
    "       'collision_type', 'incident_severity', 'authorities_contacted',\n",
    "       'incident_state', 'incident_city','property_damage', 'police_report_available', 'auto_make', 'auto_model',\n",
    "       'fraud_reported']:\n",
    "    f= plt.figure(figsize=(12,5))\n",
    "    ax = sns.countplot(x=df[i],data=df)\n",
    "    plt.xticks(rotation=90)"
   ]
  },
  {
   "cell_type": "code",
   "execution_count": null,
   "id": "1426f81c",
   "metadata": {},
   "outputs": [],
   "source": [
    "# Scatterplot\n",
    "\n",
    "for i in cont_columns:\n",
    "    plt.figure(figsize=(12,8))\n",
    "    sns.scatterplot(x = df.index, y = i, data = df)\n",
    "    plt.xticks(rotation=90)\n",
    "    plt.show()"
   ]
  },
  {
   "cell_type": "code",
   "execution_count": null,
   "id": "579d95b4",
   "metadata": {},
   "outputs": [],
   "source": [
    "# Lineplot\n",
    "\n",
    "for i in cont_columns:\n",
    "    plt.figure(figsize=(12,8))\n",
    "    sns.lineplot(x = df.index, y = i, data = df)\n",
    "    plt.xticks(rotation=90)\n",
    "    plt.show()"
   ]
  },
  {
   "cell_type": "code",
   "execution_count": null,
   "id": "f7e17729",
   "metadata": {},
   "outputs": [],
   "source": [
    "# Stripplot\n",
    "\n",
    "for i in cont_columns:\n",
    "    plt.figure(figsize=(12,8))\n",
    "    sns.stripplot(x = i, data = df)\n",
    "    plt.xticks(rotation=90)\n",
    "    plt.show()"
   ]
  },
  {
   "cell_type": "code",
   "execution_count": null,
   "id": "958b8397",
   "metadata": {},
   "outputs": [],
   "source": [
    "# SwarmPlot\n",
    "\n",
    "for i in cont_columns:\n",
    "    plt.figure(figsize=(12,8))\n",
    "    sns.swarmplot(x = i, data = df)\n",
    "    plt.xticks(rotation=90)\n",
    "    plt.show()"
   ]
  },
  {
   "cell_type": "code",
   "execution_count": null,
   "id": "0d8453b0",
   "metadata": {},
   "outputs": [],
   "source": [
    "# Univariate Summary plots"
   ]
  },
  {
   "cell_type": "code",
   "execution_count": null,
   "id": "29102543",
   "metadata": {
    "scrolled": true
   },
   "outputs": [],
   "source": [
    "# Histogram plot:\n",
    "\n",
    "for i in cont_columns:\n",
    "    plt.figure(figsize=(10,6),facecolor='orange')\n",
    "    plt.hist(df[i],bins=10)\n",
    "    plt.xlabel(i)\n",
    "    plt.show()"
   ]
  },
  {
   "cell_type": "code",
   "execution_count": null,
   "id": "89ce47ea",
   "metadata": {},
   "outputs": [],
   "source": [
    "# Densityplot\n",
    "\n",
    "for i in cont_columns:\n",
    "    plt.figure(figsize=(10,6),facecolor='orange')\n",
    "    sns.kdeplot(df[i], shade=True)\n",
    "    plt.xlabel(i)\n",
    "    plt.show()"
   ]
  },
  {
   "cell_type": "code",
   "execution_count": null,
   "id": "0ee0b9fe",
   "metadata": {
    "scrolled": true
   },
   "outputs": [],
   "source": [
    "# Boxplots\n",
    "\n",
    "for i in cont_columns:\n",
    "    plt.figure(figsize=(10,6),facecolor='orange')\n",
    "    sns.boxplot(df[i])\n",
    "    plt.xlabel(i)\n",
    "    plt.show()"
   ]
  },
  {
   "cell_type": "code",
   "execution_count": null,
   "id": "3776f8bb",
   "metadata": {
    "scrolled": true
   },
   "outputs": [],
   "source": [
    "# Distplot\n",
    "\n",
    "for i in cont_columns:\n",
    "    plt.figure(figsize=(10,6),facecolor='orange')\n",
    "    sns.distplot(df[i])\n",
    "    plt.xlabel(i)\n",
    "    plt.show()"
   ]
  },
  {
   "cell_type": "code",
   "execution_count": null,
   "id": "7481f056",
   "metadata": {
    "scrolled": true
   },
   "outputs": [],
   "source": [
    "# Violinplot\n",
    "\n",
    "for i in cont_columns:\n",
    "    plt.figure(figsize=(10,6),facecolor='skyblue')\n",
    "    sns.violinplot(df[i],showmedians=True)\n",
    "    plt.xlabel(i)\n",
    "    plt.show()"
   ]
  },
  {
   "cell_type": "code",
   "execution_count": null,
   "id": "49834d4b",
   "metadata": {},
   "outputs": [],
   "source": [
    "# Bivariate analysis"
   ]
  },
  {
   "cell_type": "code",
   "execution_count": null,
   "id": "cf3cf4eb",
   "metadata": {},
   "outputs": [],
   "source": [
    "for i in cat_columns:\n",
    "    plt.figure(figsize=(12,50))\n",
    "    sns.catplot(x=i, kind=\"count\",hue = 'fraud_reported', data=df)\n",
    "    plt.xticks(rotation=90)\n",
    "    plt.show()"
   ]
  },
  {
   "cell_type": "code",
   "execution_count": null,
   "id": "585a5c3d",
   "metadata": {},
   "outputs": [],
   "source": [
    "# Scatterplot\n",
    "\n",
    "for i in ['months_as_customer', 'age', 'policy_number', 'policy_bind_date',\n",
    "       'policy_state', 'policy_csl', 'policy_deductable',\n",
    "       'policy_annual_premium', 'umbrella_limit', 'insured_zip', 'insured_sex',\n",
    "       'insured_education_level', 'insured_occupation', 'insured_hobbies',\n",
    "       'insured_relationship', 'capital-gains', 'capital-loss',\n",
    "       'incident_date', 'incident_type', 'collision_type', 'incident_severity']:\n",
    "    for j in ['authorities_contacted', 'incident_state', 'incident_city',\n",
    "       'incident_location', 'incident_hour_of_the_day',\n",
    "       'number_of_vehicles_involved', 'property_damage', 'bodily_injuries',\n",
    "       'witnesses', 'police_report_available', 'total_claim_amount',\n",
    "       'injury_claim', 'property_claim', 'vehicle_claim', 'auto_make',\n",
    "       'auto_model', 'auto_year', 'fraud_reported']:\n",
    "            plt.figure(figsize=(12,8))\n",
    "            sns.scatterplot(x = i,y=j, data = df,hue='fraud_reported')\n",
    "            plt.xticks(rotation=90)\n",
    "            plt.show()"
   ]
  },
  {
   "cell_type": "code",
   "execution_count": null,
   "id": "5bd4f277",
   "metadata": {},
   "outputs": [],
   "source": [
    "# Lineplot\n",
    "\n",
    "for i in ['months_as_customer', 'age', 'policy_number', 'policy_bind_date',\n",
    "       'policy_state', 'policy_csl', 'policy_deductable',\n",
    "       'policy_annual_premium', 'umbrella_limit', 'insured_zip', 'insured_sex',\n",
    "       'insured_education_level', 'insured_occupation', 'insured_hobbies',\n",
    "       'insured_relationship', 'capital-gains', 'capital-loss',\n",
    "       'incident_date', 'incident_type', 'collision_type', 'incident_severity']:\n",
    "    for j in ['authorities_contacted', 'incident_state', 'incident_city',\n",
    "       'incident_location', 'incident_hour_of_the_day',\n",
    "       'number_of_vehicles_involved', 'property_damage', 'bodily_injuries',\n",
    "       'witnesses', 'police_report_available', 'total_claim_amount',\n",
    "       'injury_claim', 'property_claim', 'vehicle_claim', 'auto_make',\n",
    "       'auto_model', 'auto_year', 'fraud_reported']:    \n",
    "        plt.figure(figsize=(12,8))\n",
    "        sns.lineplot(x = df.index, y = i, data = df,hue='fraud_reported')\n",
    "        plt.xticks(rotation=90)\n",
    "        plt.show()"
   ]
  },
  {
   "cell_type": "code",
   "execution_count": null,
   "id": "308a00d1",
   "metadata": {},
   "outputs": [],
   "source": [
    "for i in cont_columns:\n",
    "    plt.figure(figsize=(15,10))\n",
    "    sns.boxplot(x ='auto_model', y = i, data = df, hue ='fraud_reported')"
   ]
  },
  {
   "cell_type": "code",
   "execution_count": null,
   "id": "3a7944d2",
   "metadata": {},
   "outputs": [],
   "source": [
    "for i in cont_columns:\n",
    "    plt.figure(figsize=(15,10))\n",
    "    sns.boxplot(x ='auto_make', y = i, data = df, hue ='fraud_reported')"
   ]
  },
  {
   "cell_type": "code",
   "execution_count": null,
   "id": "255fec6f",
   "metadata": {},
   "outputs": [],
   "source": [
    "for i in cont_columns:\n",
    "    plt.figure(figsize=(15,10))\n",
    "    sns.boxplot(x ='police_report_available', y = i, data = df, hue ='fraud_reported')"
   ]
  },
  {
   "cell_type": "code",
   "execution_count": null,
   "id": "010767fc",
   "metadata": {},
   "outputs": [],
   "source": [
    "for i in cont_columns:\n",
    "    plt.figure(figsize=(15,10))\n",
    "    sns.boxplot(x ='property_damage', y = i, data = df, hue ='fraud_reported')"
   ]
  },
  {
   "cell_type": "code",
   "execution_count": null,
   "id": "8bbd1eb8",
   "metadata": {},
   "outputs": [],
   "source": [
    "for i in cont_columns:\n",
    "    plt.figure(figsize=(15,10))\n",
    "    sns.boxplot(x ='incident_location', y = i, data = df, hue ='fraud_reported')"
   ]
  },
  {
   "cell_type": "code",
   "execution_count": null,
   "id": "72b2a628",
   "metadata": {},
   "outputs": [],
   "source": [
    "for i in cont_columns:\n",
    "    plt.figure(figsize=(15,10))\n",
    "    sns.boxplot(x ='incident_city', y = i, data = df, hue ='fraud_reported')"
   ]
  },
  {
   "cell_type": "code",
   "execution_count": null,
   "id": "853af0b4",
   "metadata": {},
   "outputs": [],
   "source": [
    "for i in cont_columns:\n",
    "    plt.figure(figsize=(15,10))\n",
    "    sns.boxplot(x ='incident_state', y = i, data = df, hue ='fraud_reported')"
   ]
  },
  {
   "cell_type": "code",
   "execution_count": null,
   "id": "93e60e61",
   "metadata": {},
   "outputs": [],
   "source": [
    "for i in cont_columns:\n",
    "    plt.figure(figsize=(15,10))\n",
    "    sns.boxplot(x ='authorities_contacted', y = i, data = df, hue ='fraud_reported')"
   ]
  },
  {
   "cell_type": "code",
   "execution_count": null,
   "id": "41792acf",
   "metadata": {},
   "outputs": [],
   "source": [
    "for i in cont_columns:\n",
    "    plt.figure(figsize=(15,10))\n",
    "    sns.boxplot(x ='incident_severity', y = i, data = df, hue ='fraud_reported')"
   ]
  },
  {
   "cell_type": "code",
   "execution_count": null,
   "id": "f38e9309",
   "metadata": {},
   "outputs": [],
   "source": [
    "for i in cont_columns:\n",
    "    plt.figure(figsize=(15,10))\n",
    "    sns.boxplot(x ='collision_type', y = i, data = df, hue ='fraud_reported')"
   ]
  },
  {
   "cell_type": "code",
   "execution_count": null,
   "id": "ed82187d",
   "metadata": {},
   "outputs": [],
   "source": [
    "for i in cont_columns:\n",
    "    plt.figure(figsize=(15,10))\n",
    "    sns.boxplot(x ='incident_type', y = i, data = df, hue ='fraud_reported')"
   ]
  },
  {
   "cell_type": "code",
   "execution_count": null,
   "id": "60945105",
   "metadata": {},
   "outputs": [],
   "source": [
    "for i in cont_columns:\n",
    "    plt.figure(figsize=(15,10))\n",
    "    sns.boxplot(x ='incident_date', y = i, data = df, hue ='fraud_reported')"
   ]
  },
  {
   "cell_type": "code",
   "execution_count": null,
   "id": "fb8a44c6",
   "metadata": {},
   "outputs": [],
   "source": [
    "for i in cont_columns:\n",
    "    plt.figure(figsize=(15,10))\n",
    "    sns.boxplot(x ='insured_relationship', y = i, data = df, hue ='fraud_reported')"
   ]
  },
  {
   "cell_type": "code",
   "execution_count": null,
   "id": "0fe42ce2",
   "metadata": {},
   "outputs": [],
   "source": [
    "for i in cont_columns:\n",
    "    plt.figure(figsize=(15,10))\n",
    "    sns.boxplot(x ='insured_hobbies', y = i, data = df, hue ='fraud_reported')"
   ]
  },
  {
   "cell_type": "code",
   "execution_count": null,
   "id": "0a2d3566",
   "metadata": {},
   "outputs": [],
   "source": [
    "for i in cont_columns:\n",
    "    plt.figure(figsize=(15,10))\n",
    "    sns.boxplot(x ='insured_occupation', y = i, data = df, hue ='fraud_reported')"
   ]
  },
  {
   "cell_type": "code",
   "execution_count": null,
   "id": "95503d6c",
   "metadata": {},
   "outputs": [],
   "source": [
    "for i in cont_columns:\n",
    "    plt.figure(figsize=(15,10))\n",
    "    sns.boxplot(x ='insured_education_level', y = i, data = df, hue ='fraud_reported')"
   ]
  },
  {
   "cell_type": "code",
   "execution_count": null,
   "id": "b933ed79",
   "metadata": {},
   "outputs": [],
   "source": [
    "for i in cont_columns:\n",
    "    plt.figure(figsize=(15,10))\n",
    "    sns.boxplot(x ='insured_sex', y = i, data = df, hue ='fraud_reported')"
   ]
  },
  {
   "cell_type": "code",
   "execution_count": null,
   "id": "87c50631",
   "metadata": {},
   "outputs": [],
   "source": [
    "for i in cont_columns:\n",
    "    plt.figure(figsize=(15,10))\n",
    "    sns.boxplot(x ='policy_csl', y = i, data = df, hue ='fraud_reported')"
   ]
  },
  {
   "cell_type": "code",
   "execution_count": null,
   "id": "855dd831",
   "metadata": {},
   "outputs": [],
   "source": [
    "for i in cont_columns:\n",
    "    plt.figure(figsize=(15,10))\n",
    "    sns.boxplot(x ='policy_state', y = i, data = df, hue ='fraud_reported')"
   ]
  },
  {
   "cell_type": "code",
   "execution_count": null,
   "id": "3b1deec8",
   "metadata": {},
   "outputs": [],
   "source": [
    "cat_columns"
   ]
  },
  {
   "cell_type": "code",
   "execution_count": null,
   "id": "45093087",
   "metadata": {},
   "outputs": [],
   "source": [
    "cont_columns"
   ]
  },
  {
   "cell_type": "code",
   "execution_count": null,
   "id": "87e5c357",
   "metadata": {},
   "outputs": [],
   "source": [
    "# Swarmplot"
   ]
  },
  {
   "cell_type": "code",
   "execution_count": null,
   "id": "4e451990",
   "metadata": {},
   "outputs": [],
   "source": [
    "sns.swarmplot(x = 'age', y = \"fraud_reported\", palette = \"Set2\", data = df)"
   ]
  },
  {
   "cell_type": "code",
   "execution_count": null,
   "id": "bfe59348",
   "metadata": {},
   "outputs": [],
   "source": [
    "sns.swarmplot(x = 'policy_number', y = \"fraud_reported\", palette = \"Set2\", data = df)"
   ]
  },
  {
   "cell_type": "code",
   "execution_count": null,
   "id": "e2d8b258",
   "metadata": {},
   "outputs": [],
   "source": [
    "sns.swarmplot(x = 'policy_deductable', y = \"fraud_reported\", palette = \"Set2\", data = df)"
   ]
  },
  {
   "cell_type": "code",
   "execution_count": null,
   "id": "dff3ac1e",
   "metadata": {},
   "outputs": [],
   "source": [
    "sns.swarmplot(x = 'policy_annual_premium', y = \"fraud_reported\", palette = \"Set2\", data = df)"
   ]
  },
  {
   "cell_type": "code",
   "execution_count": null,
   "id": "eda1dc58",
   "metadata": {},
   "outputs": [],
   "source": [
    "sns.swarmplot(x = 'umbrella_limit', y = \"fraud_reported\", palette = \"Set2\", data = df)"
   ]
  },
  {
   "cell_type": "code",
   "execution_count": null,
   "id": "dee094db",
   "metadata": {},
   "outputs": [],
   "source": [
    "sns.swarmplot(x = 'insured_zip', y = \"fraud_reported\", palette = \"Set2\", data = df)"
   ]
  },
  {
   "cell_type": "code",
   "execution_count": null,
   "id": "2f76186c",
   "metadata": {},
   "outputs": [],
   "source": [
    "sns.swarmplot(x = 'capital-gains', y = \"fraud_reported\", palette = \"Set2\", data = df)"
   ]
  },
  {
   "cell_type": "code",
   "execution_count": null,
   "id": "a50cfbe6",
   "metadata": {},
   "outputs": [],
   "source": [
    "sns.swarmplot(x = 'capital-loss', y = \"fraud_reported\", palette = \"Set2\", data = df)"
   ]
  },
  {
   "cell_type": "code",
   "execution_count": null,
   "id": "2a958042",
   "metadata": {},
   "outputs": [],
   "source": [
    "sns.swarmplot(x = 'incident_hour_of_the_day', y = \"fraud_reported\", palette = \"Set2\", data = df)"
   ]
  },
  {
   "cell_type": "code",
   "execution_count": null,
   "id": "1187a39e",
   "metadata": {},
   "outputs": [],
   "source": [
    "sns.swarmplot(x = 'number_of_vehicles_involved', y = \"fraud_reported\", palette = \"Set2\", data = df)"
   ]
  },
  {
   "cell_type": "code",
   "execution_count": null,
   "id": "4b6ead14",
   "metadata": {},
   "outputs": [],
   "source": [
    "sns.swarmplot(x = 'bodily_injuries', y = \"fraud_reported\", palette = \"Set2\", data = df)"
   ]
  },
  {
   "cell_type": "code",
   "execution_count": null,
   "id": "0397d94f",
   "metadata": {},
   "outputs": [],
   "source": [
    "sns.swarmplot(x = 'total_claim_amount', y = \"fraud_reported\", palette = \"Set2\", data = df)"
   ]
  },
  {
   "cell_type": "code",
   "execution_count": null,
   "id": "cd34b652",
   "metadata": {},
   "outputs": [],
   "source": [
    "sns.swarmplot(x = 'injury_claim', y = \"fraud_reported\", palette = \"Set2\", data = df)"
   ]
  },
  {
   "cell_type": "code",
   "execution_count": null,
   "id": "022d196b",
   "metadata": {},
   "outputs": [],
   "source": [
    "sns.swarmplot(x = 'property_claim', y = \"fraud_reported\", palette = \"Set2\", data = df)"
   ]
  },
  {
   "cell_type": "code",
   "execution_count": null,
   "id": "95f58346",
   "metadata": {},
   "outputs": [],
   "source": [
    "sns.swarmplot(x = 'vehicle_claim', y = \"fraud_reported\", palette = \"Set2\", data = df)"
   ]
  },
  {
   "cell_type": "code",
   "execution_count": null,
   "id": "73532e8d",
   "metadata": {},
   "outputs": [],
   "source": [
    "sns.swarmplot(x = 'auto_year', y = \"fraud_reported\", palette = \"Set2\", data = df)"
   ]
  },
  {
   "cell_type": "code",
   "execution_count": null,
   "id": "3390929d",
   "metadata": {},
   "outputs": [],
   "source": [
    "sns.swarmplot(x = 'months_as_customer', y = \"fraud_reported\", palette = \"Set2\", data = df)"
   ]
  },
  {
   "cell_type": "code",
   "execution_count": null,
   "id": "70ad59b5",
   "metadata": {},
   "outputs": [],
   "source": [
    "cat_columns"
   ]
  },
  {
   "cell_type": "code",
   "execution_count": null,
   "id": "f53b3a65",
   "metadata": {},
   "outputs": [],
   "source": [
    "cont_columns"
   ]
  },
  {
   "cell_type": "code",
   "execution_count": null,
   "id": "4a97f4a5",
   "metadata": {},
   "outputs": [],
   "source": [
    "# Scatter plot btw columns and fraud: \n",
    "\n",
    "for i in ['months_as_customer', 'age', 'policy_number', 'policy_deductable',\n",
    "       'policy_annual_premium', 'umbrella_limit', 'insured_zip',\n",
    "       'capital-gains', 'capital-loss', 'incident_hour_of_the_day']:\n",
    "    for j in ['number_of_vehicles_involved', 'bodily_injuries', 'witnesses',\n",
    "       'total_claim_amount', 'injury_claim', 'property_claim', 'vehicle_claim',\n",
    "       'auto_year']:\n",
    "        f= plt.figure(figsize=(12,5))\n",
    "        ax =sns.lmplot(x = i, y = j,hue='fraud_reported', data=df, palette='Set2', height=8, aspect=1.2)\n",
    "        plt.show()"
   ]
  },
  {
   "cell_type": "code",
   "execution_count": null,
   "id": "1fcfba55",
   "metadata": {},
   "outputs": [],
   "source": [
    "# Import label encoder\n",
    "from sklearn import preprocessing\n",
    "  \n",
    "# label_encoder object knows how to understand word labels.\n",
    "label_encoder = preprocessing.LabelEncoder()\n",
    "  \n",
    "# Encode labels in column 'species'.\n",
    "df['fraud_reported']= label_encoder.fit_transform(df['fraud_reported'])\n",
    "  \n",
    "df['fraud_reported'].unique()"
   ]
  },
  {
   "cell_type": "code",
   "execution_count": null,
   "id": "2b350c9c",
   "metadata": {},
   "outputs": [],
   "source": [
    "df1 = df.copy()"
   ]
  },
  {
   "cell_type": "code",
   "execution_count": null,
   "id": "d0a6a83d",
   "metadata": {},
   "outputs": [],
   "source": [
    "# Using Z Statistics to check and remove any more outliers:\n",
    "\n",
    "from scipy.stats import zscore\n",
    "\n",
    "z_score = zscore(df[cont_columns])\n",
    "\n",
    "abs_z_score = np.abs(z_score)\n",
    "\n",
    "filtering_entry = (abs_z_score < 2.9).all(axis=1) # values lying in 3 times std will be removed\n",
    "\n",
    "df = df[filtering_entry]\n",
    "\n",
    "df.describe()"
   ]
  },
  {
   "cell_type": "code",
   "execution_count": null,
   "id": "a2154310",
   "metadata": {},
   "outputs": [],
   "source": [
    "# Checking the distribution of continuous variables:\n",
    "\n",
    "for i in cont_columns:\n",
    "    plt.figure(figsize=(12,7),facecolor='orange')\n",
    "    sns.distplot(df[i])\n",
    "    plt.show()"
   ]
  },
  {
   "cell_type": "code",
   "execution_count": null,
   "id": "c3b3a457",
   "metadata": {},
   "outputs": [],
   "source": [
    "df1.skew().sort_values()"
   ]
  },
  {
   "cell_type": "code",
   "execution_count": null,
   "id": "360b7565",
   "metadata": {},
   "outputs": [],
   "source": [
    "sns.pairplot(df,hue='fraud_reported')"
   ]
  },
  {
   "cell_type": "code",
   "execution_count": null,
   "id": "be7c0b6a",
   "metadata": {},
   "outputs": [],
   "source": [
    "df['fraud_reported'].unique()"
   ]
  },
  {
   "cell_type": "code",
   "execution_count": null,
   "id": "ad5d9d8b",
   "metadata": {},
   "outputs": [],
   "source": [
    "# Correlation between features and label:\n",
    "\n",
    "# Replacing attrition column values:\n",
    "\n",
    "df1.drop(columns = 'fraud_reported',axis = 1).corrwith(df.fraud_reported).plot(kind='bar',grid=True,figsize=(10,7),title='corelation between features and labels')\n",
    "plt.show()"
   ]
  },
  {
   "cell_type": "code",
   "execution_count": null,
   "id": "cb753d73",
   "metadata": {},
   "outputs": [],
   "source": [
    "df_corr = df.corr().abs()\n",
    "plt.figure(figsize=(25,22))\n",
    "sns.heatmap(df_corr,annot=True,annot_kws={'size':10})\n",
    "plt.show()"
   ]
  },
  {
   "cell_type": "code",
   "execution_count": null,
   "id": "b116a0f2",
   "metadata": {},
   "outputs": [],
   "source": [
    "from statsmodels.stats.outliers_influence import variance_inflation_factor\n",
    "\n",
    "\n",
    "vif = pd.DataFrame()\n",
    "vif['vif'] = [variance_inflation_factor(df1[cont_columns],i) for i in range(df1[cont_columns].shape[1])]\n",
    "vif['features'] = df1[cont_columns].columns\n",
    "vif.sort_values(by='vif',ascending=False)"
   ]
  },
  {
   "cell_type": "code",
   "execution_count": null,
   "id": "180d0fec",
   "metadata": {},
   "outputs": [],
   "source": []
  },
  {
   "cell_type": "code",
   "execution_count": null,
   "id": "568df75b",
   "metadata": {},
   "outputs": [],
   "source": [
    "# Splitting data into features and label:\n",
    "\n",
    "y = df['fraud_reported']\n",
    "X = df.drop('fraud_reported',axis=1)"
   ]
  },
  {
   "cell_type": "code",
   "execution_count": null,
   "id": "95069d3a",
   "metadata": {},
   "outputs": [],
   "source": [
    "X_Dums = pd.get_dummies(X)"
   ]
  },
  {
   "cell_type": "code",
   "execution_count": null,
   "id": "af4f4f8f",
   "metadata": {},
   "outputs": [],
   "source": [
    "from sklearn.preprocessing import PowerTransformer\n",
    "\n",
    "pt = PowerTransformer()\n",
    "\n",
    "X_trans = pt.fit_transform(X_Dums)"
   ]
  },
  {
   "cell_type": "code",
   "execution_count": null,
   "id": "29a09b6f",
   "metadata": {},
   "outputs": [],
   "source": [
    "from sklearn.decomposition import PCA\n",
    "# Using PCA i.e. Principal Component Analysis that is a diamensionallity reduction technique:\n",
    "\n",
    "pcaf = PCA()\n",
    "pcaf.fit_transform(X_trans)\n"
   ]
  },
  {
   "cell_type": "code",
   "execution_count": null,
   "id": "fa6001f5",
   "metadata": {},
   "outputs": [],
   "source": [
    "# Using Scree Plot to identify best components:\n",
    "\n",
    "plt.figure()\n",
    "plt.plot(np.cumsum(pcaf.explained_variance_ratio_))\n",
    "plt.xlabel('Principal Components')\n",
    "plt.ylabel('Variance Covered')\n",
    "plt.title('PCA')\n",
    "plt.show()\n"
   ]
  },
  {
   "cell_type": "code",
   "execution_count": null,
   "id": "5f7e10d1",
   "metadata": {},
   "outputs": [],
   "source": [
    "from sklearn.decomposition import PCA\n",
    "\n",
    "pcaf = PCA(n_components=975)\n",
    "new_pcompf = pcaf.fit_transform(X_trans)\n",
    "princi_compf = pd.DataFrame(new_pcompf)\n",
    "princi_compf"
   ]
  },
  {
   "cell_type": "code",
   "execution_count": null,
   "id": "29767ed7",
   "metadata": {},
   "outputs": [],
   "source": [
    "# Another approach"
   ]
  },
  {
   "cell_type": "code",
   "execution_count": null,
   "id": "fe3e2e58",
   "metadata": {},
   "outputs": [],
   "source": [
    "Xcont_data = X.select_dtypes(include=['int64','float64'])\n",
    "\n",
    "Xcat_data= X.select_dtypes(include=['object'])\n",
    "\n",
    "Xcont_columns = Xcont_data.columns\n",
    "\n",
    "Xcat_columns = Xcat_data.columns"
   ]
  },
  {
   "cell_type": "code",
   "execution_count": null,
   "id": "8bde09eb",
   "metadata": {},
   "outputs": [],
   "source": [
    "Xcat_columns"
   ]
  },
  {
   "cell_type": "code",
   "execution_count": null,
   "id": "ff3c64c6",
   "metadata": {},
   "outputs": [],
   "source": [
    "Xcont_columns"
   ]
  },
  {
   "cell_type": "code",
   "execution_count": null,
   "id": "b1e65c95",
   "metadata": {},
   "outputs": [],
   "source": [
    "from sklearn.decomposition import PCA\n",
    "# Using PCA i.e. Principal Component Analysis that is a diamensionallity reduction technique:\n",
    "\n",
    "pca = PCA()\n",
    "pca.fit_transform(Xcont_data)\n"
   ]
  },
  {
   "cell_type": "code",
   "execution_count": null,
   "id": "4e871783",
   "metadata": {},
   "outputs": [],
   "source": [
    "# Using Scree Plot to identify best components:\n",
    "\n",
    "plt.figure()\n",
    "plt.plot(np.cumsum(pca.explained_variance_ratio_))\n",
    "plt.xlabel('Principal Components')\n",
    "plt.ylabel('Variance Covered')\n",
    "plt.title('PCA')\n",
    "plt.show()\n"
   ]
  },
  {
   "cell_type": "code",
   "execution_count": null,
   "id": "8677cb79",
   "metadata": {},
   "outputs": [],
   "source": [
    "pca = PCA(n_components=5)\n",
    "new_pcomp = pca.fit_transform(Xcont_data)\n",
    "princi_comp = pd.DataFrame(new_pcomp)\n",
    "princi_comp"
   ]
  },
  {
   "cell_type": "code",
   "execution_count": null,
   "id": "d535db06",
   "metadata": {},
   "outputs": [],
   "source": [
    "vif = pd.DataFrame()\n",
    "vif['vif'] = [variance_inflation_factor(princi_comp,i) for i in range(princi_comp.shape[1])]\n",
    "vif['features'] = princi_comp.columns\n",
    "vif.sort_values(by='vif',ascending=False)"
   ]
  },
  {
   "cell_type": "code",
   "execution_count": null,
   "id": "3e2508bf",
   "metadata": {},
   "outputs": [],
   "source": [
    "princi_comp"
   ]
  },
  {
   "cell_type": "code",
   "execution_count": null,
   "id": "2792caaa",
   "metadata": {},
   "outputs": [],
   "source": [
    "pca.explained_variance_ratio_"
   ]
  },
  {
   "cell_type": "code",
   "execution_count": null,
   "id": "397a3149",
   "metadata": {},
   "outputs": [],
   "source": [
    "Xcat_dums = pd.get_dummies(Xcat_data)"
   ]
  },
  {
   "cell_type": "code",
   "execution_count": null,
   "id": "8fffc2e6",
   "metadata": {},
   "outputs": [],
   "source": [
    "from sklearn.decomposition import PCA\n",
    "# Using PCA i.e. Principal Component Analysis that is a diamensionallity reduction technique:\n",
    "\n",
    "pca1 = PCA()\n",
    "pca1.fit_transform(Xcat_dums)\n"
   ]
  },
  {
   "cell_type": "code",
   "execution_count": null,
   "id": "800f3900",
   "metadata": {},
   "outputs": [],
   "source": [
    "# Using Scree Plot to identify best components:\n",
    "\n",
    "plt.figure()\n",
    "plt.plot(np.cumsum(pca1.explained_variance_ratio_))\n",
    "plt.xlabel('Principal Components')\n",
    "plt.ylabel('Variance Covered')\n",
    "plt.title('PCA')\n",
    "plt.show()\n"
   ]
  },
  {
   "cell_type": "code",
   "execution_count": null,
   "id": "99f46fc0",
   "metadata": {},
   "outputs": [],
   "source": [
    "Xcat_dums.shape"
   ]
  },
  {
   "cell_type": "code",
   "execution_count": null,
   "id": "99df5dc1",
   "metadata": {},
   "outputs": [],
   "source": [
    "pca1 = PCA(n_components=15)\n",
    "new_pcomp1 = pca1.fit_transform(Xcat_dums)\n",
    "princi_comp1 = pd.DataFrame(new_pcomp1)\n",
    "princi_comp1"
   ]
  },
  {
   "cell_type": "code",
   "execution_count": null,
   "id": "36e0666a",
   "metadata": {},
   "outputs": [],
   "source": [
    "pca1.explained_variance_ratio_"
   ]
  },
  {
   "cell_type": "code",
   "execution_count": null,
   "id": "7e78d2a2",
   "metadata": {},
   "outputs": [],
   "source": [
    "X_F = pd.concat([princi_comp,princi_comp1],axis=1)"
   ]
  },
  {
   "cell_type": "code",
   "execution_count": null,
   "id": "97aaa687",
   "metadata": {},
   "outputs": [],
   "source": [
    "from sklearn.preprocessing import PowerTransformer\n",
    "\n",
    "pt = PowerTransformer()\n",
    "\n",
    "X_trans_f = pt.fit_transform(X_F)"
   ]
  },
  {
   "cell_type": "code",
   "execution_count": null,
   "id": "7eb676f2",
   "metadata": {},
   "outputs": [],
   "source": [
    "# Splitting our data to training data and testing data\n",
    "# x_train,x_test,y_train,y_test\n",
    "\n",
    "X_train,X_test,y_train,y_test = train_test_split(X_F,y,test_size=0.20,random_state=1)\n",
    "\n",
    "# Here we are keeping training data as our scalled data and testing data as our label or target."
   ]
  },
  {
   "cell_type": "code",
   "execution_count": null,
   "id": "714f6bd9",
   "metadata": {},
   "outputs": [],
   "source": [
    "from imblearn.over_sampling import SMOTE\n",
    "\n",
    "print(\"Before OverSampling, counts of label '1': {}\".format(sum(y_train==1)))\n",
    "print(\"Before OverSampling, counts of label '0': {} \\n\".format(sum(y_train==0)))\n",
    "\n",
    "sm = SMOTE(random_state=2)\n",
    "X_train_res, y_train_res = sm.fit_resample(X_train, y_train.ravel())\n",
    "\n",
    "print('After OverSampling, the shape of train_X: {}'.format(X_train_res.shape))\n",
    "print('After OverSampling, the shape of train_y: {} \\n'.format(y_train_res.shape))\n",
    "\n",
    "print(\"After OverSampling, counts of label '1': {}\".format(sum(y_train_res==1)))\n",
    "print(\"After OverSampling, counts of label '0': {}\".format(sum(y_train_res==0)))"
   ]
  },
  {
   "cell_type": "code",
   "execution_count": null,
   "id": "f0d9720d",
   "metadata": {},
   "outputs": [],
   "source": [
    "arr = np.array(y_train_res)\n",
    "\n",
    "un, co = np.unique(arr,return_counts=True)\n",
    "\n",
    "dict(zip(un,co))"
   ]
  },
  {
   "cell_type": "code",
   "execution_count": null,
   "id": "4f63bde6",
   "metadata": {},
   "outputs": [],
   "source": [
    "# Using near miss undersampling technique:\n",
    "\n",
    "print(\"Before Undersampling, counts of label '1': {}\".format(sum(y_train == 1)))\n",
    "print(\"Before Undersampling, counts of label '0': {} \\n\".format(sum(y_train == 0)))\n",
    "  \n",
    "# apply near miss\n",
    "from imblearn.under_sampling import NearMiss\n",
    "nr = NearMiss()\n",
    "  \n",
    "X_train_miss, y_train_miss = nr.fit_resample(X_train, y_train.ravel())\n",
    "  \n",
    "print('After Undersampling, the shape of train_X: {}'.format(X_train_miss.shape))\n",
    "print('After Undersampling, the shape of train_y: {} \\n'.format(y_train_miss.shape))\n",
    "  \n",
    "print(\"After Undersampling, counts of label '1': {}\".format(sum(y_train_miss == 1)))\n",
    "print(\"After Undersampling, counts of label '0': {}\".format(sum(y_train_miss == 0)))"
   ]
  },
  {
   "cell_type": "code",
   "execution_count": null,
   "id": "ad1bb96a",
   "metadata": {
    "scrolled": true
   },
   "outputs": [],
   "source": [
    "# Finding best random state for logistic regression model:\n",
    "\n",
    "maxAccu = 0\n",
    "maxRS = 0\n",
    "\n",
    "for i in range(1,200):\n",
    "    log_reg = LogisticRegression()\n",
    "    log_reg.fit(X_train_res,y_train_res) \n",
    "    y_pred = log_reg.predict(X_test)\n",
    "    acc = accuracy_score(y_test,y_pred)\n",
    "    print('Testing accuracy: ', acc, 'at random state', i)\n",
    "    \n",
    "    if acc > maxAccu:\n",
    "        maxAccu = acc\n",
    "        maxRS = i\n",
    "        print('Max accuracy',maxAccu,'max random state',maxRS)"
   ]
  },
  {
   "cell_type": "code",
   "execution_count": null,
   "id": "3dbcc599",
   "metadata": {},
   "outputs": [],
   "source": [
    "# Logistic Regression: in case of oversampling\n",
    "\n",
    "log_reg = LogisticRegression(random_state=1)\n",
    "\n",
    "log_reg.fit(X_train_res,y_train_res) \n",
    "\n",
    "pred_train = log_reg.predict(X_train_res)\n",
    "\n",
    "y_pred = log_reg.predict(X_test)\n",
    "\n",
    "acc = accuracy_score(y_test,y_pred)\n",
    "\n",
    "print('Training accuracy: ', accuracy_score(y_train_res,pred_train)*100)\n",
    "print('Testing accuracy: ', acc*100)\n",
    "\n",
    "confusion_mat = confusion_matrix(y_test,y_pred)\n",
    "\n",
    "print('Confusion matrix: \\n',confusion_mat)\n",
    "\n",
    "clr = classification_report(y_test,y_pred)\n",
    "\n",
    "print('classification report: ' ,clr)"
   ]
  },
  {
   "cell_type": "code",
   "execution_count": null,
   "id": "d09e4ac6",
   "metadata": {},
   "outputs": [],
   "source": [
    "# Logistic Regression:\n",
    "\n",
    "log_reg_miss = LogisticRegression(random_state=1)\n",
    "\n",
    "log_reg_miss.fit(X_train_miss,y_train_miss) \n",
    "\n",
    "pred_train_miss = log_reg_miss.predict(X_train_miss)\n",
    "\n",
    "y_pred = log_reg_miss.predict(X_test)\n",
    "\n",
    "acc = accuracy_score(y_test,y_pred)\n",
    "\n",
    "print('Training accuracy: ', accuracy_score(y_train_miss,pred_train_miss)*100)\n",
    "print('Testing accuracy: ', acc*100)\n",
    "\n",
    "confusion_mat = confusion_matrix(y_test,y_pred)\n",
    "\n",
    "print('Confusion matrix: \\n',confusion_mat)\n",
    "\n",
    "clr = classification_report(y_test,y_pred)\n",
    "\n",
    "print('classification report: ' ,clr)"
   ]
  },
  {
   "cell_type": "code",
   "execution_count": null,
   "id": "36565e0c",
   "metadata": {},
   "outputs": [],
   "source": [
    "param_grid = [    \n",
    "    {'penalty' : ['l1', 'l2'],\n",
    "    'C' : np.logspace(-4, 4, 20),\n",
    "    'max_iter' : [100, 1000,2500, 5000]\n",
    "    }\n",
    "]\n",
    "\n",
    "from sklearn.model_selection import GridSearchCV\n",
    "\n",
    "clf = GridSearchCV(log_reg, param_grid = param_grid, cv = 3, verbose=True, n_jobs=-1)\n",
    "\n",
    "best_clf = clf.fit(X_train_res,y_train_res)"
   ]
  },
  {
   "cell_type": "code",
   "execution_count": null,
   "id": "2111cb77",
   "metadata": {},
   "outputs": [],
   "source": [
    "best_clf.best_estimator_"
   ]
  },
  {
   "cell_type": "code",
   "execution_count": null,
   "id": "c7d1dc14",
   "metadata": {},
   "outputs": [],
   "source": [
    "# Logistic Regression:\n",
    "\n",
    "log_reg_best = LogisticRegression(C=1438.44988828766, random_state=1)\n",
    "log_reg_best.fit(X_train_res,y_train_res) \n",
    "pred_train = log_reg_best.predict(X_train_res)\n",
    "y_pred = log_reg_best.predict(X_test)\n",
    "acc = accuracy_score(y_test,y_pred)\n",
    "print('Training accuracy: ', accuracy_score(y_train_res,pred_train)*100)\n",
    "print('Testing accuracy: ', acc*100)\n",
    "confusion_mat = confusion_matrix(y_test,y_pred)\n",
    "print('Confusion matrix: \\n',confusion_mat)\n",
    "clr = classification_report(y_test,y_pred)\n",
    "print('classification report: ' ,clr)"
   ]
  },
  {
   "cell_type": "code",
   "execution_count": null,
   "id": "cd4e0cda",
   "metadata": {},
   "outputs": [],
   "source": [
    "print (f'Accuracy - : {log_reg_best.score(X_train_res,y_train_res):.3f}')"
   ]
  },
  {
   "cell_type": "code",
   "execution_count": null,
   "id": "9af3a119",
   "metadata": {},
   "outputs": [],
   "source": [
    "param_grid = [    \n",
    "    {'penalty' : ['l1', 'l2'],\n",
    "    'C' : np.logspace(-4, 4, 20),\n",
    "    'max_iter' : [100, 1000,2500, 5000]\n",
    "    }\n",
    "]\n",
    "\n",
    "from sklearn.model_selection import GridSearchCV\n",
    "\n",
    "clf = GridSearchCV(log_reg_miss, param_grid = param_grid, cv = 3, verbose=True, n_jobs=-1)\n",
    "\n",
    "best_clf1 = clf.fit(X_train_res,y_train_res)"
   ]
  },
  {
   "cell_type": "code",
   "execution_count": null,
   "id": "e945b208",
   "metadata": {},
   "outputs": [],
   "source": [
    "best_clf1.best_estimator_"
   ]
  },
  {
   "cell_type": "code",
   "execution_count": null,
   "id": "6454e033",
   "metadata": {},
   "outputs": [],
   "source": [
    "# Logistic Regression:\n",
    "\n",
    "log_reg_miss = LogisticRegression(C=0.0001, random_state=1)\n",
    "\n",
    "log_reg_miss.fit(X_train_miss,y_train_miss) \n",
    "\n",
    "pred_train_miss = log_reg_miss.predict(X_train_miss)\n",
    "\n",
    "y_pred = log_reg_miss.predict(X_test)\n",
    "\n",
    "acc = accuracy_score(y_test,y_pred)\n",
    "\n",
    "print('Training accuracy: ', accuracy_score(y_train_miss,pred_train_miss)*100)\n",
    "print('Testing accuracy: ', acc*100)\n",
    "\n",
    "confusion_mat = confusion_matrix(y_test,y_pred)\n",
    "\n",
    "print('Confusion matrix: \\n',confusion_mat)\n",
    "\n",
    "clr = classification_report(y_test,y_pred)\n",
    "\n",
    "print('classification report: ' ,clr)"
   ]
  },
  {
   "cell_type": "code",
   "execution_count": null,
   "id": "e6c1c504",
   "metadata": {},
   "outputs": [],
   "source": [
    "# Decision Tree Classifier:\n",
    "\n",
    "dtc = DecisionTreeClassifier(random_state=1)\n",
    "dtc.fit(X_train_res,y_train_res) \n",
    "pred_train_dtc = dtc.predict(X_train_res)\n",
    "y_pred = dtc.predict(X_test)\n",
    "acc = accuracy_score(y_test,y_pred)\n",
    "print('Training accuracy: ', accuracy_score(y_train_res,pred_train_dtc)*100)\n",
    "print('Testing accuracy: ', acc*100)\n",
    "confusion_mat = confusion_matrix(y_test,y_pred)\n",
    "print('Confusion matrix: \\n',confusion_mat)\n",
    "clr = classification_report(y_test,y_pred)\n",
    "print('classification report: ' ,clr)"
   ]
  },
  {
   "cell_type": "code",
   "execution_count": null,
   "id": "473f16a0",
   "metadata": {},
   "outputs": [],
   "source": [
    "# Decision Tree Classifier:\n",
    "\n",
    "dtc_miss = DecisionTreeClassifier(random_state=1)\n",
    "dtc_miss.fit(X_train_miss,y_train_miss) \n",
    "pred_train_dtc_miss = dtc_miss.predict(X_train_miss)\n",
    "y_pred_miss = dtc_miss.predict(X_test)\n",
    "acc = accuracy_score(y_test,y_pred_miss)\n",
    "print('Training accuracy: ', accuracy_score(y_train_miss,pred_train_dtc_miss)*100)\n",
    "print('Testing accuracy: ', acc*100)\n",
    "confusion_mat = confusion_matrix(y_test,y_pred_miss)\n",
    "print('Confusion matrix: \\n',confusion_mat)\n",
    "clr = classification_report(y_test,y_pred_miss)\n",
    "print('classification report: ' ,clr)"
   ]
  },
  {
   "cell_type": "code",
   "execution_count": null,
   "id": "dd96dd1d",
   "metadata": {},
   "outputs": [],
   "source": [
    "params1 = {'max_depth': [2, 3, 5, 10, 20],\n",
    "    'min_samples_leaf': [5, 10, 20, 50, 100],\n",
    "    'criterion': [\"gini\", \"entropy\"]\n",
    "}\n",
    "\n",
    "grid_search1miss = GridSearchCV(estimator=dtc_miss,param_grid=params1,cv=4, n_jobs=-1, verbose=1, scoring = \"f1\")\n",
    "\n",
    "grid_search2miss = GridSearchCV(estimator=dtc_miss, \n",
    "                           param_grid=params1, \n",
    "                           cv=4, n_jobs=-1, verbose=1, scoring = \"accuracy\")\n",
    "\n",
    "grid_search1miss.fit(X_train_miss,y_train_miss)\n",
    "\n",
    "grid_search2miss.fit(X_train_miss,y_train_miss)"
   ]
  },
  {
   "cell_type": "code",
   "execution_count": null,
   "id": "c768f500",
   "metadata": {},
   "outputs": [],
   "source": [
    "pred_train_dtcmiss1 = grid_search1miss.predict(X_train_miss)\n",
    "y_predmiss1 = grid_search1miss.predict(X_test)\n",
    "acc = accuracy_score(y_test,y_predmiss1)\n",
    "print('Training accuracy: ', accuracy_score(y_train_miss,pred_train_dtcmiss1)*100)\n",
    "print('Testing accuracy: ', acc*100)\n",
    "confusion_mat = confusion_matrix(y_test,y_predmiss1)\n",
    "print('Confusion matrix: \\n',confusion_mat)\n",
    "clr = classification_report(y_test,y_predmiss1)\n",
    "print('classification report: ' ,clr)"
   ]
  },
  {
   "cell_type": "code",
   "execution_count": null,
   "id": "5772600f",
   "metadata": {},
   "outputs": [],
   "source": [
    "pred_train_dtcmiss1 = grid_search2miss.predict(X_train_miss)\n",
    "y_predmiss1 = grid_search2miss.predict(X_test)\n",
    "acc = accuracy_score(y_test,y_predmiss1)\n",
    "print('Training accuracy: ', accuracy_score(y_train_miss,pred_train_dtcmiss1)*100)\n",
    "print('Testing accuracy: ', acc*100)\n",
    "confusion_mat = confusion_matrix(y_test,y_predmiss1)\n",
    "print('Confusion matrix: \\n',confusion_mat)\n",
    "clr = classification_report(y_test,y_predmiss1)\n",
    "print('classification report: ' ,clr)"
   ]
  },
  {
   "cell_type": "code",
   "execution_count": null,
   "id": "db5a02d8",
   "metadata": {},
   "outputs": [],
   "source": [
    "pred_train_dtc = grid_search1.predict(X_train_res)\n",
    "y_pred = grid_search1.predict(X_test)\n",
    "acc = accuracy_score(y_test,y_pred)\n",
    "print('Training accuracy: ', accuracy_score(y_train_res,pred_train_dtc)*100)\n",
    "print('Testing accuracy: ', acc*100)\n",
    "confusion_mat = confusion_matrix(y_test,y_pred)\n",
    "print('Confusion matrix: \\n',confusion_mat)\n",
    "clr = classification_report(y_test,y_pred)\n",
    "print('classification report: ' ,clr)"
   ]
  },
  {
   "cell_type": "code",
   "execution_count": null,
   "id": "16d9d703",
   "metadata": {},
   "outputs": [],
   "source": [
    "params = {'max_depth': [2, 3, 5, 10, 20],\n",
    "    'min_samples_leaf': [5, 10, 20, 50, 100],\n",
    "    'criterion': [\"gini\", \"entropy\"]\n",
    "}\n",
    "\n",
    "grid_search1 = GridSearchCV(estimator=dtc,param_grid=params,cv=4, n_jobs=-1, verbose=1, scoring = \"f1\")\n",
    "\n",
    "grid_search2 = GridSearchCV(estimator=dtc, \n",
    "                           param_grid=params, \n",
    "                           cv=4, n_jobs=-1, verbose=1, scoring = \"accuracy\")\n",
    "\n",
    "grid_search1.fit(X_train_res,y_train_res)"
   ]
  },
  {
   "cell_type": "code",
   "execution_count": null,
   "id": "efd919ae",
   "metadata": {},
   "outputs": [],
   "source": [
    "pred_train_dtc = grid_search1.predict(X_train_res)\n",
    "y_pred = grid_search1.predict(X_test)\n",
    "acc = accuracy_score(y_test,y_pred)\n",
    "print('Training accuracy: ', accuracy_score(y_train_res,pred_train_dtc)*100)\n",
    "print('Testing accuracy: ', acc*100)\n",
    "confusion_mat = confusion_matrix(y_test,y_pred)\n",
    "print('Confusion matrix: \\n',confusion_mat)\n",
    "clr = classification_report(y_test,y_pred)\n",
    "print('classification report: ' ,clr)"
   ]
  },
  {
   "cell_type": "code",
   "execution_count": null,
   "id": "11b036fe",
   "metadata": {},
   "outputs": [],
   "source": [
    "grid_search2.fit(X_train_res,y_train_res)"
   ]
  },
  {
   "cell_type": "code",
   "execution_count": null,
   "id": "852be4aa",
   "metadata": {},
   "outputs": [],
   "source": [
    "pred_train_dtc = grid_search2.predict(X_train_res)\n",
    "y_pred = grid_search2.predict(X_test)\n",
    "acc = accuracy_score(y_test,y_pred)\n",
    "print('Training accuracy: ', accuracy_score(y_train_res,pred_train_dtc)*100)\n",
    "print('Testing accuracy: ', acc*100)\n",
    "confusion_mat = confusion_matrix(y_test,y_pred)\n",
    "print('Confusion matrix: \\n',confusion_mat)\n",
    "clr = classification_report(y_test,y_pred)\n",
    "print('classification report: ' ,clr)"
   ]
  },
  {
   "cell_type": "code",
   "execution_count": null,
   "id": "7d683c2e",
   "metadata": {},
   "outputs": [],
   "source": [
    "# Random forrest classifier model:\n",
    "\n",
    "rfc_f = RandomForestClassifier()\n",
    "rfc_f.fit(X_train_res,y_train_res) \n",
    "pred_train_rfc_f = rfc_f.predict(X_train_res)\n",
    "y_pred = rfc_f.predict(X_test)\n",
    "acc = accuracy_score(y_test,y_pred)\n",
    "print('Training accuracy: ', accuracy_score(y_train_res,pred_train_rfc_f)*100)\n",
    "print('Testing accuracy: ', acc*100)\n",
    "confusion_mat = confusion_matrix(y_test,y_pred)\n",
    "print('Confusion matrix: \\n',confusion_mat)\n",
    "clr = classification_report(y_test,y_pred)\n",
    "print('classification report: ' ,clr)"
   ]
  },
  {
   "cell_type": "code",
   "execution_count": null,
   "id": "48563c1d",
   "metadata": {},
   "outputs": [],
   "source": [
    "# Random forrest classifier model:\n",
    "\n",
    "rfc_miss = RandomForestClassifier()\n",
    "rfc_miss.fit(X_train_miss,y_train_miss) \n",
    "pred_train_rfc_miss = rfc_miss.predict(X_train_miss)\n",
    "y_pred_miss = rfc_miss.predict(X_test)\n",
    "acc = accuracy_score(y_test,y_pred_miss)\n",
    "print('Training accuracy: ', accuracy_score(y_train_miss,pred_train_rfc_miss)*100)\n",
    "print('Testing accuracy: ', acc*100)\n",
    "confusion_mat = confusion_matrix(y_test,y_pred_miss)\n",
    "print('Confusion matrix: \\n',confusion_mat)\n",
    "clr = classification_report(y_test,y_pred_miss)\n",
    "print('classification report: ' ,clr)"
   ]
  },
  {
   "cell_type": "code",
   "execution_count": null,
   "id": "542c6e7a",
   "metadata": {},
   "outputs": [],
   "source": [
    "rf_model_cv = RandomForestClassifier(oob_score=True, random_state=1, n_jobs=-1)\n",
    "\n",
    "param_grid_rf = {'criterion' : [\"gini\", \"entropy\"], \n",
    "                  'max_depth': [2, 4, 8, 16, 32],\n",
    "                  'min_samples_leaf' : [1, 5, 10, 20], \n",
    "                  'n_estimators': [100, 250, 425, 500]}\n",
    "\n",
    "gs_rf = RandomizedSearchCV(estimator=rf_model_cv, \n",
    "                            param_distributions=param_grid_rf, \n",
    "                            scoring='accuracy', \n",
    "                            n_iter = 100,\n",
    "                            cv=5, \n",
    "                            n_jobs=-1)\n",
    "\n",
    "gs_rf.fit(X_train_res,y_train_res)"
   ]
  },
  {
   "cell_type": "code",
   "execution_count": null,
   "id": "cf81f9c6",
   "metadata": {},
   "outputs": [],
   "source": [
    "#Identify Best Estimator and Features\n",
    "\n",
    "print(gs_rf.best_estimator_)\n",
    "print(gs_rf.best_params_)\n",
    "print(round(gs_rf.best_score_, 4))"
   ]
  },
  {
   "cell_type": "code",
   "execution_count": null,
   "id": "a1f04e27",
   "metadata": {},
   "outputs": [],
   "source": [
    "y_pred_rf_model = gs_rf.predict(X_test)\n",
    "acc_rf_model = accuracy_score(y_test,y_pred_rf_model)\n",
    "acc_rf_model"
   ]
  },
  {
   "cell_type": "code",
   "execution_count": null,
   "id": "841ca59d",
   "metadata": {},
   "outputs": [],
   "source": [
    "# Random forrest classifier model:\n",
    "\n",
    "rfc_f = RandomForestClassifier(max_depth=16, max_features='log2', n_estimators=400,\n",
    "                       n_jobs=-1, oob_score=True, random_state=1)\n",
    "rfc_f.fit(X_train_res,y_train_res) \n",
    "pred_train_rfc_f = rfc_f.predict(X_train_res)\n",
    "y_pred = rfc_f.predict(X_test)\n",
    "acc = accuracy_score(y_test,y_pred)\n",
    "print('Training accuracy: ', accuracy_score(y_train_res,pred_train_rfc_f)*100)\n",
    "print('Testing accuracy: ', acc*100)\n",
    "confusion_mat = confusion_matrix(y_test,y_pred)\n",
    "print('Confusion matrix: \\n',confusion_mat)\n",
    "clr = classification_report(y_test,y_pred)\n",
    "print('classification report: ' ,clr)"
   ]
  },
  {
   "cell_type": "code",
   "execution_count": null,
   "id": "911d3cc9",
   "metadata": {},
   "outputs": [],
   "source": [
    "# Using best parameters for improved score:\n",
    "\n",
    "svc = SVC()\n",
    "\n",
    "svc.fit(X_train_res,y_train_res)\n",
    "\n",
    "pred_train_svc = svc.predict(X_train_res)\n",
    "y_pred = svc.predict(X_test)\n",
    "acc = accuracy_score(y_test,y_pred)\n",
    "print('Training accuracy: ', accuracy_score(y_train_res,pred_train_svc)*100)\n",
    "print('Testing accuracy: ', acc*100)\n",
    "confusion_mat = confusion_matrix(y_test,y_pred)\n",
    "print('Confusion matrix: \\n',confusion_mat)\n",
    "clr = classification_report(y_test,y_pred)\n",
    "print('classification report: ' ,clr)"
   ]
  },
  {
   "cell_type": "code",
   "execution_count": null,
   "id": "93a2ed53",
   "metadata": {},
   "outputs": [],
   "source": [
    "# Using best parameters for improved score:\n",
    "\n",
    "svc_miss = SVC()\n",
    "\n",
    "svc_miss.fit(X_train_miss,y_train_miss)\n",
    "\n",
    "pred_train_svc_miss = svc_miss.predict(X_train_miss)\n",
    "y_pred_miss = svc_miss.predict(X_test)\n",
    "acc = accuracy_score(y_test,y_pred)\n",
    "print('Training accuracy: ', accuracy_score(y_train_miss,pred_train_svc_miss)*100)\n",
    "print('Testing accuracy: ', acc*100)\n",
    "confusion_mat = confusion_matrix(y_test,y_pred_miss)\n",
    "print('Confusion matrix: \\n',confusion_mat)\n",
    "clr = classification_report(y_test,y_pred_miss)\n",
    "print('classification report: ' ,clr)"
   ]
  },
  {
   "cell_type": "code",
   "execution_count": null,
   "id": "6aecfa4e",
   "metadata": {},
   "outputs": [],
   "source": [
    "from sklearn.model_selection import GridSearchCV\n",
    "  \n",
    "# defining parameter range\n",
    "param_grid = {'C': [0.1, 1, 10, 100, 1000], \n",
    "              'gamma': [1, 0.1, 0.01, 0.001, 0.0001],\n",
    "              'kernel': ['rbf']} \n",
    "  \n",
    "grid = GridSearchCV(SVC(), param_grid, refit = True, verbose = 3)\n",
    "  \n",
    "# fitting the model for grid search\n",
    "grid.fit(X_train_res,y_train_res)"
   ]
  },
  {
   "cell_type": "code",
   "execution_count": null,
   "id": "b1abe052",
   "metadata": {},
   "outputs": [],
   "source": [
    "y_pred_svc = grid.predict(X_test)\n",
    "acc = accuracy_score(y_test,y_pred)\n",
    "print('Testing accuracy: ', acc*100)\n",
    "confusion_mat = confusion_matrix(y_test,y_pred_svc)\n",
    "print('Confusion matrix: \\n',confusion_mat)\n",
    "clr = classification_report(y_test,y_pred_svc)\n",
    "print('classification report: ' ,clr)"
   ]
  },
  {
   "cell_type": "code",
   "execution_count": null,
   "id": "da9dba63",
   "metadata": {},
   "outputs": [],
   "source": [
    "from sklearn.model_selection import KFold , cross_val_score\n",
    "k_f = KFold(n_splits =3)\n",
    "k_f\n",
    "\n",
    "# Cross Validation score to check if model is overfitting:\n",
    "\n",
    "cross_val_score(grid,X_train_res,y_train_res,cv=5) # "
   ]
  },
  {
   "cell_type": "code",
   "execution_count": null,
   "id": "813668c8",
   "metadata": {},
   "outputs": [],
   "source": [
    "# KNN classifier:\n",
    "\n",
    "knn = KNeighborsClassifier()\n",
    "knn.fit(X_train_res,y_train_res) \n",
    "pred_train_knn = knn.predict(X_train_res)\n",
    "y_pred = knn.predict(X_test)\n",
    "acc = accuracy_score(y_test,y_pred)\n",
    "print('Training accuracy: ', accuracy_score(y_train_res,pred_train_knn)*100)\n",
    "print('Testing accuracy: ', acc*100)"
   ]
  },
  {
   "cell_type": "code",
   "execution_count": null,
   "id": "6d391b57",
   "metadata": {},
   "outputs": [],
   "source": [
    "# KNN classifier:\n",
    "\n",
    "knn_miss = KNeighborsClassifier()\n",
    "knn_miss.fit(X_train_miss,y_train_miss) \n",
    "pred_train_knn_miss = knn_miss.predict(X_train_miss)\n",
    "y_pred_miss = knn_miss.predict(X_test)\n",
    "acc = accuracy_score(y_test,y_pred_miss)\n",
    "print('Training accuracy: ', accuracy_score(y_train_miss,pred_train_knn_miss)*100)\n",
    "print('Testing accuracy: ', acc*100)"
   ]
  },
  {
   "cell_type": "code",
   "execution_count": null,
   "id": "008dd539",
   "metadata": {},
   "outputs": [],
   "source": [
    "from sklearn.model_selection import KFold , cross_val_score\n",
    "k_f = KFold(n_splits =3)\n",
    "k_f\n",
    "\n",
    "# Cross Validation score to check if model is overfitting:\n",
    "\n",
    "cross_val_score(knn,X_train_res,y_train_res,cv=5) # "
   ]
  },
  {
   "cell_type": "code",
   "execution_count": null,
   "id": "bc8f88e1",
   "metadata": {},
   "outputs": [],
   "source": [
    "from sklearn.model_selection import KFold , cross_val_score\n",
    "k_f = KFold(n_splits =3)\n",
    "k_f\n",
    "\n",
    "# Cross Validation score to check if model is overfitting:\n",
    "\n",
    "cross_val_score(knn_miss,X_train_miss,y_train_miss,cv=5) # "
   ]
  },
  {
   "cell_type": "code",
   "execution_count": null,
   "id": "6f4c5024",
   "metadata": {},
   "outputs": [],
   "source": [
    "from sklearn.ensemble import GradientBoostingClassifier\n",
    "\n",
    "# GBC\n",
    "\n",
    "gbdt_clf = GradientBoostingClassifier(random_state=1)\n",
    "gbdt_clf.fit(X_train_res,y_train_res) \n",
    "pred_train_gbdt_clf = gbdt_clf.predict(X_train_res)\n",
    "y_pred = gbdt_clf.predict(X_test)\n",
    "acc = accuracy_score(y_test,y_pred)\n",
    "print('Training accuracy: ', accuracy_score(y_train_res,pred_train_gbdt_clf)*100)\n",
    "print('Testing accuracy: ', acc*100)\n",
    "confusion_mat = confusion_matrix(y_test,y_pred)\n",
    "print('Confusion matrix: \\n',confusion_mat)\n",
    "clr = classification_report(y_test,y_pred)\n",
    "print('classification report: ' ,clr)"
   ]
  },
  {
   "cell_type": "code",
   "execution_count": null,
   "id": "d3586e94",
   "metadata": {},
   "outputs": [],
   "source": [
    "from sklearn.ensemble import GradientBoostingClassifier\n",
    "\n",
    "# GBC\n",
    "\n",
    "gbdt_clf_miss = GradientBoostingClassifier(random_state=1)\n",
    "gbdt_clf_miss.fit(X_train_miss,y_train_miss) \n",
    "pred_train_gbdt_miss = gbdt_clf_miss.predict(X_train_res)\n",
    "y_pred_miss = gbdt_clf_miss.predict(X_test)\n",
    "acc = accuracy_score(y_test,y_pred_miss)\n",
    "print('Training accuracy: ', accuracy_score(y_train_res,pred_train_gbdt_miss)*100)\n",
    "print('Testing accuracy: ', acc*100)\n",
    "confusion_mat = confusion_matrix(y_test,y_pred_miss)\n",
    "print('Confusion matrix: \\n',confusion_mat)\n",
    "clr = classification_report(y_test,y_pred_miss)\n",
    "print('classification report: ' ,clr)"
   ]
  },
  {
   "cell_type": "code",
   "execution_count": null,
   "id": "938cf82c",
   "metadata": {},
   "outputs": [],
   "source": [
    "# HYPER PARAMETER TUNING:\n",
    "\n",
    "# Tuning parameters using GridSearchCV:\n",
    "\n",
    "params = {'max_depth':range(4,8),\n",
    "          'min_samples_split':range(2,8,2),\n",
    "          'learning_rate':np.arange(0.1,0.3)} # at which rate our model should learn\n",
    "\n",
    "grd = GridSearchCV(gbdt_clf,param_grid=params)\n",
    "\n",
    "grd.fit(X_train_res,y_train_res)"
   ]
  },
  {
   "cell_type": "code",
   "execution_count": null,
   "id": "643279b1",
   "metadata": {},
   "outputs": [],
   "source": [
    "grd.best_params_"
   ]
  },
  {
   "cell_type": "code",
   "execution_count": null,
   "id": "619eb0a5",
   "metadata": {},
   "outputs": [],
   "source": [
    "# Instantiating gradient boosting classifier:\n",
    "\n",
    "gbdt_clf_f = GradientBoostingClassifier(learning_rate=0.1, max_depth=6, min_samples_split=4)\n",
    "\n",
    "# Training the model\n",
    "gbdt_clf_f.fit(X_train_res,y_train_res)"
   ]
  },
  {
   "cell_type": "code",
   "execution_count": null,
   "id": "da0e460e",
   "metadata": {},
   "outputs": [],
   "source": [
    "pred_train_f = gbdt_clf_f.predict(X_train_res)\n",
    "y_predf = gbdt_clf_f.predict(X_test)\n",
    "acc = accuracy_score(y_test,y_pred)\n",
    "print('Training accuracy: ', accuracy_score(y_train_res,pred_train_f)*100)\n",
    "print('Testing accuracy: ', acc*100)\n",
    "confusion_mat = confusion_matrix(y_test,y_predf)\n",
    "print('Confusion matrix: \\n',confusion_mat)\n",
    "clr1 = classification_report(y_test,y_predf)\n",
    "print('classification report: ' ,clr1)"
   ]
  },
  {
   "cell_type": "code",
   "execution_count": null,
   "id": "f5f9bedf",
   "metadata": {},
   "outputs": [],
   "source": [
    "# ADA model:\n",
    "from sklearn.ensemble import AdaBoostClassifier\n",
    "\n",
    "ada = AdaBoostClassifier()\n",
    "ada.fit(X_train_res,y_train_res)\n",
    "yb_pred = ada.predict(X_test)\n",
    "pred_train_ada = ada.predict(X_train_res)\n",
    "y_pred = ada.predict(X_test)\n",
    "acc = accuracy_score(y_test,y_pred)\n",
    "print('Training accuracy: ', accuracy_score(y_train_res,pred_train_ada)*100)\n",
    "print('Testing accuracy: ', acc*100)\n",
    "confusion_mat = confusion_matrix(y_test,y_pred)\n",
    "print('Confusion matrix: \\n',confusion_mat)\n",
    "clr = classification_report(y_test,y_pred)\n",
    "print('classification report: ' ,clr)"
   ]
  },
  {
   "cell_type": "code",
   "execution_count": null,
   "id": "cbd445d0",
   "metadata": {},
   "outputs": [],
   "source": [
    "# ADA model:\n",
    "from sklearn.ensemble import AdaBoostClassifier\n",
    "\n",
    "ada_miss = AdaBoostClassifier()\n",
    "ada_miss.fit(X_train_miss,y_train_miss)\n",
    "yb_pred = ada_miss.predict(X_test)\n",
    "pred_train_adamiss = ada_miss.predict(X_train_miss)\n",
    "y_predmiss = ada_miss.predict(X_test)\n",
    "acc = accuracy_score(y_test,y_predmiss)\n",
    "print('Training accuracy: ', accuracy_score(y_train_miss,pred_train_adamiss)*100)\n",
    "print('Testing accuracy: ', acc*100)\n",
    "confusion_mat = confusion_matrix(y_test,y_predmiss)\n",
    "print('Confusion matrix: \\n',confusion_mat)\n",
    "clr = classification_report(y_test,y_pred)\n",
    "print('classification report: ' ,clr)"
   ]
  },
  {
   "cell_type": "code",
   "execution_count": null,
   "id": "faea6c01",
   "metadata": {},
   "outputs": [],
   "source": [
    "# HyperParameter tuning using Randomised Search CV :\n",
    "\n",
    "from sklearn.model_selection import RandomizedSearchCV\n",
    "\n",
    "params = {'n_estimators':[70,75,80,90,100,150],'learning_rate':[0.45,0.46,0.47,0.48,0.49,0.5]}\n",
    "\n",
    "rnd = RandomizedSearchCV(ada,param_distributions=params)\n",
    "\n",
    "rnd.fit(X_train_res,y_train_res)"
   ]
  },
  {
   "cell_type": "code",
   "execution_count": null,
   "id": "55d27c07",
   "metadata": {},
   "outputs": [],
   "source": [
    "rnd.best_estimator_"
   ]
  },
  {
   "cell_type": "code",
   "execution_count": null,
   "id": "8088c42d",
   "metadata": {},
   "outputs": [],
   "source": [
    "ada_boosted = AdaBoostClassifier(learning_rate=0.47, n_estimators=120)\n",
    "\n",
    "ada_boosted.fit(X_train_res,y_train_res)\n",
    "\n",
    "yb_pred = ada_boosted.predict(X_test)"
   ]
  },
  {
   "cell_type": "code",
   "execution_count": null,
   "id": "1c517ed5",
   "metadata": {},
   "outputs": [],
   "source": [
    "pred_train_ada_b = ada_boosted.predict(X_train_res)\n",
    "acc = accuracy_score(y_test,yb_pred)\n",
    "print('Training accuracy: ', accuracy_score(y_train_res,pred_train_ada_b)*100)\n",
    "print('Testing accuracy: ', acc*100)\n",
    "confusion_mat = confusion_matrix(y_test,yb_pred)\n",
    "print('Confusion matrix: \\n',confusion_mat)\n",
    "clrb = classification_report(y_test,yb_pred)\n",
    "print('classification report: ' ,clrb)"
   ]
  },
  {
   "cell_type": "code",
   "execution_count": null,
   "id": "7fa636eb",
   "metadata": {},
   "outputs": [],
   "source": [
    "# HyperParameter tuning using Randomised Search CV :\n",
    "\n",
    "from sklearn.model_selection import RandomizedSearchCV\n",
    "\n",
    "params1 = {'n_estimators':[70,75,80,90,100,150],'learning_rate':[0.45,0.46,0.47,0.48,0.49,0.5]}\n",
    "\n",
    "rnd1 = RandomizedSearchCV(ada_miss,param_distributions=params1)\n",
    "\n",
    "rnd1.fit(X_train_miss,y_train_miss)"
   ]
  },
  {
   "cell_type": "code",
   "execution_count": null,
   "id": "1b5e7187",
   "metadata": {},
   "outputs": [],
   "source": [
    "rnd1.best_estimator_"
   ]
  },
  {
   "cell_type": "code",
   "execution_count": null,
   "id": "892fde9b",
   "metadata": {},
   "outputs": [],
   "source": [
    "ada_boosted_miss = AdaBoostClassifier(learning_rate=0.46, n_estimators=80)\n",
    "\n",
    "ada_boosted_miss.fit(X_train_miss,y_train_miss)\n",
    "\n",
    "yb_pred_miss = ada_boosted_miss.predict(X_test)\n",
    "\n",
    "pred_train_ada_miss = ada_boosted_miss.predict(X_train_miss)\n",
    "acc = accuracy_score(y_test,yb_pred_miss)\n",
    "print('Training accuracy: ', accuracy_score(y_train_miss,pred_train_ada_miss)*100)\n",
    "print('Testing accuracy: ', acc*100)\n",
    "confusion_mat = confusion_matrix(y_test,yb_pred_miss)\n",
    "print('Confusion matrix: \\n',confusion_mat)\n",
    "clrb = classification_report(y_test,yb_pred_miss)\n",
    "print('classification report: ' ,clrb)"
   ]
  },
  {
   "cell_type": "code",
   "execution_count": null,
   "id": "a0c719f4",
   "metadata": {},
   "outputs": [],
   "source": [
    "# Checking if model is overfitting"
   ]
  },
  {
   "cell_type": "code",
   "execution_count": null,
   "id": "57ec4040",
   "metadata": {},
   "outputs": [],
   "source": [
    "from sklearn.model_selection import KFold , cross_val_score\n",
    "k_f = KFold(n_splits =3)\n",
    "k_f\n",
    "\n",
    "# Cross Validation score to check if model is overfitting:\n",
    "\n",
    "cross_val_score(ada_boosted,X_train_res,y_train_res,cv=5) # "
   ]
  },
  {
   "cell_type": "code",
   "execution_count": null,
   "id": "e2fb40e2",
   "metadata": {},
   "outputs": [],
   "source": [
    "for train,test in k_f.split([1,2,3,4,5,6,7,8,9,10]):\n",
    "    print('train:',train,'test:',test)"
   ]
  },
  {
   "cell_type": "code",
   "execution_count": null,
   "id": "03afd652",
   "metadata": {},
   "outputs": [],
   "source": [
    "# Cross Validation score to check if model is overfitting:\n",
    "\n",
    "cross_val_score(ada_boosted,X_train_res,y_train_res,cv=5) # "
   ]
  },
  {
   "cell_type": "code",
   "execution_count": null,
   "id": "e6d9561e",
   "metadata": {},
   "outputs": [],
   "source": [
    "# training a Naive Bayes classifier\n",
    "from sklearn.naive_bayes import GaussianNB\n",
    "gnb = GaussianNB().fit(X_train_res, y_train_res)\n",
    "gnb_predictions = gnb.predict(X_test)\n",
    "  \n",
    "# accuracy on X_test\n",
    "accuracy = gnb.score(X_test, y_test)\n",
    "print(accuracy)"
   ]
  },
  {
   "cell_type": "code",
   "execution_count": null,
   "id": "1e99be94",
   "metadata": {},
   "outputs": [],
   "source": [
    "from xgboost import XGBClassifier\n",
    "\n",
    "xgb = XGBClassifier(n_estimators=100)\n",
    "xgb.fit(X_train_res,y_train_res)\n",
    "yb_predxgb = xgb.predict(X_test)\n",
    "pred_train_xgb = xgb.predict(X_train_res)\n",
    "y_pred = xgb.predict(X_test)\n",
    "acc = accuracy_score(y_test,yb_predxgb)\n",
    "print('Training accuracy: ', accuracy_score(y_train_res,pred_train_xgb)*100)\n",
    "print('Testing accuracy: ', acc*100)\n",
    "confusion_mat = confusion_matrix(y_test,yb_predxgb)\n",
    "print('Confusion matrix: \\n',confusion_mat)\n",
    "clr = classification_report(y_test,yb_predxgb)\n",
    "print('classification report: ' ,clr)"
   ]
  },
  {
   "cell_type": "code",
   "execution_count": null,
   "id": "40292a9d",
   "metadata": {},
   "outputs": [],
   "source": [
    "from xgboost import XGBClassifier\n",
    "\n",
    "xgbmiss = XGBClassifier(n_estimators=100)\n",
    "xgbmiss.fit(X_train_miss,y_train_miss)\n",
    "yb_predxgbmiss = xgbmiss.predict(X_test)\n",
    "pred_train_xgb = xgbmiss.predict(X_train_miss)\n",
    "y_predmiss = xgbmiss.predict(X_test)\n",
    "acc = accuracy_score(y_test,yb_predxgbmiss)\n",
    "print('Training accuracy: ', accuracy_score(y_train_miss,pred_train_xgb)*100)\n",
    "print('Testing accuracy: ', acc*100)\n",
    "confusion_mat = confusion_matrix(y_test,yb_predxgbmiss)\n",
    "print('Confusion matrix: \\n',confusion_mat)\n",
    "clr = classification_report(y_test,yb_predxgbmiss)\n",
    "print('classification report: ' ,clr)"
   ]
  },
  {
   "cell_type": "code",
   "execution_count": null,
   "id": "2666ff2f",
   "metadata": {},
   "outputs": [],
   "source": []
  },
  {
   "cell_type": "code",
   "execution_count": null,
   "id": "246cf1f0",
   "metadata": {},
   "outputs": [],
   "source": []
  },
  {
   "cell_type": "code",
   "execution_count": null,
   "id": "239e9156",
   "metadata": {},
   "outputs": [],
   "source": [
    "# Lets plot ROC AUC curve to choose best model:\n",
    "\n",
    "from sklearn.metrics import roc_curve,roc_auc_score\n",
    "from sklearn.metrics import plot_roc_curve"
   ]
  },
  {
   "cell_type": "code",
   "execution_count": null,
   "id": "cba299ed",
   "metadata": {},
   "outputs": [],
   "source": [
    "# Lets check ROC AUC Curve for fitted models on training data: (True +ive Rate/False +ive Rate)\n",
    "\n",
    "disp = plot_roc_curve(dtc,X_train_res,y_train_res)\n",
    "\n",
    "plot_roc_curve(knn,X_train_res,y_train_res,ax=disp.ax_)\n",
    "\n",
    "plot_roc_curve(log_reg_best,X_train_res,y_train_res,ax=disp.ax_)\n",
    "\n",
    "plot_roc_curve(svc,X_train_res,y_train_res,ax=disp.ax_)\n",
    "\n",
    "plot_roc_curve(rfc_f,X_train_res,y_train_res,ax=disp.ax_)\n",
    "\n",
    "plot_roc_curve(ada_boosted,X_train_res,y_train_res,ax=disp.ax_)\n",
    "\n",
    "plot_roc_curve(gbdt_clf_f,X_train_res,y_train_res,ax=disp.ax_)\n",
    "\n",
    "plt.legend(prop={'size':10},loc='lower right')\n",
    "\n",
    "plt.show()\n",
    "\n",
    "# This result is on training data."
   ]
  },
  {
   "cell_type": "code",
   "execution_count": null,
   "id": "c267a2f3",
   "metadata": {},
   "outputs": [],
   "source": [
    "# Lets check ROC AUC Curve for fitted models on testing data: (True +ive Rate/False +ive Rate)\n",
    "\n",
    "disp = plot_roc_curve(dtc,X_test,y_test)\n",
    "\n",
    "plot_roc_curve(knn,X_test,y_test,ax=disp.ax_)\n",
    "\n",
    "plot_roc_curve(log_reg_best,X_test,y_test,ax=disp.ax_)\n",
    "\n",
    "plot_roc_curve(svc,X_test,y_test,ax=disp.ax_)\n",
    "\n",
    "plot_roc_curve(rfc_f,X_test,y_test,ax=disp.ax_)\n",
    "\n",
    "plot_roc_curve(ada_boosted,X_test,y_test,ax=disp.ax_)\n",
    "\n",
    "plot_roc_curve(gbdt_clf_f,X_test,y_test,ax=disp.ax_)\n",
    "\n",
    "plt.legend(prop={'size':10},loc='lower right')\n",
    "\n",
    "plt.show()\n",
    "\n",
    "# This result is on training data."
   ]
  },
  {
   "cell_type": "code",
   "execution_count": null,
   "id": "4fb352de",
   "metadata": {},
   "outputs": [],
   "source": []
  },
  {
   "cell_type": "code",
   "execution_count": null,
   "id": "cdce6dbe",
   "metadata": {},
   "outputs": [],
   "source": [
    "# Creating pipeline:\n",
    "\n",
    "from sklearn.pipeline import Pipeline\n",
    "\n",
    "pipe1 = Pipeline([('pt',PowerTransformer()),\n",
    "                  ('pca',PCA(n_components=975)),('base_model1',LogisticRegression(C=1438.44988828766, random_state=1))])\n",
    "\n",
    "pipe1.fit(X_train_res,y_train_res)\n",
    "\n",
    "y_pred = pipe1.predict(X_test)\n",
    "\n",
    "print('Training accuracy: ', accuracy_score(y_train_res,pred_train)*100)\n",
    "print('Testing accuracy: ', acc*100)\n",
    "\n",
    "confusion_mat = confusion_matrix(y_test,y_pred)\n",
    "\n",
    "print('Confusion matrix: \\n',confusion_mat)\n",
    "\n",
    "clr = classification_report(y_test,y_pred)\n",
    "\n",
    "print('classification report: ' ,clr)\n",
    "\n",
    "# Saving regression model to pickle string\n",
    "\n",
    "import pickle \n",
    "saved_model1 = pickle.dumps(pipe1) \n",
    "pipe_pickle1 = pickle.loads(saved_model1)\n",
    "pipe_pickle1.predict(X_test) # predicting testing data\n",
    "\n"
   ]
  },
  {
   "cell_type": "code",
   "execution_count": null,
   "id": "1204537b",
   "metadata": {},
   "outputs": [],
   "source": []
  }
 ],
 "metadata": {
  "kernelspec": {
   "display_name": "Python 3 (ipykernel)",
   "language": "python",
   "name": "python3"
  },
  "language_info": {
   "codemirror_mode": {
    "name": "ipython",
    "version": 3
   },
   "file_extension": ".py",
   "mimetype": "text/x-python",
   "name": "python",
   "nbconvert_exporter": "python",
   "pygments_lexer": "ipython3",
   "version": "3.9.12"
  }
 },
 "nbformat": 4,
 "nbformat_minor": 5
}
